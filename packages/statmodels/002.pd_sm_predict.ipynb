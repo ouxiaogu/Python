{
 "cells": [
  {
   "cell_type": "code",
   "execution_count": 3,
   "metadata": {
    "collapsed": false
   },
   "outputs": [],
   "source": [
    "import numpy as np\n",
    "import pandas as pd\n",
    "import matplotlib.pyplot as plt\n",
    "import statsmodels.api as sm\n",
    "from statsmodels.formula.api import ols"
   ]
  },
  {
   "cell_type": "code",
   "execution_count": 4,
   "metadata": {
    "collapsed": false
   },
   "outputs": [],
   "source": [
    "df = pd.DataFrame({'X': np.arange(10), 'Y': np.arange(10) + np.random.randn(10)})"
   ]
  },
  {
   "cell_type": "code",
   "execution_count": 5,
   "metadata": {
    "collapsed": false
   },
   "outputs": [
    {
     "data": {
      "text/html": [
       "<div>\n",
       "<table border=\"1\" class=\"dataframe\">\n",
       "  <thead>\n",
       "    <tr style=\"text-align: right;\">\n",
       "      <th></th>\n",
       "      <th>X</th>\n",
       "      <th>Y</th>\n",
       "    </tr>\n",
       "  </thead>\n",
       "  <tbody>\n",
       "    <tr>\n",
       "      <th>0</th>\n",
       "      <td>0</td>\n",
       "      <td>0.102058</td>\n",
       "    </tr>\n",
       "    <tr>\n",
       "      <th>1</th>\n",
       "      <td>1</td>\n",
       "      <td>-0.511976</td>\n",
       "    </tr>\n",
       "    <tr>\n",
       "      <th>2</th>\n",
       "      <td>2</td>\n",
       "      <td>3.517589</td>\n",
       "    </tr>\n",
       "    <tr>\n",
       "      <th>3</th>\n",
       "      <td>3</td>\n",
       "      <td>3.593241</td>\n",
       "    </tr>\n",
       "    <tr>\n",
       "      <th>4</th>\n",
       "      <td>4</td>\n",
       "      <td>5.555972</td>\n",
       "    </tr>\n",
       "  </tbody>\n",
       "</table>\n",
       "</div>"
      ],
      "text/plain": [
       "   X         Y\n",
       "0  0  0.102058\n",
       "1  1 -0.511976\n",
       "2  2  3.517589\n",
       "3  3  3.593241\n",
       "4  4  5.555972"
      ]
     },
     "execution_count": 5,
     "metadata": {},
     "output_type": "execute_result"
    }
   ],
   "source": [
    "df.head(5)"
   ]
  },
  {
   "cell_type": "code",
   "execution_count": 9,
   "metadata": {
    "collapsed": false
   },
   "outputs": [
    {
     "name": "stdout",
     "output_type": "stream",
     "text": [
      "<class 'pandas.core.frame.DataFrame'>\n"
     ]
    },
    {
     "data": {
      "text/html": [
       "<div>\n",
       "<table border=\"1\" class=\"dataframe\">\n",
       "  <thead>\n",
       "    <tr style=\"text-align: right;\">\n",
       "      <th></th>\n",
       "      <th>X</th>\n",
       "    </tr>\n",
       "  </thead>\n",
       "  <tbody>\n",
       "    <tr>\n",
       "      <th>0</th>\n",
       "      <td>0.00000</td>\n",
       "    </tr>\n",
       "    <tr>\n",
       "      <th>1</th>\n",
       "      <td>0.10101</td>\n",
       "    </tr>\n",
       "    <tr>\n",
       "      <th>2</th>\n",
       "      <td>0.20202</td>\n",
       "    </tr>\n",
       "    <tr>\n",
       "      <th>3</th>\n",
       "      <td>0.30303</td>\n",
       "    </tr>\n",
       "    <tr>\n",
       "      <th>4</th>\n",
       "      <td>0.40404</td>\n",
       "    </tr>\n",
       "  </tbody>\n",
       "</table>\n",
       "</div>"
      ],
      "text/plain": [
       "         X\n",
       "0  0.00000\n",
       "1  0.10101\n",
       "2  0.20202\n",
       "3  0.30303\n",
       "4  0.40404"
      ]
     },
     "execution_count": 9,
     "metadata": {},
     "output_type": "execute_result"
    }
   ],
   "source": [
    "mod = sm.OLS.from_formula(\"Y ~ X\", df)\n",
    "res = mod.fit()\n",
    "exog = pd.DataFrame({\"X\": np.linspace(0, 10, 100)})\n",
    "print(type(exog))\n",
    "exog.head(5)"
   ]
  },
  {
   "cell_type": "code",
   "execution_count": 11,
   "metadata": {
    "collapsed": false
   },
   "outputs": [
    {
     "name": "stdout",
     "output_type": "stream",
     "text": [
      "<type 'numpy.ndarray'>\n",
      "[  0.32724273   0.42566532   0.5240879    0.62251048   0.72093306\n",
      "   0.81935564   0.91777822   1.0162008    1.11462338   1.21304596\n",
      "   1.31146854   1.40989112   1.5083137    1.60673629   1.70515887\n",
      "   1.80358145   1.90200403   2.00042661   2.09884919   2.19727177\n",
      "   2.29569435   2.39411693   2.49253951   2.59096209   2.68938468\n",
      "   2.78780726   2.88622984   2.98465242   3.083075     3.18149758\n",
      "   3.27992016   3.37834274   3.47676532   3.5751879    3.67361048\n",
      "   3.77203306   3.87045565   3.96887823   4.06730081   4.16572339\n",
      "   4.26414597   4.36256855   4.46099113   4.55941371   4.65783629\n",
      "   4.75625887   4.85468145   4.95310404   5.05152662   5.1499492\n",
      "   5.24837178   5.34679436   5.44521694   5.54363952   5.6420621\n",
      "   5.74048468   5.83890726   5.93732984   6.03575243   6.13417501\n",
      "   6.23259759   6.33102017   6.42944275   6.52786533   6.62628791\n",
      "   6.72471049   6.82313307   6.92155565   7.01997823   7.11840081\n",
      "   7.2168234    7.31524598   7.41366856   7.51209114   7.61051372\n",
      "   7.7089363    7.80735888   7.90578146   8.00420404   8.10262662\n",
      "   8.2010492    8.29947179   8.39789437   8.49631695   8.59473953\n",
      "   8.69316211   8.79158469   8.89000727   8.98842985   9.08685243\n",
      "   9.18527501   9.28369759   9.38212017   9.48054276   9.57896534\n",
      "   9.67738792   9.7758105    9.87423308   9.97265566  10.07107824]\n"
     ]
    }
   ],
   "source": [
    "y_fit = res.predict(exog)\n",
    "print type(y_fit)\n",
    "print(y_fit)"
   ]
  },
  {
   "cell_type": "code",
   "execution_count": null,
   "metadata": {
    "collapsed": true
   },
   "outputs": [],
   "source": []
  }
 ],
 "metadata": {
  "kernelspec": {
   "display_name": "Python 2",
   "language": "python",
   "name": "python2"
  },
  "language_info": {
   "codemirror_mode": {
    "name": "ipython",
    "version": 2
   },
   "file_extension": ".py",
   "mimetype": "text/x-python",
   "name": "python",
   "nbconvert_exporter": "python",
   "pygments_lexer": "ipython2",
   "version": "2.7.10"
  }
 },
 "nbformat": 4,
 "nbformat_minor": 0
}
