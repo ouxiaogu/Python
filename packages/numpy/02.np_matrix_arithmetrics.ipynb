{
 "cells": [
  {
   "cell_type": "markdown",
   "metadata": {},
   "source": [
    "# matrix\n",
    "\n",
    "## numpy matrix properity\n",
    "\n",
    "### numpy matrix axis\n",
    "\n",
    "Numpy matrix axis direction, x positive torward right, y positive torward down\n",
    "\n",
    "* for 2d Matrix, axis=0, is axis y, row; axis=1, is axis x, col\n",
    "* for Nd array, axis=0, process the data in the 1st index, axis=1, process data in the 2nd axis\n",
    "\n"
   ]
  },
  {
   "cell_type": "code",
   "execution_count": 4,
   "metadata": {},
   "outputs": [
    {
     "name": "stdout",
     "output_type": "stream",
     "text": [
      "   0  1   2   3\n",
      "R  0  1   2   3\n",
      "G  4  5   6   7\n",
      "B  8  9  10  11\n",
      "axis 0 [4. 5. 6. 7.]\n",
      "axis 1 [1.5 5.5 9.5]\n"
     ]
    }
   ],
   "source": [
    "# -*- coding: utf-8 -*-\n",
    "import numpy as np\n",
    "import os, os.path\n",
    "import pandas as pd\n",
    "\n",
    "x = np.arange(12).reshape((3,4))\n",
    "#df = pd.DataFrame({'R':x[0],'G':x[1],'B':x[2]})\n",
    "df = pd.DataFrame(x, index = ['R', 'G', 'B'])\n",
    "#df = df[[\"R\", \"G\", \"B\"]]\n",
    "print(df)\n",
    "# the first running vertically downwards, row by row(axis 0) \n",
    "# the second running horizontally rightwards, column by column(axis 1)\n",
    "median_axis0 = np.median(x, axis=0)\n",
    "median_axis1 = np.median(x, axis=1)\n",
    "print('axis 0', median_axis0)\n",
    "print('axis 1', median_axis1)"
   ]
  },
  {
   "cell_type": "markdown",
   "metadata": {
    "collapsed": true
   },
   "source": [
    "\n",
    "## basic Matrix Arithmetics\n",
    "\n",
    "- Matrix addition\n",
    "- Matrix subtraction\n",
    "- Matrix multiplication\n",
    "- Scalar product"
   ]
  },
  {
   "cell_type": "code",
   "execution_count": 1,
   "metadata": {},
   "outputs": [
    {
     "data": {
      "text/plain": [
       "array([8, 9, 3])"
      ]
     },
     "execution_count": 1,
     "metadata": {},
     "output_type": "execute_result"
    }
   ],
   "source": [
    "import numpy as np\n",
    "x = np.array([1,5,2])\n",
    "y = np.array([7,4,1])\n",
    "x + y"
   ]
  }
 ],
 "metadata": {
  "kernelspec": {
   "display_name": "Python 3",
   "language": "python",
   "name": "python3"
  },
  "language_info": {
   "codemirror_mode": {
    "name": "ipython",
    "version": 3
   },
   "file_extension": ".py",
   "mimetype": "text/x-python",
   "name": "python",
   "nbconvert_exporter": "python",
   "pygments_lexer": "ipython3",
   "version": "3.6.3"
  }
 },
 "nbformat": 4,
 "nbformat_minor": 1
}
