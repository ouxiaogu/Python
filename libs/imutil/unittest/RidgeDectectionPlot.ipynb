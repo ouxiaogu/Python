{
 "cells": [
  {
   "cell_type": "code",
   "execution_count": 2,
   "metadata": {
    "collapsed": true
   },
   "outputs": [],
   "source": [
    "import unittest\n",
    "import numpy as np\n",
    "import matplotlib.pyplot as plt\n",
    "\n",
    "import sys\n",
    "import os.path\n",
    "sys.path.insert(0, os.getcwd()+\"/..\")\n",
    "from ImGUI import imshowMultiple, readBBox, cropToCommonBBox\n",
    "from ImDescriptors import printImageInfo"
   ]
  },
  {
   "cell_type": "code",
   "execution_count": 10,
   "metadata": {},
   "outputs": [
    {
     "name": "stdout",
     "output_type": "stream",
     "text": [
      "Using matplotlib backend: Qt5Agg\n",
      "imshowMultiple: 1 images, 1 x 1.\n",
      "imshowMultiple: 1 images, 1 x 1.\n",
      "imshowMultiple: 1 images, 1 x 1.\n",
      "imshowMultiple: 1 images, 1 x 1.\n"
     ]
    },
    {
     "data": {
      "text/plain": [
       "<matplotlib.legend.Legend at 0xef71898>"
      ]
     },
     "execution_count": 10,
     "metadata": {},
     "output_type": "execute_result"
    }
   ],
   "source": [
    "%matplotlib auto\n",
    "def displayMxpResult():\n",
    "    cwd = r'/gpfs/WW/BD/MXP/SHARED/SEM_IMAGE/IMEC/Case02_calaveras_v3/3Tmp/CT_KPI_test/Calaveras_v3_regular_CT_KPI_003_slope_modified_revert/h/cache/dummydb/result/MXP/job1/ContourExtraction400result1'\n",
    "    sys.path.append(os.getcwd()+\"/../../common\")\n",
    "    from FileUtil import gpfs2WinPath\n",
    "    from ImGUI import read_pgm\n",
    "    cwd = gpfs2WinPath(cwd)\n",
    "    pattern = '461'\n",
    "    #filenames = ['IG', 'Ig_dx', 'Ig_dy', 'Ig_dxdx', 'Ig_dxdy', 'Ig_dydy', 'RD_Mag', 'RD_OrgMag']\n",
    "    filenames = ['Rg_nms', 'Rg_nms_thresH', 'Rg_nms_thresL',   'Rg_Contour'] #'Rg_Candidates',\n",
    "    filenames = [pattern+'_'+n+'.pgm' for n in filenames]\n",
    "    im_nms = None\n",
    "    for i, curfile in enumerate(filenames):\n",
    "        curfilenames = [curfile]\n",
    "        images = [read_pgm(os.path.join(cwd, imfile)) for imfile in curfilenames]\n",
    "        bboxes = [readBBox(os.path.join(cwd, imfile)) for imfile in curfilenames]\n",
    "        images = cropToCommonBBox(images, bboxes)\n",
    "        if i == 0:\n",
    "            im_nms = images[0]\n",
    "            #break\n",
    "        imshowMultiple(images, curfilenames, axis_on=True)\n",
    "    return im_nms\n",
    "im_nms = displayMxpResult()\n",
    "\n",
    "'''\n",
    "from ImDescriptors import hist_curve\n",
    "hist =  hist_curve(im_nms)\n",
    "imshowMultiple([im_nms, hist], ['im_nms', 'hist'])\n",
    "'''\n",
    "fig = plt.figure()\n",
    "ax = fig.add_subplot(111)\n",
    "\n",
    "roi = im_nms.flatten()\n",
    "ax.hist(roi, bins=256, density=True, alpha=0.6, color='g', label='Ridge NMS histogram')\n",
    "ax.plot(100*[7.65], np.linspace(0, 1, 100), 'k-', label='thresL=0.03*255=7.65')\n",
    "ax.plot(100*[84.15], np.linspace(0, 1, 100), 'k-', label='thresH=0.33*255=84.15')\n",
    "plt.legend()"
   ]
  },
  {
   "cell_type": "code",
   "execution_count": null,
   "metadata": {
    "collapsed": true
   },
   "outputs": [],
   "source": [
    "\n"
   ]
  }
 ],
 "metadata": {
  "kernelspec": {
   "display_name": "Python 3",
   "language": "python",
   "name": "python3"
  },
  "language_info": {
   "codemirror_mode": {
    "name": "ipython",
    "version": 3
   },
   "file_extension": ".py",
   "mimetype": "text/x-python",
   "name": "python",
   "nbconvert_exporter": "python",
   "pygments_lexer": "ipython3",
   "version": "3.6.3"
  }
 },
 "nbformat": 4,
 "nbformat_minor": 2
}
