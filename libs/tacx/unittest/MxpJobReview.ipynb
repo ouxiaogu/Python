{
 "cells": [
  {
   "cell_type": "markdown",
   "metadata": {},
   "source": [
    "# Import modules"
   ]
  },
  {
   "cell_type": "code",
   "execution_count": 1,
   "metadata": {
    "collapsed": true
   },
   "outputs": [],
   "source": [
    "from __future__ import print_function\n",
    "import numpy as np\n",
    "import pandas as pd\n",
    "\n",
    "import os, sys\n",
    "sys.path.insert(0, os.getcwd()+\"/../../common\")\n",
    "from FileUtil import gpfs2WinPath\n",
    "\n",
    "sys.path.insert(0, os.getcwd()+\"/..\")\n",
    "from SEMContour import *\n",
    "from MxpJob import MxpJob\n",
    "from MxpStage import MxpStageXmlParser"
   ]
  },
  {
   "cell_type": "markdown",
   "metadata": {},
   "source": [
    "# MXP Job outxml editing"
   ]
  },
  {
   "cell_type": "markdown",
   "metadata": {},
   "source": [
    "## DL SEM EUV model data prepare, tigher D2DB KPI spec"
   ]
  },
  {
   "cell_type": "code",
   "execution_count": 2,
   "metadata": {},
   "outputs": [
    {
     "name": "stdout",
     "output_type": "stream",
     "text": [
      "(583, 19)\n",
      "241\n",
      "[46, 136, 197, 241]\n"
     ]
    }
   ],
   "source": [
    "jobpath = r'/gpfs/WW/BD/MXP/SHARED/SEM_IMAGE/GF_demo/Case02/3Tmp/CSEMModelCal/case23738/E19.02/baseline'\n",
    "outxml = r'/gpfs2/scratch/peyang/jobs/GF_demo_case02_dataprepare/h/data/dummydb/MXP/job1/d2dbalignmentkpi550out.xml'\n",
    "job = MxpJob(jobpath)\n",
    "df = job.getStageResultFactory(enable=550, result_option='occfs')\n",
    "print(df.shape)\n",
    "print((df['costwt']>0).sum())\n",
    "\n",
    "(df.filter(regex='^kpi/\\w+_[x|y]{1}$').abs()<=1).head() #.all(axis=1).shape\n",
    "\n",
    "d2dbkpis = [(df.filter(regex='^kpi/\\w+_[x|y]{1}$').abs()<=spec).all(axis=1) for spec in [1, 1.5, 1.75, 2]]\n",
    "print([kpi.sum() for kpi in d2dbkpis])\n",
    "df.loc[~d2dbkpis[3], 'costwt'] = 0\n",
    "MxpStageXmlParser.save(df, path=outxml)\n",
    "df = df.set_index('name')"
   ]
  },
  {
   "cell_type": "markdown",
   "metadata": {},
   "source": [
    "## DL SEM EUV model data prepare, 1D 2D ratio"
   ]
  },
  {
   "cell_type": "code",
   "execution_count": 57,
   "metadata": {},
   "outputs": [
    {
     "name": "stdout",
     "output_type": "stream",
     "text": [
      "1D: 205 84\n",
      "2D: 378 157\n"
     ]
    }
   ],
   "source": [
    "dfs = []\n",
    "df1d = df.select(lambda x: any([s in x for s in ['Bar', 'LS']]))\n",
    "print(\"1D:\", len(df1d), (df1d.filter(regex='^kpi/\\w+_[x|y]{1}$').abs()<=2).all(axis=1).sum())\n",
    "#dfs.append(df1d.loc[(df1d.filter(regex='^kpi/\\w+_[x|y]{1}$').abs()<=2).all(axis=1), :]\n",
    "\n",
    "df2d = df.select(lambda x: all([s not in x for s in ['Bar', 'LS']]))\n",
    "print(\"2D:\", len(df2d), (df2d.filter(regex='^kpi/\\w+_[x|y]{1}$').abs()<=2).all(axis=1).sum())\n"
   ]
  },
  {
   "cell_type": "code",
   "execution_count": 6,
   "metadata": {},
   "outputs": [
    {
     "data": {
      "text/plain": [
       "241"
      ]
     },
     "execution_count": 6,
     "metadata": {},
     "output_type": "execute_result"
    }
   ],
   "source": [
    "from XmlUtil import dfFromConfigMapList\n",
    "import xml.etree.ElementTree as ET\n",
    "ocf = ET.parse(outxml).getroot().find(\"result\")\n",
    "df = dfFromConfigMapList(ocf, \".pattern\")\n",
    "len(df.loc[df.costwt>0, :])"
   ]
  },
  {
   "cell_type": "code",
   "execution_count": null,
   "metadata": {
    "collapsed": true
   },
   "outputs": [],
   "source": []
  }
 ],
 "metadata": {
  "kernelspec": {
   "display_name": "Python 2",
   "language": "python",
   "name": "python2"
  },
  "language_info": {
   "codemirror_mode": {
    "name": "ipython",
    "version": 2
   },
   "file_extension": ".py",
   "mimetype": "text/x-python",
   "name": "python",
   "nbconvert_exporter": "python",
   "pygments_lexer": "ipython2",
   "version": "2.7.14"
  }
 },
 "nbformat": 4,
 "nbformat_minor": 2
}
