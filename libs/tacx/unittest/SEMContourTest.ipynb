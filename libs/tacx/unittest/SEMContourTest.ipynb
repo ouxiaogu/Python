{
 "cells": [
  {
   "cell_type": "code",
   "execution_count": 2,
   "metadata": {
    "collapsed": true
   },
   "outputs": [],
   "source": [
    "%matplotlib inline\n",
    "import numpy as np\n",
    "import pandas as pd\n",
    "import matplotlib\n",
    "import matplotlib.pyplot as plt\n",
    "\n",
    "import sys\n",
    "import os.path\n",
    "sys.path.insert(0, os.getcwd()+\"/..\")\n",
    "from SEMContour import *\n",
    "sys.path.insert(0, os.getcwd()+\"/../../common\")\n",
    "from PlotConfig import *\n",
    "from FileUtil import gpfs2WinPath\n",
    "\n",
    "CWD = r'/gpfs/WW/BD/MXP/SHARED/SEM_IMAGE/IMEC/Case02_calaveras_v3/3Tmp/CT_KPI_test/Calaveras_v3_regular_CT_KPI_003_slope_modified_copy/h/cache/dummydb/result/MXP/job1/ContourExtraction400result1'\n",
    "CWD = gpfs2WinPath(CWD)\n",
    "\n",
    "class ContourAnalyzer(object):\n",
    "    \"\"\"docstring for ContourData\"\"\"\n",
    "    def __init__(self, contourfile):\n",
    "        self.__build(contourfile)\n",
    "\n",
    "    def __build(self, contourfile):\n",
    "        contour = SEMContour()\n",
    "        contour.parseFile(contourfile)\n",
    "        if not contour:\n",
    "            sys.exit(\"ERROR: read in contour file %s fails\\n\" % contourfile)\n",
    "        self.contour = contour\n",
    "        self.df = contour.cvtToDf()\n",
    "\n",
    "def plot_corr(df):\n",
    "    matplotlib.style.use('ggplot')\n",
    "    #plot_contour(self.contour)\n",
    "    # cols = 'slope  ridge_intensity intensity  contrast'.split()\n",
    "    cols = 'slope  ridge_intensity'.split()\n",
    "    print(df.columns)\n",
    "    df = df[cols]\n",
    "    df.loc[:, 'slope'] = df.loc[:, 'slope'].abs().values\n",
    "\n",
    "    from pandas.plotting import scatter_matrix\n",
    "    colors = ['red','blue']\n",
    "    scatter_matrix(df, alpha=0.2, figsize=(6, 6), diagonal='kde', color=colors) \n",
    "\n",
    "    '''\n",
    "    import seaborn as sns\n",
    "    sns.set(style=\"ticks\")\n",
    "    sns.pairplot(df, kind='scatter', diag_kind='kde')\n",
    "    '''"
   ]
  },
  {
   "cell_type": "code",
   "execution_count": 38,
   "metadata": {
    "collapsed": true
   },
   "outputs": [],
   "source": [
    "ca = ContourAnalyzer(CWD+r'/461_image_contour.txt')\n",
    "plot_contour(ca.contour)"
   ]
  },
  {
   "cell_type": "code",
   "execution_count": 48,
   "metadata": {
    "collapsed": false
   },
   "outputs": [
    {
     "name": "stdout",
     "output_type": "stream",
     "text": [
      "Using matplotlib backend: Qt4Agg\n",
      "                            OLS Regression Results                            \n",
      "==============================================================================\n",
      "Dep. Variable:        ridge_intensity   R-squared:                       0.966\n",
      "Model:                            OLS   Adj. R-squared:                  0.966\n",
      "Method:                 Least Squares   F-statistic:                 2.318e+05\n",
      "Date:                Wed, 19 Sep 2018   Prob (F-statistic):               0.00\n",
      "Time:                        18:51:56   Log-Likelihood:                 45492.\n",
      "No. Observations:                8187   AIC:                        -9.098e+04\n",
      "Df Residuals:                    8185   BIC:                        -9.097e+04\n",
      "Df Model:                           1                                         \n",
      "Covariance Type:            nonrobust                                         \n",
      "==============================================================================\n",
      "                 coef    std err          t      P>|t|      [95.0% Conf. Int.]\n",
      "------------------------------------------------------------------------------\n",
      "slope          1.9823      0.004    481.480      0.000         1.974     1.990\n",
      "const          0.0007   3.76e-05     19.600      0.000         0.001     0.001\n",
      "==============================================================================\n",
      "Omnibus:                    12346.319   Durbin-Watson:                   1.804\n",
      "Prob(Omnibus):                  0.000   Jarque-Bera (JB):         59321870.665\n",
      "Skew:                           8.363   Prob(JB):                         0.00\n",
      "Kurtosis:                     419.678   Cond. No.                         399.\n",
      "==============================================================================\n",
      "\n",
      "Warnings:\n",
      "[1] Standard Errors assume that the covariance matrix of the errors is correctly specified.\n",
      "(8.7339240876246154e-07, 2.5607288670400501e-05)\n",
      "(slope    1.982316\n",
      "const    0.000736\n",
      "dtype: float64, <class 'pandas.core.series.Series'>)\n",
      "Index([u'polygonId', u'offsetx', u'offsety', u'angle', u'weight',\n",
      "       u'confidence', u'intensity', u'slope', u'band_width',\n",
      "       u'ridge_intensity', u'curvature', u'contrast', u'mxp_flag',\n",
      "       u'EigenRatio', u'predict_ci_low', u'predict_ci_upp'],\n",
      "      dtype='object')\n",
      "[ 0.01871399  0.01871143  0.01867093 ...,  0.01249259  0.01265632\n",
      "  0.01283607]\n"
     ]
    }
   ],
   "source": [
    "%matplotlib auto\n",
    "def plot_reg(df):\n",
    "    colstr = 'slope  ridge_intensity'\n",
    "    cols = colstr.split()\n",
    "    #df = df[cols]\n",
    "    df.loc[:, 'slope'] = df.loc[:, 'slope'].abs().values\n",
    "    x, y = df.loc[:, 'slope'], df.loc[:, 'ridge_intensity']\n",
    "\n",
    "    # from scipy import stats\n",
    "    # slope, intercept, r_value, p_value, std_err = stats.linregress(x, y)\n",
    "    #plt.plot(x, intercept + slope*x, 'r', label='fitted ridge_intensity')\n",
    "    import statsmodels.api as sm\n",
    "    X = sm.add_constant(x, prepend=False)\n",
    "    results = sm.OLS(y, X).fit()\n",
    "    print(results.summary())\n",
    "    print(results.mse_resid, results.mse_total)\n",
    "    print(results.params, type(results.params))\n",
    "    k, b = results.params.loc['slope'], results.params.loc['const']\n",
    "    \n",
    "    from statsmodels.sandbox.regression.predstd import wls_prediction_std\n",
    "    pred_std, predict_ci_low, predict_ci_upp = wls_prediction_std(results)\n",
    "\n",
    "    fig = plt.figure()\n",
    "    ax = fig.add_subplot(111)\n",
    "    ax.plot(x, y, 'o', label='original ridge_intensity v.s. slope')\n",
    "    y_pred = results.predict()\n",
    "    ax.plot(x, y_pred, 'r', label='predicted ridge_intensity={:.3f}slope+{:.3f}, $R^2={:.3f}$'.format(k, b, results.rsquared))\n",
    "    plt.plot(x, predict_ci_low, 'b--', lw=1, label='predict lower')\n",
    "    plt.plot(x, predict_ci_upp, 'g--', lw=1, label='predict upper')\n",
    "    \n",
    "    df.loc[:, 'predict_ci_low'] = predict_ci_low\n",
    "    df.loc[:, 'predict_ci_upp'] = predict_ci_upp\n",
    "    \n",
    "    #ax.set_xlim([0, x.max()*1.1])\n",
    "    plt.legend()\n",
    "    plt.show()\n",
    "    \n",
    "    flt = (df.ridge_intensity>=df.predict_ci_low)& (df.ridge_intensity<=df.predict_ci_upp)\n",
    "    \n",
    "    fig = plt.figure(2)\n",
    "    ax = fig.add_subplot(111)\n",
    "    print(df.columns)\n",
    "    ax.plot(df.loc[flt ,'offsetx'], 1024-1-df.loc[flt, 'offsety'], 'b.', markersize=3, label='ridge_intensity In prediction range')\n",
    "    ax.plot(df.loc[~flt ,'offsetx'], 1024-1-df.loc[~flt, 'offsety'], 'r.', markersize=3, label='ridge_intensity Out prediction range')\n",
    "    plt.legend()\n",
    "    plt.show()\n",
    "    #resid=y-y_pred\n",
    "    #rss=np.sum(resid**2)\n",
    "    #MSE=np.sqrt(rss/(result.nobs-2))\n",
    "    \n",
    "    def ols_quantile(m, X, q):\n",
    "      # m: Statsmodels OLS model.\n",
    "      # X: X matrix of data to predict.\n",
    "      # q: Quantile.\n",
    "      #\n",
    "      from scipy.stats import norm\n",
    "      mean_pred = m.predict(X)\n",
    "      se = np.sqrt(m.scale)\n",
    "      return mean_pred + norm.ppf(q) * se\n",
    "    \n",
    "    print(ols_quantile(results, X, 0.5))\n",
    "\n",
    "    \n",
    "plot_reg(ca.df)"
   ]
  },
  {
   "cell_type": "code",
   "execution_count": 49,
   "metadata": {
    "collapsed": false
   },
   "outputs": [
    {
     "name": "stdout",
     "output_type": "stream",
     "text": [
      "Using matplotlib backend: Qt4Agg\n"
     ]
    }
   ],
   "source": [
    "%matplotlib auto\n",
    "def plot_reg2(df):\n",
    "    colstr = 'slope  ridge_intensity'\n",
    "    cols = colstr.split()\n",
    "    df = df[cols]\n",
    "    df.loc[:, 'slope'] = df.loc[:, 'slope'].abs().values\n",
    "    x, y = df.loc[:, 'slope'], df.loc[:, 'ridge_intensity']\n",
    "\n",
    "    from scipy import stats\n",
    "    slope, intercept, r_value, p_value, std_err = stats.linregress(x, y)\n",
    "\n",
    "    fig = plt.figure()\n",
    "    ax = fig.add_subplot(111)\n",
    "    ax.plot(x, y, 'o', label='original '+colstr)\n",
    "    ax.plot(x, intercept + slope*x, 'r', label='ridge_intensity={:.2f}slope+{:.2f}'.format(slope, intercept))\n",
    "    ax.set_xlim([0, x.max()*1.1])\n",
    "    ax.set_ylabel(r\"ridge_intensity\")\n",
    "    ax.set_xlabel(\"slope\")\n",
    "    plt.legend()\n",
    "    plt.show()\n",
    "plot_reg2(ca.df)"
   ]
  },
  {
   "cell_type": "code",
   "execution_count": 3,
   "metadata": {
    "collapsed": false
   },
   "outputs": [
    {
     "data": {
      "text/plain": [
       "'\\\\\\\\devshare-brion.asml.com\\\\cnfs-WW\\\\BD\\\\MXP\\\\SHARED\\\\SEM_IMAGE\\\\IMEC\\\\Case02_calaveras_v3\\\\3Tmp\\\\CT_KPI_test\\\\Calaveras_v3_regular_CT_KPI_003_slope_modified_copy\\\\h\\\\cache\\\\dummydb\\\\result\\\\MXP\\\\job1\\\\ContourExtraction400result1'"
      ]
     },
     "execution_count": 3,
     "metadata": {},
     "output_type": "execute_result"
    }
   ],
   "source": [
    "CWD"
   ]
  },
  {
   "cell_type": "code",
   "execution_count": 6,
   "metadata": {
    "collapsed": true,
    "scrolled": true
   },
   "outputs": [],
   "source": [
    "import os\n",
    "from subprocess import call\n",
    "datapath  = r'D:\\code\\Python\\apps\\MXP\\ContourSelect\\samplejob\\h\\data\\dummydb\\MXP\\job1'\n",
    "resultpath =r'D:\\code\\Python\\apps\\MXP\\ContourSelect\\samplejob\\h\\cache\\dummydb\\result\\MXP\\job1'\n",
    "for item in os.listdir(datapath):\n",
    "    try:\n",
    "        os.symlink(os.path.join(datapath, item), os.path.join(resultpath, item))\n",
    "    except OSError:\n",
    "        call('ln -s {} {}'.format(os.path.join(datapath, item), \n",
    "            os.path.join(resultpath, item)), shell=True)"
   ]
  },
  {
   "cell_type": "code",
   "execution_count": 8,
   "metadata": {
    "collapsed": false
   },
   "outputs": [
    {
     "data": {
      "text/plain": [
       "'2.7.12 |Anaconda custom (64-bit)| (default, Jun 29 2016, 11:07:13) [MSC v.1500 64 bit (AMD64)]'"
      ]
     },
     "execution_count": 8,
     "metadata": {},
     "output_type": "execute_result"
    }
   ],
   "source": [
    "import re\n",
    "re.sub(r'./', '/', './test./key')[1:]\n",
    "sys.version"
   ]
  },
  {
   "cell_type": "code",
   "execution_count": 9,
   "metadata": {
    "collapsed": false
   },
   "outputs": [
    {
     "data": {
      "text/plain": [
       "['test@2', 'key@1', 'value@1']"
      ]
     },
     "execution_count": 9,
     "metadata": {},
     "output_type": "execute_result"
    }
   ],
   "source": [
    "'test@2/key@1/value@1'.split('/')"
   ]
  },
  {
   "cell_type": "code",
   "execution_count": 13,
   "metadata": {
    "collapsed": false
   },
   "outputs": [
    {
     "name": "stdout",
     "output_type": "stream",
     "text": [
      "['test']\n",
      "['test', '2']\n",
      "None\n"
     ]
    }
   ],
   "source": [
    "print('test'.split('@'))\n",
    "print('test@2'.split('@'))\n",
    "print(['0'].append(1))"
   ]
  },
  {
   "cell_type": "markdown",
   "metadata": {},
   "source": [
    "Data Structure\n",
    "\n",
    "A parent Node: (key, [])\n",
    "A Leave Node: (key, value)\n",
    "\n",
    "Example:\n",
    "\n",
    "1. \n",
    "('test/value': 213.0, 'test/value@1': 212.0, 'test@1/value': 211.0, 'test@2/value': 210.0)\n",
    "[(test, [(value, 213), (value, 212)]), (test, [(value, 211)], (test, [(value, 210)])\n",
    " \n",
    "2. \n",
    "test/options/enable   test/value  test/value@1      test@2/key/option  test@2/value  \n",
    "1-2000     213.0         212.0  revive_bug=Ticket111         210.0\n",
    "\n",
    "\n",
    "Paths-indice, value\n",
    "([(test, 0), (options, 0), (enable, 0)], 1-2000)\n",
    "([(test, 0), (value, 0) ], 213.0)\n",
    "([(test, 0), (value, 1) ], 212.0)\n",
    "([(test, 2), (key, 0), (option, 0) ], revive_bug=Ticket111)\n",
    "([(test, 2), (value, 0)], 210)\n",
    "\n",
    "\n",
    "(test, [(options, [(enable, )])])\n",
    "\n",
    "\n",
    " \n",
    " "
   ]
  }
 ],
 "metadata": {
  "kernelspec": {
   "display_name": "Python 2",
   "language": "python",
   "name": "python2"
  },
  "language_info": {
   "codemirror_mode": {
    "name": "ipython",
    "version": 2
   },
   "file_extension": ".py",
   "mimetype": "text/x-python",
   "name": "python",
   "nbconvert_exporter": "python",
   "pygments_lexer": "ipython2",
   "version": "2.7.12"
  }
 },
 "nbformat": 4,
 "nbformat_minor": 1
}
