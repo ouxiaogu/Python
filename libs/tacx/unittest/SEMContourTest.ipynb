{
 "cells": [
  {
   "cell_type": "code",
   "execution_count": 1,
   "metadata": {},
   "outputs": [
    {
     "name": "stdout",
     "output_type": "stream",
     "text": [
      "Using matplotlib backend: Qt5Agg\n"
     ]
    }
   ],
   "source": [
    "%matplotlib auto\n",
    "import numpy as np\n",
    "import pandas as pd\n",
    "import matplotlib\n",
    "import matplotlib.pyplot as plt\n",
    "\n",
    "import sys\n",
    "import os.path\n",
    "sys.path.insert(0, os.getcwd()+\"/..\")\n",
    "from SEMContour import *\n",
    "sys.path.insert(0, os.getcwd()+\"/../../common\")\n",
    "from PlotConfig import *\n",
    "from FileUtil import gpfs2WinPath\n",
    "\n",
    "CWD = r'/gpfs/WW/BD/MXP/SHARED/SEM_IMAGE/IMEC/Case02_calaveras_v3/3Tmp/CT_KPI_test/Calaveras_v3_regular_CT_KPI_003_slope_modified_revert/h/cache/dummydb/result/MXP/job1/ContourExtraction400result1'\n",
    "#CWD = r'C:\\Localdata\\D\\Note\\Python\\apps\\MXP\\ContourSelect\\samplejob\\h\\cache\\dummydb\\result\\MXP\\job1\\ContourExtraction400result1'\n",
    "#CWD = r'C:\\Localdata\\D\\Note\\Python\\apps\\MXP\\ContourSelect\\samplejob1\\h\\cache\\dummydb\\result\\MXP\\job1\\ContourExtraction400result1'\n",
    "CWD = gpfs2WinPath(CWD)\n",
    "\n",
    "class ContourAnalyzer(object):\n",
    "    \"\"\"docstring for ContourData\"\"\"\n",
    "    def __init__(self, contourfile):\n",
    "        self.__build(contourfile)\n",
    "\n",
    "    def __build(self, contourfile):\n",
    "        contour = SEMContour()\n",
    "        contour.parseFile(contourfile)\n",
    "        if not contour:\n",
    "            sys.exit(\"ERROR: read in contour file %s fails\\n\" % contourfile)\n",
    "        self.contour = contour\n",
    "        self.df = contour.toDf()\n",
    "def plot_corr(df):\n",
    "    matplotlib.style.use('ggplot')\n",
    "    #plot_contour(self.contour)\n",
    "    # cols = 'slope  ridge_intensity intensity  contrast'.split()\n",
    "    cols = 'slope  ridge_intensity'.split()\n",
    "    print(df.columns)\n",
    "    df = df[cols]\n",
    "    df.loc[:, 'slope'] = df.loc[:, 'slope'].abs().values\n",
    "    \n",
    "    from pandas.plotting import scatter_matrix\n",
    "    colors = ['red','blue']\n",
    "    scatter_matrix(df, alpha=0.2, figsize=(6, 6), diagonal='kde', color=colors) \n",
    "    \n",
    "    '''\n",
    "    import seaborn as sns\n",
    "    sns.set(style=\"ticks\")\n",
    "    sns.pairplot(df, kind='scatter', diag_kind='kde')\n",
    "    '''"
   ]
  },
  {
   "cell_type": "code",
   "execution_count": 2,
   "metadata": {
    "collapsed": true
   },
   "outputs": [],
   "source": [
    "# get contour data\n",
    "ca = ContourAnalyzer(CWD+r'/461_image_contour.txt')\n",
    "df = ca.df"
   ]
  },
  {
   "cell_type": "code",
   "execution_count": 14,
   "metadata": {
    "collapsed": true
   },
   "outputs": [],
   "source": [
    "# plot the SEM contour and angle\n",
    "def plot_contour_angle(ca, patternid='', arrow_length=1):\n",
    "    df = ca.df\n",
    "    fig = plt.figure()\n",
    "    ax = fig.add_subplot(111)\n",
    "    ax.set_aspect('equal')\n",
    "    imw, imh = ca.contour.getshape()\n",
    "    ax.set_xlim([0, imw])\n",
    "    ax.set_ylim([0, imh])\n",
    "    ax.set_title(\"Pattern \"+patternid+ \" image Contour\")\n",
    "    \n",
    "    # plot image\n",
    "    \n",
    "    # plot contour\n",
    "    ax.plot(df.loc[:, 'offsetx'], df.loc[:, 'offsety'], 'b.')\n",
    "    \n",
    "    # plot angle\n",
    "    for _, row in df.iterrows():\n",
    "        x, y = row.loc['offsetx'], row.loc['offsety']\n",
    "        angle = row.loc['angle']\n",
    "        dx, dy = arrow_length*np.cos(angle), arrow_length*np.sin(angle)\n",
    "        ax.arrow(x, y, dx, dy, width=0.1, fc='y', ec='y') # ,shape='right', overhang=0\n",
    "        \n",
    "    plt.gca().invert_yaxis()\n",
    "    plt.show()\n",
    "plot_contour_angle(ca, '461')"
   ]
  },
  {
   "cell_type": "code",
   "execution_count": 12,
   "metadata": {},
   "outputs": [
    {
     "name": "stdout",
     "output_type": "stream",
     "text": [
      "Index(['polygonId', 'offsetx', 'offsety', 'angle', 'weight', 'confidence',\n",
      "       'intensity', 'slope', 'band_width', 'ridge_intensity', 'curvature',\n",
      "       'contrast', 'mxp_flag', 'EigenRatio'],\n",
      "      dtype='object')\n"
     ]
    }
   ],
   "source": [
    "# plot the histgram for the modified slope, & plot by filter\n",
    "print(df.columns)\n",
    "colname = 'slope'\n",
    "df[colname].plot.hist(bins=100)\n",
    "def plot_col_filter(ca, patternid='', colname=''):\n",
    "    df = ca.df\n",
    "    fig = plt.figure()\n",
    "    ax = fig.add_subplot(111)\n",
    "    ax.set_aspect('equal')\n",
    "    imw, imh = ca.contour.getshape()\n",
    "    ax.set_xlim([0, imw])\n",
    "    ax.set_ylim([0, imh])\n",
    "    ax.set_title(\"Pattern \"+patternid)\n",
    "    \n",
    "    thresh = 0\n",
    "    flt_gt = df.loc[:, colname] > thresh\n",
    "    flt_eq = df.loc[:, colname] == thresh\n",
    "    flt_lt = df.loc[:, colname] < thresh\n",
    "    \n",
    "    ax.plot(df.loc[flt_gt, 'offsetx'], df.loc[flt_gt, 'offsety'], 'b.', markersize=2, label=colname+'>{}'.format(thresh))\n",
    "    ax.plot(df.loc[flt_eq, 'offsetx'], df.loc[flt_eq, 'offsety'], 'r.', markersize=2, label=colname+'=={}'.format(thresh))\n",
    "    ax.plot(df.loc[flt_lt, 'offsetx'], df.loc[flt_lt, 'offsety'], 'g.', markersize=2, label=colname+'<{}'.format(thresh))\n",
    "\n",
    "    plt.gca().invert_yaxis()\n",
    "    plt.legend()\n",
    "    plt.show()\n",
    "plot_col_filter(ca, patternid='461', colname=colname)"
   ]
  },
  {
   "cell_type": "code",
   "execution_count": null,
   "metadata": {
    "collapsed": true
   },
   "outputs": [],
   "source": [
    "# plot contour filtering by ridge_intensity \n",
    "def plot_rd_filter(ca, patternid=''):\n",
    "    df = ca.df\n",
    "    imw, imh = ca.contour.getshape()\n",
    "    \n",
    "    figw = 9\n",
    "    fig = plt.figure(figsize=(figw, figw))\n",
    "    ax = fig.add_subplot(111)\n",
    "    ax.set_aspect('equal')\n",
    "    ax.set_xlim([0, imw])\n",
    "    ax.set_ylim([0, imh])\n",
    "\n",
    "    plt.gca().invert_yaxis()\n",
    "    thresh = 0.003\n",
    "    flt = df.loc[:, 'ridge_intensity'] > thresh\n",
    "    ax.plot(df.loc[flt, 'offsetx'], df.loc[flt, 'offsety'], 'g.', markersize=2, label='ridge_intensity>{}'.format(thresh))\n",
    "    ax.plot(df.loc[~flt, 'offsetx'], df.loc[~flt, 'offsety'], 'r.', markersize=3, label='ridge_intensity<={}'.format(thresh))\n",
    "    \n",
    "    ax.set_title(patternid+\" Rg>{} filter\".format(thresh))\n",
    "    plt.legend()\n",
    "    plt.show()\n",
    "plot_rd_filter(ca, 'Pattern 3658')"
   ]
  },
  {
   "cell_type": "code",
   "execution_count": null,
   "metadata": {
    "collapsed": true
   },
   "outputs": [],
   "source": [
    "# for pop out plot\n",
    "%matplotlib qt5\n",
    "\n",
    "def plot_reg(ca, winname=''):\n",
    "    df = ca.df\n",
    "    imw, imh = ca.contour.getshape()\n",
    "    \n",
    "    colstr = 'slope  ridge_intensity'\n",
    "    cols = colstr.split()\n",
    "    #df = df[cols]\n",
    "    df.loc[:, 'slope'] = df.loc[:, 'slope'].abs().values\n",
    "    ## df = df.loc[df.slope<0.03, :]\n",
    "    x, y = df.loc[:, 'slope'], df.loc[:, 'ridge_intensity']\n",
    "\n",
    "    # from scipy import stats\n",
    "    # slope, intercept, r_value, p_value, std_err = stats.linregress(x, y)\n",
    "    #plt.plot(x, intercept + slope*x, 'r', label='fitted ridge_intensity')\n",
    "    import statsmodels.api as sm\n",
    "    X = sm.add_constant(x, prepend=False)\n",
    "    results = sm.OLS(y, X).fit()\n",
    "    # print(results.summary())\n",
    "    # print(results.mse_resid, results.mse_total)\n",
    "    # print(results.params, type(results.params))\n",
    "    k, b = results.params.loc['slope'], results.params.loc['const']\n",
    "    \n",
    "    from statsmodels.sandbox.regression.predstd import wls_prediction_std\n",
    "    pred_std, predict_ci_low, predict_ci_upp = wls_prediction_std(results)\n",
    "\n",
    "    xmax, ymax = x.max(), y.max()\n",
    "    figw = 7\n",
    "    fig = plt.figure(figsize=(figw, figw*ymax/xmax))\n",
    "    #fig = plt.figure()\n",
    "    ax = fig.add_subplot(111)\n",
    "    ax.set_xlim([0, xmax*1.1])\n",
    "    ax.set_ylim([0, ymax*1.1])\n",
    "    \n",
    "    ax.set_title(winname+' ridge_intensity v.s. abs of modified slope')\n",
    "    ax.set_xlabel('modified slope')\n",
    "    ax.set_ylabel('ridge_intensity')\n",
    "    \n",
    "    ax.plot(x, y, 'o', label='original ridge_intensity v.s. slope')\n",
    "    y_pred = results.predict()\n",
    "    ax.plot(x, y_pred, 'r', label='predicted ridge_intensity={:.3f}slope+{:.3f}, $R^2={:.3f}$'.format(k, b, results.rsquared))\n",
    "    plt.plot(x, predict_ci_low, 'b--', lw=1, label='predict lower')\n",
    "    plt.plot(x, predict_ci_upp, 'g--', lw=1, label='predict upper')\n",
    "    \n",
    "    df.loc[:, 'predict_ci_low'] = predict_ci_low\n",
    "    df.loc[:, 'predict_ci_upp'] = predict_ci_upp\n",
    "    \n",
    "    plt.legend()\n",
    "    #plt.show()\n",
    "    \n",
    "    ## ridge_intensity prediction boundary plot\n",
    "    figw = 9\n",
    "    fig = plt.figure(figsize=(2*figw, figw))\n",
    "    ax = fig.add_subplot(1, 2, 1)\n",
    "    #fig = plt.figure(2)\n",
    "    #ax = fig.add_subplot(111)\n",
    "    ax.set_aspect('equal')\n",
    "    ax.set_xlim([0, imw])\n",
    "    ax.set_ylim([0, imh])\n",
    "    plt.gca().invert_yaxis()\n",
    "    #ax.set_ylim(ax.get_ylim()[::-1])\n",
    "    \n",
    "    # print(df.columns)\n",
    "    flt = (df.ridge_intensity>=df.predict_ci_low)& (df.ridge_intensity<=df.predict_ci_upp)\n",
    "    nonzero = df.slope != 0\n",
    "    #ax.plot(df.loc[flt ,'offsetx'], 1024-1-df.loc[flt, 'offsety'], 'b.', markersize=3, label='ridge_intensity In prediction range')\n",
    "    ax.plot(df.loc[flt ,'offsetx'], df.loc[flt, 'offsety'], 'b.', markersize=2, label='ridge_intensity In prediction range')\n",
    "    ax.plot(df.loc[(~flt)&nonzero ,'offsetx'], df.loc[(~flt)&nonzero, 'offsety'], 'co', markersize=5, label='Rg Out prediction range, slope!=0')\n",
    "    ax.plot(df.loc[(~flt)&(~nonzero) ,'offsetx'], df.loc[(~flt)&(~nonzero), 'offsety'], 'rd', markersize=5, label='Rg Out prediction range, slope==0')\n",
    "    ax.set_title(winname+\" Rg outside prediction range of $Rg={:.3f}slope+{:.3f}$\".format(k, b))\n",
    "    ax.legend()\n",
    "    \n",
    "    ## ridge_intensity > thresh filter plot\n",
    "    ax = fig.add_subplot(1, 2, 2)\n",
    "    ax.set_aspect('equal')\n",
    "    ax.set_xlim([0, imw])\n",
    "    ax.set_ylim([0, imh])\n",
    "\n",
    "    plt.gca().invert_yaxis()\n",
    "    thresh = 0.003\n",
    "    flt = df.loc[:, 'ridge_intensity'] > thresh\n",
    "    ax.plot(df.loc[flt, 'offsetx'], df.loc[flt, 'offsety'], 'g.', markersize=2, label='ridge_intensity>{}'.format(thresh))\n",
    "    ax.plot(df.loc[~flt, 'offsetx'], df.loc[~flt, 'offsety'], 'r.', markersize=3, label='ridge_intensity<={}'.format(thresh))\n",
    "    \n",
    "    ax.set_title(winname+\" Rg>{} filter\".format(thresh))\n",
    "    ax.legend()\n",
    "    \n",
    "    \n",
    "    plt.show()\n",
    "    \n",
    "    #resid=y-y_pred\n",
    "    #rss=np.sum(resid**2)\n",
    "    #MSE=np.sqrt(rss/(result.nobs-2))\n",
    "    \n",
    "    def ols_quantile(m, X, q):\n",
    "      # m: Statsmodels OLS model.\n",
    "      # X: X matrix of data to predict.\n",
    "      # q: Quantile.\n",
    "      #\n",
    "      from scipy.stats import norm\n",
    "      mean_pred = m.predict(X)\n",
    "      se = np.sqrt(m.scale)\n",
    "      return mean_pred + norm.ppf(q) * se\n",
    "    \n",
    "    #print(ols_quantile(results, X, 0.5))\n",
    "    return results\n",
    "\n",
    "    \n",
    "results = plot_reg(ca)\n",
    "print(\"ridge_intensity v.s. slope regression results:\")\n",
    "print(results.summary())\n",
    "print('\\nresults.mse\\n', results.mse_resid, results.mse_total, '\\n')\n",
    "print(\"results.params\\n\", results.params, type(results.params))"
   ]
  },
  {
   "cell_type": "code",
   "execution_count": null,
   "metadata": {
    "collapsed": true
   },
   "outputs": [],
   "source": [
    "patterns = [1, 444, 461, 1001, 3658]\n",
    "contourfiles= [CWD+'/{}_image_contour.txt'.format(pid) for pid in patterns]"
   ]
  },
  {
   "cell_type": "markdown",
   "metadata": {},
   "source": [
    "\n",
    "- for slightly better for visualazation\n",
    "\n",
    "    %matplotlib notebook \n",
    "\n",
    "- normal\n",
    "\n",
    "    %matplotlib inline "
   ]
  },
  {
   "cell_type": "code",
   "execution_count": null,
   "metadata": {
    "collapsed": true
   },
   "outputs": [],
   "source": [
    "%matplotlib qt5\n",
    "### ridge_intensity v.s. slope regression plot for more patterns\n",
    "for ix, contourfile in enumerate(contourfiles):\n",
    "    ca = ContourAnalyzer(contourfile)\n",
    "    iminfo = 'Pattern '+str(patterns[ix])\n",
    "    plot_reg(ca, iminfo)\n",
    "    #plot_rd_filter(ca, iminfo)"
   ]
  },
  {
   "cell_type": "code",
   "execution_count": null,
   "metadata": {
    "collapsed": true
   },
   "outputs": [],
   "source": [
    "%matplotlib auto\n",
    "def plot_reg2(df):\n",
    "    colstr = 'slope  ridge_intensity'\n",
    "    cols = colstr.split()\n",
    "    df = df[cols]\n",
    "    df.loc[:, 'slope'] = df.loc[:, 'slope'].abs().values\n",
    "    x, y = df.loc[:, 'slope'], df.loc[:, 'ridge_intensity']\n",
    "\n",
    "    from scipy import stats\n",
    "    slope, intercept, r_value, p_value, std_err = stats.linregress(x, y)\n",
    "\n",
    "    fig = plt.figure()\n",
    "    ax = fig.add_subplot(111)\n",
    "    ax.plot(x, y, 'o', label='original '+colstr)\n",
    "    ax.plot(x, intercept + slope*x, 'r', label='ridge_intensity={:.2f}slope+{:.2f}'.format(slope, intercept))\n",
    "    ax.set_xlim([0, x.max()*1.1])\n",
    "    ax.set_ylabel(r\"ridge_intensity\")\n",
    "    ax.set_xlabel(\"slope\")\n",
    "    plt.legend()\n",
    "    plt.show()\n",
    "plot_reg2(ca.df)"
   ]
  },
  {
   "cell_type": "code",
   "execution_count": null,
   "metadata": {
    "collapsed": true
   },
   "outputs": [],
   "source": [
    "CWD"
   ]
  },
  {
   "cell_type": "code",
   "execution_count": null,
   "metadata": {
    "collapsed": true,
    "scrolled": true
   },
   "outputs": [],
   "source": [
    "import os\n",
    "from subprocess import call\n",
    "datapath  = r'D:\\code\\Python\\apps\\MXP\\ContourSelect\\samplejob\\h\\data\\dummydb\\MXP\\job1'\n",
    "resultpath =r'D:\\code\\Python\\apps\\MXP\\ContourSelect\\samplejob\\h\\cache\\dummydb\\result\\MXP\\job1'\n",
    "for item in os.listdir(datapath):\n",
    "    try:\n",
    "        os.symlink(os.path.join(datapath, item), os.path.join(resultpath, item))\n",
    "    except OSError:\n",
    "        call('ln -s {} {}'.format(os.path.join(datapath, item), \n",
    "            os.path.join(resultpath, item)), shell=True)"
   ]
  },
  {
   "cell_type": "code",
   "execution_count": null,
   "metadata": {
    "collapsed": true
   },
   "outputs": [],
   "source": [
    "import re\n",
    "re.sub(r'./', '/', './test./key')[1:]\n",
    "sys.version"
   ]
  },
  {
   "cell_type": "code",
   "execution_count": null,
   "metadata": {
    "collapsed": true
   },
   "outputs": [],
   "source": [
    "'test@2/key@1/value@1'.split('/')"
   ]
  },
  {
   "cell_type": "code",
   "execution_count": null,
   "metadata": {
    "collapsed": true
   },
   "outputs": [],
   "source": [
    "print('test'.split('@'))\n",
    "print('test@2'.split('@'))\n",
    "print(['0'].append(1))"
   ]
  },
  {
   "cell_type": "markdown",
   "metadata": {},
   "source": [
    "Data Structure\n",
    "\n",
    "A parent Node: (key, [])\n",
    "A Leave Node: (key, value)\n",
    "\n",
    "Example:\n",
    "\n",
    "1. \n",
    "('test/value': 213.0, 'test/value@1': 212.0, 'test@1/value': 211.0, 'test@2/value': 210.0)\n",
    "[(test, [(value, 213), (value, 212)]), (test, [(value, 211)], (test, [(value, 210)])\n",
    " \n",
    "2. \n",
    "test/options/enable   test/value  test/value@1      test@2/key/option  test@2/value  \n",
    "1-2000     213.0         212.0  revive_bug=Ticket111         210.0\n",
    "\n",
    "\n",
    "Paths-indice, value\n",
    "([(test, 0), (options, 0), (enable, 0)], 1-2000)\n",
    "([(test, 0), (value, 0) ], 213.0)\n",
    "([(test, 0), (value, 1) ], 212.0)\n",
    "([(test, 2), (key, 0), (option, 0) ], revive_bug=Ticket111)\n",
    "([(test, 2), (value, 0)], 210)\n",
    "\n",
    "\n",
    "(test, [(options, [(enable, )])])\n",
    "\n",
    "\n",
    " \n",
    " "
   ]
  }
 ],
 "metadata": {
  "kernelspec": {
   "display_name": "Python 3",
   "language": "python",
   "name": "python3"
  },
  "language_info": {
   "codemirror_mode": {
    "name": "ipython",
    "version": 3
   },
   "file_extension": ".py",
   "mimetype": "text/x-python",
   "name": "python",
   "nbconvert_exporter": "python",
   "pygments_lexer": "ipython3",
   "version": "3.6.3"
  }
 },
 "nbformat": 4,
 "nbformat_minor": 1
}
