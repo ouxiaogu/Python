{
 "cells": [
  {
   "cell_type": "code",
   "execution_count": 12,
   "metadata": {
    "collapsed": false
   },
   "outputs": [
    {
     "name": "stdout",
     "output_type": "stream",
     "text": [
      "[[ -5.37485345e-05  -2.00743570e-01]\n",
      " [ -1.69707666e-05   2.02420180e-01]]\n",
      "[[  3.98185197e+08  -3.60325228e+04]\n",
      " [ -3.60325228e+04   1.55650246e+01]]\n",
      "('Jf=', array([ -9.30754626e-05,   3.21178393e-03]))\n",
      "('delta=', array([ -7.43540002e+03,   6.80747045e-01]))\n"
     ]
    }
   ],
   "source": [
    "# debug Gaussian Newton\n",
    "import numpy as np\n",
    "from numpy.linalg import inv\n",
    "f = np.array([1.3149313100884115, 1.3199068889364867]) # mx1\n",
    "# mxn, col1, var1, col2, var2\n",
    "J = np.array([[-5.3748534469377773e-05, -0.200743570202917], [-1.6970766637314227e-05,  0.20242017973487236]]) \n",
    "print(J) # Yes\n",
    "invJTJ = inv(np.matmul(J.T, J)) # n*n\n",
    "print(invJTJ) # Yes\n",
    "Jf = np.matmul(J.T, f) # n*1\n",
    "print('Jf=', Jf) #Yes\n",
    "STEP_LEN = 0.2\n",
    "delta = STEP_LEN*np.matmul(invJTJ, np.matmul(J.T, f))\n",
    "print('delta=', delta) #Yes"
   ]
  },
  {
   "cell_type": "code",
   "execution_count": 30,
   "metadata": {
    "collapsed": false
   },
   "outputs": [
    {
     "name": "stdout",
     "output_type": "stream",
     "text": [
      "(200.12999999523163, 49.730000000447035)\n",
      "('0xf', '-0x8', '0x8')\n"
     ]
    }
   ],
   "source": [
    "# debug cluster center and domain\n",
    "import math\n",
    "x = [25472907.5, 25472707.370000005]\n",
    "y = [5974474.8799999999, 5974524.6100000003]\n",
    "rangex = np.abs(x[0]-x[1])\n",
    "rangey = np.abs(y[0]-y[1])\n",
    "print(rangex, rangey)\n",
    "max_range = max(rangex, rangey)\n",
    "domainraw = int(math.ceil(max_range/28))\n",
    "domainsz = (domainraw + 7) & (-8) # 二进制中，负数用补码表示，8: 0000 1000; 反码 1111 0111; 补码 1111 1000\n",
    "print(hex(domainraw+7), hex(-8), hex(domainsz))"
   ]
  },
  {
   "cell_type": "code",
   "execution_count": 5,
   "metadata": {
    "collapsed": false
   },
   "outputs": [
    {
     "data": {
      "text/plain": [
       "1172.08"
      ]
     },
     "execution_count": 5,
     "metadata": {},
     "output_type": "execute_result"
    }
   ],
   "source": [
    "(136 - 77 - 7.14 - 10)*28"
   ]
  },
  {
   "cell_type": "code",
   "execution_count": 2,
   "metadata": {
    "collapsed": false
   },
   "outputs": [
    {
     "data": {
      "text/plain": [
       "42"
      ]
     },
     "execution_count": 2,
     "metadata": {},
     "output_type": "execute_result"
    }
   ],
   "source": [
    "1200/28"
   ]
  },
  {
   "cell_type": "code",
   "execution_count": null,
   "metadata": {
    "collapsed": true
   },
   "outputs": [],
   "source": []
  }
 ],
 "metadata": {
  "kernelspec": {
   "display_name": "Python 2",
   "language": "python",
   "name": "python2"
  },
  "language_info": {
   "codemirror_mode": {
    "name": "ipython",
    "version": 2
   },
   "file_extension": ".py",
   "mimetype": "text/x-python",
   "name": "python",
   "nbconvert_exporter": "python",
   "pygments_lexer": "ipython2",
   "version": "2.7.12"
  }
 },
 "nbformat": 4,
 "nbformat_minor": 0
}
