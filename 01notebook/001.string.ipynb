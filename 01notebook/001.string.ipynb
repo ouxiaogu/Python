{
 "cells": [
  {
   "cell_type": "markdown",
   "metadata": {
    "collapsed": true
   },
   "source": [
    "## String Concatenation and Formatting\n",
    "\n",
    "This post will first describe how to concatenate strings in Python.\n",
    "\n",
    "### 1. Concatenation\n",
    "\n",
    "Concatenation combines two (or more) strings into a new string object.\n",
    "\n",
    "- You can use the `+` operator, like this:"
   ]
  },
  {
   "cell_type": "code",
   "execution_count": 3,
   "metadata": {
    "collapsed": false
   },
   "outputs": [
    {
     "name": "stdout",
     "output_type": "stream",
     "text": [
      "HelloWorld\n"
     ]
    }
   ],
   "source": [
    "print \"Hello\" + \"World\"  # concatenation: a new string "
   ]
  },
  {
   "cell_type": "markdown",
   "metadata": {},
   "source": [
    "- `*` operator is also valid:"
   ]
  },
  {
   "cell_type": "code",
   "execution_count": 5,
   "metadata": {
    "collapsed": false
   },
   "outputs": [
    {
     "name": "stdout",
     "output_type": "stream",
     "text": [
      "HelloHelloHello\n"
     ]
    }
   ],
   "source": [
    "print 'Hello' * 3"
   ]
  },
  {
   "cell_type": "markdown",
   "metadata": {},
   "source": [
    "- can only concate string with string, concate with other data type need convert to string first"
   ]
  },
  {
   "cell_type": "code",
   "execution_count": null,
   "metadata": {
    "collapsed": true
   },
   "outputs": [],
   "source": [
    "print 'Hello' + str(3)\n",
    "print 'Hello' + 3"
   ]
  },
  {
   "cell_type": "markdown",
   "metadata": {},
   "source": [
    "### 2. String Formatting\n",
    "\n",
    "Two common metonds: using `\"%d %s\" % ()` and `\"{}\".format( , )`\n",
    "\n",
    "#### 2.1 String formatting with %\n",
    "\n",
    "Even though the % string operator will be deprecated on Python 3.1 and removed later at some time, it may still be good to know how it works."
   ]
  },
  {
   "cell_type": "code",
   "execution_count": null,
   "metadata": {
    "collapsed": true
   },
   "outputs": [],
   "source": [
    "x = 'apple'\n",
    "y = 'lemon'\n",
    "z = \"The items in the basket are %s and %s\" % (x,y)"
   ]
  },
  {
   "cell_type": "markdown",
   "metadata": {},
   "source": [
    "#### 2.2 String formatting using { }\n",
    "\n",
    "The pairs of empty curly braces {} serve as place-holders for the variables that we want to place inside the string. "
   ]
  },
  {
   "cell_type": "code",
   "execution_count": 9,
   "metadata": {
    "collapsed": false
   },
   "outputs": [
    {
     "name": "stdout",
     "output_type": "stream",
     "text": [
      "Joe Who is 24.21 years \n"
     ]
    },
    {
     "ename": "AttributeError",
     "evalue": "'float' object has no attribute '2f'",
     "output_type": "error",
     "traceback": [
      "\u001b[1;31m---------------------------------------------------------------------------\u001b[0m",
      "\u001b[1;31mAttributeError\u001b[0m                            Traceback (most recent call last)",
      "\u001b[1;32m<ipython-input-9-db8a708538fd>\u001b[0m in \u001b[0;36m<module>\u001b[1;34m()\u001b[0m\n\u001b[0;32m      5\u001b[0m \u001b[1;31m#Example of how to use the format() method:\u001b[0m\u001b[1;33m\u001b[0m\u001b[1;33m\u001b[0m\u001b[0m\n\u001b[0;32m      6\u001b[0m \u001b[1;32mprint\u001b[0m \u001b[1;34m\"{} {} is {} years \"\u001b[0m\u001b[1;33m.\u001b[0m\u001b[0mformat\u001b[0m\u001b[1;33m(\u001b[0m\u001b[0mfname\u001b[0m\u001b[1;33m,\u001b[0m \u001b[0mlname\u001b[0m\u001b[1;33m,\u001b[0m \u001b[0mage\u001b[0m\u001b[1;33m)\u001b[0m\u001b[1;33m\u001b[0m\u001b[0m\n\u001b[1;32m----> 7\u001b[1;33m \u001b[1;32mprint\u001b[0m \u001b[1;34m\"{} {} is {.2f} years \"\u001b[0m\u001b[1;33m.\u001b[0m\u001b[0mformat\u001b[0m\u001b[1;33m(\u001b[0m\u001b[0mfname\u001b[0m\u001b[1;33m,\u001b[0m \u001b[0mlname\u001b[0m\u001b[1;33m,\u001b[0m \u001b[0mfloat\u001b[0m\u001b[1;33m(\u001b[0m\u001b[0mage\u001b[0m\u001b[1;33m)\u001b[0m\u001b[1;33m)\u001b[0m\u001b[1;33m\u001b[0m\u001b[0m\n\u001b[0m\u001b[0;32m      8\u001b[0m \u001b[1;31m# we can change the index number in {} to reuse string list :\u001b[0m\u001b[1;33m\u001b[0m\u001b[1;33m\u001b[0m\u001b[0m\n\u001b[0;32m      9\u001b[0m \u001b[1;32mprint\u001b[0m \u001b[1;34m\"{1} {1} is {1} years\"\u001b[0m\u001b[1;33m.\u001b[0m\u001b[0mformat\u001b[0m\u001b[1;33m(\u001b[0m\u001b[0mfname\u001b[0m\u001b[1;33m,\u001b[0m \u001b[0mlname\u001b[0m\u001b[1;33m,\u001b[0m \u001b[0mage\u001b[0m\u001b[1;33m)\u001b[0m\u001b[1;33m\u001b[0m\u001b[0m\n",
      "\u001b[1;31mAttributeError\u001b[0m: 'float' object has no attribute '2f'"
     ]
    }
   ],
   "source": [
    "fname = \"Joe\"\n",
    "lname = \"Who\"\n",
    "age = \"24.21\"\n",
    "\n",
    "#Example of how to use the format() method:\n",
    "print \"{} {} is {} years \".format(fname, lname, age)\n",
    "print \"{} {} is {:.2f} years \".format(fname, lname, float(age))\n",
    "# we can change the index number in {} to reuse string list :\n",
    "print \"{1} {1} is {1} years\".format(fname, lname, age)"
   ]
  },
  {
   "cell_type": "markdown",
   "metadata": {},
   "source": [
    "#### 2.3 Join Method\n",
    "\n",
    "This method takes a list of strings and joins them together with the calling string in between each element. The sperator can be defined in head."
   ]
  },
  {
   "cell_type": "code",
   "execution_count": 8,
   "metadata": {
    "collapsed": false
   },
   "outputs": [
    {
     "name": "stdout",
     "output_type": "stream",
     "text": [
      "Abba Rolling Stones Black Sabbath Metallica\n",
      "Abba\n",
      "Rolling Stones\n",
      "Black Sabbath\n",
      "Metallica\n"
     ]
    }
   ],
   "source": [
    "#creating a new list\n",
    "music = [\"Abba\",\"Rolling Stones\",\"Black Sabbath\",\"Metallica\"]\n",
    "\n",
    "#Join a list with an empty space\n",
    "print ' '.join(music)\n",
    "\n",
    "#Join a list with a new line\n",
    "print \"\\n\".join(music)"
   ]
  },
  {
   "cell_type": "markdown",
   "metadata": {},
   "source": [
    "### util function test\n",
    "\n",
    "#### `str.find()` and generate sub-string"
   ]
  },
  {
   "cell_type": "code",
   "execution_count": 2,
   "metadata": {
    "collapsed": false
   },
   "outputs": [
    {
     "name": "stdout",
     "output_type": "stream",
     "text": [
      "Maskbias\n",
      "(\"Warning, prefix %s can't be found in the name, orignal name will be returned\", 'AI_')\n",
      "AIMaskbias\n"
     ]
    }
   ],
   "source": [
    "def f_stripPrefix(column_name, prefix):\n",
    "    idx = column_name.find(prefix)\n",
    "    if idx != -1:\n",
    "        ln = len(column_name)\n",
    "        subln = len(prefix)\n",
    "        key = column_name[(idx+subln):]\n",
    "    else:\n",
    "        print(\"Warning, prefix can't be found in the name, orignal name will be returned\")\n",
    "        key = column_name\n",
    "    return key\n",
    "column_name = \"AI_Maskbias\"\n",
    "print(f_stripPrefix(column_name, 'AI_'))\n",
    "column_name = \"AIMaskbias\"\n",
    "print(f_stripPrefix(column_name, 'AI_'))"
   ]
  }
 ],
 "metadata": {
  "kernelspec": {
   "display_name": "Python 2",
   "language": "python",
   "name": "python2"
  },
  "language_info": {
   "codemirror_mode": {
    "name": "ipython",
    "version": 2
   },
   "file_extension": ".py",
   "mimetype": "text/x-python",
   "name": "python",
   "nbconvert_exporter": "python",
   "pygments_lexer": "ipython2",
   "version": "2.7.10"
  }
 },
 "nbformat": 4,
 "nbformat_minor": 0
}
