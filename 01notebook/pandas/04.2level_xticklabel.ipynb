{
 "cells": [
  {
   "cell_type": "markdown",
   "metadata": {},
   "source": [
    "Here I have a dataframe like that:\n",
    "\n",
    "| category1 | 142  |       |      |      | 166  |      |      | 186  |      |      |      |\n",
    "|-----------|------|-------|------|------|------|------|------|------|------|------|------|\n",
    "| category2 | 626  | 346   | 211  | 200  | 255  | 250  | 245  | 370  | 340  | 265  | 260  |\n",
    "| y         | 0.26 | -0.54 | 2.07 | 3.15 | 0.53 | 0.72 | 2.03 | 0.71 | 0.36 | 1.83 | 0.78 |\n",
    "\n",
    "In excel, I can draw a \"line with marker\" graph with 2 level of xticklabels: categrory1 and category2.\n",
    "\n",
    "Is there any good method to draw a similar plot using python matplotlib ?\n",
    "\n",
    "I can only add 1 level of xticklabel so far:"
   ]
  },
  {
   "cell_type": "code",
   "execution_count": 6,
   "metadata": {
    "collapsed": false
   },
   "outputs": [
    {
     "name": "stdout",
     "output_type": "stream",
     "text": [
      "['category1', 'category2', 'y']\n"
     ]
    }
   ],
   "source": [
    "import pandas as pd\n",
    "import matplotlib.pyplot as plt\n",
    "\n",
    "df = pd.read_csv(\"./2level_test.csv\", delimiter = \",\")\n",
    "column_name = df.columns.values.tolist()\n",
    "print( column_name)\n",
    "df = df.sort_values(by=[\"category1\", \"category2\"], ascending=[True, True])\n",
    "numRows = len(df.index)\n",
    "index = range(1, numRows+1, 1)\n",
    "y = df[\"y\"].values.tolist()\n",
    "fig = plt.figure()\n",
    "ax = fig.add_axes([0.1, 0.1, 0.8, 0.8], label=\"ax\")\n",
    "ax.plot(index, y, linestyle='--', color = 'g', marker= '^', markeredgewidth = 1, markeredgecolor='r', markerfacecolor='none', label='y')\n",
    "# title and lables\n",
    "ax.set_xticks(index)\n",
    "category2 = df[\"category2\"].values.tolist()\n",
    "ax.set_xticklabels(category2, rotation=270)\n",
    "ax.set_ylabel(\"y\")\n",
    "ax.set_xlabel(\"category2\")\n",
    "plt.show()"
   ]
  },
  {
   "cell_type": "code",
   "execution_count": 9,
   "metadata": {
    "collapsed": false
   },
   "outputs": [],
   "source": [
    "import pandas as pd\n",
    "import matplotlib.pyplot as plt\n",
    "import numpy as np\n",
    "\n",
    "ts = pd.Series(np.random.randn(1000), index=pd.date_range('1/1/2000', periods=1000))\n",
    "ts = ts.cumsum()\n",
    "ts.plot()\n",
    "\n",
    "\n",
    "#df = pd.DataFrame(np.random.randn(1000, 10), index=ts.index)\n",
    "#df = df.cumsum()\n",
    "\n",
    "#print df.head(5)\n",
    "#plt.figure()\n",
    "#df.plot(colormap='cubehelix')\n",
    "plt.show()"
   ]
  },
  {
   "cell_type": "code",
   "execution_count": 12,
   "metadata": {
    "collapsed": false
   },
   "outputs": [
    {
     "name": "stdout",
     "output_type": "stream",
     "text": [
      "1000\n",
      "2000-01-01   -1.589053\n",
      "2000-01-02   -1.774140\n",
      "2000-01-03    0.028931\n",
      "2000-01-04    0.917065\n",
      "2000-01-05    1.181034\n",
      "2000-01-06    1.988160\n",
      "2000-01-07    1.732954\n",
      "2000-01-08    1.453579\n",
      "2000-01-09    1.916377\n",
      "2000-01-10    0.742430\n",
      "Freq: D, dtype: float64\n"
     ]
    }
   ],
   "source": [
    "print len(ts.index)\n",
    "print ts.head(10)\n"
   ]
  },
  {
   "cell_type": "code",
   "execution_count": 24,
   "metadata": {
    "collapsed": false
   },
   "outputs": [],
   "source": [
    "import pandas as pd\n",
    "import matplotlib.pyplot as plt\n",
    "\n",
    "df = pd.read_csv(\"./2level_test.csv\", delimiter = \",\")\n",
    "df = df.sort_values(by=[\"category1\", \"category2\"], ascending=[True, True])\n",
    "ax = df.plot(x=['category1', 'category2'], y='y', table=True, linestyle='--', color = 'g', marker= '^', markeredgewidth = 1, markeredgecolor='r', markerfacecolor='none', label='y')\n",
    "ax.get_xaxis().set_visible(False)\n",
    "##df.plot(x=['category1', 'category2'], y='y', table=True, ax=ax, linestyle='--', color = 'g', marker= '^', markeredgewidth = 1, markeredgecolor='r', markerfacecolor='none', label='y')\n",
    "plt.show()"
   ]
  },
  {
   "cell_type": "code",
   "execution_count": null,
   "metadata": {
    "collapsed": true
   },
   "outputs": [],
   "source": []
  }
 ],
 "metadata": {
  "kernelspec": {
   "display_name": "Python 2",
   "language": "python",
   "name": "python2"
  },
  "language_info": {
   "codemirror_mode": {
    "name": "ipython",
    "version": 2
   },
   "file_extension": ".py",
   "mimetype": "text/x-python",
   "name": "python",
   "nbconvert_exporter": "python",
   "pygments_lexer": "ipython2",
   "version": "2.7.10"
  }
 },
 "nbformat": 4,
 "nbformat_minor": 0
}
