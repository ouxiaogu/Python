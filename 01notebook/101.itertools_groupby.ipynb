{
 "cells": [
  {
   "cell_type": "markdown",
   "metadata": {},
   "source": [
    "**Reference**\n",
    "\n",
    "1. [itertools doc](https://docs.python.org/2/library/itertools.html)\n",
    "2. [itertools groupby function doc](https://docs.python.org/2/library/itertools.html)\n",
    "3. [itertools groupby function stackoverflow](http://stackoverflow.com/questions/773/how-do-i-use-pythons-itertools-groupby)\n",
    "\n",
    "**syntax**\n",
    "\n",
    "`itertools.groupby(iterable[, key])`: Make an iterator that returns consecutive *keys* and *groups* from the *iterable*. The key is a function computing a key value for each element. If not specified or is None, key defaults to an identity function and returns the element unchanged. Generally, the iterable needs to already be sorted on the same key function.\n",
    "\n",
    "**return**\n",
    "\n",
    "unique *keys* and *groups* list"
   ]
  },
  {
   "cell_type": "code",
   "execution_count": null,
   "metadata": {
    "collapsed": true
   },
   "outputs": [],
   "source": [
    "# demo code\n",
    "groups = []\n",
    "uniquekeys = []\n",
    "data = sorted(data, key=keyfunc)\n",
    "for k, g in groupby(data, keyfunc):\n",
    "    groups.append(list(g))      # Store group iterator as a list\n",
    "    uniquekeys.append(k)"
   ]
  },
  {
   "cell_type": "code",
   "execution_count": 1,
   "metadata": {
    "collapsed": false
   },
   "outputs": [
    {
     "name": "stdout",
     "output_type": "stream",
     "text": [
      "A bear is a animal.\n",
      "A duck is a animal.\n",
      " \n",
      "A cactus is a plant.\n",
      " \n",
      "A speed boat is a vehicle.\n",
      "A school bus is a vehicle.\n",
      " \n"
     ]
    }
   ],
   "source": [
    "# real example 1\n",
    "from itertools import groupby\n",
    "\n",
    "things = [(\"animal\", \"bear\"), (\"animal\", \"duck\"), (\"plant\", \"cactus\"), (\"vehicle\", \"speed boat\"), (\"vehicle\", \"school bus\")]\n",
    "\n",
    "for key, group in groupby(things, lambda x: x[0]):\n",
    "    for thing in group:\n",
    "        print \"A %s is a %s.\" % (thing[1], key)\n",
    "    print \" \""
   ]
  },
  {
   "cell_type": "code",
   "execution_count": 5,
   "metadata": {
    "collapsed": false
   },
   "outputs": [
    {
     "name": "stdout",
     "output_type": "stream",
     "text": [
      "(False, ['I', 'D', ':', ' ', '1'])\n"
     ]
    },
    {
     "ename": "KeyError",
     "evalue": "'FamilyN'",
     "output_type": "error",
     "traceback": [
      "\u001b[1;31m---------------------------------------------------------------------------\u001b[0m",
      "\u001b[1;31mKeyError\u001b[0m                                  Traceback (most recent call last)",
      "\u001b[1;32m<ipython-input-5-1a2bfd20a9e7>\u001b[0m in \u001b[0;36m<module>\u001b[1;34m()\u001b[0m\n\u001b[0;32m     31\u001b[0m                 \u001b[0mvalue\u001b[0m\u001b[1;33m=\u001b[0m\u001b[0mvalue\u001b[0m\u001b[1;33m.\u001b[0m\u001b[0mstrip\u001b[0m\u001b[1;33m(\u001b[0m\u001b[1;33m)\u001b[0m\u001b[1;33m\u001b[0m\u001b[0m\n\u001b[0;32m     32\u001b[0m                 \u001b[0mdata\u001b[0m\u001b[1;33m[\u001b[0m\u001b[0mfield\u001b[0m\u001b[1;33m]\u001b[0m\u001b[1;33m=\u001b[0m\u001b[0mvalue\u001b[0m\u001b[1;33m\u001b[0m\u001b[0m\n\u001b[1;32m---> 33\u001b[1;33m             \u001b[1;32mprint\u001b[0m\u001b[1;33m(\u001b[0m\u001b[1;34m'{FamilyN} {Name} {Age}'\u001b[0m\u001b[1;33m.\u001b[0m\u001b[0mformat\u001b[0m\u001b[1;33m(\u001b[0m\u001b[1;33m**\u001b[0m\u001b[0mdata\u001b[0m\u001b[1;33m)\u001b[0m\u001b[1;33m)\u001b[0m\u001b[1;33m\u001b[0m\u001b[0m\n\u001b[0m\u001b[0;32m     34\u001b[0m \u001b[1;33m\u001b[0m\u001b[0m\n",
      "\u001b[1;31mKeyError\u001b[0m: 'FamilyN'"
     ]
    }
   ],
   "source": [
    "import itertools\n",
    "\n",
    "def isa_group_separator(line):\n",
    "    return line=='\\n'\n",
    "f='''ID: 1\n",
    "Name: X\n",
    "FamilyN: Y\n",
    "Age: 20\n",
    "\n",
    "ID: 2\n",
    "Name: H\n",
    "FamilyN: F\n",
    "Age: 23\n",
    "\n",
    "ID: 3\n",
    "Name: S\n",
    "FamilyN: Y\n",
    "Age: 13\n",
    "\n",
    "ID: 4\n",
    "Name: M\n",
    "FamilyN: Z\n",
    "Age: 25'''\n",
    "\n",
    "for key,group in itertools.groupby(f,isa_group_separator):\n",
    "        print(key,list(group))  # uncomment to see what itertools.groupby does.\n",
    "        if not key:\n",
    "            data={}\n",
    "            for item in group:\n",
    "                field,value=item.split(':')\n",
    "                value=value.strip()\n",
    "                data[field]=value\n",
    "            print('{FamilyN} {Name} {Age}'.format(**data))\n",
    "    "
   ]
  },
  {
   "cell_type": "code",
   "execution_count": null,
   "metadata": {
    "collapsed": true
   },
   "outputs": [],
   "source": []
  }
 ],
 "metadata": {
  "kernelspec": {
   "display_name": "Python 2",
   "language": "python",
   "name": "python2"
  },
  "language_info": {
   "codemirror_mode": {
    "name": "ipython",
    "version": 2
   },
   "file_extension": ".py",
   "mimetype": "text/x-python",
   "name": "python",
   "nbconvert_exporter": "python",
   "pygments_lexer": "ipython2",
   "version": "2.7.10"
  }
 },
 "nbformat": 4,
 "nbformat_minor": 0
}
