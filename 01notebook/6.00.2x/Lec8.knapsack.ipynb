{
 "cells": [
  {
   "cell_type": "code",
   "execution_count": null,
   "metadata": {
    "collapsed": true
   },
   "outputs": [],
   "source": [
    "# Q1: knapsack problem, all about how to employ the metric \n",
    "def metric1(item):\n",
    "    return item.getValue() / float(item.getWeight()) # We want exact values!\n",
    "def metric2(item):\n",
    "    return  -item.getWeight()\n",
    "def metric3(item):\n",
    "    return item.getValue()\n"
   ]
  },
  {
   "cell_type": "code",
   "execution_count": null,
   "metadata": {
    "collapsed": true
   },
   "outputs": [],
   "source": [
    "## REFRESHER ON GENERATORS\n",
    "# For the following problem, consider the following way to write a power set generator. \n",
    "\n",
    "# generate all combinations of N items\n",
    "def powerSet(items):\n",
    "    N = len(items)\n",
    "    # enumerate the 2**N possible combinations\n",
    "    for i in xrange(2**N):\n",
    "        combo = []\n",
    "        for j in xrange(N):\n",
    "            # test bit jth of integer i\n",
    "            if (i >> j) % 2 == 1:\n",
    "                combo.append(items[j])\n",
    "        yield combo"
   ]
  },
  {
   "cell_type": "code",
   "execution_count": 4,
   "metadata": {
    "collapsed": false
   },
   "outputs": [
    {
     "name": "stdout",
     "output_type": "stream",
     "text": [
      "([], [])\n",
      "(['A'], [])\n",
      "([], ['A'])\n",
      "(['B'], [])\n",
      "(['A', 'B'], [])\n",
      "(['B'], ['A'])\n",
      "([], ['B'])\n",
      "(['A'], ['B'])\n",
      "([], ['A', 'B'])\n",
      "(['C'], [])\n",
      "(['A', 'C'], [])\n",
      "(['C'], ['A'])\n",
      "(['B', 'C'], [])\n",
      "(['A', 'B', 'C'], [])\n",
      "(['B', 'C'], ['A'])\n",
      "(['C'], ['B'])\n",
      "(['A', 'C'], ['B'])\n",
      "(['C'], ['A', 'B'])\n",
      "([], ['C'])\n",
      "(['A'], ['C'])\n",
      "([], ['A', 'C'])\n",
      "(['B'], ['C'])\n",
      "(['A', 'B'], ['C'])\n",
      "(['B'], ['A', 'C'])\n",
      "([], ['B', 'C'])\n",
      "(['A'], ['B', 'C'])\n",
      "([], ['A', 'B', 'C'])\n"
     ]
    }
   ],
   "source": [
    "def yieldAllCombos(items):\n",
    "    \"\"\"\n",
    "      Generates all combinations of N items into two bags, whereby each \n",
    "      item is in one or zero bags.\n",
    "\n",
    "      Yields a tuple, (bag1, bag2), where each bag is represented as \n",
    "      a list of which item(s) are in each bag.\n",
    "    \"\"\"\n",
    "    N = len(items)\n",
    "    # enumerate the 2**N possible combinations for bag1, bag2 use conditional probal\n",
    "    for i in xrange(3**N):\n",
    "        bag1 = []\n",
    "        bag2 = []\n",
    "        for j in xrange(N):\n",
    "            ##if( i>>j ) % 3 == 1:\n",
    "            if ( i/3**j) % 3 == 1 :\n",
    "                bag1.append( items[j] )\n",
    "            elif ( i/3**j) % 3 == 2:\n",
    "                bag2.append( items[j] )\n",
    "        yield (bag1, bag2)\n",
    "        \n",
    "items = [\"A\", \"B\", \"C\"]\n",
    "mygenerator = yieldAllCombos(items)\n",
    "for i in mygenerator:\n",
    "    print i"
   ]
  },
  {
   "cell_type": "code",
   "execution_count": null,
   "metadata": {
    "collapsed": true
   },
   "outputs": [],
   "source": []
  }
 ],
 "metadata": {
  "kernelspec": {
   "display_name": "Python 2",
   "language": "python",
   "name": "python2"
  },
  "language_info": {
   "codemirror_mode": {
    "name": "ipython",
    "version": 2
   },
   "file_extension": ".py",
   "mimetype": "text/x-python",
   "name": "python",
   "nbconvert_exporter": "python",
   "pygments_lexer": "ipython2",
   "version": "2.7.10"
  }
 },
 "nbformat": 4,
 "nbformat_minor": 0
}
