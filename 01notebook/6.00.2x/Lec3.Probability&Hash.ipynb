{
 "cells": [
  {
   "cell_type": "code",
   "execution_count": 12,
   "metadata": {
    "collapsed": false
   },
   "outputs": [
    {
     "ename": "SyntaxError",
     "evalue": "invalid syntax (<ipython-input-12-356b55fcd034>, line 95)",
     "output_type": "error",
     "traceback": [
      "\u001b[1;36m  File \u001b[1;32m\"<ipython-input-12-356b55fcd034>\"\u001b[1;36m, line \u001b[1;32m95\u001b[0m\n\u001b[1;33m    return est_max_uncoll( low, mid, tolerance ):\u001b[0m\n\u001b[1;37m                                                ^\u001b[0m\n\u001b[1;31mSyntaxError\u001b[0m\u001b[1;31m:\u001b[0m invalid syntax\n"
     ]
    }
   ],
   "source": [
    "## L3 PROBLEM 5\n",
    "\n",
    "import random\n",
    "\n",
    "class intDict(object):\n",
    "    \"\"\"A dictionary with integer keys\"\"\"\n",
    "    \n",
    "    def __init__(self, numBuckets):\n",
    "        \"\"\"Create an empty dictionary\"\"\"\n",
    "        self.buckets = []\n",
    "        self.numBuckets = numBuckets\n",
    "        for i in range(numBuckets):\n",
    "            self.buckets.append([])\n",
    "            \n",
    "    def addEntry(self, dictKey, dictVal):\n",
    "        \"\"\"Assumes dictKey an int.  Adds an entry.\"\"\"\n",
    "        hashBucket = self.buckets[dictKey%self.numBuckets]\n",
    "        for i in range(len(hashBucket)):\n",
    "            if hashBucket[i][0] == dictKey:\n",
    "                hashBucket[i] = (dictKey, dictVal)\n",
    "                return\n",
    "        hashBucket.append((dictKey, dictVal))\n",
    "        \n",
    "    def getValue(self, dictKey):\n",
    "        \"\"\"Assumes dictKey an int.  Returns entry associated\n",
    "           with the key dictKey\"\"\"\n",
    "        hashBucket = self.buckets[dictKey%self.numBuckets]\n",
    "        for e in hashBucket:\n",
    "            if e[0] == dictKey:\n",
    "                return e[1]\n",
    "        return None\n",
    "    \n",
    "    def __str__(self):\n",
    "        res = '{'\n",
    "        for b in self.buckets:\n",
    "            for t in b:\n",
    "                res = res + str(t[0]) + ':' + str(t[1]) + ','\n",
    "        return res[:-1] + '}' #res[:-1] removes the last comma\n",
    "\n",
    "\n",
    "def collision_prob(numBuckets, numInsertions):\n",
    "    '''\n",
    "    Given the number of buckets and the number of items to insert, \n",
    "    calculates the probability of a collision.\n",
    "    '''\n",
    "    prob = 1.0\n",
    "    for i in range(1, numInsertions):\n",
    "        prob = prob * ((numBuckets - i) / float(numBuckets))\n",
    "    return 1 - prob\n",
    "\n",
    "def sim_insertions(numBuckets, numInsertions):\n",
    "    '''\n",
    "    Run a simulation for numInsertions insertions into the hash table.\n",
    "    '''\n",
    "    choices = range(numBuckets)\n",
    "    used = []\n",
    "    for i in range(numInsertions):\n",
    "        hashVal = random.choice(choices)\n",
    "        if hashVal in used:\n",
    "            return False\n",
    "        else:\n",
    "            used.append(hashVal)\n",
    "    return True\n",
    "\n",
    "def observe_prob(numBuckets, numInsertions, numTrials):\n",
    "    '''\n",
    "    Given the number of buckets and the number of items to insert, \n",
    "    runs a simulation numTrials times to observe the probability of a collision.\n",
    "    '''\n",
    "    probs = []\n",
    "    for t in range(numTrials):\n",
    "        probs.append(sim_insertions(numBuckets, numInsertions))\n",
    "    return 1 - sum(probs)/float(numTrials)\n",
    "\n",
    "\n",
    "def main():\n",
    "    hash_table = intDict(25)\n",
    "    hash_table.addEntry(15, 'a')\n",
    "#    random.seed(1) # Uncomment for consistent results\n",
    "    for i in range(20):\n",
    "       hash_table.addEntry(int(random.random() * (10 ** 9)), i)\n",
    "    hash_table.addEntry(15, 'b')\n",
    "    print hash_table.buckets  #evil\n",
    "    print '\\n', 'hash_table =', hash_table\n",
    "    print hash_table.getValue(15)\n",
    "    \n",
    "def est_max_uncoll( low, high, tolerance ):\n",
    "\n",
    "    mid = (high+low)/2\n",
    "    p1 = collision_prob(365, mid)\n",
    "    p2 = collision_prob(365, mid+1)\n",
    "    if p1<tolerance and p2>tolerance:\n",
    "        return mid\n",
    "    elif p1 > tolerance:\n",
    "        return est_max_uncoll( low, mid, tolerance ) \n",
    "    elif p1 < tolerance:\n",
    "        return est_max_uncoll( mid, high, tolerance)\n",
    "        \n",
    "high = 250\n",
    "low = 30    \n",
    "est_max_uncoll(low, high, 0.99)\n",
    "    \n",
    "#collision_prob(365, 250)\n",
    "#observe_prob(1000, 200, 1000)"
   ]
  },
  {
   "cell_type": "code",
   "execution_count": null,
   "metadata": {
    "collapsed": true
   },
   "outputs": [],
   "source": []
  },
  {
   "cell_type": "code",
   "execution_count": null,
   "metadata": {
    "collapsed": true
   },
   "outputs": [],
   "source": []
  },
  {
   "cell_type": "code",
   "execution_count": null,
   "metadata": {
    "collapsed": true
   },
   "outputs": [],
   "source": []
  },
  {
   "cell_type": "code",
   "execution_count": null,
   "metadata": {
    "collapsed": true
   },
   "outputs": [],
   "source": []
  }
 ],
 "metadata": {
  "kernelspec": {
   "display_name": "Python 2",
   "language": "python",
   "name": "python2"
  },
  "language_info": {
   "codemirror_mode": {
    "name": "ipython",
    "version": 2
   },
   "file_extension": ".py",
   "mimetype": "text/x-python",
   "name": "python",
   "nbconvert_exporter": "python",
   "pygments_lexer": "ipython2",
   "version": "2.7.10"
  }
 },
 "nbformat": 4,
 "nbformat_minor": 0
}
