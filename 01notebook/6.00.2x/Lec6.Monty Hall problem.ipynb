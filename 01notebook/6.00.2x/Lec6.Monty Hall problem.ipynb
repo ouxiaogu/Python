{
 "cells": [
  {
   "cell_type": "markdown",
   "metadata": {},
   "source": [
    "### Monty Hall problem\n",
    "\n",
    "[Monty Hall problem](https://en.wikipedia.org/wiki/Monty_Hall_problem)\n",
    "\n",
    "> Suppose you're on a game show, and you're given the choice of three doors: Behind one door is a car; behind the others, goats. You pick a door, say No. 1, and the host, who knows what's behind the doors, opens another door, say No. 3, which has a goat. He then says to you, \"Do you want to pick door No. 2?\" Is it to your advantage to switch your choice?\n",
    "\n",
    "Calculate the probablity of winning a car by switching the choice.\n",
    "\n",
    "\n",
    "Consider a similar problem to the Monty Hall problem:\n",
    "\n",
    "In this problem, instead of 3 doors, 1 car, and 2 goats, instead there are 4 doors, 2 cars and 2 goats.\n",
    "\n",
    "As in the Monty Hall problem, the player chooses a door, and then the host opens a door hiding a goat. With simulation or hand calculation, calculate the probability that switching into a door will lead you to a car. Enter your answer as a fraction or decimal in the following box:\n"
   ]
  },
  {
   "cell_type": "code",
   "execution_count": null,
   "metadata": {
    "collapsed": true
   },
   "outputs": [],
   "source": []
  }
 ],
 "metadata": {
  "kernelspec": {
   "display_name": "Python 2",
   "language": "python",
   "name": "python2"
  },
  "language_info": {
   "codemirror_mode": {
    "name": "ipython",
    "version": 2
   },
   "file_extension": ".py",
   "mimetype": "text/x-python",
   "name": "python",
   "nbconvert_exporter": "python",
   "pygments_lexer": "ipython2",
   "version": "2.7.10"
  }
 },
 "nbformat": 4,
 "nbformat_minor": 0
}
