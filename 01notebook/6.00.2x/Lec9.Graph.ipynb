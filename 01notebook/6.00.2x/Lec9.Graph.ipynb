{
 "cells": [
  {
   "cell_type": "markdown",
   "metadata": {},
   "source": [
    "Students in a line\n",
    "\n",
    "Second graders are lining up to go to their next class, but must be ordered alphabetically before they can leave. The teacher only swaps the positions of two students that are next to each other in line.\n",
    "\n",
    "If we want to represent this situation as a graph, which variables should be represented as edges and vertices?\n",
    "\n",
    "- A) Vertices represent permutations of the students in line. Edges connect two permutations if one can be made into the other by swapping two adjacent students. A Vertices represent permutations of the students in line. Edges connect two permutations if one can be made into the other by swapping two adjacent students.\n",
    "- B) Vertices represent students. Edges connect two students if they are next to each other in line.\n",
    "- C) Vertices represent permutations of the students, and each edge represents an individual student. An edge connects two vertices if that student is involved in swap between the two permutations.\n",
    "    \n",
    "EXPLANATION:\n",
    "\n",
    "- A) is correct. Travelling from one vertex to another through an edge represents a legal move.\n",
    "\n",
    "- B) only offers information relevant to the current state of the line. There is no information regarding how the line can change.\n",
    "\n",
    "- C) does not make sense to implement. Multiple edges would have to connect every vertex, and many edges would be needed to fully represent a single child."
   ]
  },
  {
   "cell_type": "code",
   "execution_count": 22,
   "metadata": {
    "collapsed": false
   },
   "outputs": [
    {
     "data": {
      "text/plain": [
       "'CAB->ACB\\nCAB->CBA\\nACB->ABC\\nACB->CAB\\nCBA->BCA\\nCBA->CAB\\nBAC->ABC\\nBAC->BCA\\nABC->BAC\\nABC->ACB\\nBCA->BAC\\nBCA->CBA'"
      ]
     },
     "execution_count": 22,
     "metadata": {},
     "output_type": "execute_result"
    }
   ],
   "source": [
    "class Node(object):\n",
    "    def __init__(self, name):\n",
    "        self.name = str(name)\n",
    "    def getName(self):\n",
    "        return self.name\n",
    "    def __str__(self):\n",
    "        return self.name\n",
    "\n",
    "class Edge(object):\n",
    "    def __init__(self, src, dest):\n",
    "        self.src = src\n",
    "        self.dest = dest\n",
    "    def getSource(self):\n",
    "        return self.src\n",
    "    def getDestination(self):\n",
    "        return self.dest\n",
    "    def __str__(self):\n",
    "        return str(self.src) + '->' + str(self.dest)\n",
    "\n",
    "class WeightedEdge(Edge):\n",
    "    def __init__(self, src, dest, weight = 1.0):\n",
    "        self.src = src\n",
    "        self.dest = dest\n",
    "        self.weight = weight\n",
    "    def getWeight(self):\n",
    "        return self.weight\n",
    "    def __str__(self):\n",
    "        return str(self.src) + '->(' + str(self.weight) + ')'\\\n",
    "            + str(self.dest)\n",
    "\n",
    "class Digraph(object):\n",
    "    def __init__(self):\n",
    "        self.nodes = set([])\n",
    "        self.edges = {}\n",
    "    def addNode(self, node):\n",
    "        if node in self.nodes:\n",
    "            raise ValueError('Duplicate node')\n",
    "        else:\n",
    "            self.nodes.add(node)\n",
    "            self.edges[node] = []\n",
    "    def addEdge(self, edge):\n",
    "        src = edge.getSource()\n",
    "        dest = edge.getDestination()\n",
    "        if not(src in self.nodes and dest in self.nodes):\n",
    "            raise ValueError('Node not in graph')\n",
    "        self.edges[src].append(dest)\n",
    "    def childrenOf(self, node):\n",
    "        return self.edges[node]\n",
    "    def hasNode(self, node):\n",
    "        return node in self.nodes\n",
    "    def __str__(self):\n",
    "        res = ''\n",
    "        for k in self.edges:\n",
    "            for d in self.edges[k]:\n",
    "                res = res + str(k) + '->' + str(d) + '\\n'\n",
    "        return res[:-1]\n",
    "\n",
    "class Graph(Digraph):\n",
    "    def addEdge(self, edge):\n",
    "        Digraph.addEdge(self, edge)\n",
    "        rev = Edge(edge.getDestination(), edge.getSource())\n",
    "        Digraph.addEdge(self, rev)\n",
    "\n",
    "\n",
    "def printPath(path):\n",
    "    # a path is a list of nodes\n",
    "    result = ''\n",
    "    for i in range(len(path)):\n",
    "        if i == len(path) - 1:\n",
    "            result = result + str(path[i])\n",
    "        else:\n",
    "            result = result + str(path[i]) + '->'\n",
    "    return result\n",
    "\n",
    "## L9 PROBLEM 2\n",
    "\n",
    "nodes = []\n",
    "nodes.append(Node(\"ABC\")) # nodes[0]\n",
    "nodes.append(Node(\"ACB\")) # nodes[1]\n",
    "nodes.append(Node(\"BAC\")) # nodes[2]\n",
    "nodes.append(Node(\"BCA\")) # nodes[3]\n",
    "nodes.append(Node(\"CAB\")) # nodes[4]\n",
    "nodes.append(Node(\"CBA\")) # nodes[5]\n",
    "\n",
    "g = Graph()\n",
    "for n in nodes:\n",
    "    g.addNode(n)\n",
    "\n",
    "### Lec9 problem 2\n",
    "for p1 in nodes:\n",
    "    len1 = len(p1.name)\n",
    "    assert(len1 > 1)\n",
    "    for i in range(len1 - 1):\n",
    "        p0_name = [ ii for ii in p1.name]\n",
    "        temp = p1.name[i+1]\n",
    "        # error happened if:\n",
    "        # p0_name = p1.name; temp = p1.name[i+1]; p0_name[i+1] = p0_name[i]\n",
    "        # 'str' object does not support item assignment\n",
    "        p0_name[i+1] = p0_name[i]\n",
    "        p0_name[i] = temp\n",
    "        p0_name = \"\".join(p0_name)\n",
    "        # print p0_name\n",
    "        for p2 in nodes:\n",
    "            if p2.name == p1.name:\n",
    "                continue\n",
    "            elif p0_name == p2.name:\n",
    "                #print \"\\t:\"+p0_name\n",
    "                edge = Edge(p1, p2)\n",
    "                if p2 not in g.childrenOf(p1):\n",
    "                    g.addEdge( Edge(p1, p2) )\n",
    "                    break\n",
    "\n",
    "g.__str__()"
   ]
  },
  {
   "cell_type": "code",
   "execution_count": 10,
   "metadata": {
    "collapsed": false
   },
   "outputs": [
    {
     "name": "stdout",
     "output_type": "stream",
     "text": [
      "bac\n"
     ]
    }
   ],
   "source": [
    "a = \"abc\"\n",
    "b = list(a)\n",
    "temp = b[1]\n",
    "b[1] = b[0]\n",
    "b[0] = temp\n",
    "b = \"\".join(b)\n",
    "print b"
   ]
  },
  {
   "cell_type": "code",
   "execution_count": 9,
   "metadata": {
    "collapsed": false
   },
   "outputs": [
    {
     "data": {
      "text/plain": [
       "'ofbora'"
      ]
     },
     "execution_count": 9,
     "metadata": {},
     "output_type": "execute_result"
    }
   ],
   "source": [
    "def oddswap(st):\n",
    "    s = list(st)\n",
    "    for c in range(0,len(s),2):\n",
    "        t=s[c]\n",
    "        s[c]=s[c+1]\n",
    "        s[c+1]=t\n",
    "\n",
    "    return \"\".join(s)\n",
    "s='foobar'\n",
    "oddswap(s)"
   ]
  },
  {
   "cell_type": "code",
   "execution_count": null,
   "metadata": {
    "collapsed": true
   },
   "outputs": [],
   "source": []
  }
 ],
 "metadata": {
  "kernelspec": {
   "display_name": "Python 2",
   "language": "python",
   "name": "python2"
  },
  "language_info": {
   "codemirror_mode": {
    "name": "ipython",
    "version": 2
   },
   "file_extension": ".py",
   "mimetype": "text/x-python",
   "name": "python",
   "nbconvert_exporter": "python",
   "pygments_lexer": "ipython2",
   "version": "2.7.10"
  }
 },
 "nbformat": 4,
 "nbformat_minor": 0
}
