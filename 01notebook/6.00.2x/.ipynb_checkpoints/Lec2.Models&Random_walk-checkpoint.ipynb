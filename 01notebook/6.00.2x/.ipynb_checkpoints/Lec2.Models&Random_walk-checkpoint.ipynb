{
 "cells": [
  {
   "cell_type": "markdown",
   "metadata": {},
   "source": [
    "A ____deterministic___ model is one whose behavior is entirely predictable. Every set of variable states is uniquely determined by parameters in the model and by sets of previous states of these variables. Therefore, these models perform the same way for a given set of initial conditions, and it is possible to predict precisely what will happen.\n",
    "\n",
    "A ____stochastic____ model is one in which randomness is present, and variable states are not described by unique values, but rather by probability distributions. The behavior of this model cannot be entirely predicted.\n",
    "\n",
    "A ____static___ model does not account for the element of time. In this type of model, a simulation will give us a snapshot at a single point in time.\n",
    "\n",
    "\n",
    "A ____dynamic___ model does account for the element of time. This type of model often contains state variables that change over time.\n",
    "\n",
    "A ___discrete____ model does not take into account the function of time. The state variables change only at a countable number of points in time, abruptly from one state to another.\n",
    "\n",
    "A ___continuous___ model does take into account the function of time, typically by modelling a function f(t) and the changes reflected over time intervals. The state variables change in an unbroken way through an infinite number of states."
   ]
  },
  {
   "cell_type": "markdown",
   "metadata": {},
   "source": [
    "[random](https://docs.python.org/2/library/random.html)\n",
    "\n",
    "1. random.seed(0) : reproductively -> deterministicNumber\n",
    "2. random.random(): 0~1 \n",
    "3. random.randint(a,b) : [a,b] 1 number -> stochasticNumber\n",
    "4. random.randrange(start, stop[, step]) == random.choice(range(start, stop, step))"
   ]
  },
  {
   "cell_type": "code",
   "execution_count": null,
   "metadata": {
    "collapsed": false
   },
   "outputs": [],
   "source": [
    "import random\n",
    "random.seed(0)\n",
    "print random.randrange(1, 100)"
   ]
  },
  {
   "cell_type": "code",
   "execution_count": null,
   "metadata": {
    "collapsed": false
   },
   "outputs": [],
   "source": [
    "## https://courses.edx.org/courses/course-v1:MITx+6.00.2x_4+3T2015/courseware/8d9a47872ed641a1ace050f1c1ba7ac7/92ba526551554d55b1f58138d24839eb/\n",
    "## L2 Problem 6\n",
    "## 1. Is the following code deterministic or stochastic?\n",
    "import random\n",
    "mylist = []\n",
    "\n",
    "for i in xrange(random.randint(1, 10)):\n",
    "    random.seed(0)\n",
    "    if random.randint(1, 10) > 3:\n",
    "        number = random.randint(1, 10)\n",
    "        mylist.append(number)\n",
    "print mylist"
   ]
  },
  {
   "cell_type": "markdown",
   "metadata": {},
   "source": [
    "This code sample returns a list of 8s. The length of the list is determined by a stochastic variable (the first call to randint). If you are using Canopy, you will notice that the very first time you run the program, the length of the array varies. If you keep clicking the green run button to re-run the program, the length of the array will always be 3. This is because we have set the seed. To completely reset, you will have to restart the kernel via the menu option (Run -> Restart Kernel) or via the keyboard (Ctrl with the period key)."
   ]
  },
  {
   "cell_type": "code",
   "execution_count": 2,
   "metadata": {
    "collapsed": false
   },
   "outputs": [
    {
     "name": "stdout",
     "output_type": "stream",
     "text": [
      "code A, N=5\n",
      "[8]\n",
      "code A, N=9\n",
      "[5]\n",
      "[5]\n",
      "[5, 5]\n",
      "[5, 5, 4]\n",
      "[5, 5, 4, 6]\n",
      "[5, 5, 4, 6, 6]\n",
      "[5, 5, 4, 6, 6]\n",
      "[5, 5, 4, 6, 6, 7]\n",
      "[5, 5, 4, 6, 6, 7]\n"
     ]
    }
   ],
   "source": [
    "## Which of the following alterations (Code Sample A or Code Sample B) would result in a deterministic process?\n",
    "\n",
    "import random\n",
    "\n",
    "# Code Sample A\n",
    "mylist = []\n",
    "N = random.randint(1, 10)\n",
    "print \"code A, N={}\".format(N) \n",
    "for i in xrange(N):\n",
    "    \n",
    "    random.seed(0)\n",
    "    if random.randint(1, 10) > 3:\n",
    "        number = random.randint(1, 10)\n",
    "        if number not in mylist:\n",
    "            mylist.append(number)\n",
    "print mylist\n",
    "\n",
    "    \n",
    "    \n",
    "# Code Sample B\n",
    "mylist = []\n",
    "\n",
    "random.seed(0)\n",
    "N2 = random.randint(1, 10)\n",
    "print \"code A, N={}\".format(N2) \n",
    "for i in xrange(N2):\n",
    "    if random.randint(1, 10) > 3:\n",
    "        number = random.randint(1, 10)\n",
    "        mylist.append(number)\n",
    "    print mylist"
   ]
  },
  {
   "cell_type": "markdown",
   "metadata": {},
   "source": [
    "Answer: Both! Code Sample A will always return [8]. Code Sample B will always return [5, 5, 4, 6, 6, 7]. Therefore both of these versions of the original code are deterministic."
   ]
  },
  {
   "cell_type": "markdown",
   "metadata": {
    "collapsed": true
   },
   "source": [
    "### Why Code Sample A is also completely determined\n",
    "\n",
    "I think I would have gotten the answer to Problem 2 correct the first time if I had just run the code samples myself.\n",
    "At first, I thought for sure that Code Sample B should always produce the same result, because the random number generator is seeded before anything else could happen. I wasn't so sure with A because it appears that the length of mylist could still vary. But given that\n",
    "`if random.randint(1, 10) > 3`\n",
    "and\n",
    "`number = random.randint(1, 10)`\n",
    "both occur after the seeding, they would always choose the same every time. The two-thirds coin flip will always succeed or not (if not, we will always get an empty list).\n",
    "Even if the loop occurred multiple times, we will always get that same number in the second statement, which will cause it to be thrown away in the next loop iteration (because the number was already put there in the first iteration).\n",
    "\n",
    "\n",
    "#### SchiffS COMMUNITY TA\n",
    "\n",
    "It depends. Here is a program that is completely deterministic:\n",
    "\n",
    "`x = 8 print x`\n",
    "\n",
    "It will output 8 from now until doomsday, and you can just look at the code and know what its output will be. Now here is another program that will produce the exact same output every time:\n",
    "\n",
    "```\n",
    "import random\n",
    "random.seed(1371)\n",
    "print random.randrange(1, 100)\n",
    "```\n",
    "\n",
    "Now, without entering and executing this code, can you tell me what the output will be? If I modify the program slightly to have it print out ten calls to the `randrange(1,100)` what are your chances of guessing beforehand what the output will be? What we have is a random process, but one that will repeat each and every time we use it. There is a subtle difference between the two situations, I'm sure you will agree.\n",
    "\n",
    "At the heart of randomness is the inability to predict beforehand.\n",
    "\n",
    "Incidentally, stochastic has a different meaning than random. ___A stochastic process has both deterministic and random components.___ An example of a stochastic process is something like daily high temperatures or a stock market index. If the FTSE is at 3500 on one day, it is highly likely to be within a few hundred points of that the next. On the other hand, coin flips are purely random: assuming a fair coin, knowing the outcomes of the last million tosses of the coin tells one nothing about what will happen next time the coin is tossed.\n",
    "\n",
    "STOCHASTIC VS. DETERMINISTIC\n",
    "\n",
    "Awesome response. Thanks for the question AND for the clear answer. L2 Problem 6 is stochastic due to the fact that it is impossible to predict correctly the result beforehand. Whereas something like\n",
    "\n",
    "```\n",
    "x = 6:\n",
    "print(x)\n",
    "```\n",
    "\n",
    "will not only return the same result every time but it will produce a result that is predictable before the program runs.\n",
    "\n",
    "\n",
    "posted 18 days ago by rafehqazi1"
   ]
  },
  {
   "cell_type": "code",
   "execution_count": 7,
   "metadata": {
    "collapsed": false
   },
   "outputs": [
    {
     "name": "stdout",
     "output_type": "stream",
     "text": [
      "The No. 0 random.randint(1, 10) after seed(0): 9\n",
      "The No. 1 random.randint(1, 10) after seed(0): 8\n",
      "The No. 2 random.randint(1, 10) after seed(0): 5\n",
      "The No. 3 random.randint(1, 10) after seed(0): 3\n",
      "The No. 4 random.randint(1, 10) after seed(0): 6\n",
      "The No. 5 random.randint(1, 10) after seed(0): 5\n",
      "The No. 6 random.randint(1, 10) after seed(0): 8\n",
      "The No. 7 random.randint(1, 10) after seed(0): 4\n",
      "The No. 8 random.randint(1, 10) after seed(0): 5\n",
      "The No. 9 random.randint(1, 10) after seed(0): 6\n",
      "The No. 10 random.randint(1, 10) after seed(0): 10\n",
      "The No. 11 random.randint(1, 10) after seed(0): 6\n",
      "The No. 12 random.randint(1, 10) after seed(0): 3\n",
      "The No. 13 random.randint(1, 10) after seed(0): 8\n",
      "The No. 14 random.randint(1, 10) after seed(0): 7\n",
      "The No. 15 random.randint(1, 10) after seed(0): 3\n",
      "The No. 16 random.randint(1, 10) after seed(0): 10\n",
      "The No. 17 random.randint(1, 10) after seed(0): 10\n",
      "The No. 18 random.randint(1, 10) after seed(0): 9\n",
      "The No. 19 random.randint(1, 10) after seed(0): 10\n",
      "random.randint(1, 10), seed(1): 2\n"
     ]
    }
   ],
   "source": [
    "import random\n",
    "random.seed(0)\n",
    "for i in range(20):\n",
    "    print \"The No. {} random.randint(1, 10) after seed(0): {}\".format(i, random.randint(1, 10)) \n",
    "\n",
    "random.seed(1)\n",
    "print \"random.randint(1, 10), seed(1): {}\".format(random.randint(1, 10))\n"
   ]
  },
  {
   "cell_type": "markdown",
   "metadata": {},
   "source": [
    "### Summary: \n",
    "\n",
    "**the random.seed(i) will output the random value in a deterministic sequence**"
   ]
  },
  {
   "cell_type": "code",
   "execution_count": null,
   "metadata": {
    "collapsed": true
   },
   "outputs": [],
   "source": []
  }
 ],
 "metadata": {
  "kernelspec": {
   "display_name": "Python 2",
   "language": "python",
   "name": "python2"
  },
  "language_info": {
   "codemirror_mode": {
    "name": "ipython",
    "version": 2
   },
   "file_extension": ".py",
   "mimetype": "text/x-python",
   "name": "python",
   "nbconvert_exporter": "python",
   "pygments_lexer": "ipython2",
   "version": "2.7.10"
  }
 },
 "nbformat": 4,
 "nbformat_minor": 0
}
