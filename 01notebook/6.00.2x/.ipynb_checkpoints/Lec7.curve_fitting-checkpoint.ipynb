{
 "cells": [
  {
   "cell_type": "markdown",
   "metadata": {},
   "source": [
    "### Curve fitting\n",
    "\n",
    "The method to describe `model error` and `Least Square` is very revealing.\n",
    "\n",
    "1. Assume model have several features,  the error of a feature is uniformlly or triangularly located between a range. Then for every measurement, assume the model error are sum of all the model error source, then the overall model error must be normal distribution. (Refer to [quiz problem 3](https://courses.edx.org/courses/course-v1:MITx+6.00.2x_4+3T2015/courseware/fe76f342c0a34327848a80d87c13cf4a/0a78020641cf4a81aac6b61584be7742/) )\n",
    "2. The the goal to fit every observation is to maxmize the likehood of this normally distributed error. \n",
    "\n",
    "$$ max \\prod _{i} L_{err}(predict_i - obs_i) = \\prod _{i} $$ \n",
    "\n",
    "Equivalently, use log instead, then minimize the error of $$ min - In \\sum _{i}  \\frac {1} {\\sqrt {2\\pi}  \\sigma}  e ^ {\\frac {-(predict_i - obs_i)^2} { {\\sigma}^2  }  }   $$"
   ]
  },
  {
   "cell_type": "code",
   "execution_count": 10,
   "metadata": {
    "collapsed": true
   },
   "outputs": [],
   "source": [
    "# L7 PROBLEM 2  \n",
    "import pylab, random\n",
    "\n",
    "def testTriangularErrors(ntrials=10000,npts=100):\n",
    "    results = [0] * ntrials\n",
    "    for i in xrange(ntrials):\n",
    "        s = 0   # sum of random points\n",
    "        for j in xrange(npts):\n",
    "            s += random.triangular(-1,1)\n",
    "        results[i] =s\n",
    "    # plot results in a histogram\n",
    "    \n",
    "    pylab.hist(results,bins=50)\n",
    "    pylab.title('Sum of 100 random points -- Triangular PDF (10,000 trials)')\n",
    "    pylab.xlabel('Sum')\n",
    "    pylab.ylabel('Number of trials')\n",
    "\n",
    "def testUniformErrors(ntrials=10000,npts=100):\n",
    "    results = [0] * ntrials\n",
    "    for i in xrange(ntrials):\n",
    "        s = 0   # sum of random points\n",
    "        for j in xrange(npts):\n",
    "            s += random.uniform(-1,1)\n",
    "        results[i] =s\n",
    "    # plot results in a histogram\n",
    "    pylab.hist(results,bins=50)\n",
    "    pylab.title('Sum of 100 random points -- Uniform PDF (10,000 trials)')\n",
    "    pylab.xlabel('Sum')\n",
    "    pylab.ylabel('Number of trials')\n",
    "    \n",
    "pylab.figure(1)\n",
    "testTriangularErrors()\n",
    "pylab.figure(2)\n",
    "testUniformErrors()\n",
    "pylab.show()\n"
   ]
  },
  {
   "cell_type": "code",
   "execution_count": 14,
   "metadata": {
    "collapsed": false
   },
   "outputs": [
    {
     "name": "stdout",
     "output_type": "stream",
     "text": [
      "0.88151239836\n",
      "0.953884467286\n"
     ]
    }
   ],
   "source": [
    "def getData(fileName):\n",
    "    dataFile = open(fileName, 'r')\n",
    "    distances = []\n",
    "    masses = []\n",
    "    discardHeader = dataFile.readline()\n",
    "    for line in dataFile:\n",
    "        d, m = line.split()\n",
    "        distances.append(float(d))\n",
    "        masses.append(float(m))\n",
    "    dataFile.close()\n",
    "    return (masses, distances)\n",
    "\n",
    "def rSquare(measured, estimated):\n",
    "    \"\"\"measured: one dimensional array of measured values\n",
    "       estimate: one dimensional array of predicted values\"\"\"\n",
    "    SEE = ((estimated - measured)**2).sum()\n",
    "    mMean = measured.sum()/float(len(measured))\n",
    "    MV = ((mMean - measured)**2).sum()\n",
    "    return 1 - SEE/MV\n",
    "\n",
    "def fitData(fileName):\n",
    "    xVals, yVals = getData(fileName)\n",
    "    xVals = pylab.array(xVals)\n",
    "    yVals = pylab.array(yVals)\n",
    "    xVals = xVals*9.81  # convert mass to force (F = mg)\n",
    "    pylab.plot(xVals, yVals, 'bo', label = 'Measured points')\n",
    "    pylab.title('Measured Displacement of Spring')\n",
    "    pylab.xlabel('Force (Newtons)')\n",
    "    pylab.ylabel('Distance (meters)')\n",
    "    a,b = pylab.polyfit(xVals, yVals, 1)  # fit y = ax + b\n",
    "    # use line equation to graph predicted values\n",
    "    estYVals = a*xVals + b\n",
    "    k = 1/a\n",
    "    print rSquare(yVals, estYVals)\n",
    "    pylab.plot(xVals, estYVals, label = 'Linear fit, k = '\n",
    "               + str(round(k, 5)))\n",
    "    pylab.legend(loc = 'best')\n",
    "\n",
    "fitData('springData.txt')\n",
    "pylab.show()\n",
    "\n",
    "def fitData3(fileName):\n",
    "    xVals, yVals = getData(fileName)\n",
    "    xVals = pylab.array(xVals[:-6])\n",
    "    yVals = pylab.array(yVals[:-6])\n",
    "    xVals = xVals*9.81  # convert mass to force (F = mg)\n",
    "    pylab.plot(xVals, yVals, 'bo', label = 'Measured points')\n",
    "    pylab.title('Measured Displacement of Spring')\n",
    "    pylab.xlabel('Force (Newtons)')\n",
    "    pylab.ylabel('Distance (meters)')\n",
    "    a,b = pylab.polyfit(xVals, yVals, 1)  # fix y = ax + b\n",
    "    # use line equation to graph predicted values\n",
    "    estYVals = a*xVals + b\n",
    "    k = 1/a\n",
    "    print rSquare(yVals, estYVals)\n",
    "    pylab.plot(xVals, estYVals, label = 'Linear fit, k = '\n",
    "               + str(round(k, 5)))\n",
    "    pylab.legend(loc = 'best')\n",
    "\n",
    "fitData3('springData.txt')\n",
    "pylab.show()"
   ]
  }
 ],
 "metadata": {
  "kernelspec": {
   "display_name": "Python 2",
   "language": "python",
   "name": "python2"
  },
  "language_info": {
   "codemirror_mode": {
    "name": "ipython",
    "version": 2
   },
   "file_extension": ".py",
   "mimetype": "text/x-python",
   "name": "python",
   "nbconvert_exporter": "python",
   "pygments_lexer": "ipython2",
   "version": "2.7.10"
  }
 },
 "nbformat": 4,
 "nbformat_minor": 0
}
