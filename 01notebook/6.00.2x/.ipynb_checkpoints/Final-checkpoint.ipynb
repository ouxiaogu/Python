{
 "cells": [
  {
   "cell_type": "markdown",
   "metadata": {},
   "source": [
    "1. coefficient of variation (CV), also known as relative standard deviation (RSD): cv = sigma/mean\n",
    "2. A bimodal distribution is a probability distribution with two different modes. For example, exam grades can be bimodal when the students can be classified into one of two groups: either they understand the material or they understand less than half the material. A distribution made up of two normal distributions with equal standard deviations is noticeably bimodal if the means of each distribution are separated by at least 2 standard deviations."
   ]
  },
  {
   "cell_type": "code",
   "execution_count": null,
   "metadata": {
    "collapsed": true
   },
   "outputs": [],
   "source": []
  }
 ],
 "metadata": {
  "kernelspec": {
   "display_name": "Python 2",
   "language": "python",
   "name": "python2"
  },
  "language_info": {
   "codemirror_mode": {
    "name": "ipython",
    "version": 2
   },
   "file_extension": ".py",
   "mimetype": "text/x-python",
   "name": "python",
   "nbconvert_exporter": "python",
   "pygments_lexer": "ipython2",
   "version": "2.7.10"
  }
 },
 "nbformat": 4,
 "nbformat_minor": 0
}
