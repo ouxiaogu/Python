{
 "cells": [
  {
   "cell_type": "markdown",
   "metadata": {},
   "source": [
    "1. coefficient of variation (CV), also known as relative standard deviation (RSD): cv = sigma/mean\n",
    "2. A bimodal distribution is a probability distribution with two different modes. For example, exam grades can be bimodal when the students can be classified into one of two groups: either they understand the material or they understand less than half the material. A distribution made up of two normal distributions with equal standard deviations is noticeably bimodal if the means of each distribution are separated by at least 2 standard deviations.\n",
    "\n",
    "`random.gauss(mu, sigma)`"
   ]
  },
  {
   "cell_type": "code",
   "execution_count": 8,
   "metadata": {
    "collapsed": false
   },
   "outputs": [],
   "source": [
    "import random,  pylab\n",
    "a = [(random.gauss( 10,10) + random.gauss( 70, 10 )) for i in range(100)]\n",
    "pylab.hist(a, bins=10)\n",
    "pylab.show()"
   ]
  },
  {
   "cell_type": "markdown",
   "metadata": {
    "collapsed": true
   },
   "source": [
    "cluster:\n",
    "    \n",
    "1. [k-means clustering](https://en.wikipedia.org/wiki/K-means_clustering)\n",
    "\n",
    "![title](img/picture.png)\n",
    "\n",
    "2. [Hierarchical](https://en.wikipedia.org/wiki/Hierarchical_clustering)\n",
    "\n",
    "```\n",
    "k-means Expectation-maximization (EM)\n",
    "DBSCAN OPTICS Mean-shift\n",
    "```"
   ]
  },
  {
   "cell_type": "markdown",
   "metadata": {
    "collapsed": true,
    "slideshow": {
     "slide_type": "slide"
    }
   },
   "source": [
    " linkages"
   ]
  },
  {
   "cell_type": "code",
   "execution_count": 2,
   "metadata": {
    "collapsed": false
   },
   "outputs": [
    {
     "name": "stdout",
     "output_type": "stream",
     "text": [
      "4.42188611984e-17 2.0 4.0 8.0\n"
     ]
    }
   ],
   "source": [
    "import pylab\n",
    "a = 1.0\n",
    "b = 2.0\n",
    "c = 4.0\n",
    "yVals = []\n",
    "xVals = range(-20, 20)\n",
    "for x in xVals:\n",
    "    yVals.append(a*x**2 + b*x + c)\n",
    "yVals = 2*pylab.array(yVals)\n",
    "xVals = pylab.array(xVals)\n",
    "try:\n",
    "    a, b, c, d = pylab.polyfit(xVals, yVals, 3)\n",
    "    print a, b, c, d\n",
    "except:\n",
    "    print 'fell to here'"
   ]
  },
  {
   "cell_type": "code",
   "execution_count": 4,
   "metadata": {
    "collapsed": false
   },
   "outputs": [
    {
     "name": "stdout",
     "output_type": "stream",
     "text": [
      "6\n",
      "10\n",
      "8\n",
      "10\n",
      "9\n"
     ]
    }
   ],
   "source": [
    "def possible_mean(L):\n",
    "    return sum(L)/len(L)\n",
    "\n",
    "def possible_variance(L):\n",
    "    mu = possible_mean(L)\n",
    "    temp = 0\n",
    "    for e in L:\n",
    "        temp += (e-mu)**2\n",
    "    return temp / len(L)\n",
    "\n",
    "Lists =  [[0,1,2,3,4,5,6,7,8], [5,10,10,10,15], [0,1,2,4,6,8], [6,7,11,12,13,15], [9,0,0,3,3,3,6,6] ]\n",
    "for aList in Lists:\n",
    "    print possible_variance(aList)\n",
    "    "
   ]
  },
  {
   "cell_type": "code",
   "execution_count": null,
   "metadata": {
    "collapsed": true
   },
   "outputs": [],
   "source": []
  }
 ],
 "metadata": {
  "celltoolbar": "Slideshow",
  "kernelspec": {
   "display_name": "Python 2",
   "language": "python",
   "name": "python2"
  },
  "language_info": {
   "codemirror_mode": {
    "name": "ipython",
    "version": 2
   },
   "file_extension": ".py",
   "mimetype": "text/x-python",
   "name": "python",
   "nbconvert_exporter": "python",
   "pygments_lexer": "ipython2",
   "version": "2.7.10"
  }
 },
 "nbformat": 4,
 "nbformat_minor": 0
}
