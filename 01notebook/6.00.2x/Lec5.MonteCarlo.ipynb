{
 "cells": [
  {
   "cell_type": "markdown",
   "metadata": {},
   "source": [
    "### L5 PROBLEM 1\n",
    "\n",
    "You have a bucket with 3 red balls and 3 green balls. Assume that once you draw a ball out of the bucket, you don't replace it. What is the probability of drawing 3 balls of the same color?\n",
    "\n",
    "Write a Monte Carlo simulation to solve the above problem. Feel free to write a helper function if you wish."
   ]
  },
  {
   "cell_type": "code",
   "execution_count": 8,
   "metadata": {
    "collapsed": false
   },
   "outputs": [
    {
     "name": "stdout",
     "output_type": "stream",
     "text": [
      "No. 1, guess 5: 0.0\n",
      "No. 2, guess 25: 0.2\n",
      "No. 3, guess 125: 0.072\n",
      "No. 4, guess 625: 0.1168\n",
      "No. 5, guess 3125: 0.09888\n",
      "No. 6, guess 15625: 0.096832\n"
     ]
    }
   ],
   "source": [
    "# L5 PROBLEM 1\n",
    "import random\n",
    "def noReplacementSimulation(numTrials):\n",
    "    '''\n",
    "    Runs numTrials trials of a Monte Carlo simulation\n",
    "    of drawing 3 balls out of a bucket containing\n",
    "    3 red and 3 green balls. Balls are not replaced once\n",
    "    drawn. Returns the a decimal - the fraction of times 3 \n",
    "    balls of the same color were drawn.\n",
    "    '''\n",
    "    # Your code here\n",
    "    tol = 0.\n",
    "    for i in range(numTrials):\n",
    "        numbers = random.sample(range(1, 7), 3)\n",
    "        sameColor = True\n",
    "        if numbers[0]%2 == 0:\n",
    "            sameColor = (numbers[1]%2 == 0) & (numbers[2]%2 == 0)\n",
    "        else:\n",
    "            sameColor = (numbers[1]%2 == 1) & (numbers[2]%2 == 1)\n",
    "        if sameColor:\n",
    "            tol += 1\n",
    "    return tol/numTrials\n",
    "\n",
    "# test\n",
    "for i in range(1,7,1):\n",
    "    num = 5**i\n",
    "    print \"No. {}, guess {}: {}\".format(i, num, noReplacementSimulation(num)) \n"
   ]
  },
  {
   "cell_type": "code",
   "execution_count": null,
   "metadata": {
    "collapsed": true
   },
   "outputs": [],
   "source": [
    "# L5 PROBLEM 3  \n",
    "\n",
    "## For Q1, we can approximate using the following code:\n",
    "\n",
    "def throwNeedles(numNeedles):\n",
    "    success = 0\n",
    "    for n in xrange(numNeedles):\n",
    "        x = random.random()\n",
    "        if (1+x)**2 < 2.0:\n",
    "            success += 1\n",
    "    sqrt2 = 1+(float(success)/numNeedles)\n",
    "    return sqrt2   "
   ]
  }
 ],
 "metadata": {
  "kernelspec": {
   "display_name": "Python 2",
   "language": "python",
   "name": "python2"
  },
  "language_info": {
   "codemirror_mode": {
    "name": "ipython",
    "version": 2
   },
   "file_extension": ".py",
   "mimetype": "text/x-python",
   "name": "python",
   "nbconvert_exporter": "python",
   "pygments_lexer": "ipython2",
   "version": "2.7.10"
  }
 },
 "nbformat": 4,
 "nbformat_minor": 0
}
