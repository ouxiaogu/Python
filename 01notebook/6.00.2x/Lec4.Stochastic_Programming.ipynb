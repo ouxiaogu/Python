{
 "cells": [
  {
   "cell_type": "markdown",
   "metadata": {},
   "source": [
    "1. the variance in the underlying samples\n",
    "2. measure variance in the outcomes of the mutiple triales\n",
    "3. std: always be view on the context of the mean.\n",
    "4. coefficient of variation: stdev/mean\n"
   ]
  },
  {
   "cell_type": "code",
   "execution_count": 3,
   "metadata": {
    "collapsed": false
   },
   "outputs": [
    {
     "data": {
      "text/plain": [
       "1.8708286933869707"
      ]
     },
     "execution_count": 3,
     "metadata": {},
     "output_type": "execute_result"
    }
   ],
   "source": [
    "def stdDevOfLengths(L):\n",
    "    \"\"\"\n",
    "    L: a list of strings\n",
    "\n",
    "    returns: float, the standard deviation of the lengths of the strings,\n",
    "      or NaN if L is empty.\n",
    "    \"\"\"\n",
    "    if len(L)==0:\n",
    "        return float('NaN')\n",
    "    sumLen = 0.\n",
    "    for a in L:\n",
    "        sumLen += len(a)\n",
    "    u = sumLen/len(L)\n",
    "    sumDev = 0\n",
    "    for a in L:\n",
    "        sumDev += (len(a)-u)**2\n",
    "    std = (sumDev/len(L))**0.5\n",
    "    return std\n",
    "stdDevOfLengths(['apples', 'oranges', 'kiwis', 'pineapples'])"
   ]
  },
  {
   "cell_type": "code",
   "execution_count": 4,
   "metadata": {
    "collapsed": false
   },
   "outputs": [
    {
     "data": {
      "text/plain": [
       "nan"
      ]
     },
     "execution_count": 4,
     "metadata": {},
     "output_type": "execute_result"
    }
   ],
   "source": [
    "float(\"NaN\")"
   ]
  },
  {
   "cell_type": "code",
   "execution_count": 7,
   "metadata": {
    "collapsed": false
   },
   "outputs": [
    {
     "name": "stdout",
     "output_type": "stream",
     "text": [
      "11.0 5.53774924195\n",
      "0.503431749268\n"
     ]
    }
   ],
   "source": [
    "def statL(L):\n",
    "    \"\"\"\n",
    "    L: a list of number\n",
    "\n",
    "    returns: float, the standard deviation of the lengths of the strings,\n",
    "      or NaN if L is empty.\n",
    "    \"\"\"\n",
    "    if len(L)==0:\n",
    "        return float('NaN')\n",
    "    sumLen = 0.\n",
    "    for x in L:\n",
    "        sumLen += x\n",
    "    u = sumLen/len(L)\n",
    "    sumDev = 0\n",
    "    for x in L:\n",
    "        sumDev += (x-u)**2\n",
    "    std = (sumDev/len(L))**0.5\n",
    "    return (u, std)\n",
    "a =[10, 4, 12, 15, 20, 5]\n",
    "u, std = statL(a)\n",
    "print u, std\n",
    "print std/u"
   ]
  },
  {
   "cell_type": "code",
   "execution_count": 8,
   "metadata": {
    "collapsed": false
   },
   "outputs": [
    {
     "ename": "ImportError",
     "evalue": "DLL load failed: The specified module could not be found.",
     "output_type": "error",
     "traceback": [
      "\u001b[1;31m---------------------------------------------------------------------------\u001b[0m",
      "\u001b[1;31mImportError\u001b[0m                               Traceback (most recent call last)",
      "\u001b[1;32m<ipython-input-8-b2b620528261>\u001b[0m in \u001b[0;36m<module>\u001b[1;34m()\u001b[0m\n\u001b[1;32m----> 1\u001b[1;33m \u001b[1;32mimport\u001b[0m \u001b[0mpylab\u001b[0m\u001b[1;33m\u001b[0m\u001b[0m\n\u001b[0m\u001b[0;32m      2\u001b[0m \u001b[1;33m\u001b[0m\u001b[0m\n\u001b[0;32m      3\u001b[0m \u001b[1;31m# You may have to change this path\u001b[0m\u001b[1;33m\u001b[0m\u001b[1;33m\u001b[0m\u001b[0m\n\u001b[0;32m      4\u001b[0m \u001b[0mWORDLIST_FILENAME\u001b[0m \u001b[1;33m=\u001b[0m \u001b[1;34m\"words.txt\"\u001b[0m\u001b[1;33m\u001b[0m\u001b[0m\n\u001b[0;32m      5\u001b[0m \u001b[1;33m\u001b[0m\u001b[0m\n",
      "\u001b[1;32mC:\\Users\\peyang\\AppData\\Local\\Continuum\\Anaconda\\lib\\site-packages\\pylab.py\u001b[0m in \u001b[0;36m<module>\u001b[1;34m()\u001b[0m\n\u001b[1;32m----> 1\u001b[1;33m \u001b[1;32mfrom\u001b[0m \u001b[0mmatplotlib\u001b[0m\u001b[1;33m.\u001b[0m\u001b[0mpylab\u001b[0m \u001b[1;32mimport\u001b[0m \u001b[1;33m*\u001b[0m\u001b[1;33m\u001b[0m\u001b[0m\n\u001b[0m\u001b[0;32m      2\u001b[0m \u001b[1;32mimport\u001b[0m \u001b[0mmatplotlib\u001b[0m\u001b[1;33m.\u001b[0m\u001b[0mpylab\u001b[0m\u001b[1;33m\u001b[0m\u001b[0m\n\u001b[0;32m      3\u001b[0m \u001b[0m__doc__\u001b[0m \u001b[1;33m=\u001b[0m \u001b[0mmatplotlib\u001b[0m\u001b[1;33m.\u001b[0m\u001b[0mpylab\u001b[0m\u001b[1;33m.\u001b[0m\u001b[0m__doc__\u001b[0m\u001b[1;33m\u001b[0m\u001b[0m\n",
      "\u001b[1;32mC:\\Users\\peyang\\AppData\\Local\\Continuum\\Anaconda\\lib\\site-packages\\matplotlib\\pylab.py\u001b[0m in \u001b[0;36m<module>\u001b[1;34m()\u001b[0m\n\u001b[0;32m    229\u001b[0m \u001b[1;31m# make mpl.finance module available for backwards compatability, in case folks\u001b[0m\u001b[1;33m\u001b[0m\u001b[1;33m\u001b[0m\u001b[0m\n\u001b[0;32m    230\u001b[0m \u001b[1;31m# using pylab interface depended on not having to import it\u001b[0m\u001b[1;33m\u001b[0m\u001b[1;33m\u001b[0m\u001b[0m\n\u001b[1;32m--> 231\u001b[1;33m \u001b[1;32mimport\u001b[0m \u001b[0mmatplotlib\u001b[0m\u001b[1;33m.\u001b[0m\u001b[0mfinance\u001b[0m\u001b[1;33m\u001b[0m\u001b[0m\n\u001b[0m\u001b[0;32m    232\u001b[0m \u001b[1;33m\u001b[0m\u001b[0m\n\u001b[0;32m    233\u001b[0m \u001b[1;32mfrom\u001b[0m \u001b[0mmatplotlib\u001b[0m\u001b[1;33m.\u001b[0m\u001b[0mdates\u001b[0m \u001b[1;32mimport\u001b[0m \u001b[0mdate2num\u001b[0m\u001b[1;33m,\u001b[0m \u001b[0mnum2date\u001b[0m\u001b[1;33m,\u001b[0m\u001b[0;31m\\\u001b[0m\u001b[1;33m\u001b[0m\u001b[0m\n",
      "\u001b[1;32mC:\\Users\\peyang\\AppData\\Local\\Continuum\\Anaconda\\lib\\site-packages\\matplotlib\\finance.py\u001b[0m in \u001b[0;36m<module>\u001b[1;34m()\u001b[0m\n\u001b[0;32m     36\u001b[0m \u001b[1;32mfrom\u001b[0m \u001b[0mmatplotlib\u001b[0m\u001b[1;33m.\u001b[0m\u001b[0mdates\u001b[0m \u001b[1;32mimport\u001b[0m \u001b[0mdate2num\u001b[0m\u001b[1;33m\u001b[0m\u001b[0m\n\u001b[0;32m     37\u001b[0m \u001b[1;32mfrom\u001b[0m \u001b[0mmatplotlib\u001b[0m\u001b[1;33m.\u001b[0m\u001b[0mcbook\u001b[0m \u001b[1;32mimport\u001b[0m \u001b[0miterable\u001b[0m\u001b[1;33m,\u001b[0m \u001b[0mmkdirs\u001b[0m\u001b[1;33m\u001b[0m\u001b[0m\n\u001b[1;32m---> 38\u001b[1;33m \u001b[1;32mfrom\u001b[0m \u001b[0mmatplotlib\u001b[0m\u001b[1;33m.\u001b[0m\u001b[0mcollections\u001b[0m \u001b[1;32mimport\u001b[0m \u001b[0mLineCollection\u001b[0m\u001b[1;33m,\u001b[0m \u001b[0mPolyCollection\u001b[0m\u001b[1;33m\u001b[0m\u001b[0m\n\u001b[0m\u001b[0;32m     39\u001b[0m \u001b[1;32mfrom\u001b[0m \u001b[0mmatplotlib\u001b[0m\u001b[1;33m.\u001b[0m\u001b[0mcolors\u001b[0m \u001b[1;32mimport\u001b[0m \u001b[0mcolorConverter\u001b[0m\u001b[1;33m\u001b[0m\u001b[0m\n\u001b[0;32m     40\u001b[0m \u001b[1;32mfrom\u001b[0m \u001b[0mmatplotlib\u001b[0m\u001b[1;33m.\u001b[0m\u001b[0mlines\u001b[0m \u001b[1;32mimport\u001b[0m \u001b[0mLine2D\u001b[0m\u001b[1;33m,\u001b[0m \u001b[0mTICKLEFT\u001b[0m\u001b[1;33m,\u001b[0m \u001b[0mTICKRIGHT\u001b[0m\u001b[1;33m\u001b[0m\u001b[0m\n",
      "\u001b[1;32mC:\\Users\\peyang\\AppData\\Local\\Continuum\\Anaconda\\lib\\site-packages\\matplotlib\\collections.py\u001b[0m in \u001b[0;36m<module>\u001b[1;34m()\u001b[0m\n\u001b[0;32m     25\u001b[0m \u001b[1;32mimport\u001b[0m \u001b[0mmatplotlib\u001b[0m\u001b[1;33m.\u001b[0m\u001b[0martist\u001b[0m \u001b[1;32mas\u001b[0m \u001b[0martist\u001b[0m\u001b[1;33m\u001b[0m\u001b[0m\n\u001b[0;32m     26\u001b[0m \u001b[1;32mfrom\u001b[0m \u001b[0mmatplotlib\u001b[0m\u001b[1;33m.\u001b[0m\u001b[0martist\u001b[0m \u001b[1;32mimport\u001b[0m \u001b[0mallow_rasterization\u001b[0m\u001b[1;33m\u001b[0m\u001b[0m\n\u001b[1;32m---> 27\u001b[1;33m \u001b[1;32mimport\u001b[0m \u001b[0mmatplotlib\u001b[0m\u001b[1;33m.\u001b[0m\u001b[0mbackend_bases\u001b[0m \u001b[1;32mas\u001b[0m \u001b[0mbackend_bases\u001b[0m\u001b[1;33m\u001b[0m\u001b[0m\n\u001b[0m\u001b[0;32m     28\u001b[0m \u001b[1;32mimport\u001b[0m \u001b[0mmatplotlib\u001b[0m\u001b[1;33m.\u001b[0m\u001b[0mpath\u001b[0m \u001b[1;32mas\u001b[0m \u001b[0mmpath\u001b[0m\u001b[1;33m\u001b[0m\u001b[0m\n\u001b[0;32m     29\u001b[0m \u001b[1;32mfrom\u001b[0m \u001b[0mmatplotlib\u001b[0m \u001b[1;32mimport\u001b[0m \u001b[0m_path\u001b[0m\u001b[1;33m\u001b[0m\u001b[0m\n",
      "\u001b[1;32mC:\\Users\\peyang\\AppData\\Local\\Continuum\\Anaconda\\lib\\site-packages\\matplotlib\\backend_bases.py\u001b[0m in \u001b[0;36m<module>\u001b[1;34m()\u001b[0m\n\u001b[0;32m     54\u001b[0m \u001b[1;33m\u001b[0m\u001b[0m\n\u001b[0;32m     55\u001b[0m \u001b[1;32mimport\u001b[0m \u001b[0mmatplotlib\u001b[0m\u001b[1;33m.\u001b[0m\u001b[0mtight_bbox\u001b[0m \u001b[1;32mas\u001b[0m \u001b[0mtight_bbox\u001b[0m\u001b[1;33m\u001b[0m\u001b[0m\n\u001b[1;32m---> 56\u001b[1;33m \u001b[1;32mimport\u001b[0m \u001b[0mmatplotlib\u001b[0m\u001b[1;33m.\u001b[0m\u001b[0mtextpath\u001b[0m \u001b[1;32mas\u001b[0m \u001b[0mtextpath\u001b[0m\u001b[1;33m\u001b[0m\u001b[0m\n\u001b[0m\u001b[0;32m     57\u001b[0m \u001b[1;32mfrom\u001b[0m \u001b[0mmatplotlib\u001b[0m\u001b[1;33m.\u001b[0m\u001b[0mpath\u001b[0m \u001b[1;32mimport\u001b[0m \u001b[0mPath\u001b[0m\u001b[1;33m\u001b[0m\u001b[0m\n\u001b[0;32m     58\u001b[0m \u001b[1;32mfrom\u001b[0m \u001b[0mmatplotlib\u001b[0m\u001b[1;33m.\u001b[0m\u001b[0mcbook\u001b[0m \u001b[1;32mimport\u001b[0m \u001b[0mmplDeprecation\u001b[0m\u001b[1;33m\u001b[0m\u001b[0m\n",
      "\u001b[1;32mC:\\Users\\peyang\\AppData\\Local\\Continuum\\Anaconda\\lib\\site-packages\\matplotlib\\textpath.py\u001b[0m in \u001b[0;36m<module>\u001b[1;34m()\u001b[0m\n\u001b[0;32m     20\u001b[0m \u001b[1;32mfrom\u001b[0m \u001b[0mmatplotlib\u001b[0m\u001b[1;33m.\u001b[0m\u001b[0mft2font\u001b[0m \u001b[1;32mimport\u001b[0m \u001b[0mFT2Font\u001b[0m\u001b[1;33m,\u001b[0m \u001b[0mKERNING_DEFAULT\u001b[0m\u001b[1;33m,\u001b[0m \u001b[0mLOAD_NO_HINTING\u001b[0m\u001b[1;33m\u001b[0m\u001b[0m\n\u001b[0;32m     21\u001b[0m \u001b[1;32mfrom\u001b[0m \u001b[0mmatplotlib\u001b[0m\u001b[1;33m.\u001b[0m\u001b[0mft2font\u001b[0m \u001b[1;32mimport\u001b[0m \u001b[0mLOAD_TARGET_LIGHT\u001b[0m\u001b[1;33m\u001b[0m\u001b[0m\n\u001b[1;32m---> 22\u001b[1;33m \u001b[1;32mfrom\u001b[0m \u001b[0mmatplotlib\u001b[0m\u001b[1;33m.\u001b[0m\u001b[0mmathtext\u001b[0m \u001b[1;32mimport\u001b[0m \u001b[0mMathTextParser\u001b[0m\u001b[1;33m\u001b[0m\u001b[0m\n\u001b[0m\u001b[0;32m     23\u001b[0m \u001b[1;32mimport\u001b[0m \u001b[0mmatplotlib\u001b[0m\u001b[1;33m.\u001b[0m\u001b[0mdviread\u001b[0m \u001b[1;32mas\u001b[0m \u001b[0mdviread\u001b[0m\u001b[1;33m\u001b[0m\u001b[0m\n\u001b[0;32m     24\u001b[0m \u001b[1;32mfrom\u001b[0m \u001b[0mmatplotlib\u001b[0m\u001b[1;33m.\u001b[0m\u001b[0mfont_manager\u001b[0m \u001b[1;32mimport\u001b[0m \u001b[0mFontProperties\u001b[0m\u001b[1;33m\u001b[0m\u001b[0m\n",
      "\u001b[1;32mC:\\Users\\peyang\\AppData\\Local\\Continuum\\Anaconda\\lib\\site-packages\\matplotlib\\mathtext.py\u001b[0m in \u001b[0;36m<module>\u001b[1;34m()\u001b[0m\n\u001b[0;32m     61\u001b[0m \u001b[1;33m\u001b[0m\u001b[0m\n\u001b[0;32m     62\u001b[0m \u001b[1;32mimport\u001b[0m \u001b[0mmatplotlib\u001b[0m\u001b[1;33m.\u001b[0m\u001b[0mcolors\u001b[0m \u001b[1;32mas\u001b[0m \u001b[0mmcolors\u001b[0m\u001b[1;33m\u001b[0m\u001b[0m\n\u001b[1;32m---> 63\u001b[1;33m \u001b[1;32mimport\u001b[0m \u001b[0mmatplotlib\u001b[0m\u001b[1;33m.\u001b[0m\u001b[0m_png\u001b[0m \u001b[1;32mas\u001b[0m \u001b[0m_png\u001b[0m\u001b[1;33m\u001b[0m\u001b[0m\n\u001b[0m\u001b[0;32m     64\u001b[0m \u001b[1;31m####################\u001b[0m\u001b[1;33m\u001b[0m\u001b[1;33m\u001b[0m\u001b[0m\n\u001b[0;32m     65\u001b[0m \u001b[1;33m\u001b[0m\u001b[0m\n",
      "\u001b[1;31mImportError\u001b[0m: DLL load failed: The specified module could not be found."
     ]
    }
   ],
   "source": [
    "import pylab\n",
    "\n",
    "# You may have to change this path\n",
    "WORDLIST_FILENAME = \"words.txt\"\n",
    "\n",
    "def loadWords():\n",
    "    \"\"\"a\n",
    "    Returns a list of valid words. Words are strings of uppercase letters.\n",
    "    \n",
    "    Depending on the size of the word list, this function may\n",
    "    take a while to finish.\n",
    "    \"\"\"\n",
    "    print \"Loading word list from file...\"\n",
    "    # inFile: file\n",
    "    inFile = open(WORDLIST_FILENAME, 'r', 0)\n",
    "    # wordList: list of strings\n",
    "    wordList = []\n",
    "    for line in inFile:\n",
    "        wordList.append(line.strip().lower())\n",
    "    print \"  \", len(wordList), \"words loaded.\"\n",
    "    return wordList\n",
    "\n",
    "def plotVowelProportionHistogram(wordList, numBins=15):\n",
    "    \"\"\"\n",
    "    Plots a histogram of the proportion of vowels in each word in wordList\n",
    "    using the specified number of bins in numBins\n",
    "    \"\"\"\n",
    "    \n",
    "\n",
    "if __name__ == '__main__':\n",
    "    wordList = loadWords()\n",
    "    plotVowelProportionHistogram(wordList)"
   ]
  },
  {
   "cell_type": "code",
   "execution_count": 7,
   "metadata": {
    "collapsed": false
   },
   "outputs": [
    {
     "name": "stdout",
     "output_type": "stream",
     "text": [
      "[[1, 1, 1, 1, 1], [1, 1, 1, 1, 1], [1, 1, 1, 1, 1]]\n"
     ]
    }
   ],
   "source": [
    "row = [1 for i in range(5)]\n",
    "tile = [row for i in range(3)]\n",
    "print tile"
   ]
  },
  {
   "cell_type": "code",
   "execution_count": 8,
   "metadata": {
    "collapsed": false
   },
   "outputs": [],
   "source": [
    "tile[2][4] = 99"
   ]
  },
  {
   "cell_type": "code",
   "execution_count": 9,
   "metadata": {
    "collapsed": false
   },
   "outputs": [
    {
     "data": {
      "text/plain": [
       "[[1, 1, 1, 1, 99], [1, 1, 1, 1, 99], [1, 1, 1, 1, 99]]"
      ]
     },
     "execution_count": 9,
     "metadata": {},
     "output_type": "execute_result"
    }
   ],
   "source": [
    "tile"
   ]
  },
  {
   "cell_type": "code",
   "execution_count": 13,
   "metadata": {
    "collapsed": false
   },
   "outputs": [
    {
     "name": "stdout",
     "output_type": "stream",
     "text": [
      "[0, 0, 0, 0, 0]\n",
      "[0, 0, 0, 0, 0]\n",
      "[0, 0, 0, 0, 99]\n"
     ]
    }
   ],
   "source": [
    "tile2 = [[0 for x in range(5)] for x in range(3)] \n",
    "tile2[2][4] = 99\n",
    "for a in tile2:\n",
    "    print a"
   ]
  },
  {
   "cell_type": "code",
   "execution_count": 14,
   "metadata": {
    "collapsed": false
   },
   "outputs": [
    {
     "data": {
      "text/plain": [
       "14.0"
      ]
     },
     "execution_count": 14,
     "metadata": {},
     "output_type": "execute_result"
    }
   ],
   "source": [
    "4*3.5"
   ]
  },
  {
   "cell_type": "code",
   "execution_count": 16,
   "metadata": {
    "collapsed": false
   },
   "outputs": [
    {
     "ename": "TypeError",
     "evalue": "cleanTileAtPosition() takes exactly 2 arguments (3 given)",
     "output_type": "error",
     "traceback": [
      "\u001b[1;31m---------------------------------------------------------------------------\u001b[0m",
      "\u001b[1;31mTypeError\u001b[0m                                 Traceback (most recent call last)",
      "\u001b[1;32m<ipython-input-16-463f57ff059b>\u001b[0m in \u001b[0;36m<module>\u001b[1;34m()\u001b[0m\n\u001b[0;32m     98\u001b[0m             \u001b[1;32mreturn\u001b[0m \u001b[0mFalse\u001b[0m\u001b[1;33m\u001b[0m\u001b[0m\n\u001b[0;32m     99\u001b[0m \u001b[0mroom\u001b[0m \u001b[1;33m=\u001b[0m \u001b[0mRectangularRoom\u001b[0m\u001b[1;33m(\u001b[0m\u001b[1;36m4\u001b[0m\u001b[1;33m,\u001b[0m \u001b[1;36m6\u001b[0m\u001b[1;33m)\u001b[0m\u001b[1;33m\u001b[0m\u001b[0m\n\u001b[1;32m--> 100\u001b[1;33m \u001b[0mroom\u001b[0m\u001b[1;33m.\u001b[0m\u001b[0mcleanTileAtPosition\u001b[0m\u001b[1;33m(\u001b[0m\u001b[1;36m2.5\u001b[0m\u001b[1;33m,\u001b[0m \u001b[1;36m3.6\u001b[0m\u001b[1;33m)\u001b[0m\u001b[1;33m\u001b[0m\u001b[0m\n\u001b[0m\u001b[0;32m    101\u001b[0m \u001b[0mroom\u001b[0m\u001b[1;33m.\u001b[0m\u001b[0misTileCleaned\u001b[0m\u001b[1;33m(\u001b[0m\u001b[1;36m2\u001b[0m\u001b[1;33m,\u001b[0m\u001b[1;36m3\u001b[0m\u001b[1;33m)\u001b[0m\u001b[1;33m\u001b[0m\u001b[0m\n",
      "\u001b[1;31mTypeError\u001b[0m: cleanTileAtPosition() takes exactly 2 arguments (3 given)"
     ]
    }
   ],
   "source": [
    "class RectangularRoom(object):\n",
    "    \"\"\"\n",
    "    A RectangularRoom represents a rectangular region containing clean or dirty\n",
    "    tiles.\n",
    "\n",
    "    A room has a width and a height and contains (width * height) tiles. At any\n",
    "    particular time, each of these tiles is either clean or dirty.\n",
    "    \"\"\"\n",
    "    def __init__(self, width, height):\n",
    "        \"\"\"\n",
    "        Initializes a rectangular room with the specified width and height.\n",
    "\n",
    "        Initially, no tiles in the room have been cleaned.\n",
    "\n",
    "        width: an integer > 0\n",
    "        height: an integer > 0\n",
    "        \"\"\"\n",
    "        self.width = width\n",
    "        self.height = height\n",
    "        self.cleanedTiles = [[0 for x in range(width)] for x in range(height)] \n",
    "#        raise NotImplementedError\n",
    "    \n",
    "    def cleanTileAtPosition(self, pos):\n",
    "        \"\"\"\n",
    "        Mark the tile under the position POS as cleaned.\n",
    "\n",
    "        Assumes that POS represents a valid position inside this room.\n",
    "\n",
    "        pos: a Position\n",
    "        \"\"\"\n",
    "        x, y = pos.getX(), pos.getY()\n",
    "        tile_x, tile_y = math.floor(x), math.floor(y)\n",
    "        self.cleanedTiles[tile_x, tile_y] = 1 ## cleaned     \n",
    "        \n",
    "#        raise NotImplementedError\n",
    "\n",
    "    def isTileCleaned(self, m, n):\n",
    "        \"\"\"\n",
    "        Return True if the tile (m, n) has been cleaned.\n",
    "\n",
    "        Assumes that (m, n) represents a valid tile inside the room.\n",
    "\n",
    "        m: an integer\n",
    "        n: an integer\n",
    "        returns: True if (m, n) is cleaned, False otherwise\n",
    "        \"\"\"\n",
    "        if self.cleanedTiles[m, n] == 1:\n",
    "            return True\n",
    "        else:\n",
    "            return False    \n",
    "#        raise NotImplementedError\n",
    "    \n",
    "    def getNumTiles(self):\n",
    "        \"\"\"\n",
    "        Return the total number of tiles in the room.\n",
    "\n",
    "        returns: an integer\n",
    "        \"\"\"\n",
    "        return self.width*self.height\n",
    "#        raise NotImplementedError\n",
    "\n",
    "    def getNumCleanedTiles(self):\n",
    "        \"\"\"\n",
    "        Return the total number of clean tiles in the room.\n",
    "\n",
    "        returns: an integer\n",
    "        \"\"\"\n",
    "        numCleanedTiles = 0 \n",
    "        for row in self.cleanedTiles:\n",
    "            for val in row:\n",
    "                if val == 1:\n",
    "                    numCleanedTiles += 1\n",
    "        return numCleanedTiles\n",
    "#        raise NotImplementedError\n",
    "\n",
    "    def getRandomPosition(self):\n",
    "        \"\"\"\n",
    "        Return a random position inside the room.\n",
    "\n",
    "        returns: a Position object.\n",
    "        \"\"\"\n",
    "        x, y = self.width*random.random(), self.height*random.random()\n",
    "        return Position(x,y)       \n",
    "#        raise NotImplementedError\n",
    "\n",
    "    def isPositionInRoom(self, pos):\n",
    "        \"\"\"\n",
    "        Return True if pos is inside the room.\n",
    "\n",
    "        pos: a Position object.\n",
    "        returns: True if pos is in the room, False otherwise.\n",
    "        \"\"\"\n",
    "        raise NotImplementedError\n",
    "        x, y = pos.getX(), pos.getY()\n",
    "        if x >= 0 and x <= self.width-1 and y>=0 and y <= self.height-1:\n",
    "            return True\n",
    "        else:\n",
    "            return False\n"
   ]
  },
  {
   "cell_type": "code",
   "execution_count": null,
   "metadata": {
    "collapsed": true
   },
   "outputs": [],
   "source": []
  }
 ],
 "metadata": {
  "kernelspec": {
   "display_name": "Python 2",
   "language": "python",
   "name": "python2"
  },
  "language_info": {
   "codemirror_mode": {
    "name": "ipython",
    "version": 2
   },
   "file_extension": ".py",
   "mimetype": "text/x-python",
   "name": "python",
   "nbconvert_exporter": "python",
   "pygments_lexer": "ipython2",
   "version": "2.7.10"
  }
 },
 "nbformat": 4,
 "nbformat_minor": 0
}
