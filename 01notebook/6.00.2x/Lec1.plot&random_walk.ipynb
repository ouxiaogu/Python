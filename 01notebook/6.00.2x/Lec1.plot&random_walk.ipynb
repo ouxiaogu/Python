{
 "cells": [
  {
   "cell_type": "markdown",
   "metadata": {},
   "source": [
    "#### L1 Prob 1\n",
    "\n",
    "This function checks if a word is alphabetical. A word is alphabetical if letters in the `word` are in alphabetical order, and is a word from the list of valid words: `wordList`.\n",
    "\n",
    "**Note**\n",
    "\n",
    "1. the return condition in the function is related to argument default value"
   ]
  },
  {
   "cell_type": "code",
   "execution_count": 3,
   "metadata": {
    "collapsed": false
   },
   "outputs": [
    {
     "name": "stdout",
     "output_type": "stream",
     "text": [
      "True\n",
      "False\n"
     ]
    }
   ],
   "source": [
    "# L1 Prob 1\n",
    "def isAlphabeticalWord(word, wordList=None):\n",
    "    if (len(word) > 0):\n",
    "        curr = word[0]\n",
    "    for letter in word:\n",
    "        if (curr > letter):\n",
    "            return False\n",
    "        else:\n",
    "            curr = letter\n",
    "    if wordList is None:\n",
    "        return True\n",
    "    return word in wordList\n",
    "print isAlphabeticalWord(\"abc\")\n",
    "print isAlphabeticalWord(\"bad\")"
   ]
  },
  {
   "cell_type": "markdown",
   "metadata": {},
   "source": [
    "#### L1 Prob 2\n",
    "\n",
    "argument-parameter mapping error:\n",
    "\n",
    "1. SyntaxError: non-keyword arg after keyword arg\n",
    "2. got multiple values for keyword argument 'a'"
   ]
  },
  {
   "cell_type": "code",
   "execution_count": 11,
   "metadata": {
    "collapsed": false
   },
   "outputs": [
    {
     "ename": "TypeError",
     "evalue": "lotsOfParameters2() got multiple values for keyword argument 'a'",
     "output_type": "error",
     "traceback": [
      "\u001b[1;31m---------------------------------------------------------------------------\u001b[0m",
      "\u001b[1;31mTypeError\u001b[0m                                 Traceback (most recent call last)",
      "\u001b[1;32m<ipython-input-11-aa59726c7067>\u001b[0m in \u001b[0;36m<module>\u001b[1;34m()\u001b[0m\n\u001b[0;32m     15\u001b[0m \u001b[1;31m#lotsOfParameters2(1,  3)\u001b[0m\u001b[1;33m\u001b[0m\u001b[1;33m\u001b[0m\u001b[0m\n\u001b[0;32m     16\u001b[0m \u001b[1;31m## lotsOfParameters2(1, c=2, 3) ## SyntaxError: non-keyword arg after keyword arg\u001b[0m\u001b[1;33m\u001b[0m\u001b[1;33m\u001b[0m\u001b[0m\n\u001b[1;32m---> 17\u001b[1;33m \u001b[0mlotsOfParameters2\u001b[0m\u001b[1;33m(\u001b[0m\u001b[1;36m1\u001b[0m\u001b[1;33m,\u001b[0m \u001b[0me\u001b[0m\u001b[1;33m=\u001b[0m\u001b[1;36m20\u001b[0m\u001b[1;33m,\u001b[0m \u001b[0mb\u001b[0m\u001b[1;33m=\u001b[0m\u001b[1;36m3\u001b[0m\u001b[1;33m,\u001b[0m \u001b[0ma\u001b[0m\u001b[1;33m=\u001b[0m\u001b[1;36m10\u001b[0m\u001b[1;33m)\u001b[0m\u001b[1;33m\u001b[0m\u001b[0m\n\u001b[0m",
      "\u001b[1;31mTypeError\u001b[0m: lotsOfParameters2() got multiple values for keyword argument 'a'"
     ]
    }
   ],
   "source": [
    "def lotsOfParameters1(a,b,c,d,e):\n",
    "    print a\n",
    "    print b\n",
    "    print c\n",
    "    print d\n",
    "    print e\n",
    "## lotsOfParameters1(e=5,d=4,c=3,b=2,1) # non-keyword arg after keyword arg\n",
    "def lotsOfParameters2(a=1,b=2,c=3,d=4,e=5):\n",
    "    print a\n",
    "    print b\n",
    "    print c\n",
    "    print d\n",
    "    print e\n",
    "#lotsOfParameters2(1, c=2)\n",
    "#lotsOfParameters2(1,  3)\n",
    "## lotsOfParameters2(1, c=2, 3) ## SyntaxError: non-keyword arg after keyword arg\n",
    "## lotsOfParameters2(1, e=20, b=3, a=10) ## lotsOfParameters2() got multiple values for keyword argument 'a'\n"
   ]
  },
  {
   "cell_type": "code",
   "execution_count": null,
   "metadata": {
    "collapsed": true
   },
   "outputs": [],
   "source": [
    "import pylab\n",
    "import numpy as np\n",
    "\n",
    "def loadFile():\n",
    "    inFile = open('C:/Users/Ana/Documents/MIT/6x/2x/lectures/julyTemps.txt')\n",
    "    high = []\n",
    "    low = []\n",
    "    for line in inFile:\n",
    "        fields = line.split()\n",
    "        if len(fields) != 3 or 'Boston' == fields[0] or 'Day' == fields[0]:\n",
    "            continue\n",
    "        else:\n",
    "            high.append(int(fields[1]))\n",
    "            low.append(int(fields[2]))\n",
    "    return (low, high)\n",
    "    \n",
    "def producePlot(lowTemps, highTemps):\n",
    "    diffTemps = list(np.array(highTemps) - np.array(lowTemps))\n",
    "    pylab.plot(range(1,32), diffTemps)\n",
    "    pylab.title('Day by Day Ranges in Temperature in Boston in July 2012')\n",
    "    pylab.xlabel('Days')\n",
    "    pylab.ylabel('Temperature Ranges')\n",
    "    pylab.show()\n",
    "    \n",
    "        \n",
    "(low, high) = loadFile()    \n",
    "producePlot(low, high)"
   ]
  }
 ],
 "metadata": {
  "kernelspec": {
   "display_name": "Python 2",
   "language": "python",
   "name": "python2"
  },
  "language_info": {
   "codemirror_mode": {
    "name": "ipython",
    "version": 2
   },
   "file_extension": ".py",
   "mimetype": "text/x-python",
   "name": "python",
   "nbconvert_exporter": "python",
   "pygments_lexer": "ipython2",
   "version": "2.7.11"
  }
 },
 "nbformat": 4,
 "nbformat_minor": 0
}
