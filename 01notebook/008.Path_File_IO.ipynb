{
 "cells": [
  {
   "cell_type": "markdown",
   "metadata": {},
   "source": [
    "### 1. os.path\n",
    "\n",
    "#### 1.1 Traverse the file under a folder"
   ]
  },
  {
   "cell_type": "code",
   "execution_count": 7,
   "metadata": {
    "collapsed": false
   },
   "outputs": [
    {
     "name": "stdout",
     "output_type": "stream",
     "text": [
      "C:\\Localdata\\D\\Note\\Python\\01notebook ['C:\\\\Localdata\\\\D\\\\Note\\\\Python\\\\01notebook\\\\install_run.md']\n"
     ]
    }
   ],
   "source": [
    "import os, os.path\n",
    "## cwd = os.path.dirname(os.path.abspath(__file__))\n",
    "## cwd = os.path.dirname(os.path.realpath(__file__))\n",
    "cwd = os.getcwd()\n",
    "files_abs = []\n",
    "files_subname = os.listdir(cwd)\n",
    "for subname in files_subname:\n",
    "    if \".md\" in subname:\n",
    "        cur_file = os.path.join(cwd, subname)\n",
    "        files_abs.append(cur_file)\n",
    "print cwd, files_abs"
   ]
  },
  {
   "cell_type": "markdown",
   "metadata": {
    "collapsed": true
   },
   "source": [
    "#### 1.2 Detect whether directory exist, if not then create one"
   ]
  },
  {
   "cell_type": "code",
   "execution_count": null,
   "metadata": {
    "collapsed": true
   },
   "outputs": [],
   "source": [
    "directory = os.path.join(workpath, \"results\")\n",
    "if not os.path.exists(directory):\n",
    "    os.makedirs(directory)"
   ]
  },
  {
   "cell_type": "markdown",
   "metadata": {
    "collapsed": true
   },
   "source": [
    "### 2. open\n",
    "\n",
    "#### 2.1 Traverse the line under a text file"
   ]
  },
  {
   "cell_type": "code",
   "execution_count": null,
   "metadata": {
    "collapsed": true
   },
   "outputs": [],
   "source": [
    "def loadWords():\n",
    "    inFile = open(PATH_TO_FILE, 'r', 0)\n",
    "    line = inFile.readline()\n",
    "    wordlist = string.split(line)\n",
    "    print \"  \", len(wordlist), \"words loaded.\"\n",
    "    return wordlist"
   ]
  },
  {
   "cell_type": "markdown",
   "metadata": {
    "collapsed": true
   },
   "source": [
    "### 3. file IO\n"
   ]
  },
  {
   "cell_type": "code",
   "execution_count": 1,
   "metadata": {
    "collapsed": false
   },
   "outputs": [
    {
     "name": "stdout",
     "output_type": "stream",
     "text": [
      "5\n",
      "d\n"
     ]
    }
   ],
   "source": [
    "f = open('./temp.txt', 'r+')\n",
    "f.write('0123456789abcdef\\n')\n",
    "f.write('abcdef')\n",
    "f.seek(5)     # Go to the 6th byte in the file\n",
    "print f.read(1)  # '5'\n",
    "f.seek(-3, 2) # Go to the 3rd byte before the end\n",
    "print f.read(1) # 'd'\n",
    "f.close()"
   ]
  },
  {
   "cell_type": "code",
   "execution_count": 8,
   "metadata": {
    "collapsed": false
   },
   "outputs": [
    {
     "name": "stdout",
     "output_type": "stream",
     "text": [
      "0123456789abcdef\n",
      "\n",
      "abcdef\n",
      "0123456789abcdef\n",
      "\n",
      "abcdef\n"
     ]
    }
   ],
   "source": [
    "with open('./temp.txt', 'r') as infile:\n",
    "    for line in infile:\n",
    "        print line\n",
    "        # <do something with line>\n",
    "with open('./temp.txt', 'r') as infile:\n",
    "    # fisrtLine = infile.readline()\n",
    "    allLines = infile.readlines()\n",
    "    for line in allLines:\n",
    "        print line"
   ]
  }
 ],
 "metadata": {
  "kernelspec": {
   "display_name": "Python 2",
   "language": "python",
   "name": "python2"
  },
  "language_info": {
   "codemirror_mode": {
    "name": "ipython",
    "version": 2
   },
   "file_extension": ".py",
   "mimetype": "text/x-python",
   "name": "python",
   "nbconvert_exporter": "python",
   "pygments_lexer": "ipython2",
   "version": "2.7.10"
  }
 },
 "nbformat": 4,
 "nbformat_minor": 0
}
