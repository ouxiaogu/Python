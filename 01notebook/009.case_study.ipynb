{
 "cells": [
  {
   "cell_type": "markdown",
   "metadata": {},
   "source": [
    "### 1. dictionary packing and unpacking\n",
    "\n",
    "```\n",
    ">>> def example(**kwargs):\n",
    "...     return kwargs.keys()\n",
    "...\n",
    ">>> example(a=10, b=20, c=[0, 0, 0])\n",
    "['a', 'c', 'b']\n",
    "```"
   ]
  },
  {
   "cell_type": "code",
   "execution_count": 11,
   "metadata": {
    "collapsed": false
   },
   "outputs": [
    {
     "name": "stdout",
     "output_type": "stream",
     "text": [
      "True\n",
      "False\n"
     ]
    }
   ],
   "source": [
    "import numpy as np\n",
    "criteria = '{3sigma}>{spec}'\n",
    "dct = {'3sigma': 1.9,'AI_CD': 'nan','spec': 1.600,}\n",
    "dct2 = {'3sigma': 'nan','AI_CD': 'nan','spec': 1.600,}\n",
    "print eval(criteria.format(**dct), {}, {'nan':np.nan})\n",
    "print eval(criteria.format(**dct2), {}, {'nan':np.nan})"
   ]
  },
  {
   "cell_type": "code",
   "execution_count": 9,
   "metadata": {
    "collapsed": false
   },
   "outputs": [
    {
     "name": "stdout",
     "output_type": "stream",
     "text": [
      "True\n"
     ]
    }
   ],
   "source": [
    "criteria = '{sigma}>{spec}'\n",
    "print eval(criteria.format(sigma=1.9, AI_CD='nan', spec=1.6), {}, {'nan':np.nan})"
   ]
  },
  {
   "cell_type": "code",
   "execution_count": null,
   "metadata": {
    "collapsed": true
   },
   "outputs": [],
   "source": []
  }
 ],
 "metadata": {
  "kernelspec": {
   "display_name": "Python 2",
   "language": "python",
   "name": "python2"
  },
  "language_info": {
   "codemirror_mode": {
    "name": "ipython",
    "version": 2
   },
   "file_extension": ".py",
   "mimetype": "text/x-python",
   "name": "python",
   "nbconvert_exporter": "python",
   "pygments_lexer": "ipython2",
   "version": "2.7.12"
  }
 },
 "nbformat": 4,
 "nbformat_minor": 0
}
