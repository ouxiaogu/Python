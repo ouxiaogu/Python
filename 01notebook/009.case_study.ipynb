{
 "cells": [
  {
   "cell_type": "markdown",
   "metadata": {},
   "source": [
    "### 1. dictionary packing and unpacking\n",
    "\n",
    "```\n",
    ">>> def example(**kwargs):\n",
    "...     return kwargs.keys()\n",
    "...\n",
    ">>> example(a=10, b=20, c=[0, 0, 0])\n",
    "['a', 'c', 'b']\n",
    "```"
   ]
  },
  {
   "cell_type": "code",
   "execution_count": 11,
   "metadata": {
    "collapsed": false
   },
   "outputs": [
    {
     "name": "stdout",
     "output_type": "stream",
     "text": [
      "True\n",
      "False\n"
     ]
    }
   ],
   "source": [
    "import numpy as np\n",
    "criteria = '{3sigma}>{spec}'\n",
    "dct = {'3sigma': 1.9,'AI_CD': 'nan','spec': 1.600,}\n",
    "dct2 = {'3sigma': 'nan','AI_CD': 'nan','spec': 1.600,}\n",
    "print eval(criteria.format(**dct), {}, {'nan':np.nan})\n",
    "print eval(criteria.format(**dct2), {}, {'nan':np.nan})"
   ]
  },
  {
   "cell_type": "code",
   "execution_count": 9,
   "metadata": {
    "collapsed": false
   },
   "outputs": [
    {
     "name": "stdout",
     "output_type": "stream",
     "text": [
      "True\n"
     ]
    }
   ],
   "source": [
    "criteria = '{sigma}>{spec}'\n",
    "print eval(criteria.format(sigma=1.9, AI_CD='nan', spec=1.6), {}, {'nan':np.nan})"
   ]
  },
  {
   "cell_type": "markdown",
   "metadata": {
    "collapsed": true
   },
   "source": [
    "### 2. built-in functions {compile, eval, exec}, {map, filter}, hash, repr, \n",
    "\n",
    "1. `basestring()`\n",
    "    - isinstance(obj, basestring) is equivalent to isinstance(obj, (str, unicode)).\n",
    "    \n",
    "2. `compile`, `exec`, `eval`:\n",
    "    - `compile(source, filename, mode[, flags[, dont_inherit]])`, output into a code or AST obj. Code can be executed by 'exec' or evaluated by 'eval'.\n",
    "        ```\n",
    "        >>> codeobj = compile('x = 2\\nprint \"X is\", x', 'fakemodule', 'exec')\n",
    "        >>> exec(codeobj)\n",
    "        X is 2\n",
    "        ```\n",
    "        For instance, if you have a Python program that allows users to script its behavior with custom Python code, you might use compile and exec to store and execute these user-defined scripts.\n",
    "        Risk is to introduce some unsafe code. (For instance, imagine that in my example above the code was `formatYourHardDrive()` instead of `print x`.)\n",
    "     \n",
    "    - The difference of this three: exec({statement}), eval({expression}), compile to speed up repeated invocations like execute and evaluate\n",
    "        ```\n",
    "        >>> a = 5\n",
    "        >>> eval('37 + a')   # it is an expression\n",
    "        42\n",
    "        >>> exec('37 + a')   # it is an expression statement\n",
    "        >>> exec('a = 47')   # modify a global variable as a side effect\n",
    "        >>> a\n",
    "        47\n",
    "        >>> eval('a = 47')  # you cannot evaluate a statement\n",
    "        Traceback (most recent call last):\n",
    "          File \"<stdin>\", line 1, in <module>\n",
    "          File \"<string>\", line 1\n",
    "            a = 47\n",
    "              ^\n",
    "        SyntaxError: invalid syntax\n",
    "        ```  \n",
    "3. `map`, `filter`\n",
    "4. 'dict', list, zip(), iterable, mapping or **kwarg(key-word arugments)\n",
    "5. `hash`: Return the hash value of the object (if it has one). They are used to quickly compare dictionary keys during a dictionary lookup.\n",
    "6. `repr` and `str`: `repr` is debugging and pass the string into `eval`, `str` is for variable type conversion."
   ]
  },
  {
   "cell_type": "code",
   "execution_count": 12,
   "metadata": {
    "collapsed": false
   },
   "outputs": [
    {
     "name": "stdout",
     "output_type": "stream",
     "text": [
      "X is 2\n",
      "4\n"
     ]
    },
    {
     "data": {
      "text/plain": [
       "5"
      ]
     },
     "execution_count": 12,
     "metadata": {},
     "output_type": "execute_result"
    }
   ],
   "source": [
    "codeobj = compile('x = 2\\nprint \"X is\", x', 'fakemodule', 'exec')\n",
    "exec(codeobj)\n",
    "\n",
    "codeobj = compile(r'x+2', '', 'eval')\n",
    "print eval(codeobj)\n",
    "eval('x + 3')\n"
   ]
  },
  {
   "cell_type": "markdown",
   "metadata": {},
   "source": []
  },
  {
   "cell_type": "code",
   "execution_count": 33,
   "metadata": {
    "collapsed": false
   },
   "outputs": [
    {
     "name": "stdout",
     "output_type": "stream",
     "text": [
      "[1, 2, 3, 4]\n",
      "['-4', '-3', '-2', '-1', '0', '1', '2', '3', '4']\n",
      "step 1 ['AG1=0:300', 'Ap =20:300', 'MGS=30:300', 'default=20:300']\n",
      "step 2 [['AG1', '0:300'], ['Ap', '20:300'], ['MGS', '30:300'], ['default', '20:300']]\n",
      "step 3 {'MGS': '30:300', 'Ap': '20:300', 'default': '20:300', 'AG1': '0:300'}\n",
      "-29093136\n"
     ]
    }
   ],
   "source": [
    "print filter(lambda x: x>0, xrange(-4,5))\n",
    "print map(lambda x: str(x), xrange(-4,5))\n",
    "s = 'AG1=0:300 , Ap =20:300,MGS=30:300,default=20:300'\n",
    "import string\n",
    "sigma_ranges = map(string.strip, s.split(','))\n",
    "print 'step 1', sigma_ranges\n",
    "sigma_ranges = map(lambda x: map(string.strip, x.split('=')), sigma_ranges)\n",
    "print 'step 2', sigma_ranges\n",
    "sigma_ranges = dict(sigma_ranges)\n",
    "print 'step 3', sigma_ranges\n",
    "print hash('MGS')"
   ]
  },
  {
   "cell_type": "markdown",
   "metadata": {},
   "source": [
    "3.1 tricks\n",
    "\n",
    "1. get a default value if a key is not exist\n"
   ]
  },
  {
   "cell_type": "code",
   "execution_count": 36,
   "metadata": {
    "collapsed": false
   },
   "outputs": [
    {
     "name": "stdout",
     "output_type": "stream",
     "text": [
      "0:300\n"
     ]
    }
   ],
   "source": [
    "vAG = sigma_ranges.get('AG1', sigma_ranges.get('default', '0:300'))\n",
    "print vAG"
   ]
  },
  {
   "cell_type": "code",
   "execution_count": 22,
   "metadata": {
    "collapsed": false
   },
   "outputs": [
    {
     "ename": "SyntaxError",
     "evalue": "invalid syntax (<ipython-input-22-c5c496d0746f>, line 5)",
     "output_type": "error",
     "traceback": [
      "\u001b[1;36m  File \u001b[1;32m\"<ipython-input-22-c5c496d0746f>\"\u001b[1;36m, line \u001b[1;32m5\u001b[0m\n\u001b[1;33m    specrow = {map(lambda x: x[0]: x[1], map(string.split(\":\"), specrow))}\u001b[0m\n\u001b[1;37m                                 ^\u001b[0m\n\u001b[1;31mSyntaxError\u001b[0m\u001b[1;31m:\u001b[0m invalid syntax\n"
     ]
    }
   ],
   "source": [
    "import string\n",
    "spec = \"FILE:/gpfs/PEG/FEM/peyang/data/iCal/IMEC_SN2/4HMICD/iCal_check_308_fromQian_v2/h/data/dummydb/calibrate/job1/sem/c1/0001.tif;EDGE_FILE:/gpfs/PEG/FEM/peyang/data/iCal/IMEC_SN2/4HMICD/iCal_check_308_fromQian_v2/h/data/dummydb/calibrate/job1/sem/c1/0001.txt;DETECT_EDGE:2;ALIGN_EDGE:0;XAXIS_SWAP:0;YAXIS_SWAP:0;ROTATION:0;PIXEL:0.96500000;CENTER_X:-11139750.00000000;CENTER_Y:7135092.00000000;THETA:0.00410000;SCALE_XY_RATIO:1.00000000;VR_XINI:-1;VR_XINI:-1;VR_XINI:-1;VR_XINI:-1\"\n",
    "specrow = map(string.strip, spec.split(\";\"))\n",
    "print specrow\n",
    "specrow = [kw.split(\":\") for kw in specrow]\n",
    "print specrow\n",
    "specrow = {kw[0]:kw[1] for kw in specrow}\n",
    "# print specrow"
   ]
  },
  {
   "cell_type": "code",
   "execution_count": 21,
   "metadata": {
    "collapsed": false
   },
   "outputs": [
    {
     "ename": "NameError",
     "evalue": "name 'unzip' is not defined",
     "output_type": "error",
     "traceback": [
      "\u001b[1;31m---------------------------------------------------------------------------\u001b[0m",
      "\u001b[1;31mNameError\u001b[0m                                 Traceback (most recent call last)",
      "\u001b[1;32m<ipython-input-21-e2c6d1e6516e>\u001b[0m in \u001b[0;36m<module>\u001b[1;34m()\u001b[0m\n\u001b[0;32m      1\u001b[0m \u001b[0ma\u001b[0m \u001b[1;33m=\u001b[0m \u001b[1;33m[\u001b[0m\u001b[1;34m'a'\u001b[0m\u001b[1;33m,\u001b[0m \u001b[1;36m2\u001b[0m\u001b[1;33m]\u001b[0m\u001b[1;33m\u001b[0m\u001b[0m\n\u001b[1;32m----> 2\u001b[1;33m \u001b[1;32mprint\u001b[0m \u001b[0munzip\u001b[0m\u001b[1;33m(\u001b[0m\u001b[0ma\u001b[0m\u001b[1;33m)\u001b[0m\u001b[1;33m\u001b[0m\u001b[0m\n\u001b[0m",
      "\u001b[1;31mNameError\u001b[0m: name 'unzip' is not defined"
     ]
    }
   ],
   "source": []
  },
  {
   "cell_type": "code",
   "execution_count": 68,
   "metadata": {
    "collapsed": false
   },
   "outputs": [
    {
     "name": "stdout",
     "output_type": "stream",
     "text": [
      "Aligned Spec : FILE:/gpfs/PEG/FEM/peyang/data/iCal/IMEC_SN2/4HMICD/iCal_check_308_fromQian_v2/h/data/dummydb/calibrate/job1/sem/c1/0000.tif;EDGE_FILE:/gpfs/PEG/FEM/peyang/data/iCal/IMEC_SN2/4HMICD/iCal_check_308_fromQian_v2/h/data/dummydb/calibrate/job1/sem/c1/0000.txt;DETECT_EDGE:2;ALIGN_EDGE:0;XAXIS_SWAP:0;YAXIS_SWAP:0;ROTATION:0;PIXEL:0.96500000;CENTER_X:-11139696.00000000;CENTER_Y:7135032.00000000;THETA:0.00420000;SCALE_XY_RATIO:1.00000000;VR_XINI:-1;VR_XINI:-1;VR_XINI:-1;VR_XINI:-1\n",
      "('FILE', 'EDGE_FILE', 'DETECT_EDGE', 'ALIGN_EDGE', 'XAXIS_SWAP', 'YAXIS_SWAP', 'ROTATION', 'PIXEL', 'CENTER_X', 'CENTER_Y', 'THETA', 'SCALE_XY_RATIO', 'VR_XINI', 'VR_XINI', 'VR_XINI', 'VR_XINI')\n",
      "{'VR_XINI': '-1', 'DETECT_EDGE': '2', 'XAXIS_SWAP': '0', 'YAXIS_SWAP': '0', 'EDGE_FILE': '/gpfs/PEG/FEM/peyang/data/iCal/IMEC_SN2/4HMICD/iCal_check_308_fromQian_v2/h/data/dummydb/calibrate/job1/sem/c1/0001.txt', 'CENTER_X': '-11139750.00000000', 'CENTER_Y': '7135092.00000000', 'FILE': '/gpfs/PEG/FEM/peyang/data/iCal/IMEC_SN2/4HMICD/iCal_check_308_fromQian_v2/h/data/dummydb/calibrate/job1/sem/c1/0001.tif', 'THETA': '0.00410000', 'ROTATION': '0', 'PIXEL': '0.96500000', 'SCALE_XY_RATIO': '1.00000000', 'ALIGN_EDGE': '0'}\n"
     ]
    }
   ],
   "source": [
    "import re\n",
    "m = re.match(r'^Load SEM image ([/\\-\\w]+)\\.tif', \"Load SEM image /gpfs/PEG/FEM/peyang/data/iCal/IMEC_SN2/4HMICD/iCal_check_308_fromQian_v2/h/data/dummydb/calibrate/job1/sem/c1/0000.tif\")\n",
    "m  = re.match(r'Aligned Spec : ([^=@%]+)$', \"Aligned Spec : FILE:/gpfs/PEG/FEM/peyang/data/iCal/IMEC_SN2/4HMICD/iCal_check_308_fromQian_v2/h/data/dummydb/calibrate/job1/sem/c1/0000.tif;EDGE_FILE:/gpfs/PEG/FEM/peyang/data/iCal/IMEC_SN2/4HMICD/iCal_check_308_fromQian_v2/h/data/dummydb/calibrate/job1/sem/c1/0000.txt;DETECT_EDGE:2;ALIGN_EDGE:0;XAXIS_SWAP:0;YAXIS_SWAP:0;ROTATION:0;PIXEL:0.96500000;CENTER_X:-11139696.00000000;CENTER_Y:7135032.00000000;THETA:0.00420000;SCALE_XY_RATIO:1.00000000;VR_XINI:-1;VR_XINI:-1;VR_XINI:-1;VR_XINI:-1\")\n",
    "print m.group()\n",
    "specrow = m.group(1)\n",
    "specrow = map(string.strip, spec.split(\";\"))\n",
    "specrow = [kw.split(\":\") for kw in specrow]\n",
    "keys, values= zip(*specrow)\n",
    "specrow = {kw[0]:kw[1] for kw in specrow}\n",
    "print keys\n",
    "print specrow"
   ]
  },
  {
   "cell_type": "code",
   "execution_count": null,
   "metadata": {
    "collapsed": true
   },
   "outputs": [],
   "source": []
  }
 ],
 "metadata": {
  "kernelspec": {
   "display_name": "Python 2",
   "language": "python",
   "name": "python2"
  },
  "language_info": {
   "codemirror_mode": {
    "name": "ipython",
    "version": 2
   },
   "file_extension": ".py",
   "mimetype": "text/x-python",
   "name": "python",
   "nbconvert_exporter": "python",
   "pygments_lexer": "ipython2",
   "version": "2.7.12"
  }
 },
 "nbformat": 4,
 "nbformat_minor": 0
}
