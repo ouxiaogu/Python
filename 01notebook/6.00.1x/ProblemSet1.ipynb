{
 "cells": [
  {
   "cell_type": "markdown",
   "metadata": {},
   "source": [
    "###1. COUNTING VOWELS  (10/10 points)\n",
    "    \n",
    "    Assume s is a string of lower case characters.\n",
    "\n",
    "    Write a program that counts up the number of vowels contained in the string s. Valid vowels are: 'a', 'e', 'i', 'o', and 'u'. For example, if s = 'azcbobobegghakl', your program should print:\n",
    "\n",
    "    Number of vowels: 5\n",
    "    \n",
    "    For problems such as these, do not include raw_input statements or define the variable s in any way. Our automated testing will provide a value of s for you - so the code you submit in the following box should assume s is already defined. If you are confused by this instruction, please review L4 Problems 10 and 11 before you begin this problem set."
   ]
  },
  {
   "cell_type": "code",
   "execution_count": 1,
   "metadata": {
    "collapsed": false
   },
   "outputs": [
    {
     "name": "stdout",
     "output_type": "stream",
     "text": [
      "Number of vowels:  5\n"
     ]
    }
   ],
   "source": [
    "s = 'azcbobobegghakl'\n",
    "count = 0\n",
    "for i in s:\n",
    "    if i in ['a', 'e', 'i', 'o', 'u']:\n",
    "        count += 1\n",
    "print \"Number of vowels:  \"+str(count)"
   ]
  },
  {
   "cell_type": "markdown",
   "metadata": {},
   "source": [
    "### 2. COUNTING BOBS  (15 points possible)\n",
    "    \n",
    "    Assume s is a string of lower case characters.\n",
    "\n",
    "    Write a program that prints the number of times the string 'bob' occurs in s. For example, if s = 'azcbobobegghakl', then your program should print\n",
    "\n",
    "    Number of times bob occurs is: 2\n",
    "    \n",
    "    For problems such as these, do not include raw_input statements or define the variable s in any way. Our automated testing will provide a value of s for you - so the code you submit in the following box should assume s is already defined. If you are confused by this instruction, please review L4 Problems 10 and 11 before you begin this problem set."
   ]
  },
  {
   "cell_type": "code",
   "execution_count": 7,
   "metadata": {
    "collapsed": false
   },
   "outputs": [
    {
     "name": "stdout",
     "output_type": "stream",
     "text": [
      "(1, 3, 'obobegghakl')\n",
      "(2, 1, 'obegghakl')\n",
      "Number of times bob occurs is: 2\n"
     ]
    }
   ],
   "source": [
    "s = 'azcbobobegghakl'\n",
    "sub = 'bob'\n",
    "count = 0\n",
    "start = 0\n",
    "end = len(s)\n",
    "main = s[start:]\n",
    "while len(main) >= len(sub):\n",
    "    index = main.find(sub)\n",
    "    if index == -1:\n",
    "        break\n",
    "    count = count + 1\n",
    "    if count > end:\n",
    "        break\n",
    "    start = start+index+1\n",
    "    main = s[start:]\n",
    "    print(count, index, main)\n",
    "print \"Number of times bob occurs is: \" + str(count)"
   ]
  },
  {
   "cell_type": "markdown",
   "metadata": {
    "collapsed": false
   },
   "source": [
    "### 3. ALPHABETICAL SUBSTRINGS  (15 points possible)\n",
    "    \n",
    "    Assume s is a string of lower case characters.\n",
    "\n",
    "    Write a program that prints the longest substring of s in which the letters occur in alphabetical order. For example, if s = 'azcbobobegghakl', then your program should print\n",
    "\n",
    "    Longest substring in alphabetical order is: beggh\n",
    "    In the case of ties, print the first substring. For example, if s = 'abcbcd', then your program should print\n",
    "\n",
    "    Longest substring in alphabetical order is: abc\n",
    "    For problems such as these, do not include raw_input statements or define the variable s in any way. Our automated testing will provide a value of s for you - so the code you submit in the following box should assume s is already defined. If you are confused by this instruction, please review L4 Problems 10 and 11 before you begin this problem set.\n",
    "\n",
    "    Note: This problem is fairly challenging. We encourage you to work smart. If you've spent more than a few hours on this problem, we suggest that you move on to a different part of the course. If you have time, come back to this problem after you've had a break and cleared your head."
   ]
  },
  {
   "cell_type": "code",
   "execution_count": 31,
   "metadata": {
    "collapsed": false
   },
   "outputs": [
    {
     "name": "stdout",
     "output_type": "stream",
     "text": [
      "azcbobobeghakl\n",
      "gh\n"
     ]
    }
   ],
   "source": [
    "s = 'azcbobobegghakl'\n",
    "\n",
    "def rmAdjDuplicateChar(s):\n",
    "    n = len(s)\n",
    "    seed = str(s[0])\n",
    "    out = seed\n",
    "    for i in range(1,n,1):\n",
    "        #print (i, s[i])\n",
    "        if(s[i] != seed):\n",
    "            seed = s[i]\n",
    "            out = out + str(seed)\n",
    "    return out\n",
    "\n",
    "def longestSub(s):\n",
    "    n = len(s)\n",
    "    seed_idx = 0\n",
    "    seeds = []\n",
    "    seed_lens = []\n",
    "    seeds.append(s[0])\n",
    "    seed_lens.append(1)\n",
    "    for i in range(1,n,1):\n",
    "        \n",
    "        if(s[i] == chr(ord(seeds[seed_idx]) + seed_lens[seed_idx])):\n",
    "            seed_lens[seed_idx] += 1\n",
    "        else:\n",
    "            seed_idx += 1\n",
    "            seeds.append(s[i])\n",
    "            seed_lens.append(1)\n",
    "    maxVal = max(seed_lens)\n",
    "    maxLoc = seed_lens.index(maxVal)\n",
    "    out = ''\n",
    "    seed = seeds[maxLoc]\n",
    "    for i in range(maxVal):\n",
    "        out = out + chr(ord(seed)+i)\n",
    "    return out\n",
    "\n",
    "t = rmAdjDuplicateChar(s)\n",
    "r = longestSub(t)\n",
    "print t\n",
    "print r"
   ]
  },
  {
   "cell_type": "code",
   "execution_count": 41,
   "metadata": {
    "collapsed": false
   },
   "outputs": [
    {
     "name": "stdout",
     "output_type": "stream",
     "text": [
      "Longest substring in alphabetical order is: z\n"
     ]
    }
   ],
   "source": [
    "#only keep the longest \n",
    "#s = 'abcdefghijklmnopqrstuvwxyz'\n",
    "s = 'zyxwvutsrqponmlkjihgfedcba'\n",
    "def longestSub(s):\n",
    "    n = len(s)\n",
    "    sub_lists = []\n",
    "    sub_lists.append({})\n",
    "    \n",
    "    curSub = s[0]\n",
    "    curLen = 1\n",
    "    maxSub = curSub\n",
    "    maxLen = 1\n",
    "\n",
    "    for i in range(1,n,1):\n",
    "        if(s[i] >= s[i-1]):\n",
    "            curSub += s[i]\n",
    "            curLen +=1\n",
    "        else:\n",
    "            curSub = s[i]\n",
    "            curLen = 1\n",
    "        if(curLen > maxLen):\n",
    "            maxSub = curSub;\n",
    "            maxLen = curLen\n",
    "    return maxSub\n",
    "r = longestSub(s)\n",
    "print \"Longest substring in alphabetical order is: \"+r"
   ]
  },
  {
   "cell_type": "code",
   "execution_count": 11,
   "metadata": {
    "collapsed": false
   },
   "outputs": [
    {
     "name": "stdout",
     "output_type": "stream",
     "text": [
      "[1, 2, 3]\n"
     ]
    }
   ],
   "source": [
    "a = range(1,4,1)\n",
    "print a"
   ]
  },
  {
   "cell_type": "code",
   "execution_count": 22,
   "metadata": {
    "collapsed": false
   },
   "outputs": [
    {
     "name": "stdout",
     "output_type": "stream",
     "text": [
      "b\n"
     ]
    }
   ],
   "source": [
    "print chr(ord('a')+1)"
   ]
  },
  {
   "cell_type": "code",
   "execution_count": 30,
   "metadata": {
    "collapsed": false
   },
   "outputs": [
    {
     "data": {
      "text/plain": [
       "1"
      ]
     },
     "execution_count": 30,
     "metadata": {},
     "output_type": "execute_result"
    }
   ],
   "source": [
    "a = [2, 4, 1]\n",
    "maxVal = max(a)\n",
    "maxIdx = a.index(maxVal)\n",
    "maxIdx"
   ]
  },
  {
   "cell_type": "code",
   "execution_count": 32,
   "metadata": {
    "collapsed": false
   },
   "outputs": [
    {
     "name": "stdout",
     "output_type": "stream",
     "text": [
      "[{'sub': 'a', 'len': 1}]\n"
     ]
    }
   ],
   "source": [
    "sub_lists = []\n",
    "sub_lists.append({})\n",
    "sub_lists[0][\"len\"] = 1\n",
    "sub_lists[0][\"sub\"] = 'a'\n",
    "print sub_lists"
   ]
  },
  {
   "cell_type": "code",
   "execution_count": null,
   "metadata": {
    "collapsed": true
   },
   "outputs": [],
   "source": []
  }
 ],
 "metadata": {
  "kernelspec": {
   "display_name": "Python 2",
   "language": "python",
   "name": "python2"
  },
  "language_info": {
   "codemirror_mode": {
    "name": "ipython",
    "version": 2
   },
   "file_extension": ".py",
   "mimetype": "text/x-python",
   "name": "python",
   "nbconvert_exporter": "python",
   "pygments_lexer": "ipython2",
   "version": "2.7.10"
  }
 },
 "nbformat": 4,
 "nbformat_minor": 0
}
