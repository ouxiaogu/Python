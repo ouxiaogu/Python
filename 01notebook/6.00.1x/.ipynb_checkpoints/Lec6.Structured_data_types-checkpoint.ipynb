{
 "cells": [
  {
   "cell_type": "markdown",
   "metadata": {},
   "source": [
    "## Lecture 6 - Structured types and mutability\n",
    "\n",
    "### 1. Tuples\n",
    "\n",
    "- L6 PROBLEM 1: the indexing in tuple is exactly the same with list\n",
    "- L6 PROBLEM 2: unlike `list`, `tuple` is immutable structure, there are no modificattion operation like, append, add , etc..."
   ]
  },
  {
   "cell_type": "code",
   "execution_count": 2,
   "metadata": {
    "collapsed": false
   },
   "outputs": [
    {
     "name": "stdout",
     "output_type": "stream",
     "text": [
      "(1, 'two', 3)\n",
      "((1, 'two', 3), 'four')\n"
     ]
    }
   ],
   "source": [
    "t1 = (1, 'two', 3)\n",
    "t2 = (t1, 'four')\n",
    "print t1\n",
    "print t2"
   ]
  },
  {
   "cell_type": "code",
   "execution_count": 3,
   "metadata": {
    "collapsed": false
   },
   "outputs": [
    {
     "name": "stdout",
     "output_type": "stream",
     "text": [
      "i\n",
      "(1,)\n",
      "(1, 2, (3, 'John', 4))\n"
     ]
    }
   ],
   "source": [
    "# L6 PROBLEM 1\n",
    "x = (1, 2, (3, 'John', 4), 'Hi')\n",
    "print x[-1][-1]\n",
    "print x[0:1]\n",
    "print x[0:-1]"
   ]
  },
  {
   "cell_type": "code",
   "execution_count": 7,
   "metadata": {
    "collapsed": false
   },
   "outputs": [
    {
     "name": "stdout",
     "output_type": "stream",
     "text": [
      "('I', 'a', 'tuple')\n"
     ]
    }
   ],
   "source": [
    "# L6 PROBLEM 2  \n",
    "def oddTuples(aTup):\n",
    "    '''\n",
    "    aTup: a tuple\n",
    "    \n",
    "    returns: tuple, every other element of aTup. \n",
    "    '''\n",
    "    # Your Code Here\n",
    "    newList = []\n",
    "    n = len(aTup)\n",
    "    for i in range(n):\n",
    "        if i%2 == 0:\n",
    "            newList.append(aTup[i])\n",
    "    return tuple(newList)\n",
    "print oddTuples(('I', 'am', 'a', 'test', 'tuple'))"
   ]
  },
  {
   "cell_type": "markdown",
   "metadata": {},
   "source": [
    "\n",
    "### 2. Lists and mutability\n"
   ]
  },
  {
   "cell_type": "markdown",
   "metadata": {},
   "source": [
    "1\\. List indexing\n",
    "\n",
    "    - unlike tuple x[0:1] print `(1,)`\n",
    "    - for list, the result is just `[1]`"
   ]
  },
  {
   "cell_type": "code",
   "execution_count": 8,
   "metadata": {
    "collapsed": false
   },
   "outputs": [
    {
     "name": "stdout",
     "output_type": "stream",
     "text": [
      "[1]\n"
     ]
    }
   ],
   "source": [
    "# unlike tuple x[0:1] print (1,)\n",
    "# for list, the result is just [1]\n",
    "x = [1, 2, [3, 'John', 4], 'Hi'] \n",
    "print x[0:1]"
   ]
  },
  {
   "cell_type": "markdown",
   "metadata": {},
   "source": [
    "2\\. range, some corner knowledge of range\n",
    "\n",
    "    - `range(start, end, step)`: include `start`, but not `end`, `step` must be an integer\n",
    "    - when *start > end*, but the step is empty, like `range(10, 3)`, assign step to `1` by default, consequentlly, we just get an empty list, `[]`"
   ]
  },
  {
   "cell_type": "code",
   "execution_count": 9,
   "metadata": {
    "collapsed": false
   },
   "outputs": [
    {
     "ename": "TypeError",
     "evalue": "range() integer end argument expected, got float.",
     "output_type": "error",
     "traceback": [
      "\u001b[1;31m---------------------------------------------------------------------------\u001b[0m",
      "\u001b[1;31mTypeError\u001b[0m                                 Traceback (most recent call last)",
      "\u001b[1;32m<ipython-input-9-f3cd3b36a31b>\u001b[0m in \u001b[0;36m<module>\u001b[1;34m()\u001b[0m\n\u001b[1;32m----> 1\u001b[1;33m \u001b[0mrange\u001b[0m\u001b[1;33m(\u001b[0m\u001b[1;36m3\u001b[0m\u001b[1;33m,\u001b[0m \u001b[1;36m10.5\u001b[0m\u001b[1;33m,\u001b[0m \u001b[1;36m0.5\u001b[0m\u001b[1;33m)\u001b[0m\u001b[1;33m\u001b[0m\u001b[0m\n\u001b[0m",
      "\u001b[1;31mTypeError\u001b[0m: range() integer end argument expected, got float."
     ]
    }
   ],
   "source": [
    "range(3, 10.5, 0.5)"
   ]
  },
  {
   "cell_type": "code",
   "execution_count": 10,
   "metadata": {
    "collapsed": false
   },
   "outputs": [
    {
     "data": {
      "text/plain": [
       "[]"
      ]
     },
     "execution_count": 10,
     "metadata": {},
     "output_type": "execute_result"
    }
   ],
   "source": [
    "range(10, 3)"
   ]
  },
  {
   "cell_type": "code",
   "execution_count": 11,
   "metadata": {
    "collapsed": false
   },
   "outputs": [
    {
     "data": {
      "text/plain": [
       "[10, 9, 8, 7, 6, 5, 4]"
      ]
     },
     "execution_count": 11,
     "metadata": {},
     "output_type": "execute_result"
    }
   ],
   "source": [
    "range(10, 3, -1)"
   ]
  },
  {
   "cell_type": "markdown",
   "metadata": {},
   "source": [
    "3\\. **List copy**: \n",
    "\n",
    "- Python, list name is a reference, assign to another name, just another binding reference to the variable \n",
    "- The difference between assign `=` and `append`\n",
    "- The difference between logical operator `==` and `is`"
   ]
  },
  {
   "cell_type": "code",
   "execution_count": 44,
   "metadata": {
    "collapsed": false
   },
   "outputs": [
    {
     "name": "stdout",
     "output_type": "stream",
     "text": [
      "True\n",
      "True\n",
      "[1, 2, 'hello', 4, 5]\n"
     ]
    }
   ],
   "source": [
    "# L6 PROBLEM 5 part 1\n",
    "aList = range(1, 6)\n",
    "bList = aList\n",
    "aList[2] = 'hello'\n",
    "print aList == bList\n",
    "print aList is bList\n",
    "print aList"
   ]
  },
  {
   "cell_type": "code",
   "execution_count": 47,
   "metadata": {
    "collapsed": false
   },
   "outputs": [
    {
     "name": "stdout",
     "output_type": "stream",
     "text": [
      "True\n",
      "False\n",
      "[6, 5, 20, 3, 2]\n",
      "[6, 5, 4, 3, 2]\n"
     ]
    }
   ],
   "source": [
    "# L6 PROBLEM 5 part 2\n",
    "cList = range(6, 1, -1)\n",
    "dList = []\n",
    "for num in cList:\n",
    "    dList.append(num)\n",
    "print cList == dList\n",
    "print cList is dList\n",
    "cList[2] = 20\n",
    "print cList\n",
    "print dList"
   ]
  },
  {
   "cell_type": "markdown",
   "metadata": {},
   "source": [
    "4\\. [the methods for `list`](https://docs.python.org/2/tutorial/datastructures.html)\n",
    "\n",
    "**list.pop([i])**: Using Lists as Stacks, LIFO\n",
    "\n",
    "Remove the item at the given position in the list, and return it.  \n",
    "\n",
    "- If no index is specified, a.pop() removes and returns the last item in the list. (The square brackets around the i in the method signature denote that the parameter is optional, not that you should type square brackets at that position. You will see this notation frequently in the Python Library Reference.)\n",
    "- If index is specified, remove this indexing-located item, and return it.\n",
    "\n",
    "**list.popleft([i])**: Using Lists as Queues, FIFO\n",
    "\n"
   ]
  },
  {
   "cell_type": "code",
   "execution_count": 29,
   "metadata": {
    "collapsed": false
   },
   "outputs": [
    {
     "name": "stdout",
     "output_type": "stream",
     "text": [
      "None\n",
      "[0, 1, 3, 4]\n",
      "None\n",
      "[100, 0, 1, 3, 4]\n",
      "None\n",
      "None\n",
      "[100, 0, 1, 4, 7]\n",
      "[100, 0, 1, 4, 7, 'x', 'z', 't', 'q']\n",
      "['q', 't', 'x', 'z']\n",
      "['q', 't', 'x']\n",
      "None\n",
      "[100, 0, 1, 4, 7, 4, 1, 6, 3, 4]\n",
      "2\n",
      "7\n",
      "[100, 0, 1, 4, 4, 1, 6, 3, 4]\n",
      "None\n",
      "[4, 3, 6, 1, 4, 4, 1, 0, 100]\n"
     ]
    }
   ],
   "source": [
    "# L6 PROBLEM 6  \n",
    "listA = [1, 4, 3, 0]\n",
    "listB = ['x', 'z', 't', 'q']\n",
    "print listA.sort()\n",
    "print listA\n",
    "print listA.insert(0, 100)\n",
    "print listA\n",
    "print listA.remove(3)\n",
    "print listA.append(7)\n",
    "print listA\n",
    "print listA + listB\n",
    "listB.sort()\n",
    "print listB \n",
    "listB.pop() # list storage is LIFO, stack!\n",
    "print listB \n",
    "# listB.remove('a') # error \n",
    "\n",
    "print listA.extend([4, 1, 6, 3, 4])\n",
    "print listA # advanced append\n",
    "print listA.index(1)\n",
    "print listA.pop(4) # list storage is LIFO, stack!, when pop specify location, it's delete\n",
    "print listA\n",
    "print listA.reverse()\n",
    "print listA"
   ]
  },
  {
   "cell_type": "markdown",
   "metadata": {},
   "source": [
    "### 3. Functions as objects\n"
   ]
  },
  {
   "cell_type": "code",
   "execution_count": 8,
   "metadata": {
    "collapsed": false
   },
   "outputs": [
    {
     "name": "stdout",
     "output_type": "stream",
     "text": [
      "[1, 2, 3.4]\n",
      "[1, 2, 3]\n",
      "2.4\n",
      "-2\n"
     ]
    }
   ],
   "source": [
    "def applyToEach(L, f):\n",
    "    for i in range(len(L)):\n",
    "        L[i] = f(L[i])\n",
    "L = [-1, -2, 3.4]\n",
    "applyToEach(L, abs)\n",
    "print L\n",
    "applyToEach(L, int)\n",
    "print L\n",
    "\n",
    "def applyFuncs(L, x):\n",
    "    for f in L:\n",
    "        print(f(x))\n",
    "applyFuncs([abs, int], -2.4)"
   ]
  },
  {
   "cell_type": "markdown",
   "metadata": {},
   "source": [
    "Higher order functions"
   ]
  },
  {
   "cell_type": "code",
   "execution_count": 10,
   "metadata": {
    "collapsed": false
   },
   "outputs": [
    {
     "data": {
      "text/plain": [
       "[1, 2, 3, 4]"
      ]
     },
     "execution_count": 10,
     "metadata": {},
     "output_type": "execute_result"
    }
   ],
   "source": [
    "map(abs, [1, -2, 3, -4])"
   ]
  },
  {
   "cell_type": "code",
   "execution_count": 34,
   "metadata": {
    "collapsed": false
   },
   "outputs": [
    {
     "name": "stdout",
     "output_type": "stream",
     "text": [
      "[-2, 9, -2, 3]\n",
      "[4, 9, 1, 3]\n",
      "[4.0, 9.0, 1.5, 3.0]\n"
     ]
    },
    {
     "ename": "TypeError",
     "evalue": "'int' object is not iterable",
     "output_type": "error",
     "traceback": [
      "\u001b[1;31m---------------------------------------------------------------------------\u001b[0m",
      "\u001b[1;31mTypeError\u001b[0m                                 Traceback (most recent call last)",
      "\u001b[1;32m<ipython-input-34-c3224bc70dba>\u001b[0m in \u001b[0;36m<module>\u001b[1;34m()\u001b[0m\n\u001b[0;32m     16\u001b[0m \u001b[1;32mprint\u001b[0m \u001b[0mapplyEachTo\u001b[0m\u001b[1;33m(\u001b[0m\u001b[1;33m[\u001b[0m\u001b[0minc\u001b[0m\u001b[1;33m,\u001b[0m \u001b[0msquare\u001b[0m\u001b[1;33m,\u001b[0m \u001b[0mhalve\u001b[0m\u001b[1;33m,\u001b[0m \u001b[0mabs\u001b[0m\u001b[1;33m]\u001b[0m\u001b[1;33m,\u001b[0m \u001b[1;36m3\u001b[0m\u001b[1;33m)\u001b[0m\u001b[1;33m\u001b[0m\u001b[0m\n\u001b[0;32m     17\u001b[0m \u001b[1;32mprint\u001b[0m \u001b[0mapplyEachTo\u001b[0m\u001b[1;33m(\u001b[0m\u001b[1;33m[\u001b[0m\u001b[0minc\u001b[0m\u001b[1;33m,\u001b[0m \u001b[0msquare\u001b[0m\u001b[1;33m,\u001b[0m \u001b[0mhalve\u001b[0m\u001b[1;33m,\u001b[0m \u001b[0mabs\u001b[0m\u001b[1;33m]\u001b[0m\u001b[1;33m,\u001b[0m \u001b[1;36m3.0\u001b[0m\u001b[1;33m)\u001b[0m\u001b[1;33m\u001b[0m\u001b[0m\n\u001b[1;32m---> 18\u001b[1;33m \u001b[0mapplyEachTo\u001b[0m\u001b[1;33m(\u001b[0m\u001b[1;33m[\u001b[0m\u001b[0minc\u001b[0m\u001b[1;33m,\u001b[0m \u001b[0mmax\u001b[0m\u001b[1;33m]\u001b[0m\u001b[1;33m,\u001b[0m \u001b[1;33m-\u001b[0m\u001b[1;36m3\u001b[0m\u001b[1;33m)\u001b[0m\u001b[1;33m\u001b[0m\u001b[0m\n\u001b[0m",
      "\u001b[1;32m<ipython-input-34-c3224bc70dba>\u001b[0m in \u001b[0;36mapplyEachTo\u001b[1;34m(L, x)\u001b[0m\n\u001b[0;32m      3\u001b[0m     \u001b[0mresult\u001b[0m \u001b[1;33m=\u001b[0m \u001b[1;33m[\u001b[0m\u001b[1;33m]\u001b[0m\u001b[1;33m\u001b[0m\u001b[0m\n\u001b[0;32m      4\u001b[0m     \u001b[1;32mfor\u001b[0m \u001b[0mi\u001b[0m \u001b[1;32min\u001b[0m \u001b[0mrange\u001b[0m\u001b[1;33m(\u001b[0m\u001b[0mlen\u001b[0m\u001b[1;33m(\u001b[0m\u001b[0mL\u001b[0m\u001b[1;33m)\u001b[0m\u001b[1;33m)\u001b[0m\u001b[1;33m:\u001b[0m\u001b[1;33m\u001b[0m\u001b[0m\n\u001b[1;32m----> 5\u001b[1;33m         \u001b[0mresult\u001b[0m\u001b[1;33m.\u001b[0m\u001b[0mappend\u001b[0m\u001b[1;33m(\u001b[0m\u001b[0mL\u001b[0m\u001b[1;33m[\u001b[0m\u001b[0mi\u001b[0m\u001b[1;33m]\u001b[0m\u001b[1;33m(\u001b[0m\u001b[0mx\u001b[0m\u001b[1;33m)\u001b[0m\u001b[1;33m)\u001b[0m\u001b[1;33m\u001b[0m\u001b[0m\n\u001b[0m\u001b[0;32m      6\u001b[0m     \u001b[1;32mreturn\u001b[0m \u001b[0mresult\u001b[0m\u001b[1;33m\u001b[0m\u001b[0m\n\u001b[0;32m      7\u001b[0m \u001b[1;32mdef\u001b[0m \u001b[0msquare\u001b[0m\u001b[1;33m(\u001b[0m\u001b[0ma\u001b[0m\u001b[1;33m)\u001b[0m\u001b[1;33m:\u001b[0m\u001b[1;33m\u001b[0m\u001b[0m\n",
      "\u001b[1;31mTypeError\u001b[0m: 'int' object is not iterable"
     ]
    }
   ],
   "source": [
    "# L6 PROBLEM 8\n",
    "def applyEachTo(L, x):\n",
    "    result = []\n",
    "    for i in range(len(L)):\n",
    "        result.append(L[i](x))\n",
    "    return result\n",
    "def square(a):\n",
    "    return a*a\n",
    "\n",
    "def halve(a):\n",
    "    return a/2 # so the odd/2 is equal to floor(odd/2.0)\n",
    "\n",
    "def inc(a):\n",
    "    return a+1\n",
    "print applyEachTo([inc, square, halve, abs], -3)\n",
    "print applyEachTo([inc, square, halve, abs], 3)\n",
    "print applyEachTo([inc, square, halve, abs], 3.0)\n",
    "applyEachTo([inc, max, int], -3)"
   ]
  },
  {
   "cell_type": "markdown",
   "metadata": {},
   "source": [
    "### 4. Dictionaries"
   ]
  },
  {
   "cell_type": "code",
   "execution_count": 40,
   "metadata": {
    "collapsed": false
   },
   "outputs": [
    {
     "name": "stdout",
     "output_type": "stream",
     "text": [
      "6\n",
      "d\n",
      "c\n"
     ]
    }
   ],
   "source": [
    "# L6 PROBLEM 10\n",
    "animals = { 'a': ['aardvark'], 'b': ['baboon'], 'c': ['coati']}\n",
    "\n",
    "animals['d'] = ['donkey']\n",
    "animals['d'].append('dog')\n",
    "animals['d'].append('dingo')\n",
    "\n",
    "def howMany(aDict):\n",
    "    '''\n",
    "    aDict: A dictionary, where all the values are lists.\n",
    "\n",
    "    returns: int, how many values are in the dictionary.\n",
    "    '''\n",
    "    # Your Code Here\n",
    "    result = 0\n",
    "    for key, val in aDict.iteritems():\n",
    "        n = len(val)\n",
    "        result += n\n",
    "    return result\n",
    "\n",
    "def biggest(aDict):\n",
    "    '''\n",
    "    aDict: A dictionary, where all the values are lists.\n",
    "\n",
    "    returns: int, how many values are in the dictionary.\n",
    "    '''\n",
    "    # Your Code Here\n",
    "    if len(aDict)==0:\n",
    "        return None\n",
    "    result = \"\"\n",
    "    maxLen = 0\n",
    "    for key, val in aDict.iteritems():\n",
    "        n = len(val)\n",
    "        if n >= maxLen:\n",
    "            maxLen = n;\n",
    "            result = key\n",
    "    return result\n",
    "print howMany(animals)\n",
    "print biggest(animals)\n",
    "print biggest({'c':[]})"
   ]
  }
 ],
 "metadata": {
  "kernelspec": {
   "display_name": "Python 2",
   "language": "python",
   "name": "python2"
  },
  "language_info": {
   "codemirror_mode": {
    "name": "ipython",
    "version": 2
   },
   "file_extension": ".py",
   "mimetype": "text/x-python",
   "name": "python",
   "nbconvert_exporter": "python",
   "pygments_lexer": "ipython2",
   "version": "2.7.10"
  }
 },
 "nbformat": 4,
 "nbformat_minor": 0
}
