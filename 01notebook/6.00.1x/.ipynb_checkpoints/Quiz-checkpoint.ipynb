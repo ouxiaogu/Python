{
 "cells": [
  {
   "cell_type": "markdown",
   "metadata": {},
   "source": [
    "PROBLEM 1-1  (1 point possible)\n",
    "\n",
    "    Suppose x = \"me\" and y = \"myself\". The lines of code x = y and then y = x will swap the values of x and y, resulting in x = \"myself\" and y = \"me\".\n",
    "\n",
    "\n",
    "PROBLEM 1-2  (1 point possible)\n",
    "\n",
    "    Suppose x is an integer in the following code:\n",
    "\n",
    "    def f(x):\n",
    "        while x > 3:\n",
    "            f(x+1)\n",
    "\n",
    "    For any value of x, all calls to f are guaranteed to never terminate.\n",
    " \n",
    "\n",
    "PROBLEM 1-3  (1 point possible)\n",
    "\n",
    "    A Python program may execute a line of code more than once.\n",
    "\n",
    " \n",
    "PROBLEM 1-4  (1 point possible)\n",
    "\n",
    "    In Python, a list can be aliased.\n",
    "\n",
    " \n",
    "PROBLEM 1-5  (1 point possible)\n",
    "\n",
    "    The following code will enter an infinite loop for all values of i and j.\n",
    "\n",
    "    while i >= 0:\n",
    "        while j >= 0:\n",
    "            print i, j\n",
    " \n",
    "PROBLEM 1-6  (1 point possible)\n",
    "\n",
    "    A Python dictionary is a mutable object.\n",
    "\n",
    "PROBLEM 1-7  (1 point possible)\n",
    "    \n",
    "    It is always possible and feasible for a programmer to come up with test cases that run through every possible path in a program.\n",
    "\n",
    "PROBLEM 1-8  (1 point possible)\n",
    "\n",
    "    A program that contains the line x = 3'a' is syntactically incorrect.\n",
    "\n",
    "PROBLEM 1-9  (1 point possible)\n",
    "\n",
    "    Consider the following function.\n",
    "\n",
    "    def f(x):\n",
    "        a = []\n",
    "        while x > 0:\n",
    "            a.append(x)\n",
    "            f(x-1)\n",
    "\n",
    "    A new object of type list is created for each recursive invocation of f.\n",
    " \n",
    "PROBLEM 1-10  (1 point possible)\n",
    "\n",
    "    Any number that can be represented as a decimal fraction can be represented exactly in floating point representation in Python.\n",
    " \n"
   ]
  },
  {
   "cell_type": "code",
   "execution_count": 7,
   "metadata": {
    "collapsed": false
   },
   "outputs": [
    {
     "name": "stdout",
     "output_type": "stream",
     "text": [
      "myself myself\n",
      "None\n"
     ]
    }
   ],
   "source": [
    "#1-1\n",
    "x = \"me\"\n",
    "y = \"myself\"\n",
    "x = y\n",
    "y = x\n",
    "print x,y\n",
    "\n",
    "#1-2\n",
    "def f(x):\n",
    "    while x > 3:\n",
    "        f(x+1)\n",
    "print f(2)     \n",
    "\n",
    "#1-5\n",
    "\n",
    "#1-8        \n",
    "#x = 3'a'\n",
    "#print x"
   ]
  },
  {
   "cell_type": "code",
   "execution_count": 11,
   "metadata": {
    "collapsed": false
   },
   "outputs": [
    {
     "name": "stdout",
     "output_type": "stream",
     "text": [
      "Found it\n"
     ]
    }
   ],
   "source": [
    "#3-1\n",
    "stuff  = (\"iBoy\", \"iGirl\", \"iQ\", \"iC\",\"iPaid\",\"iPad\")\n",
    "for thing in stuff:\n",
    "    if thing == 'iQ':\n",
    "        print \"Found it\""
   ]
  },
  {
   "cell_type": "code",
   "execution_count": 12,
   "metadata": {
    "collapsed": false
   },
   "outputs": [
    {
     "name": "stdout",
     "output_type": "stream",
     "text": [
      "16\n"
     ]
    }
   ],
   "source": [
    "#3-2\n",
    "def Square(x):\n",
    "    return SquareHelper(abs(x), abs(x))\n",
    "\n",
    "def SquareHelper(n, x):\n",
    "    if n == 0:\n",
    "        return 0\n",
    "    return SquareHelper(n-1, x) + x\n",
    "print Square(-4)"
   ]
  },
  {
   "cell_type": "code",
   "execution_count": 12,
   "metadata": {
    "collapsed": false
   },
   "outputs": [
    {
     "name": "stdout",
     "output_type": "stream",
     "text": [
      "6.106464\n",
      "6.106464\n"
     ]
    }
   ],
   "source": [
    "#4\n",
    "def evalQuadratic(a, b, c, x):\n",
    "    '''\n",
    "    a, b, c: numerical values for the coefficients of a quadratic equation\n",
    "    x: numerical value at which to evaluate the quadratic.\n",
    "    '''\n",
    "    # Your code here\n",
    "    return a*x*x+b*x+c\n",
    "def twoQuadratics(a1, b1, c1, x1, a2, b2, c2, x2):\n",
    "    '''\n",
    "    a1, b1, c1: one set of coefficients of a quadratic equation\n",
    "    a2, b2, c2: another set of coefficients of a quadratic equation\n",
    "    x1, x2: values at which to evaluate the quadratics\n",
    "    '''\n",
    "    # Your code here  \n",
    "    #v1 = evalQuadratic(a1, b1, c1, x1)\n",
    "    #v2 = evalQuadratic(a2, b2, c2, x2)\n",
    "    #return (v1+v2) #can't multiply sequence by non-int of type 'tuple'\n",
    "    result = (evalQuadratic(a1, b1, c1, x1)+evalQuadratic(a2, b2, c2, x2))\n",
    "    print result\n",
    "    return result\n",
    "#twoQuadratics(1,2,3,1, 1,2,3,1)\n",
    "a1 = -4.04\n",
    "b1 = 5.13\n",
    "c1 = 4.93\n",
    "x1 = -2.04\n",
    "a2 = 5.03\n",
    "b2 = -9.91\n",
    "c2 = 7.76\n",
    "x2 = 3.24\n",
    "print twoQuadratics(a1, b1, c1, x1, a2, b2, c2, x2)"
   ]
  },
  {
   "cell_type": "markdown",
   "metadata": {},
   "source": [
    "### 5\n",
    "\n",
    "Write a Python function that creates and returns a list of prime numbers between 2 and N, inclusive, sorted in increasing order. A prime number is a number that is divisible only by 1 and itself. This function takes in an integer and returns a list of integers."
   ]
  },
  {
   "cell_type": "code",
   "execution_count": 25,
   "metadata": {
    "collapsed": false
   },
   "outputs": [
    {
     "name": "stdout",
     "output_type": "stream",
     "text": [
      "4 2\n",
      "6 2\n",
      "8 2\n",
      "9 3\n",
      "10 2\n",
      "12 2\n",
      "14 2\n",
      "15 3\n",
      "16 2\n",
      "18 2\n",
      "20 2\n",
      "[2, 3, 5, 7, 11, 13, 17, 19]\n"
     ]
    }
   ],
   "source": [
    "# 5\n",
    "def primesList(N):\n",
    "    '''\n",
    "    N: an integer\n",
    "    Returns a list of prime numbers\n",
    "    '''\n",
    "    # Your code here\n",
    "    resultList = []\n",
    "        \n",
    "    if N>=2:\n",
    "        resultList.append(2)\n",
    "    if N>=3:\n",
    "        for i in range(3, N+1, 1):\n",
    "            isPrime = True\n",
    "            for j in range(2, i, 1):\n",
    "                if i%j==0:\n",
    "                    #print i,j\n",
    "                    isPrime = False\n",
    "                    break\n",
    "            if isPrime:\n",
    "                resultList.append(i)\n",
    "    return resultList\n",
    "print primesList(20)\n",
    "        "
   ]
  },
  {
   "cell_type": "code",
   "execution_count": 27,
   "metadata": {
    "collapsed": false
   },
   "outputs": [
    {
     "name": "stdout",
     "output_type": "stream",
     "text": [
      "3\n"
     ]
    }
   ],
   "source": [
    "def count7(N):\n",
    "    '''\n",
    "    N: a non-negative integer\n",
    "    '''\n",
    "    # Your code here\n",
    "    add = 0\n",
    "    if N%10==7:\n",
    "        add = 1\n",
    "    if N < 10:\n",
    "        return add\n",
    "    return add+count7(N/10)\n",
    "print count7(779676)"
   ]
  },
  {
   "cell_type": "code",
   "execution_count": null,
   "metadata": {
    "collapsed": true
   },
   "outputs": [],
   "source": [
    "def uniqueValues(aDict):\n",
    "    '''\n",
    "    aDict: a dictionary\n",
    "    return a list of keys mapping with unique integer\n",
    "    '''\n",
    "    # Your code here\n",
    "    ln = len(aDict)\n",
    "    for i in range(ln):\n",
    "        "
   ]
  }
 ],
 "metadata": {
  "kernelspec": {
   "display_name": "Python 2",
   "language": "python",
   "name": "python2"
  },
  "language_info": {
   "codemirror_mode": {
    "name": "ipython",
    "version": 2
   },
   "file_extension": ".py",
   "mimetype": "text/x-python",
   "name": "python",
   "nbconvert_exporter": "python",
   "pygments_lexer": "ipython2",
   "version": "2.7.10"
  }
 },
 "nbformat": 4,
 "nbformat_minor": 0
}
