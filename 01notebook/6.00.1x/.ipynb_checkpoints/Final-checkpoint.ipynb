{
 "cells": [
  {
   "cell_type": "code",
   "execution_count": 2,
   "metadata": {
    "collapsed": true
   },
   "outputs": [],
   "source": [
    "d = {}\n",
    "a = b = 1\n",
    "d[a] = 0\n",
    "d[b] = d[a]"
   ]
  },
  {
   "cell_type": "code",
   "execution_count": 3,
   "metadata": {
    "collapsed": false
   },
   "outputs": [
    {
     "data": {
      "text/plain": [
       "[]"
      ]
     },
     "execution_count": 3,
     "metadata": {},
     "output_type": "execute_result"
    }
   ],
   "source": [
    "range(0)"
   ]
  },
  {
   "cell_type": "code",
   "execution_count": null,
   "metadata": {
    "collapsed": true
   },
   "outputs": [],
   "source": [
    "n*logn + k*logn <= k*n\n",
    "k >= "
   ]
  },
  {
   "cell_type": "code",
   "execution_count": 31,
   "metadata": {
    "collapsed": false
   },
   "outputs": [
    {
     "name": "stdout",
     "output_type": "stream",
     "text": [
      "[[10, 4], [4, 6], [6, 8], [8, 3], [3, 4], [4, 5], [5, 7], [7, 7], [7, 2]]\n",
      "5\n"
     ]
    }
   ],
   "source": [
    "### PROBLEM 4 - PART 1\n",
    "def getSublists(L, n):    \n",
    "    assert(len(L)>0)\n",
    "    assert(n>0 and n<=len(L))\n",
    "    if n==len(L):  \n",
    "        #print [L[:]]\n",
    "        result = []\n",
    "        result.append(L[:])\n",
    "        return result\n",
    "    else:\n",
    "        rst=getSublists(L[1:], n)\n",
    "        rst.insert( 0, L[:n])\n",
    "        return rst\n",
    "def longestRun(L):\n",
    "    for i in range(len(L), 0, -1):\n",
    "        subLists = getSublists(L, i)\n",
    "        for lst in subLists:\n",
    "            isMono = True\n",
    "            if len(lst) == 1:\n",
    "                return 1\n",
    "            else:\n",
    "                for j in range(len(lst)-1):\n",
    "                    if lst[j]>lst[j+1] :\n",
    "                        isMono = False\n",
    "                        break\n",
    "                if isMono:\n",
    "                    return i\n",
    "        \n",
    "L = [10, 4, 6, 8, 3, 4, 5, 7, 7, 2]\n",
    "#L = [1, 1, 1, 1, 4]\n",
    "print getSublists(L, 2)\n",
    "print longestRun(L)\n",
    "    "
   ]
  },
  {
   "cell_type": "code",
   "execution_count": 15,
   "metadata": {
    "collapsed": false
   },
   "outputs": [
    {
     "name": "stdout",
     "output_type": "stream",
     "text": [
      "[[1, 2], [3, 4], [3, 4]]\n"
     ]
    }
   ],
   "source": [
    "# 1. usage of insert\n",
    "L1 = [1, 2]\n",
    "L2 = [3, 4]\n",
    "L3 = [3, 4]\n",
    "L4 = [L2, L3]\n",
    "L4.insert(0, L1)\n",
    "print L4"
   ]
  },
  {
   "cell_type": "code",
   "execution_count": 27,
   "metadata": {
    "collapsed": false
   },
   "outputs": [
    {
     "name": "stdout",
     "output_type": "stream",
     "text": [
      "None\n",
      "[[1, 2]]\n"
     ]
    }
   ],
   "source": [
    "# 2. different between return rst.append() and rst\n",
    "# return rst.append() is the return value of class List method append\n",
    "L = [1, 2]\n",
    "result = []\n",
    "print result.append(L[:])\n",
    "print result"
   ]
  },
  {
   "cell_type": "code",
   "execution_count": 60,
   "metadata": {
    "collapsed": false
   },
   "outputs": [
    {
     "name": "stdout",
     "output_type": "stream",
     "text": [
      "citizen\n",
      "Beaver\n"
     ]
    },
    {
     "ename": "ValueError",
     "evalue": "",
     "output_type": "error",
     "traceback": [
      "\u001b[1;31m---------------------------------------------------------------------------\u001b[0m",
      "\u001b[1;31mValueError\u001b[0m                                Traceback (most recent call last)",
      "\u001b[1;32m<ipython-input-60-b8b33dfad629>\u001b[0m in \u001b[0;36m<module>\u001b[1;34m()\u001b[0m\n\u001b[0;32m     70\u001b[0m \u001b[1;31m#print a.getAge()\u001b[0m\u001b[1;33m\u001b[0m\u001b[1;33m\u001b[0m\u001b[0m\n\u001b[0;32m     71\u001b[0m \u001b[1;32mprint\u001b[0m \u001b[0ma\u001b[0m\u001b[1;33m.\u001b[0m\u001b[0mgetLastName\u001b[0m\u001b[1;33m(\u001b[0m\u001b[1;33m)\u001b[0m\u001b[1;33m\u001b[0m\u001b[0m\n\u001b[1;32m---> 72\u001b[1;33m \u001b[0mb\u001b[0m \u001b[1;33m=\u001b[0m \u001b[0mUSResident\u001b[0m\u001b[1;33m(\u001b[0m\u001b[1;34m'Tim Horton'\u001b[0m\u001b[1;33m,\u001b[0m \u001b[1;34m'non-resident'\u001b[0m\u001b[1;33m)\u001b[0m\u001b[1;33m\u001b[0m\u001b[0m\n\u001b[0m\u001b[0;32m     73\u001b[0m \u001b[1;32mprint\u001b[0m \u001b[0mb\u001b[0m\u001b[1;33m.\u001b[0m\u001b[0mgetStatus\u001b[0m\u001b[1;33m(\u001b[0m\u001b[1;33m)\u001b[0m\u001b[1;33m\u001b[0m\u001b[0m\n",
      "\u001b[1;32m<ipython-input-60-b8b33dfad629>\u001b[0m in \u001b[0;36m__init__\u001b[1;34m(self, name, status)\u001b[0m\n\u001b[0;32m     54\u001b[0m         \u001b[1;32mif\u001b[0m \u001b[1;33m(\u001b[0m\u001b[0mstatus\u001b[0m \u001b[1;32mnot\u001b[0m \u001b[1;32min\u001b[0m \u001b[1;33m[\u001b[0m\u001b[1;34m\"citizen\"\u001b[0m\u001b[1;33m,\u001b[0m \u001b[1;34m\"legal_resident\"\u001b[0m\u001b[1;33m,\u001b[0m \u001b[1;34m\"illegal_resident\"\u001b[0m\u001b[1;33m]\u001b[0m\u001b[1;33m)\u001b[0m\u001b[1;33m:\u001b[0m\u001b[1;33m\u001b[0m\u001b[0m\n\u001b[0;32m     55\u001b[0m             \u001b[0mself\u001b[0m\u001b[1;33m.\u001b[0m\u001b[0mstatus\u001b[0m \u001b[1;33m=\u001b[0m \u001b[0mNone\u001b[0m\u001b[1;33m\u001b[0m\u001b[0m\n\u001b[1;32m---> 56\u001b[1;33m             \u001b[1;32mraise\u001b[0m \u001b[0mValueError\u001b[0m\u001b[1;33m\u001b[0m\u001b[0m\n\u001b[0m\u001b[0;32m     57\u001b[0m         \u001b[1;32melse\u001b[0m\u001b[1;33m:\u001b[0m\u001b[1;33m\u001b[0m\u001b[0m\n\u001b[0;32m     58\u001b[0m             \u001b[0mself\u001b[0m\u001b[1;33m.\u001b[0m\u001b[0mstatus\u001b[0m \u001b[1;33m=\u001b[0m \u001b[0mstatus\u001b[0m\u001b[1;33m\u001b[0m\u001b[0m\n",
      "\u001b[1;31mValueError\u001b[0m: "
     ]
    }
   ],
   "source": [
    "## DO NOT MODIFY THE IMPLEMENTATION OF THE Person CLASS ##\n",
    "class Person(object):\n",
    "    def __init__(self, name):\n",
    "        #create a person with name name\n",
    "        self.name = name\n",
    "        try:\n",
    "            firstBlank = name.rindex(' ')\n",
    "            self.lastName = name[firstBlank+1:]\n",
    "        except:\n",
    "            self.lastName = name\n",
    "        self.age = None\n",
    "    def getLastName(self):\n",
    "        #return self's last name\n",
    "        return self.lastName\n",
    "    def setAge(self, age):\n",
    "        #assumes age is an int greater than 0\n",
    "        #sets self's age to age (in years)\n",
    "        self.age = age\n",
    "    def getAge(self):\n",
    "        #assumes that self's age has been set\n",
    "        #returns self's current age in years\n",
    "        if self.age == None:\n",
    "            raise ValueError\n",
    "        return self.age\n",
    "    def __lt__(self, other):\n",
    "        #return True if self's name is lexicographically less\n",
    "        #than other's name, and False otherwise\n",
    "        if self.lastName == other.lastName:\n",
    "            return self.name < other.name\n",
    "        return self.lastName < other.lastName\n",
    "    def __str__(self):\n",
    "        #return self's name\n",
    "        return self.name\n",
    "\n",
    "class USResident(Person):\n",
    "    \"\"\"\n",
    "    A Person who resides in the US.\n",
    "    \"\"\"\n",
    "    def __init__(self, name, status):\n",
    "        \"\"\"\n",
    "        Initializes a Person object. A USResident object inherits\n",
    "        from Person and has one additional attribute:\n",
    "        status: a string, one of \"citizen\", \"legal_resident\", \"illegal_resident\"\n",
    "        Raises a ValueError if status is not one of those 3 strings\n",
    "        \"\"\"\n",
    "        # Write your code here\n",
    "        self.name = name\n",
    "        try:\n",
    "            firstBlank = name.rindex(' ')\n",
    "            self.lastName = name[firstBlank+1:]\n",
    "        except:\n",
    "            self.lastName = name\n",
    "        self.age = None\n",
    "        if (status not in [\"citizen\", \"legal_resident\", \"illegal_resident\"]):\n",
    "            self.status = None\n",
    "            raise ValueError\n",
    "        else:\n",
    "            self.status = status\n",
    "    def getStatus(self):\n",
    "        \"\"\"\n",
    "        Returns the status\n",
    "        \"\"\"\n",
    "        # Write your code here\n",
    "        if (self.status not in [\"citizen\", \"legal_resident\", \"illegal_resident\"]):\n",
    "            raise ValueError\n",
    "        return self.status\n",
    "\n",
    "a = USResident('Tim Beaver', 'citizen')\n",
    "print a.getStatus()\n",
    "#print a.getAge()\n",
    "print a.getLastName()\n",
    "b = USResident('Tim Horton', 'non-resident')\n",
    "print b.getStatus()"
   ]
  },
  {
   "cell_type": "markdown",
   "metadata": {},
   "source": [
    "1. [IndentationError: unexpected unindent](http://stackoverflow.com/questions/10239668/indentationerror-unexpected-unindent-why)\n",
    "\n",
    "\n",
    "```\n",
    "def readTTable(fname):\n",
    "    try:\n",
    "```\n",
    "\n",
    "without a matching except block after the try: block. Every try must have at least one matching except.\n",
    "See the [Errors and Exceptions](http://docs.python.org/tutorial/errors.html) section of the Python tutorial."
   ]
  },
  {
   "cell_type": "code",
   "execution_count": 22,
   "metadata": {
    "collapsed": false
   },
   "outputs": [
    {
     "name": "stdout",
     "output_type": "stream",
     "text": [
      "eric\n",
      "eric_None\n",
      "fred_ruth\n",
      "mark_martha\n",
      "martha_ruth\n",
      "andrew\n",
      "eric\n",
      "fred\n",
      "mark\n",
      "martha\n",
      "martha\n",
      "ruth\n"
     ]
    }
   ],
   "source": [
    "class Frob(object):\n",
    "    def __init__(self, name):\n",
    "        self.name = name\n",
    "        self.before = None\n",
    "        self.after = None\n",
    "    def setBefore(self, before):\n",
    "        # example: a.setBefore(b) sets b before a\n",
    "        self.before = before\n",
    "    def setAfter(self, after):\n",
    "        # example: a.setAfter(b) sets b after a\n",
    "        self.after = after\n",
    "    def getBefore(self):\n",
    "        return self.before\n",
    "    def getAfter(self):\n",
    "        return self.after\n",
    "    def myName(self):\n",
    "        return self.name\n",
    "def insert(atMe, newFrob):\n",
    "    \"\"\"\n",
    "    atMe: a Frob that is part of a doubly linked list\n",
    "    newFrob:  a Frob with no links \n",
    "    This procedure appropriately inserts newFrob into the linked list that atMe is a part of.\n",
    "    \"\"\"\n",
    "    newName = newFrob.myName()\n",
    "    curFrob = atMe\n",
    "    def insertPos(curFrob, newName, toLeft):\n",
    "        curName = curFrob.myName()\n",
    "        insertFrob = curFrob\n",
    "        insertAfter = True\n",
    "        if toLeft:\n",
    "            if newName >= curName:\n",
    "                return [insertFrob, insertAfter]\n",
    "            else:\n",
    "                if curFrob.getBefore() == None:\n",
    "                    return [insertFrob, not insertAfter]\n",
    "                else:\n",
    "                    return insertPos(curFrob.getBefore(), newName, toLeft)\n",
    "        else:\n",
    "            if newName < curName:\n",
    "                #print \"{}_{}\".format(newName,curName)\n",
    "                return [insertFrob, not insertAfter]\n",
    "            else:\n",
    "                if curFrob.getAfter() == None:\n",
    "                    print curName\n",
    "                    #print \"{}_None\".format(curName)\n",
    "                    return [insertFrob, insertAfter]\n",
    "                else:\n",
    "                    return insertPos(curFrob.getAfter(), newName, toLeft)\n",
    "    if newName <= curFrob.myName():\n",
    "        insertFrob, insertAfter = insertPos(curFrob, newName, True)\n",
    "    else:\n",
    "        insertFrob, insertAfter = insertPos(curFrob, newName, False)\n",
    "\n",
    "    if insertAfter:\n",
    "        afterFrob = insertFrob.getAfter()\n",
    "        if afterFrob != None :\n",
    "            afterFrob.setBefore(newFrob)\n",
    "            newFrob.setAfter(afterFrob)\n",
    "        insertFrob.setAfter(newFrob)\n",
    "        newFrob.setBefore(insertFrob)\n",
    "    else:\n",
    "        beforeFrob = insertFrob.getBefore()\n",
    "        if beforeFrob != None:\n",
    "            beforeFrob.setAfter(newFrob)\n",
    "            newFrob.setBefore(beforeFrob)\n",
    "        insertFrob.setBefore(newFrob)\n",
    "        newFrob.setAfter(insertFrob)\n",
    "\n",
    "eric = Frob('eric')\n",
    "andrew = Frob('andrew')\n",
    "ruth = Frob('ruth')\n",
    "fred = Frob('fred')\n",
    "martha = Frob('martha')\n",
    "insert(eric, eric)\n",
    "insert(eric, andrew)\n",
    "insert(eric, ruth)\n",
    "insert(eric, fred)\n",
    "insert(ruth, martha)\n",
    "insert(eric, Frob(\"mark\"))\n",
    "insert(eric, Frob('martha'))\n",
    "\n",
    "def walk(atMe):\n",
    "    headFrob = atMe\n",
    "    while True:\n",
    "        if headFrob.getBefore() != None:\n",
    "            headFrob = headFrob.getBefore()\n",
    "        else:\n",
    "            break\n",
    "    while True:\n",
    "        print headFrob.myName()\n",
    "        if headFrob.getAfter() != None:\n",
    "            headFrob = headFrob.getAfter()\n",
    "        else:\n",
    "            break\n",
    "walk(andrew)"
   ]
  },
  {
   "cell_type": "code",
   "execution_count": 3,
   "metadata": {
    "collapsed": false
   },
   "outputs": [
    {
     "data": {
      "text/plain": [
       "True"
      ]
     },
     "execution_count": 3,
     "metadata": {},
     "output_type": "execute_result"
    }
   ],
   "source": [
    "\"martha\" > \"mark\""
   ]
  },
  {
   "cell_type": "code",
   "execution_count": 96,
   "metadata": {
    "collapsed": false
   },
   "outputs": [
    {
     "name": "stdout",
     "output_type": "stream",
     "text": [
      "-2\n",
      "False\n"
     ]
    }
   ],
   "source": [
    "a=\"abc\" < \"saa\"\n",
    "print(~a)\n",
    "print(not a)\n"
   ]
  },
  {
   "cell_type": "code",
   "execution_count": 2,
   "metadata": {
    "collapsed": false
   },
   "outputs": [
    {
     "data": {
      "text/plain": [
       "True"
      ]
     },
     "execution_count": 2,
     "metadata": {},
     "output_type": "execute_result"
    }
   ],
   "source": [
    "\"ab\" == \"ab\""
   ]
  },
  {
   "cell_type": "code",
   "execution_count": 19,
   "metadata": {
    "collapsed": false
   },
   "outputs": [
    {
     "name": "stdout",
     "output_type": "stream",
     "text": [
      "ssad\n"
     ]
    }
   ],
   "source": [
    "st = 'ssad'\n",
    "print \"{}\".format(st)"
   ]
  }
 ],
 "metadata": {
  "kernelspec": {
   "display_name": "Python 2",
   "language": "python",
   "name": "python2"
  },
  "language_info": {
   "codemirror_mode": {
    "name": "ipython",
    "version": 2
   },
   "file_extension": ".py",
   "mimetype": "text/x-python",
   "name": "python",
   "nbconvert_exporter": "python",
   "pygments_lexer": "ipython2",
   "version": "2.7.10"
  }
 },
 "nbformat": 4,
 "nbformat_minor": 0
}
