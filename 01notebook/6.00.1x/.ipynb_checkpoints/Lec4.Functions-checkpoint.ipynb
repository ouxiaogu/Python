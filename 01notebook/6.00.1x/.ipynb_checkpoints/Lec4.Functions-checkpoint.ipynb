{
 "cells": [
  {
   "cell_type": "markdown",
   "metadata": {},
   "source": [
    "## Lecture 4 - Functions:\n",
    "\n",
    "\"turing complete\"\n",
    "\n",
    "function: abstract \n",
    "\n",
    "###  1. Function syntax\n",
    "\n",
    "special return *None*"
   ]
  },
  {
   "cell_type": "code",
   "execution_count": 5,
   "metadata": {
    "collapsed": false
   },
   "outputs": [
    {
     "data": {
      "text/plain": [
       "NoneType"
      ]
     },
     "execution_count": 5,
     "metadata": {},
     "output_type": "execute_result"
    }
   ],
   "source": [
    "type(None)"
   ]
  },
  {
   "cell_type": "code",
   "execution_count": 7,
   "metadata": {
    "collapsed": false
   },
   "outputs": [
    {
     "data": {
      "text/plain": [
       "<function __main__.f>"
      ]
     },
     "execution_count": 7,
     "metadata": {},
     "output_type": "execute_result"
    }
   ],
   "source": [
    "def f(x, y):\n",
    "   '''\n",
    "   x: int or float.\n",
    "   y: int or float\n",
    "   '''\n",
    "   x + y - 2\n",
    "    \n",
    "f"
   ]
  },
  {
   "cell_type": "code",
   "execution_count": 8,
   "metadata": {
    "collapsed": false
   },
   "outputs": [
    {
     "data": {
      "text/plain": [
       "<function __main__.a>"
      ]
     },
     "execution_count": 8,
     "metadata": {},
     "output_type": "execute_result"
    }
   ],
   "source": [
    "def a(x, y, z):\n",
    "     if x:\n",
    "         return y\n",
    "     else:\n",
    "         return z\n",
    "\n",
    "def b(q, r):\n",
    "    return a(q>r, q, r)\n",
    "b(a, b)"
   ]
  },
  {
   "cell_type": "code",
   "execution_count": 9,
   "metadata": {
    "collapsed": false
   },
   "outputs": [
    {
     "name": "stdout",
     "output_type": "stream",
     "text": [
      "3\n",
      "2\n"
     ]
    }
   ],
   "source": [
    "def clip(lo, x, hi):\n",
    "    '''\n",
    "    Takes in three numbers and returns a value based on the value of x.\n",
    "    Returns:\n",
    "     - lo, when x < lo\n",
    "     - hi, when x > hi\n",
    "     - x, otherwise\n",
    "    '''\n",
    "    # Your code here\n",
    "    return min(max(lo, x), hi)\n",
    "print clip(1, 4, 3)\n",
    "print clip(1, 2, 3)"
   ]
  },
  {
   "cell_type": "code",
   "execution_count": 11,
   "metadata": {
    "collapsed": false
   },
   "outputs": [
    {
     "name": "stdout",
     "output_type": "stream",
     "text": [
      "True\n"
     ]
    }
   ],
   "source": [
    "def odd(x):\n",
    "    '''\n",
    "    x: int or float.\n",
    "\n",
    "    returns: True if x is odd, False otherwise\n",
    "    '''\n",
    "    # Your code here\n",
    "    return bool(x%2)\n",
    "print odd(1)"
   ]
  },
  {
   "cell_type": "code",
   "execution_count": 14,
   "metadata": {
    "collapsed": false
   },
   "outputs": [
    {
     "name": "stdout",
     "output_type": "stream",
     "text": [
      "False\n"
     ]
    }
   ],
   "source": [
    "def isVowel(char):\n",
    "    '''\n",
    "    char: a single letter of any case\n",
    "\n",
    "    returns: True if char is a vowel and False otherwise.\n",
    "    '''\n",
    "    # Your code here\n",
    "    #return char.lower() == 'a' or char.lower() == 'e' or char.lower() == 'u' or char.lower() == 'i' or char.lower() == 'o'\n",
    "    return char.lower() in ['a', 'e', 'i', 'o','u']\n",
    "print(isVowel('s'))"
   ]
  },
  {
   "cell_type": "markdown",
   "metadata": {},
   "source": [
    "###  2. Abstraction by specification\n",
    "\n",
    "###  3. Functions and scoping\n",
    "\n",
    "enviroments tracking binding of variables and values\n",
    "\n",
    "value: current environment\n",
    "\n",
    "python shell: default/global environment\n",
    "\n",
    "In functions, just to evaluate  `<expr0>(<expr1>,...,<exprn>)`\n",
    "\n",
    "- first evaluate `<expr0>`, look up procedure object in the envoriment\n",
    "- then evaluate each of the other `<expri>` to get the value of parameters\n",
    "- then bind the parameters(形参) names in procedure object to values of argument(实参) in a new frame, which has as a parent the enviroment in which procedure was defined. (new context)\n",
    "- evaluate body of procedure relative to the new frame.\n",
    "\n",
    "i.e. in each function/procedure, we create its own enviroment/frame/context"
   ]
  },
  {
   "cell_type": "code",
   "execution_count": 8,
   "metadata": {
    "collapsed": false
   },
   "outputs": [],
   "source": [
    "x = 5; y =8\n",
    "def max(x,y):\n",
    "    if x >= y:\n",
    "        return x\n",
    "    else:\n",
    "        return y\n",
    "    \n",
    "z = max(3,4)"
   ]
  },
  {
   "cell_type": "code",
   "execution_count": 10,
   "metadata": {
    "collapsed": false
   },
   "outputs": [
    {
     "name": "stdout",
     "output_type": "stream",
     "text": [
      "x = 4\n",
      "f(x) = 4\n",
      "x = 3\n"
     ]
    }
   ],
   "source": [
    "# two procedure enviroment: local biding and global binding\n",
    "def f(x):\n",
    "    y = 1\n",
    "    x = x + y\n",
    "    print('x = '+ str(x))\n",
    "    return x\n",
    "x = 3\n",
    "print 'f(x) = '+ str(f(x))\n",
    "print('x = '+ str(x))"
   ]
  },
  {
   "cell_type": "code",
   "execution_count": null,
   "metadata": {
    "collapsed": true
   },
   "outputs": [],
   "source": [
    "# there procedure enviroment: local biding and global binding\n",
    "def square(x):\n",
    "    return x*x\n",
    "def twoPower(x,n):\n",
    "    while n>1:\n",
    "        x = square(x)\n",
    "        n = n/2\n",
    "    return x\n",
    "x = 5\n",
    "n = 1\n",
    "print(twoPower(2,8))\n"
   ]
  },
  {
   "cell_type": "markdown",
   "metadata": {},
   "source": [
    "###  4. Floating point numbers\n",
    "###  5. Specifications\n"
   ]
  },
  {
   "cell_type": "code",
   "execution_count": 6,
   "metadata": {
    "collapsed": false
   },
   "outputs": [
    {
     "name": "stdout",
     "output_type": "stream",
     "text": [
      "numGuess = 28\n",
      "-8.54988000356\n",
      "numGuess = 9\n",
      "-0.500122070312\n",
      "numGuess = 11\n",
      "0.499938964844\n"
     ]
    }
   ],
   "source": [
    "def findRoot(y, power):\n",
    "    if y < 0 and power%2==0:\n",
    "        print(\"Negative number don't have even power root!\") \n",
    "    negNum = False\n",
    "    if y < 0:\n",
    "        negNum = True\n",
    "        y = -y\n",
    "    episilon = 0.01\n",
    "    numGuess = 0\n",
    "    #low = 0.\n",
    "    #high = y\n",
    "    if  y < 1:\n",
    "        low =  y\n",
    "        high = 1\n",
    "    else:\n",
    "        low =  0\n",
    "        high = y   \n",
    "    ans = (low+high)/2.\n",
    "    \n",
    "    while abs(ans**power - y) >= episilon**2:\n",
    "        if ans**power - y > 0:\n",
    "            high = ans\n",
    "        elif ans**power - y < 0:\n",
    "            low = ans\n",
    "        ans = (low+high)/2.\n",
    "        numGuess += 1\n",
    "    print('numGuess = ' + str(numGuess))\n",
    "    if negNum:\n",
    "        ans = -ans\n",
    "    return ans\n",
    "        \n",
    "print findRoot(-625,3)\n",
    "print findRoot(-0.125,3)\n",
    "print findRoot(0.25,2)"
   ]
  },
  {
   "cell_type": "markdown",
   "metadata": {},
   "source": [
    "###  6. Modules\n",
    "\n",
    "  "
   ]
  },
  {
   "cell_type": "markdown",
   "metadata": {},
   "source": [
    "### string functions\n",
    "\n",
    "1. `str.index(sub[, start[, end]])`: index of the first occurrence of x in s, Like find(), but raise `ValueError` when the substring is not found.\n",
    "2. `str.find(sub[, start[, end]])`: Return the lowest index in the string where substring sub is found, Return *-1* if sub is not found.\n"
   ]
  },
  {
   "cell_type": "code",
   "execution_count": 18,
   "metadata": {
    "collapsed": false
   },
   "outputs": [
    {
     "name": "stdout",
     "output_type": "stream",
     "text": [
      "NUMBER ONE - THE LARCH\n",
      "0\n",
      "8\n",
      "Number seven - the larch\n"
     ]
    }
   ],
   "source": [
    "str1 = 'exterminate!' \n",
    "str2 = 'number one - the larch'\n",
    "print str2.swapcase()\n",
    "print str1.index('e')\n",
    "str2 = str2.capitalize() \n",
    "print str2.find('n')\n",
    "print str2.replace('one', 'seven')"
   ]
  },
  {
   "cell_type": "code",
   "execution_count": null,
   "metadata": {
    "collapsed": true
   },
   "outputs": [],
   "source": []
  }
 ],
 "metadata": {
  "kernelspec": {
   "display_name": "Python 2",
   "language": "python",
   "name": "python2"
  },
  "language_info": {
   "codemirror_mode": {
    "name": "ipython",
    "version": 2
   },
   "file_extension": ".py",
   "mimetype": "text/x-python",
   "name": "python",
   "nbconvert_exporter": "python",
   "pygments_lexer": "ipython2",
   "version": "2.7.10"
  }
 },
 "nbformat": 4,
 "nbformat_minor": 0
}
