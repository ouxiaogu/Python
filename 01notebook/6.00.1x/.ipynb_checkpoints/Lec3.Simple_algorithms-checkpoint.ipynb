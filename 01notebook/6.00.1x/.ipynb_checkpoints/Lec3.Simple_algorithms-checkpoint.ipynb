{
 "cells": [
  {
   "cell_type": "markdown",
   "metadata": {},
   "source": [
    "### 1. Simple programs\n",
    "\n",
    "binary \n",
    "\n",
    "guess and check\n",
    "\n",
    "concept of reuse\n",
    "\n",
    "### 2. Iteration\n",
    "\n",
    "1. start with test\n",
    "2. True loop body, reevaluate th test\n",
    "3. loop\n",
    "\n",
    "branching is in constant time, but loop not.\n",
    "\n",
    "### 3. Input\n",
    "\n",
    "### 4. Exhaustive enumeration\n",
    "\n",
    "    Guess and check method need to work within a finite number; exhaustive enumeration（详尽的枚举）should be a good guess generator in an organized manner\n",
    "\n",
    "5. Guess and check"
   ]
  },
  {
   "cell_type": "code",
   "execution_count": 3,
   "metadata": {
    "collapsed": false
   },
   "outputs": [
    {
     "name": "stdout",
     "output_type": "stream",
     "text": [
      "Enter an integer: 24\n",
      "24 is not a perfect cube\n"
     ]
    }
   ],
   "source": [
    "# lecture 3.3, slide 3\n",
    "\n",
    "# Find the cube root of a perfect cube\n",
    "x = int(raw_input('Enter an integer: '))\n",
    "for ans in range(0, abs(x)+1):\n",
    "    if ans**3 == abs(x):\n",
    "        break\n",
    "if ans**3 != abs(x):\n",
    "    print(str(x) + ' is not a perfect cube')\n",
    "else:\n",
    "    if x < 0:\n",
    "        ans = -ans\n",
    "    print('Cube root of ' + str(x) + ' is ' + str(ans))\n"
   ]
  },
  {
   "cell_type": "code",
   "execution_count": 7,
   "metadata": {
    "collapsed": false
   },
   "outputs": [
    {
     "name": "stdout",
     "output_type": "stream",
     "text": [
      "numGuess 1: 4.1\n",
      "numGuess 2: 4.2\n",
      "numGuess 3: 4.3\n",
      "numGuess 4: 4.4\n",
      "numGuess 5: 4.5\n",
      "numGuess 6: 4.6\n",
      "numGuess 7: 4.7\n",
      "numGuess 8: 4.8\n",
      "succeeded: 4.8\n"
     ]
    }
   ],
   "source": [
    "# L3 PROBLEM 8\n",
    "x = 23\n",
    "epsilon = 0.1\n",
    "step = 0.1\n",
    "guess = 4.0\n",
    "numGuess = 0;\n",
    "while abs(guess**2-x) >= epsilon:\n",
    "    if guess <= x:\n",
    "        numGuess += 1\n",
    "        guess += step\n",
    "        print 'numGuess ' + str(numGuess) + ': '+str(guess)\n",
    "    else:\n",
    "        break\n",
    "\n",
    "if abs(guess**2 - x) >= epsilon:\n",
    "    print 'failed' + str(guess)\n",
    "else:\n",
    "    print 'succeeded: ' + str(guess)"
   ]
  },
  {
   "cell_type": "markdown",
   "metadata": {},
   "source": [
    "### 6. For and while loops\n",
    "\n",
    "```py\n",
    "for <identifier> in <sequence>:\n",
    "<code block>\n",
    "```"
   ]
  },
  {
   "cell_type": "code",
   "execution_count": 4,
   "metadata": {
    "collapsed": false
   },
   "outputs": [
    {
     "name": "stdout",
     "output_type": "stream",
     "text": [
      "M\n",
      "numVowels is: 11\n",
      "numCons is: -25\n"
     ]
    }
   ],
   "source": [
    "school = 'Massachusetts Institute of Technology'\n",
    "numVowels = 0\n",
    "numCons = 0\n",
    "\n",
    "for char in school:\n",
    "    if char == 'a' or char == 'e' or char == 'i' \\\n",
    "       or char == 'o' or char == 'u':\n",
    "        numVowels += 1\n",
    "    elif char == 'o' or char == 'M':\n",
    "        print char\n",
    "    else:\n",
    "        numCons -= 1\n",
    "\n",
    "print 'numVowels is: ' + str(numVowels)\n",
    "print 'numCons is: ' + str(numCons) "
   ]
  },
  {
   "cell_type": "code",
   "execution_count": 5,
   "metadata": {
    "collapsed": false
   },
   "outputs": [
    {
     "name": "stdout",
     "output_type": "stream",
     "text": [
      "Letter # 0 is S\n",
      "1\n"
     ]
    }
   ],
   "source": [
    "count = 0\n",
    "for letter in 'Snow!':\n",
    "    print 'Letter # ' + str(count) + ' is ' + str(letter)\n",
    "    count += 1\n",
    "    break\n",
    "print count "
   ]
  },
  {
   "cell_type": "code",
   "execution_count": null,
   "metadata": {
    "collapsed": true
   },
   "outputs": [],
   "source": [
    "'Letter # 0 is S', 1"
   ]
  },
  {
   "cell_type": "code",
   "execution_count": 6,
   "metadata": {
    "collapsed": false
   },
   "outputs": [
    {
     "name": "stdout",
     "output_type": "stream",
     "text": [
      "0\n",
      "1\n",
      "2\n",
      "3\n",
      "4\n",
      "4\n"
     ]
    }
   ],
   "source": [
    "num = 10\n",
    "for num in range(5):\n",
    "    print num\n",
    "print num "
   ]
  },
  {
   "cell_type": "markdown",
   "metadata": {
    "collapsed": true
   },
   "source": [
    "### 7. Approximate solutions"
   ]
  },
  {
   "cell_type": "markdown",
   "metadata": {},
   "source": [
    "#### decimal integer to binary\n",
    "\n",
    "1. e.g., `x = 1*2**4 + 0*2**3 + 0*2**2 + 1*2**1 + 1*2**0`, 11\n",
    "2. take the reminder `x%2`, that gave the last bit\n",
    "3. if then divide `x` by 2 , all the bits shifted left: \n",
    "    `x = 1*2**3 + 0*2**2 + 0*2**1 + 1*2**0`\n",
    "    \n",
    "    **shifted left**: means all the bits found by *x/2* are at the left side of the last bits.\n",
    "4. loop 1~3"
   ]
  },
  {
   "cell_type": "code",
   "execution_count": 3,
   "metadata": {
    "collapsed": false
   },
   "outputs": [
    {
     "name": "stdout",
     "output_type": "stream",
     "text": [
      "Input a decimial number:100\n",
      "1100100\n"
     ]
    }
   ],
   "source": [
    "# lecture 3.4, slide 3\n",
    "# raw_input returned a string type\n",
    "num = int(raw_input(\"Input a decimial number:\"))\n",
    "\n",
    "if num < 0:\n",
    "    isNeg = True\n",
    "    num = abs(num)\n",
    "else:\n",
    "    isNeg = False\n",
    "result = ''\n",
    "if num == 0:\n",
    "    result = '0'\n",
    "while num > 0:\n",
    "    result = str(num%2) + result\n",
    "    num = num/2\n",
    "if isNeg:\n",
    "    result = '-' + result\n",
    "print(result)"
   ]
  },
  {
   "cell_type": "markdown",
   "metadata": {},
   "source": [
    "#### fractions to binary\n",
    "\n",
    "1. e.g., `x = 3/8 = 0.375 = 3*10**(-1)+7*10**(-2)+5*10**(-3)'\n",
    "2. we can convert they into integer by multiple a power of 2, then shift them back by divided the same power\n",
    "\n",
    "**Note**\n",
    "\n",
    "1. `abs(x-y)<0.0001` better than `x==y`"
   ]
  },
  {
   "cell_type": "markdown",
   "metadata": {},
   "source": [
    "### 9. bisection search\n",
    "\n",
    "dramatically reduce the computational cost."
   ]
  },
  {
   "cell_type": "code",
   "execution_count": 4,
   "metadata": {
    "collapsed": false
   },
   "outputs": [
    {
     "name": "stdout",
     "output_type": "stream",
     "text": [
      "numGuess = 33\n",
      "111.108055622\n"
     ]
    }
   ],
   "source": [
    "def sqrt(y):\n",
    "    episilon = 0.01\n",
    "    numGuess = 0\n",
    "    low = 0.\n",
    "    high = y\n",
    "    ans = (low+high)/2.\n",
    "    \n",
    "    while abs(ans*ans - y) >= episilon**2:\n",
    "        if ans*ans - y > 0:\n",
    "            high = ans\n",
    "        elif ans*ans - y < 0:\n",
    "            low = ans\n",
    "        ans = (low+high)/2.\n",
    "        numGuess += 1\n",
    "    print('numGuess = ' + str(numGuess))\n",
    "    return ans\n",
    "        \n",
    "print sqrt(12345)"
   ]
  },
  {
   "cell_type": "code",
   "execution_count": 14,
   "metadata": {
    "collapsed": false
   },
   "outputs": [
    {
     "name": "stdout",
     "output_type": "stream",
     "text": [
      "Please think of a number between 0 and 100!\n",
      "Is your secret number 50?\n",
      "Enter 'h' to indicate the guess is too high.         Enter 'l' to indicate the guess is too low. Enter 'c'        to indicate I guessed correctly. h\n",
      "Is your secret number 25?\n",
      "Enter 'h' to indicate the guess is too high.         Enter 'l' to indicate the guess is too low. Enter 'c'        to indicate I guessed correctly. l\n",
      "Is your secret number 38?\n",
      "Enter 'h' to indicate the guess is too high.         Enter 'l' to indicate the guess is too low. Enter 'c'        to indicate I guessed correctly. h\n",
      "Is your secret number 32?\n",
      "Enter 'h' to indicate the guess is too high.         Enter 'l' to indicate the guess is too low. Enter 'c'        to indicate I guessed correctly. h\n",
      "Is your secret number 29?\n",
      "Enter 'h' to indicate the guess is too high.         Enter 'l' to indicate the guess is too low. Enter 'c'        to indicate I guessed correctly. h\n",
      "Is your secret number 27?\n",
      "Enter 'h' to indicate the guess is too high.         Enter 'l' to indicate the guess is too low. Enter 'c'        to indicate I guessed correctly. l\n",
      "Is your secret number 28?\n",
      "Enter 'h' to indicate the guess is too high.         Enter 'l' to indicate the guess is too low. Enter 'c'        to indicate I guessed correctly. c\n",
      "Game over. Your secret number was: 28\n"
     ]
    }
   ],
   "source": [
    "### L3 PROBLEM 9\n",
    "import random\n",
    "print \"Please think of a number between 0 and 100!\"\n",
    "secret = random.randint(0,99)\n",
    "low = 0\n",
    "high = 99\n",
    "guess = int(round((low+high)/2.))\n",
    "print \"Is your secret number \" + str(guess)+ \"?\"\n",
    "while guess != secret:\n",
    "    if guess < secret:\n",
    "        print \"Enter 'h' to indicate the guess is too high. \\\n",
    "        Enter 'l' to indicate the guess is too low. Enter 'c'\\\n",
    "        to indicate I guessed correctly.\" + ' l'\n",
    "        low = guess\n",
    "    else:\n",
    "        print \"Enter 'h' to indicate the guess is too high. \\\n",
    "        Enter 'l' to indicate the guess is too low. Enter 'c'\\\n",
    "        to indicate I guessed correctly.\" + ' h'\n",
    "        high = guess\n",
    "    guess = int(round((low+high)/2.))\n",
    "    print \"Is your secret number \" + str(guess)+ \"?\"\n",
    "\n",
    "print \"Enter 'h' to indicate the guess is too high. \\\n",
    "        Enter 'l' to indicate the guess is too low. Enter 'c'\\\n",
    "        to indicate I guessed correctly.\" + ' c'\n",
    "print \"Game over. Your secret number was: \"+str(guess)\n",
    "# secret = raw_input()"
   ]
  },
  {
   "cell_type": "code",
   "execution_count": 17,
   "metadata": {
    "collapsed": false
   },
   "outputs": [
    {
     "name": "stdout",
     "output_type": "stream",
     "text": [
      "Please think of a number between 0 and 100!\n"
     ]
    },
    {
     "ename": "NameError",
     "evalue": "name 'floor' is not defined",
     "output_type": "error",
     "traceback": [
      "\u001b[1;31m---------------------------------------------------------------------------\u001b[0m",
      "\u001b[1;31mNameError\u001b[0m                                 Traceback (most recent call last)",
      "\u001b[1;32m<ipython-input-17-b32b3a682d51>\u001b[0m in \u001b[0;36m<module>\u001b[1;34m()\u001b[0m\n\u001b[0;32m      4\u001b[0m \u001b[0mhigh\u001b[0m \u001b[1;33m=\u001b[0m \u001b[1;36m99\u001b[0m\u001b[1;33m\u001b[0m\u001b[0m\n\u001b[0;32m      5\u001b[0m \u001b[0msecrect\u001b[0m \u001b[1;33m=\u001b[0m \u001b[1;36m20\u001b[0m\u001b[1;33m\u001b[0m\u001b[0m\n\u001b[1;32m----> 6\u001b[1;33m \u001b[0mguess\u001b[0m \u001b[1;33m=\u001b[0m \u001b[0mint\u001b[0m\u001b[1;33m(\u001b[0m\u001b[0mfloor\u001b[0m\u001b[1;33m(\u001b[0m\u001b[1;33m(\u001b[0m\u001b[0mlow\u001b[0m\u001b[1;33m+\u001b[0m\u001b[0mhigh\u001b[0m\u001b[1;33m)\u001b[0m\u001b[1;33m/\u001b[0m\u001b[1;36m2.\u001b[0m\u001b[1;33m)\u001b[0m\u001b[1;33m)\u001b[0m\u001b[1;33m\u001b[0m\u001b[0m\n\u001b[0m\u001b[0;32m      7\u001b[0m \u001b[1;32mprint\u001b[0m \u001b[1;34m\"Is your secret number \"\u001b[0m \u001b[1;33m+\u001b[0m \u001b[0mstr\u001b[0m\u001b[1;33m(\u001b[0m\u001b[0mguess\u001b[0m\u001b[1;33m)\u001b[0m\u001b[1;33m+\u001b[0m \u001b[1;34m\"?\"\u001b[0m\u001b[1;33m\u001b[0m\u001b[0m\n\u001b[0;32m      8\u001b[0m \u001b[0mjudge\u001b[0m \u001b[1;33m=\u001b[0m \u001b[0mraw_input\u001b[0m\u001b[1;33m(\u001b[0m\u001b[1;34m\"Enter 'h' to indicate the guess is too high. Enter 'l' to indicate the guess is too low. Enter 'c' to indicate I guessed correctly.\"\u001b[0m\u001b[1;33m)\u001b[0m\u001b[1;33m\u001b[0m\u001b[0m\n",
      "\u001b[1;31mNameError\u001b[0m: name 'floor' is not defined"
     ]
    }
   ],
   "source": [
    "# Paste your code into this box\n",
    "print \"Please think of a number between 0 and 100!\"\n",
    "low = 0\n",
    "high = 100\n",
    "guess = int((low+high)/2)\n",
    "print \"Is your secret number \" + str(guess)+ \"?\"\n",
    "judge = raw_input(\"Enter 'h' to indicate the guess is too high. Enter 'l' to indicate the guess is too low. Enter 'c' to indicate I guessed correctly. \")\n",
    "while judge != 'c':    \n",
    "    if judge == 'l':\n",
    "        low = guess+1\n",
    "    elif judge == 'h':\n",
    "        high = guess-1\n",
    "    else:\n",
    "        print('Sorry, I did not understand your input.')\n",
    "    guess = int((low+high)/2)\n",
    "    print \"Is your secret number \" + str(guess)+ \"?\"\n",
    "    judge = raw_input(\"Enter 'h' to indicate the guess is too high. Enter 'l' to indicate the guess is too low. Enter 'c' to indicate I guessed correctly. \")\n",
    "\n",
    "print \"Enter 'h' to indicate the guess is too high. Enter 'l' to indicate the guess is too low. Enter 'c' to indicate I guessed correctly. \" + ' c'\n",
    "print \"Game over. Your secret number was: \"+str(guess)"
   ]
  },
  {
   "cell_type": "markdown",
   "metadata": {},
   "source": [
    "### 10. Newton-Raphson\n",
    "\n",
    "1. general approximation, polynomial equations, \n",
    "\n",
    "    $$P(x) = a_n x^n + a_{n-1} x^{n-1} + a_{n-2} x^{n-2} + \\cdots+ a_2 x^2 + a_1 x + a_0$$\n",
    "    \n",
    "    - Then just solve equation $P(r)=0$, get the result $r$.\n",
    "    - use guess-check to solve equation, Newton proved if `g` is the current guess, then $g- \\frac{p(g)}{p^{'}{(g)}}$ is a better approximation.\n",
    "    \n",
    "2. For square root question:\n",
    "    - the polynomial equation is $p(x) = x^2 - c = 0$, then  $p^{'}{(x)} = 2x$\n",
    "    - update guess, $g$ -> $g-\\frac{g^2-c}{2g}$\n"
   ]
  },
  {
   "cell_type": "code",
   "execution_count": 10,
   "metadata": {
    "collapsed": false
   },
   "outputs": [
    {
     "name": "stdout",
     "output_type": "stream",
     "text": [
      "Guess 1: 0.75\n",
      "Guess 2: 0.708333333333\n",
      "Guess 3: 0.707107843137\n",
      "0.707107843137\n"
     ]
    }
   ],
   "source": [
    "def sqrt(y):\n",
    "    episilon = 0.01\n",
    "    numGuess = 0\n",
    "    guess = y/1.\n",
    "    while abs(guess*guess - y)>=episilon**2:\n",
    "        guess = guess-(guess**2 - y)/(2*guess)\n",
    "        numGuess += 1\n",
    "        print(\"Guess {}: {}\".format(numGuess, guess))\n",
    "    return guess\n",
    "       \n",
    "print sqrt(0.5)"
   ]
  }
 ],
 "metadata": {
  "kernelspec": {
   "display_name": "Python 2",
   "language": "python",
   "name": "python2"
  },
  "language_info": {
   "codemirror_mode": {
    "name": "ipython",
    "version": 2
   },
   "file_extension": ".py",
   "mimetype": "text/x-python",
   "name": "python",
   "nbconvert_exporter": "python",
   "pygments_lexer": "ipython2",
   "version": "2.7.10"
  }
 },
 "nbformat": 4,
 "nbformat_minor": 0
}
