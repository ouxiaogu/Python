{
 "cells": [
  {
   "cell_type": "markdown",
   "metadata": {},
   "source": [
    "## Lecture 5 - Recursion:\n",
    "\n",
    "关于“回溯”一词，\n",
    "\n",
    "\n",
    "1\\. understanding iteration algorithm using state variables\n",
    "\n",
    "2\\. basic idea of recursion\n",
    "\n",
    "    (1) Reduce a problem to a simpler (or smaller) version of the same problem, plus some simple computations;  \n",
    "     Keep reducing until reach a simple case that can be solved directly.\n",
    "\n",
    "    (2) recursive case (there may be not only one time recursive invoking) + basic case (maybe not only one, e.g. Fibonacci)\n",
    "\n",
    "    (3) idea of divdie-and-conquer\n",
    "\n",
    "3\\. prove recursion algorithm is corrent using mathmetical induction\n",
    "\n",
    "4\\. Examples:\n",
    "\n",
    "    (1) Hanoi tower\n",
    "\n",
    "    (2) Fibonacci\n",
    "\n",
    "    (3) palindrome\n",
    "\n",
    "5\\. global variable.\n",
    "\n",
    "6\\. tips:\n",
    "\n",
    "    (1) use == > < to compare a string with another one.\n",
    "\n",
    "    (2) The *assert* statement\n",
    "\n",
    "    (3) *wrapper function*"
   ]
  },
  {
   "cell_type": "code",
   "execution_count": 7,
   "metadata": {
    "collapsed": false
   },
   "outputs": [
    {
     "data": {
      "text/plain": [
       "27"
      ]
     },
     "execution_count": 7,
     "metadata": {},
     "output_type": "execute_result"
    }
   ],
   "source": [
    "#L5 Prob 1\n",
    "def iterPower(base, exp):\n",
    "    '''\n",
    "    base: int or float.\n",
    "    exp: int >= 0\n",
    " \n",
    "    returns: int or float, base^exp\n",
    "    '''\n",
    "    # Your code here\n",
    "    assert type(exp) == int or type(exp) == float\n",
    "    assert type(exp) == int and exp>=0\n",
    "    result = 1\n",
    "    for i in range(exp):\n",
    "        result *= base\n",
    "    return result\n",
    "iterPower(3, 3)"
   ]
  },
  {
   "cell_type": "code",
   "execution_count": 5,
   "metadata": {
    "collapsed": false
   },
   "outputs": [
    {
     "data": {
      "text/plain": [
       "int"
      ]
     },
     "execution_count": 5,
     "metadata": {},
     "output_type": "execute_result"
    }
   ],
   "source": [
    "type(1)"
   ]
  },
  {
   "cell_type": "code",
   "execution_count": 8,
   "metadata": {
    "collapsed": false
   },
   "outputs": [
    {
     "data": {
      "text/plain": [
       "27"
      ]
     },
     "execution_count": 8,
     "metadata": {},
     "output_type": "execute_result"
    }
   ],
   "source": [
    "#L5 Prob 2 recursive thinking\n",
    "def recurPower(base, exp):\n",
    "    '''\n",
    "    base: int or float.\n",
    "    exp: int >= 0\n",
    " \n",
    "    returns: int or float, base^exp\n",
    "    '''\n",
    "    # Your code here\n",
    "    assert type(exp) == int or type(exp) == float\n",
    "    assert type(exp) == int and exp>=0\n",
    "    if exp == 0:\n",
    "        return 1\n",
    "    else:\n",
    "        return base*recurPower(base, exp-1)\n",
    "recurPower(3, 3)"
   ]
  },
  {
   "cell_type": "code",
   "execution_count": 10,
   "metadata": {
    "collapsed": false
   },
   "outputs": [
    {
     "data": {
      "text/plain": [
       "27"
      ]
     },
     "execution_count": 10,
     "metadata": {},
     "output_type": "execute_result"
    }
   ],
   "source": [
    "#L5 Prob 3 recursive power new\n",
    "def recurPowerNew(base, exp):\n",
    "    '''\n",
    "    base: int or float.\n",
    "    exp: int >= 0\n",
    " \n",
    "    returns: int or float, base^exp\n",
    "    '''\n",
    "    # Your code here\n",
    "    assert type(exp) == int or type(exp) == float\n",
    "    assert type(exp) == int and exp>=0\n",
    "    if exp == 0:\n",
    "        return 1\n",
    "    elif exp%2 == 0:\n",
    "        return recurPowerNew(base, exp/2)*recurPowerNew(base, exp/2)\n",
    "    else:\n",
    "        return base*recurPowerNew(base, exp-1)\n",
    "recurPowerNew(3, 3)"
   ]
  },
  {
   "cell_type": "code",
   "execution_count": 13,
   "metadata": {
    "collapsed": false
   },
   "outputs": [
    {
     "name": "stdout",
     "output_type": "stream",
     "text": [
      "2\n",
      "6\n",
      "1\n"
     ]
    }
   ],
   "source": [
    "#L5 Prob 4 successivelly gcd\n",
    "def gcdIter(a, b):\n",
    "    '''\n",
    "    a, b: positive integers\n",
    "    \n",
    "    returns: a positive integer, the greatest common divisor of a & b.\n",
    "    '''\n",
    "    # Your code here\n",
    "    assert type(a) == int and type(b) == int\n",
    "    assert a > 0 and b > 0\n",
    "    n = min(a, b)\n",
    "    result = 1\n",
    "    for i in range(n+1):\n",
    "        if i>1:\n",
    "            if a%i == 0 and b%i == 0 :\n",
    "                result = i;\n",
    "    return result\n",
    "print gcdIter(2, 12)\n",
    "print gcdIter(6, 12)\n",
    "print gcdIter(17, 12)"
   ]
  },
  {
   "cell_type": "code",
   "execution_count": 16,
   "metadata": {
    "collapsed": false
   },
   "outputs": [
    {
     "name": "stdout",
     "output_type": "stream",
     "text": [
      "2\n",
      "6\n",
      "2\n"
     ]
    }
   ],
   "source": [
    "# L5 PROBLEM 5\n",
    "def gcdRecur(a, b):\n",
    "    '''\n",
    "    a, b: positive integers\n",
    "    \n",
    "    returns: a positive integer, the greatest common divisor of a & b.\n",
    "    '''\n",
    "    # Your code here\n",
    "    assert type(a) == int and type(b) == int\n",
    "    assert a >= 0 and b >= 0\n",
    "    if b == 0:\n",
    "        return a;\n",
    "    else:\n",
    "        return gcdRecur(b, a%b)\n",
    "print gcdIter(2, 12)\n",
    "print gcdIter(6, 12)\n",
    "print gcdIter(12, 2) "
   ]
  },
  {
   "cell_type": "code",
   "execution_count": 17,
   "metadata": {
    "collapsed": true
   },
   "outputs": [],
   "source": [
    "# L5 PROBLEM 6\n",
    "def lenIter(aStr):\n",
    "    '''\n",
    "    aStr: a string\n",
    "    \n",
    "    returns: int, the length of aStr\n",
    "    '''\n",
    "    # Your code here\n",
    "    result = 0\n",
    "    for a in aStr:\n",
    "        result += 1\n",
    "    return result"
   ]
  },
  {
   "cell_type": "code",
   "execution_count": 23,
   "metadata": {
    "collapsed": false
   },
   "outputs": [
    {
     "name": "stdout",
     "output_type": "stream",
     "text": [
      "6\n"
     ]
    }
   ],
   "source": [
    "# L5 PROBLEM 7\n",
    "def lenRecur(aStr):\n",
    "    '''\n",
    "    aStr: a string\n",
    "    \n",
    "    returns: int, the length of aStr\n",
    "    '''\n",
    "    # Your code here\n",
    "    if aStr == '':\n",
    "        return 0\n",
    "    else:\n",
    "        return 1 + lenRecur(aStr[1:])\n",
    "print lenRecur('saffdg')"
   ]
  },
  {
   "cell_type": "code",
   "execution_count": 24,
   "metadata": {
    "collapsed": false
   },
   "outputs": [
    {
     "name": "stdout",
     "output_type": "stream",
     "text": [
      "True\n"
     ]
    }
   ],
   "source": [
    "a = \"asad\"\n",
    "print a[5:]==''"
   ]
  },
  {
   "cell_type": "code",
   "execution_count": 32,
   "metadata": {
    "collapsed": false
   },
   "outputs": [
    {
     "name": "stdout",
     "output_type": "stream",
     "text": [
      "True\n",
      "False\n"
     ]
    }
   ],
   "source": [
    "# L5 PROBLEM 7\n",
    "def isIn(char, aStr):\n",
    "    '''\n",
    "    char: a single character\n",
    "    aStr: an alphabetized string\n",
    "    \n",
    "    returns: True if char is in aStr; False otherwise\n",
    "    '''\n",
    "    # Your code here\n",
    "    n = len(aStr)\n",
    "    if aStr == '':\n",
    "        return False\n",
    "    if n==1:\n",
    "        #print (char +' '+ aStr)\n",
    "        if char == aStr:\n",
    "            return True\n",
    "        else:\n",
    "            return False\n",
    "    else:\n",
    "        middle = int(n/2)\n",
    "        return (isIn(char, aStr[0:middle]) or isIn(char, aStr[middle:]))\n",
    "    \n",
    "print isIn('g', \"abcdeeeeg\")        \n",
    "print isIn('f', \"abcdeeeeg\")"
   ]
  },
  {
   "cell_type": "code",
   "execution_count": 40,
   "metadata": {
    "collapsed": false
   },
   "outputs": [
    {
     "name": "stdout",
     "output_type": "stream",
     "text": [
      "True\n"
     ]
    }
   ],
   "source": [
    "# L5 PROBLEM 8\n",
    "def semordnilapWrapper(str1, str2):\n",
    "    # A single-length string cannot be semordnilap\n",
    "    if len(str1) == 1 or len(str2) == 1:\n",
    "        return False\n",
    "\n",
    "    # Equal strings cannot be semordnilap\n",
    "    if str1 == str2:\n",
    "        return False\n",
    "\n",
    "    return semordnilap(str1, str2)\n",
    "def semordnilap(str1, str2):\n",
    "    '''\n",
    "    str1: a string\n",
    "    str2: a string\n",
    "    \n",
    "    returns: True if str1 and str2 are semordnilap;\n",
    "             False otherwise.\n",
    "    '''\n",
    "    # Your code here\n",
    "    if len(str1) != len(str2):\n",
    "        return False\n",
    "    if len(str1) == 1:\n",
    "        if(str1 == str2):\n",
    "            return True\n",
    "        else:\n",
    "            return False\n",
    "    else:\n",
    "        if str1[0] == str2[-1]:\n",
    "            return semordnilap(str1[1:], str2[:len(str2)-1])\n",
    "        else:\n",
    "            return False\n",
    "print semordnilapWrapper(\"dog\", \"god\")"
   ]
  },
  {
   "cell_type": "code",
   "execution_count": 38,
   "metadata": {
    "collapsed": false
   },
   "outputs": [
    {
     "name": "stdout",
     "output_type": "stream",
     "text": [
      "True\n",
      "go\n"
     ]
    }
   ],
   "source": [
    "str1 = 'dog'\n",
    "str2 = 'god'\n",
    "print str1[0] == str2[-1]\n",
    "print str2[:len(str2)-1]"
   ]
  },
  {
   "cell_type": "code",
   "execution_count": 44,
   "metadata": {
    "collapsed": false
   },
   "outputs": [
    {
     "name": "stdout",
     "output_type": "stream",
     "text": [
      "fib of 0 = 1\n",
      "fib called 0 times\n",
      "fib of 1 = 1\n",
      "fib called 0 times\n",
      "fib of 2 = 2\n",
      "fib called 0 times\n",
      "fib of 3 = 3\n",
      "fib called 0 times\n",
      "fib of 4 = 5\n",
      "fib called 0 times\n",
      "fib of 5 = 8\n",
      "fib called 0 times\n",
      "fib of 6 = 13\n",
      "fib called 0 times\n",
      "fib of 7 = 21\n",
      "fib called 0 times\n",
      "fib of 8 = 34\n",
      "fib called 0 times\n",
      "fib of 9 = 55\n",
      "fib called 0 times\n",
      "fib of 10 = 89\n",
      "fib called 0 times\n"
     ]
    }
   ],
   "source": [
    "# L5 PROBLEM 9\n",
    "def fibMetered(x):\n",
    "    global numCalls\n",
    "    numCalls += 1\n",
    "    if x == 0 or x == 1:\n",
    "        return 1\n",
    "    else:\n",
    "        return fibMetered(x-1) + fibMetered(x-2)\n",
    "\n",
    "def testFib(n):\n",
    "    global numCalls\n",
    "    numCalls = 0\n",
    "    for i in range(n+1):\n",
    "        print('fib of ' + str(i) + ' = ' + str(fibMetered(i)))\n",
    "        print ('fib called ' + str(numCalls) + ' times')\n",
    "\n",
    "testFib(10)"
   ]
  },
  {
   "cell_type": "code",
   "execution_count": null,
   "metadata": {
    "collapsed": true
   },
   "outputs": [],
   "source": []
  }
 ],
 "metadata": {
  "kernelspec": {
   "display_name": "Python 2",
   "language": "python",
   "name": "python2"
  },
  "language_info": {
   "codemirror_mode": {
    "name": "ipython",
    "version": 2
   },
   "file_extension": ".py",
   "mimetype": "text/x-python",
   "name": "python",
   "nbconvert_exporter": "python",
   "pygments_lexer": "ipython2",
   "version": "2.7.10"
  }
 },
 "nbformat": 4,
 "nbformat_minor": 0
}
