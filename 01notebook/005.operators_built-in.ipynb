{
 "cells": [
  {
   "cell_type": "markdown",
   "metadata": {},
   "source": [
    "### 1. [Mapping Operators to Functions](https://docs.python.org/2/library/operator.html#mapping-operators-to-functions)\n",
    "\n",
    "This table shows how abstract operations correspond to operator symbols in the Python syntax and the functions in the `operator` module.\n",
    "\n",
    "| Operation             | Syntax            | Function                                 |\n",
    "|-----------------------|-------------------|------------------------------------------|\n",
    "| Addition              | a + b             | add(a, b)                                |\n",
    "| Concatenation         | seq1 + seq2       | concat(seq1, seq2)                       |\n",
    "| Containment Test      | obj in seq        | contains(seq, obj)                       |\n",
    "| Division              | a / b             | div(a, b) (without __future__.division)  |\n",
    "| Division              | a / b             | truediv(a, b) (with __future__.division) |\n",
    "| Division              | a // b            | floordiv(a, b)                           |\n",
    "| Bitwise And           | a & b             | and_(a, b)                               |\n",
    "| Bitwise Exclusive Or  | a ^ b             | xor(a, b)                                |\n",
    "| Bitwise Inversion     | ~ a               | invert(a)                                |\n",
    "| Bitwise Or            | a | b             | or_(a, b)                                |\n",
    "| Exponentiation        | a ** b            | pow(a, b)                                |\n",
    "| Identity              | a is b            | is_(a, b)                                |\n",
    "| Identity              | a is not b        | is_not(a, b)                             |\n",
    "| Indexed Assignment    | obj[k] = v        | setitem(obj, k, v)                       |\n",
    "| Indexed Deletion      | del obj[k]        | delitem(obj, k)                          |\n",
    "| Indexing              | obj[k]            | getitem(obj, k)                          |\n",
    "| Left Shift            | a << b            | lshift(a, b)                             |\n",
    "| Modulo                | a % b             | mod(a, b)                                |\n",
    "| Multiplication        | a * b             | mul(a, b)                                |\n",
    "| Negation (Arithmetic) | - a               | neg(a)                                   |\n",
    "| Negation (Logical)    | not a             | not_(a)                                  |\n",
    "| Positive              | + a               | pos(a)                                   |\n",
    "| Right Shift           | a >> b            | rshift(a, b)                             |\n",
    "| Sequence Repetition   | seq * i           | repeat(seq, i)                           |\n",
    "| Slice Assignment      | seq[i:j] = values | setitem(seq, slice(i, j), values)        |\n",
    "| Slice Deletion        | del seq[i:j]      | delitem(seq, slice(i, j))                |\n",
    "| Slicing               | seq[i:j]          | getitem(seq, slice(i, j))                |\n",
    "| String Formatting     | s % obj           | mod(s, obj)                              |\n",
    "| Subtraction           | a - b             | sub(a, b)                                |\n",
    "| Truth Test            | obj               | truth(obj)                               |\n",
    "| Ordering              | a < b             | lt(a, b)                                 |\n",
    "| Ordering              | a <= b            | le(a, b)                                 |\n",
    "| Equality              | a == b            | eq(a, b)                                 |\n",
    "| Difference            | a != b            | ne(a, b)                                 |\n",
    "| Ordering              | a >= b            | ge(a, b)                                 |\n",
    "| Ordering              | a > b             | gt(a, b)                                 |"
   ]
  },
  {
   "cell_type": "markdown",
   "metadata": {},
   "source": [
    "### is == \n",
    "\n",
    "1. `is` object reference equal; '==', value equal"
   ]
  },
  {
   "cell_type": "code",
   "execution_count": 11,
   "metadata": {
    "collapsed": false
   },
   "outputs": [
    {
     "name": "stdout",
     "output_type": "stream",
     "text": [
      "Yeah! .0\n",
      "Yeah! .1\n"
     ]
    }
   ],
   "source": [
    "## is， ==\n",
    "if 4 is (2**2):\n",
    "    print \"Yeah!\" + ' .0'\n",
    "if []==[]:\n",
    "    print \"Yeah!\" + ' .1' # True\n",
    "if [] is []:\n",
    "    print \"Yeah!\" + ' .2' # Doesn't. "
   ]
  },
  {
   "cell_type": "markdown",
   "metadata": {},
   "source": [
    "### \\# NaN v.s. None\n",
    "\n",
    "1. `np.nan` allows for vectorized operations; its a `float` value, while `None`, by definition, forces `object` type, which basically disables all efficiency in numpy. So repeat 3 times fast: `object==bad, float==good`\n",
    "2. `np.nan` will fail any logic judgement"
   ]
  },
  {
   "cell_type": "code",
   "execution_count": 1,
   "metadata": {
    "collapsed": false
   },
   "outputs": [
    {
     "name": "stdout",
     "output_type": "stream",
     "text": [
      "Yeah! .5\n"
     ]
    },
    {
     "ename": "TypeError",
     "evalue": "ufunc 'isnan' not supported for the input types, and the inputs could not be safely coerced to any supported types according to the casting rule ''safe''",
     "output_type": "error",
     "traceback": [
      "\u001b[1;31m---------------------------------------------------------------------------\u001b[0m",
      "\u001b[1;31mTypeError\u001b[0m                                 Traceback (most recent call last)",
      "\u001b[1;32m<ipython-input-1-e7c6e4f4eadd>\u001b[0m in \u001b[0;36m<module>\u001b[1;34m()\u001b[0m\n\u001b[0;32m     16\u001b[0m     \u001b[1;32mprint\u001b[0m \u001b[1;34m\"Yeah!\"\u001b[0m \u001b[1;33m+\u001b[0m \u001b[1;34m' .6'\u001b[0m \u001b[1;31m# Doesn't.\u001b[0m\u001b[1;33m\u001b[0m\u001b[0m\n\u001b[0;32m     17\u001b[0m \u001b[1;33m\u001b[0m\u001b[0m\n\u001b[1;32m---> 18\u001b[1;33m \u001b[1;32mif\u001b[0m \u001b[0mpd\u001b[0m\u001b[1;33m.\u001b[0m\u001b[0misnull\u001b[0m\u001b[1;33m(\u001b[0m\u001b[0mNone\u001b[0m\u001b[1;33m)\u001b[0m \u001b[1;32mand\u001b[0m \u001b[0mnp\u001b[0m\u001b[1;33m.\u001b[0m\u001b[0misnan\u001b[0m\u001b[1;33m(\u001b[0m\u001b[0mNone\u001b[0m\u001b[1;33m)\u001b[0m\u001b[1;33m:\u001b[0m\u001b[1;33m\u001b[0m\u001b[0m\n\u001b[0m\u001b[0;32m     19\u001b[0m     \u001b[1;32mprint\u001b[0m \u001b[1;34m\"Yeah!\"\u001b[0m \u001b[1;33m+\u001b[0m \u001b[1;34m' .7'\u001b[0m \u001b[1;31m# TypeError: ufunc 'isnan' not supported for the input types, np.isnan only support float type\u001b[0m\u001b[1;33m\u001b[0m\u001b[0m\n",
      "\u001b[1;31mTypeError\u001b[0m: ufunc 'isnan' not supported for the input types, and the inputs could not be safely coerced to any supported types according to the casting rule ''safe''"
     ]
    }
   ],
   "source": [
    "import numpy as np\n",
    "import pandas as pd\n",
    "\n",
    "# NaN and None are not equal in object or value\n",
    "if np.nan == None:\n",
    "    print \"Yeah!\" + ' .3' # Doesn't. \n",
    "if np.nan is None:\n",
    "    print \"Yeah!\" + ' .4' # Doesn't. \n",
    "\n",
    "# detect NaN,\n",
    "if pd.isnull(np.nan) and np.isnan(np.nan):\n",
    "    print \"Yeah!\" + ' .5' # True\n",
    "    \n",
    "# nan value judgement:\n",
    "if np.nan > 5:\n",
    "    print \"Yeah!\" + ' .6' # Doesn't. \n",
    "    \n",
    "if pd.isnull(None) and np.isnan(None):\n",
    "    print \"Yeah!\" + ' .7' # TypeError: ufunc 'isnan' not supported for the input types, np.isnan only support float type"
   ]
  },
  {
   "cell_type": "markdown",
   "metadata": {},
   "source": [
    "### 5.2. Boolean Operations\n",
    "\n",
    "| Operation | Result                               | Notes |\n",
    "|-----------|--------------------------------------|-------|\n",
    "| x or y    | if x is false, then y, else x        | (1)   |\n",
    "| x and y   | if x is false, then x, else y        | (2)   |\n",
    "| not x     | if x is false, then True, else False | (3)   |"
   ]
  },
  {
   "cell_type": "markdown",
   "metadata": {},
   "source": [
    "### 5.3. Comparisons\n",
    "\n",
    "| Operation | Meaning                 | Notes |\n",
    "|-----------|-------------------------|-------|\n",
    "| <         | strictly less than      |       |\n",
    "| <=        | less than or equal      |       |\n",
    "| >         | strictly greater than   |       |\n",
    "| >=        | greater than or equal   |       |\n",
    "| ==        | equal                   |       |\n",
    "| !=        | not equal               | (1)   |\n",
    "| is        | object identity         |       |\n",
    "| is not    | negated object identity |       |"
   ]
  },
  {
   "cell_type": "code",
   "execution_count": null,
   "metadata": {
    "collapsed": true
   },
   "outputs": [],
   "source": []
  }
 ],
 "metadata": {
  "kernelspec": {
   "display_name": "Python 2",
   "language": "python",
   "name": "python2"
  },
  "language_info": {
   "codemirror_mode": {
    "name": "ipython",
    "version": 2
   },
   "file_extension": ".py",
   "mimetype": "text/x-python",
   "name": "python",
   "nbconvert_exporter": "python",
   "pygments_lexer": "ipython2",
   "version": "2.7.12"
  }
 },
 "nbformat": 4,
 "nbformat_minor": 0
}
