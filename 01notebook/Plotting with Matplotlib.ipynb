{

 "metadata": {

  "name": "",

  "signature": "sha256:c0063f0dffd785a847ac1560ce4623ef44f930d8864e64fd9ca763648a1d5462"

 },

 "nbformat": 3,

 "nbformat_minor": 0,

 "worksheets": [

  {

   "cells": [

    {

     "cell_type": "heading",

     "level": 1,

     "metadata": {},

     "source": [

      "Plotting with Matplotlib"

     ]

    },

    {

     "cell_type": "markdown",

     "metadata": {},

     "source": [

      "IPython works with the [Matplotlib](http://matplotlib.org/) plotting library, which integrates Matplotlib with IPython's display system and event loop handling."

     ]

    },

    {

     "cell_type": "heading",

     "level": 2,

     "metadata": {},

     "source": [

      "matplotlib mode"

     ]

    },

    {

     "cell_type": "markdown",

     "metadata": {},

     "source": [

      "To make plots using Matplotlib, you must first enable IPython's matplotlib mode.\n",

      "\n",

      "To do this, run the `%matplotlib` magic command to enable plotting in the current Notebook.\n",

      "\n",

      "This magic takes an optional argument that specifies which Matplotlib backend should be used.  Most of the time, in the Notebook, you will want to use the `inline` backend, which will embed plots inside the Notebook:"

     ]

    },

    {

     "cell_type": "code",

     "collapsed": false,

     "input": [

      "%matplotlib inline"

     ],

     "language": "python",

     "metadata": {},

     "outputs": [],

     "prompt_number": 1

    },

    {

     "cell_type": "markdown",

     "metadata": {},

     "source": [

      "You can also use Matplotlib GUI backends in the Notebook, such as the Qt backend (`%matplotlib qt`). This will use Matplotlib's interactive Qt UI in a floating window to the side of your browser. Of course, this only works if your browser is running on the same system as the Notebook Server.  You can always call the `display` function to paste figures into the Notebook document."

     ]

    },

    {

     "cell_type": "heading",

     "level": 2,

     "metadata": {},

     "source": [

      "Making a simple plot"

     ]

    },

    {

     "cell_type": "markdown",

     "metadata": {},

     "source": [

      "With matplotlib enabled, plotting should just work."

     ]

    },

    {

     "cell_type": "code",

     "collapsed": false,

     "input": [

      "import matplotlib.pyplot as plt\n",

      "import numpy as np"

     ],

     "language": "python",

     "metadata": {},

     "outputs": [],

     "prompt_number": 2

    },

    {

     "cell_type": "code",

     "collapsed": false,

     "input": [

      "x = np.linspace(0, 3*np.pi, 500)\n",

      "plt.plot(x, np.sin(x**2))\n",

      "plt.title('A simple chirp');"

     ],

     "language": "python",

     "metadata": {},

     "outputs": [

      {

       "metadata": {},

       "output_type": "display_data",

       "png": "[encoded data removed]",

       "text": [

        "<matplotlib.figure.Figure at 0x7fce320>"

       ]

      }

     ],

     "prompt_number": 3

    },

    {

     "cell_type": "markdown",

     "metadata": {},

     "source": [

      "These images can be resized by dragging the handle in the lower right corner.  Double clicking will return them to their original size."

     ]

    },

    {

     "cell_type": "markdown",

     "metadata": {},

     "source": [

      "One thing to be aware of is that by default, the `Figure` object is cleared at the end of each cell, so you will need to issue all plotting commands for a single figure in a single cell."

     ]

    },

    {

     "cell_type": "heading",

     "level": 2,

     "metadata": {},

     "source": [

      "Loading Matplotlib demos with %load"

     ]

    },

    {

     "cell_type": "markdown",

     "metadata": {},

     "source": [

      "IPython's `%load` magic can be used to load any Matplotlib demo by its URL:"

     ]

    },

    {

     "cell_type": "code",

     "collapsed": false,

     "input": [

      "%load http://matplotlib.org/mpl_examples/showcase/integral_demo.py"

     ],

     "language": "python",

     "metadata": {},

     "outputs": [],

     "prompt_number": 2

    },

    {

     "cell_type": "code",

     "collapsed": false,

     "input": [

      "\"\"\"\n",

      "Plot demonstrating the integral as the area under a curve.\n",

      "\n",

      "Although this is a simple example, it demonstrates some important tweaks:\n",

      "\n",

      "    * A simple line plot with custom color and line width.\n",

      "    * A shaded region created using a Polygon patch.\n",

      "    * A text label with mathtext rendering.\n",

      "    * figtext calls to label the x- and y-axes.\n",

      "    * Use of axis spines to hide the top and right spines.\n",

      "    * Custom tick placement and labels.\n",

      "\"\"\"\n",

      "import numpy as np\n",

      "import matplotlib.pyplot as plt\n",

      "from matplotlib.patches import Polygon\n",

      "\n",

      "\n",

      "def func(x):\n",

      "    return (x - 3) * (x - 5) * (x - 7) + 85\n",

      "\n",

      "\n",

      "a, b = 2, 9 # integral limits\n",

      "x = np.linspace(0, 10)\n",

      "y = func(x)\n",

      "\n",

      "fig, ax = plt.subplots()\n",

      "plt.plot(x, y, 'r', linewidth=2)\n",

      "plt.ylim(ymin=0)\n",

      "\n",

      "# Make the shaded region\n",

      "ix = np.linspace(a, b)\n",

      "iy = func(ix)\n",

      "verts = [(a, 0)] + list(zip(ix, iy)) + [(b, 0)]\n",

      "poly = Polygon(verts, facecolor='0.9', edgecolor='0.5')\n",

      "ax.add_patch(poly)\n",

      "\n",

      "plt.text(0.5 * (a + b), 30, r\"$\\int_a^b f(x)\\mathrm{d}x$\",\n",

      "         horizontalalignment='center', fontsize=20)\n",

      "\n",

      "plt.figtext(0.9, 0.05, '$x$')\n",

      "plt.figtext(0.1, 0.9, '$y$')\n",

      "\n",

      "ax.spines['right'].set_visible(False)\n",

      "ax.spines['top'].set_visible(False)\n",

      "ax.xaxis.set_ticks_position('bottom')\n",

      "\n",

      "ax.set_xticks((a, b))\n",

      "ax.set_xticklabels(('$a$', '$b$'))\n",

      "ax.set_yticks([])\n",

      "\n",

      "plt.show()\n"

     ],

     "language": "python",

     "metadata": {},

     "outputs": [

      {

       "metadata": {},

       "output_type": "display_data",

       "png": "[encoded data removed]",

       "text": [

        "<matplotlib.figure.Figure at 0x7f977f0>"

       ]

      }

     ],

     "prompt_number": 3

    }

   ],

   "metadata": {}

  }

 ]

}