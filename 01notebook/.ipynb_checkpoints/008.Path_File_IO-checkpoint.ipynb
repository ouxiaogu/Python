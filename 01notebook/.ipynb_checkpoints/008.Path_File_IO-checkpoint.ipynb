{
 "cells": [
  {
   "cell_type": "markdown",
   "metadata": {},
   "source": [
    "### 1. os.path\n",
    "\n",
    "#### 1.1 Traverse the file under a folder"
   ]
  },
  {
   "cell_type": "code",
   "execution_count": 7,
   "metadata": {
    "collapsed": false
   },
   "outputs": [
    {
     "name": "stdout",
     "output_type": "stream",
     "text": [
      "C:\\Localdata\\D\\Note\\Python\\01notebook ['C:\\\\Localdata\\\\D\\\\Note\\\\Python\\\\01notebook\\\\install_run.md']\n"
     ]
    }
   ],
   "source": [
    "import os, os.path\n",
    "## cwd = os.path.dirname(os.path.abspath(__file__))\n",
    "## cwd = os.path.dirname(os.path.realpath(__file__))\n",
    "cwd = os.getcwd()\n",
    "files_abs = []\n",
    "files_subname = os.listdir(cwd)\n",
    "for subname in files_subname:\n",
    "    if \".md\" in subname:\n",
    "        cur_file = os.path.join(cwd, subname)\n",
    "        files_abs.append(cur_file)\n",
    "print cwd, files_abs"
   ]
  },
  {
   "cell_type": "markdown",
   "metadata": {
    "collapsed": true
   },
   "source": [
    "#### 1.2 Detect whether directory exist, if not then create one"
   ]
  },
  {
   "cell_type": "code",
   "execution_count": null,
   "metadata": {
    "collapsed": true
   },
   "outputs": [],
   "source": [
    "directory = os.path.join(workpath, \"results\")\n",
    "if not os.path.exists(directory):\n",
    "    os.makedirs(directory)"
   ]
  },
  {
   "cell_type": "markdown",
   "metadata": {
    "collapsed": true
   },
   "source": [
    "### 2. open\n",
    "\n",
    "#### 2.1 Traverse the line under a text file"
   ]
  },
  {
   "cell_type": "code",
   "execution_count": null,
   "metadata": {
    "collapsed": true
   },
   "outputs": [],
   "source": [
    "def loadWords():\n",
    "    inFile = open(PATH_TO_FILE, 'r', 0)\n",
    "    line = inFile.readline()\n",
    "    wordlist = string.split(line)\n",
    "    print \"  \", len(wordlist), \"words loaded.\"\n",
    "    return wordlist"
   ]
  },
  {
   "cell_type": "markdown",
   "metadata": {
    "collapsed": true
   },
   "source": [
    "### 3. file IO\n",
    "\n",
    "\\#1 read\n",
    "\n",
    "1. f.read()\n",
    "2. f.readline() # line by line\n",
    "3. f.readlines() # all into line list\n",
    "\n",
    "\\#2 write\n",
    "\n",
    "1. f.write()\n",
    "2. f.writelines() # Write a list of lines to the stream, Line separators are not added,  need to provide line separator at the end of every line, and there are no readline()\n",
    "3. os.linesep work together with writelines()"
   ]
  },
  {
   "cell_type": "code",
   "execution_count": 5,
   "metadata": {
    "collapsed": false
   },
   "outputs": [
    {
     "name": "stdout",
     "output_type": "stream",
     "text": [
      "5\n",
      "d\n",
      "'\\r\\n'\n"
     ]
    }
   ],
   "source": [
    "f = open('./temp.txt', 'r+')\n",
    "f.write('0123456789abcdef\\n')\n",
    "f.write('abcdef')\n",
    "f.seek(5)     # Go to the 6th byte in the file\n",
    "print f.read(1)  # '5'\n",
    "f.seek(-3, 2) # Go to the 3rd byte before the end\n",
    "print f.read(1) # 'd'\n",
    "# XX f.writeline('afs')\n",
    "f.close()\n",
    "import os\n",
    "print repr(os.linesep)"
   ]
  },
  {
   "cell_type": "code",
   "execution_count": 8,
   "metadata": {
    "collapsed": false
   },
   "outputs": [
    {
     "name": "stdout",
     "output_type": "stream",
     "text": [
      "0123456789abcdef\n",
      "\n",
      "abcdef\n",
      "0123456789abcdef\n",
      "\n",
      "abcdef\n"
     ]
    }
   ],
   "source": [
    "with open('./temp.txt', 'r') as infile:\n",
    "    for line in infile:\n",
    "        print line\n",
    "        # <do something with line>\n",
    "with open('./temp.txt', 'r') as infile:\n",
    "    # fisrtLine = infile.readline()\n",
    "    allLines = infile.readlines()\n",
    "    for line in allLines:\n",
    "        print line"
   ]
  },
  {
   "cell_type": "markdown",
   "metadata": {},
   "source": [
    "### 4. file mode\n",
    "\n",
    "| charater | meaning   |\n",
    "|---|---------------------------------------------------------------------------------------|\n",
    "| r | open for reading (default)                                                            |\n",
    "| w | open for writing, truncating the file first                                           |\n",
    "| a | open for writing, appending to the end of the file if it exists                       |\n",
    "| b | binary mode                                                                           |\n",
    "| t | text mode (default)                                                                   |\n",
    "| + | open a disk file for updating (reading and writing)                                   |\n",
    "| U | universal newlines mode (for backwards compatibility; should not be used in new code) |\n",
    "\n",
    "Here give an example to read and write the first line of file."
   ]
  },
  {
   "cell_type": "code",
   "execution_count": null,
   "metadata": {
    "collapsed": true
   },
   "outputs": [],
   "source": [
    "# change the space+endline into linsep\n",
    "infile = r'/gpfs/PEG/FEM/peyang/data/r2016R1/MOD7817/002-PRS-AIO-1template-GUI-CrossCheck/h/data/dummydb/calibrate/job1/gauge/job1c1.txt'\n",
    "with open(infile, 'r+') as f:\n",
    "    first = next(f)\n",
    "    print repr(first)\n",
    "    for m in re.findall('\\s+{}'.format(os.linesep), first):\n",
    "        first = first.replace(m, os.linesep)\n",
    "    print repr(first)        \n",
    "    f.seek(0)\n",
    "    f.write(first)"
   ]
  },
  {
   "cell_type": "markdown",
   "metadata": {},
   "source": [
    "### 5. string IO\n",
    "\n",
    "1. `str.splitlines([keepends])` # if keepends the endline seperator is kept\n",
    "2. `str.split(chars)`  # default separator is consecutive whitespace\n",
    "3. `str.strip(chars)`  # defualt is whitespace"
   ]
  },
  {
   "cell_type": "code",
   "execution_count": 6,
   "metadata": {
    "collapsed": false
   },
   "outputs": [
    {
     "name": "stdout",
     "output_type": "stream",
     "text": [
      "['ab c', '', 'de fg', 'kl']\n",
      "['ab c\\n', '\\n', 'de fg\\r', 'kl\\r\\n']\n",
      "['Measurement Check: {CD_Stdev} > {range_max}']\n",
      "'\\t\\n\\x0b\\x0c\\r '\n"
     ]
    }
   ],
   "source": [
    "log = 'ab c\\n\\nde fg\\rkl\\r\\n'\n",
    "print repr(log.splitlines())  # with add \\n\n",
    "print repr(log.splitlines(True)) # with \\n\n",
    "log = 'Measurement Check: {CD_Stdev} > {range_max}'\n",
    "print repr(log.splitlines(True))\n",
    "import string\n",
    "print repr(string.whitespace)"
   ]
  },
  {
   "cell_type": "code",
   "execution_count": null,
   "metadata": {
    "collapsed": true
   },
   "outputs": [],
   "source": []
  }
 ],
 "metadata": {
  "kernelspec": {
   "display_name": "Python 2",
   "language": "python",
   "name": "python2"
  },
  "language_info": {
   "codemirror_mode": {
    "name": "ipython",
    "version": 2
   },
   "file_extension": ".py",
   "mimetype": "text/x-python",
   "name": "python",
   "nbconvert_exporter": "python",
   "pygments_lexer": "ipython2",
   "version": "2.7.11"
  }
 },
 "nbformat": 4,
 "nbformat_minor": 0
}
