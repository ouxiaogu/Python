{
 "cells": [
  {
   "cell_type": "markdown",
   "metadata": {},
   "source": [
    "## [Mapping Types — dict](https://docs.python.org/2/library/stdtypes.html?highlight=mutable%20sequence%20types#mapping-types-dict)\n",
    "\n",
    "A *mapping* object maps *hashable* values to arbitrary objects. Mappings are mutable objects.There is currently only one standard mapping type, the *dictionary*.\n",
    "\n",
    "*Key* requires to be *hashable*, that is, values containing *lists*, *dictionaries* or other mutable types may not be used as keys. Among numeric types key, not recomend to floating number, otherwise, *1.0* and *1* may be consideres as the same key. \n",
    "\n",
    "The following examples all return a dictionary equal to `{\"one\": 1, \"two\": 2, \"three\": 3}`:"
   ]
  },
  {
   "cell_type": "code",
   "execution_count": 1,
   "metadata": {
    "collapsed": false
   },
   "outputs": [
    {
     "data": {
      "text/plain": [
       "True"
      ]
     },
     "execution_count": 1,
     "metadata": {},
     "output_type": "execute_result"
    }
   ],
   "source": [
    "a = dict(one=1, two=2, three=3)\n",
    "b = {'one': 1, 'two': 2, 'three': 3}\n",
    "c = dict(zip(['one', 'two', 'three'], [1, 2, 3]))\n",
    "d = dict([('two', 2), ('one', 1), ('three', 3)])\n",
    "e = dict({'three': 3, 'one': 1, 'two': 2})\n",
    "a == b == c == d == e"
   ]
  },
  {
   "cell_type": "markdown",
   "metadata": {},
   "source": [
    "### 1. dictionary functions\n",
    "\n",
    "quick guide functions"
   ]
  },
  {
   "cell_type": "code",
   "execution_count": 7,
   "metadata": {
    "collapsed": false
   },
   "outputs": [
    {
     "name": "stdout",
     "output_type": "stream",
     "text": [
      "value1\n",
      "value8\n",
      "value3\n",
      "value8\n",
      "value1\n",
      "value1\n",
      "value8\n",
      "value3\n",
      "value3\n",
      "value8\n",
      "value1\n",
      "key3=value3\n",
      "key2=value8\n",
      "key1=value1\n"
     ]
    },
    {
     "data": {
      "text/plain": [
       "0"
      ]
     },
     "execution_count": 7,
     "metadata": {},
     "output_type": "execute_result"
    }
   ],
   "source": [
    "# key/value pairs declaration\n",
    "dict = {\n",
    " 'key1':'value1',\n",
    " 'key2':'value2',\n",
    " 'key3': 'value3'\n",
    " }\n",
    "\n",
    "#Get all keys\n",
    "dict.keys()\n",
    "\n",
    "#Get all values\n",
    "dict.values()\n",
    "\n",
    "#Modifying\n",
    "dict['key2'] = 'value8'\n",
    "\n",
    "#Accessing\n",
    "print dict['key1']\n",
    "\n",
    "# prints ‘value2′\n",
    "print dict['key2']\n",
    "\n",
    "# empty declaration + assignment of key-value pair\n",
    "emptyDict = {}\n",
    "emptyDict['key4']='value4'\n",
    "\n",
    "# looping through dictionaries (keys and values)\n",
    "for key in dict:\n",
    "  print dict[key]\n",
    "\n",
    "# sorting keys and accessing their value in order\n",
    "keys = dict.keys()\n",
    "keys.sort()\n",
    "for key in keys:\n",
    "  print dict[key]\n",
    "\n",
    "# looping their values directory (not in order)\n",
    "for value in dict.values():\n",
    "  print value\n",
    "\n",
    "# getting both the keys and values at once\n",
    "for key,value in dict.items():\n",
    "  print \"%s=%s\" % (key,value)\n",
    "\n",
    "# deleting an entry\n",
    "del dict['key2']\n",
    "\n",
    "# delete all entries in a dictionary\n",
    "dict.clear()\n",
    "\n",
    "# size of the dictionary\n",
    "len(dict)"
   ]
  },
  {
   "cell_type": "code",
   "execution_count": null,
   "metadata": {
    "collapsed": true
   },
   "outputs": [],
   "source": []
  }
 ],
 "metadata": {
  "kernelspec": {
   "display_name": "Python 2",
   "language": "python",
   "name": "python2"
  },
  "language_info": {
   "codemirror_mode": {
    "name": "ipython",
    "version": 2
   },
   "file_extension": ".py",
   "mimetype": "text/x-python",
   "name": "python",
   "nbconvert_exporter": "python",
   "pygments_lexer": "ipython2",
   "version": "2.7.10"
  }
 },
 "nbformat": 4,
 "nbformat_minor": 0
}
