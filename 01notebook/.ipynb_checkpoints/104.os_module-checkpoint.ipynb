{
 "cells": [
  {
   "cell_type": "markdown",
   "metadata": {},
   "source": [
    "### 1. os.stat(path)\n",
    "\n",
    "Perform the equivalent of a stat() system call on the given path. (This function follows symlinks; to stat a symlink use lstat().)\n",
    "\n",
    "The return value is an object whose attributes correspond to the members of the stat structure, namely:\n",
    "\n",
    "- st_mode - protection bits,\n",
    "- st_ino - inode number,\n",
    "- st_dev - device,\n",
    "- st_nlink - number of hard links,\n",
    "- st_uid - user id of owner,\n",
    "- st_gid - group id of owner,\n",
    "- st_size - size of file, in bytes,\n",
    "- st_atime - time of most recent access,\n",
    "- st_mtime - time of most recent content modification,\n",
    "- st_ctime - platform dependent; time of most recent metadata change on Unix, or the time of creation on Windows)"
   ]
  },
  {
   "cell_type": "code",
   "execution_count": null,
   "metadata": {
    "collapsed": true
   },
   "outputs": [],
   "source": [
    "# inquiry the stat mode of base job, and change the file mode into the same mode with Job\n",
    "infolder = \"/gpfs/PEG/FEM/peyang/data/r2016R1/GUI22138/001-sample-base-job\"\n",
    "infile = os.path.join(infolder, 'test.txt')\n",
    "baseMode = (os.stat(infolder).st_mode & 0777)\n",
    "print baseMode, infile, type(baseMode), baseMode%10, baseMode/10\n",
    "#call(['chmod', baseMode, infile])\n",
    "os.chmod(infile,  baseMode)"
   ]
  },
  {
   "cell_type": "markdown",
   "metadata": {},
   "source": [
    "### 2. os\n",
    "\n",
    "1. os module, but folder needs to be empty\n",
    "\n",
    "if os.path.exists(childJobPath):\n",
    "    shutil.rmtree(childJobPath)\n",
    "os.chmod(childJobPath, baseJobMode)\n",
    "os.mkdir(childJobPath, baseJobMode)\n",
    "\n",
    "2. subprocess module, folder can be remove before mkdir\n",
    "\n",
    "if os.path.exists(childJobPath):\n",
    "    subprocess.call(['rm', '-rf', childJobPath])\n",
    "subprocess.call(['mkdir', childJobPath, '-m', oct(baseJobMode)])"
   ]
  }
 ],
 "metadata": {
  "kernelspec": {
   "display_name": "Python 2",
   "language": "python",
   "name": "python2"
  },
  "language_info": {
   "codemirror_mode": {
    "name": "ipython",
    "version": 2
   },
   "file_extension": ".py",
   "mimetype": "text/x-python",
   "name": "python",
   "nbconvert_exporter": "python",
   "pygments_lexer": "ipython2",
   "version": "2.7.12"
  }
 },
 "nbformat": 4,
 "nbformat_minor": 0
}
