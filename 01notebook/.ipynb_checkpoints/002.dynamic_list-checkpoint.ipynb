{
 "cells": [
  {
   "cell_type": "markdown",
   "metadata": {},
   "source": [
    " Here is the question?\n",
    " \n",
    " > How to init a dynamic list in python, and how to append an element into this list?\n",
    " \n",
    " ### 1. what about assigning by index "
   ]
  },
  {
   "cell_type": "code",
   "execution_count": 2,
   "metadata": {
    "collapsed": false,
    "scrolled": true
   },
   "outputs": [
    {
     "ename": "IndexError",
     "evalue": "list assignment index out of range",
     "output_type": "error",
     "traceback": [
      "\u001b[1;31m---------------------------------------------------------------------------\u001b[0m",
      "\u001b[1;31mIndexError\u001b[0m                                Traceback (most recent call last)",
      "\u001b[1;32m<ipython-input-2-354655590a01>\u001b[0m in \u001b[0;36m<module>\u001b[1;34m()\u001b[0m\n\u001b[0;32m      4\u001b[0m \u001b[0mln\u001b[0m \u001b[1;33m=\u001b[0m \u001b[0mlen\u001b[0m\u001b[1;33m(\u001b[0m\u001b[0mcol_list\u001b[0m\u001b[1;33m)\u001b[0m\u001b[1;33m\u001b[0m\u001b[0m\n\u001b[0;32m      5\u001b[0m \u001b[1;32mfor\u001b[0m \u001b[0mi\u001b[0m \u001b[1;32min\u001b[0m \u001b[0mxrange\u001b[0m\u001b[1;33m(\u001b[0m\u001b[0mln\u001b[0m\u001b[1;33m)\u001b[0m\u001b[1;33m:\u001b[0m\u001b[1;33m\u001b[0m\u001b[0m\n\u001b[1;32m----> 6\u001b[1;33m     \u001b[0mKeys\u001b[0m\u001b[1;33m[\u001b[0m\u001b[0mcount\u001b[0m\u001b[1;33m]\u001b[0m \u001b[1;33m=\u001b[0m \u001b[0mcol_list\u001b[0m\u001b[1;33m[\u001b[0m\u001b[0mi\u001b[0m\u001b[1;33m]\u001b[0m\u001b[1;33m;\u001b[0m\u001b[1;33m\u001b[0m\u001b[0m\n\u001b[0m\u001b[0;32m      7\u001b[0m     \u001b[0mcount\u001b[0m \u001b[1;33m+=\u001b[0m \u001b[1;36m1\u001b[0m\u001b[1;33m\u001b[0m\u001b[0m\n",
      "\u001b[1;31mIndexError\u001b[0m: list assignment index out of range"
     ]
    }
   ],
   "source": [
    "col_list = [\"defocus\", \"aiblur\"]\n",
    "Keys = []\n",
    "count = 0\n",
    "ln = len(col_list)\n",
    "for i in xrange(ln):\n",
    "    Keys[count] = col_list[i];\n",
    "    count += 1"
   ]
  },
  {
   "cell_type": "markdown",
   "metadata": {},
   "source": [
    "    IndexError: *list assignment index out of range*\n",
    "\n",
    "### 2. The operatations for [mutable sequence types](https://docs.python.org/2/library/stdtypes.html?highlight=mutable%20sequence%20types): *append*. "
   ]
  },
  {
   "cell_type": "code",
   "execution_count": 4,
   "metadata": {
    "collapsed": false
   },
   "outputs": [
    {
     "name": "stdout",
     "output_type": "stream",
     "text": [
      "['defocus', 'aiblur']\n"
     ]
    }
   ],
   "source": [
    "col_list = [\"defocus\", \"aiblur\"]\n",
    "Keys = []\n",
    "count = 0\n",
    "ln = len(col_list)\n",
    "for i in xrange(ln):\n",
    "    Keys.append(col_list[i]);\n",
    "print(Keys)"
   ]
  },
  {
   "cell_type": "markdown",
   "metadata": {},
   "source": [
    "### 3. [list comprehensions ](http://qr.ae/RFSNKn)\n",
    "\n",
    "    `new_list = [expression(i) for i in old_list if filter(i)]`\n",
    "    `*result*  = [*transform*    *iteration*         *filter*     ]`"
   ]
  },
  {
   "cell_type": "code",
   "execution_count": 10,
   "metadata": {
    "collapsed": false
   },
   "outputs": [
    {
     "name": "stdout",
     "output_type": "stream",
     "text": [
      "['defocus', 'aiblur']\n"
     ]
    }
   ],
   "source": [
    "col_list = [\"defocus\", \"aiblur\", \"maskbias\"]\n",
    "Keys = [i for i in col_list if cmp(i, \"maskbias\")]\n",
    "print(Keys)"
   ]
  },
  {
   "cell_type": "markdown",
   "metadata": {},
   "source": [
    "1. [Fastest way to get an unique sequence](http://stackoverflow.com/questions/480214/how-do-you-remove-duplicates-from-a-list-in-python-whilst-preserving-order)\n",
    "\n",
    "Why assign `seen.add` to `seen_add` instead of just calling `seen.add`? Python is a dynamic language, and resolving `seen.add` each iteration is more costly than resolving a local variable. `seen.add` could have changed between iterations, and the runtime isn't smart enough to rule that out. To play it safe, it has to check the object each time."
   ]
  },
  {
   "cell_type": "code",
   "execution_count": 2,
   "metadata": {
    "collapsed": false
   },
   "outputs": [
    {
     "name": "stdout",
     "output_type": "stream",
     "text": [
      "None\n"
     ]
    }
   ],
   "source": [
    "a = set()\n",
    "print a.add(0)"
   ]
  },
  {
   "cell_type": "code",
   "execution_count": 3,
   "metadata": {
    "collapsed": false
   },
   "outputs": [
    {
     "name": "stdout",
     "output_type": "stream",
     "text": [
      "[1, 2, 'a', 3]\n"
     ]
    }
   ],
   "source": [
    "# add an example to get the unique values from an list\n",
    "# use the set.add return none after a successed addition\n",
    "\n",
    "def unique(seq):\n",
    "    seen = set()\n",
    "    seen_add = seen.add\n",
    "    return [x for x in seq if not (x in seen or seen_add(x))]\n",
    "lst = [1, 1, 2, 'a', 'a', 3]\n",
    "print unique(lst)"
   ]
  },
  {
   "cell_type": "markdown",
   "metadata": {},
   "source": [
    "### Tips\n",
    "\n",
    "\n",
    "1. [How to clone or copy a list in Python?](http://stackoverflow.com/questions/2612802/how-to-clone-or-copy-a-list-in-python/27091494#27091494)\n",
    "\n",
    "Python doesn't store values in variables; it binds names to objects. Your original assignment took the object referred to by `my_list` and bound it to `new_list` as well. No matter which name you use there is still only one list, so changes made when referring to it as `my_list` will persist when referring to it as `new_list`. "
   ]
  },
  {
   "cell_type": "code",
   "execution_count": null,
   "metadata": {
    "collapsed": true
   },
   "outputs": [],
   "source": [
    "new_list = old_list[:]\n",
    "new_list = list(old_list)\n",
    "import copy\n",
    "new_list = copy.copy(old_list)\n",
    "new_list = copy.deepcopy(old_list)"
   ]
  },
  {
   "cell_type": "markdown",
   "metadata": {},
   "source": [
    "**Reference**\n",
    "\n",
    "1. [Python doc: mutable sequence types](https://docs.python.org/2/library/stdtypes.html?highlight=mutable%20sequence%20types)\n",
    "2. [pythonforbeginners: List Comprehension in Python](http://www.pythonforbeginners.com/lists/list-comprehensions-in-python/)\n",
    "3. [quora: What are the Python features you wish you'd known earlier?](http://qr.ae/RFSNKn)"
   ]
  }
 ],
 "metadata": {
  "kernelspec": {
   "display_name": "Python 2",
   "language": "python",
   "name": "python2"
  },
  "language_info": {
   "codemirror_mode": {
    "name": "ipython",
    "version": 2
   },
   "file_extension": ".py",
   "mimetype": "text/x-python",
   "name": "python",
   "nbconvert_exporter": "python",
   "pygments_lexer": "ipython2",
   "version": "2.7.10"
  }
 },
 "nbformat": 4,
 "nbformat_minor": 0
}
