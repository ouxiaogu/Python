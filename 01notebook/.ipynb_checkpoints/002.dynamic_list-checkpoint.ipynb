{
 "cells": [
  {
   "cell_type": "markdown",
   "metadata": {},
   "source": [
    " Here is the question?\n",
    " \n",
    " > How to init a dynamic list in python, and how to append an element into this list?\n",
    " \n",
    " ### 1. what about assigning by index "
   ]
  },
  {
   "cell_type": "code",
   "execution_count": 2,
   "metadata": {
    "collapsed": false,
    "scrolled": true
   },
   "outputs": [
    {
     "ename": "IndexError",
     "evalue": "list assignment index out of range",
     "output_type": "error",
     "traceback": [
      "\u001b[1;31m---------------------------------------------------------------------------\u001b[0m",
      "\u001b[1;31mIndexError\u001b[0m                                Traceback (most recent call last)",
      "\u001b[1;32m<ipython-input-2-354655590a01>\u001b[0m in \u001b[0;36m<module>\u001b[1;34m()\u001b[0m\n\u001b[0;32m      4\u001b[0m \u001b[0mln\u001b[0m \u001b[1;33m=\u001b[0m \u001b[0mlen\u001b[0m\u001b[1;33m(\u001b[0m\u001b[0mcol_list\u001b[0m\u001b[1;33m)\u001b[0m\u001b[1;33m\u001b[0m\u001b[0m\n\u001b[0;32m      5\u001b[0m \u001b[1;32mfor\u001b[0m \u001b[0mi\u001b[0m \u001b[1;32min\u001b[0m \u001b[0mxrange\u001b[0m\u001b[1;33m(\u001b[0m\u001b[0mln\u001b[0m\u001b[1;33m)\u001b[0m\u001b[1;33m:\u001b[0m\u001b[1;33m\u001b[0m\u001b[0m\n\u001b[1;32m----> 6\u001b[1;33m     \u001b[0mKeys\u001b[0m\u001b[1;33m[\u001b[0m\u001b[0mcount\u001b[0m\u001b[1;33m]\u001b[0m \u001b[1;33m=\u001b[0m \u001b[0mcol_list\u001b[0m\u001b[1;33m[\u001b[0m\u001b[0mi\u001b[0m\u001b[1;33m]\u001b[0m\u001b[1;33m;\u001b[0m\u001b[1;33m\u001b[0m\u001b[0m\n\u001b[0m\u001b[0;32m      7\u001b[0m     \u001b[0mcount\u001b[0m \u001b[1;33m+=\u001b[0m \u001b[1;36m1\u001b[0m\u001b[1;33m\u001b[0m\u001b[0m\n",
      "\u001b[1;31mIndexError\u001b[0m: list assignment index out of range"
     ]
    }
   ],
   "source": [
    "col_list = [\"defocus\", \"aiblur\"]\n",
    "Keys = []\n",
    "count = 0\n",
    "ln = len(col_list)\n",
    "for i in xrange(ln):\n",
    "    Keys[count] = col_list[i];\n",
    "    count += 1"
   ]
  },
  {
   "cell_type": "markdown",
   "metadata": {},
   "source": [
    "    IndexError: *list assignment index out of range*\n",
    "\n",
    "### 2. The operatations for [mutable sequence types](https://docs.python.org/2/library/stdtypes.html?highlight=mutable%20sequence%20types): *append*. "
   ]
  },
  {
   "cell_type": "code",
   "execution_count": 4,
   "metadata": {
    "collapsed": false
   },
   "outputs": [
    {
     "name": "stdout",
     "output_type": "stream",
     "text": [
      "['defocus', 'aiblur']\n"
     ]
    }
   ],
   "source": [
    "col_list = [\"defocus\", \"aiblur\"]\n",
    "Keys = []\n",
    "count = 0\n",
    "ln = len(col_list)\n",
    "for i in xrange(ln):\n",
    "    Keys.append(col_list[i]);\n",
    "print(Keys)"
   ]
  },
  {
   "cell_type": "markdown",
   "metadata": {},
   "source": [
    "### 3. [list comprehensions ](http://qr.ae/RFSNKn)\n",
    "\n",
    "    `new_list = [expression(i) for i in old_list if filter(i)]`\n",
    "    `*result*  = [*transform*    *iteration*         *filter*     ]`"
   ]
  },
  {
   "cell_type": "code",
   "execution_count": 10,
   "metadata": {
    "collapsed": false
   },
   "outputs": [
    {
     "name": "stdout",
     "output_type": "stream",
     "text": [
      "['defocus', 'aiblur']\n"
     ]
    }
   ],
   "source": [
    "col_list = [\"defocus\", \"aiblur\", \"maskbias\"]\n",
    "Keys = [i for i in col_list if cmp(i, \"maskbias\")]\n",
    "print(Keys)"
   ]
  },
  {
   "cell_type": "markdown",
   "metadata": {},
   "source": [
    "**Reference**\n",
    "\n",
    "1. [Python doc: mutable sequence types](https://docs.python.org/2/library/stdtypes.html?highlight=mutable%20sequence%20types)\n",
    "2. [pythonforbeginners: List Comprehension in Python](http://www.pythonforbeginners.com/lists/list-comprehensions-in-python/)\n",
    "3. [quora: What are the Python features you wish you'd known earlier?](http://qr.ae/RFSNKn)"
   ]
  }
 ],
 "metadata": {
  "kernelspec": {
   "display_name": "Python 2",
   "language": "python",
   "name": "python2"
  },
  "language_info": {
   "codemirror_mode": {
    "name": "ipython",
    "version": 2
   },
   "file_extension": ".py",
   "mimetype": "text/x-python",
   "name": "python",
   "nbconvert_exporter": "python",
   "pygments_lexer": "ipython2",
   "version": "2.7.10"
  }
 },
 "nbformat": 4,
 "nbformat_minor": 0
}
