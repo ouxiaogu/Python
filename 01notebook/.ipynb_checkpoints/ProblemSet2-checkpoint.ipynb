{
 "cells": [
  {
   "cell_type": "markdown",
   "metadata": {},
   "source": [
    "PAYING OFF CREDIT CARD DEBT\n",
    "---------------------------\n",
    "\n",
    "Each month, a credit card statement will come with the option for you to pay a minimum amount of your charge, usually 2% of the balance due. However, the credit card company earns money by charging interest on the balance that you don't pay. So even if you pay credit card payments on time, interest is still accruing on the outstanding balance.\n",
    "\n",
    "Say you've made a \\$5,000 purchase on a credit card with an 18% annual interest rate and a 2% minimum monthly payment rate. If you only pay the minimum monthly amount for a year, how much is the remaining balance?\n",
    "\n",
    "You can think about this in the following way.\n",
    "\n",
    "At the beginning of month 0 (when the credit card statement arrives), assume you owe an amount we will call b0 (*b* for *balance*; subscript *0* to indicate this is the balance at month 0).\n",
    "\n",
    "Any payment you make during that month is deducted from the balance. Let's call the payment you make in month 0, p0. Thus, your **unpaid balance** for month 0, ub0, is equal to b0−p0.\n",
    "\n",
    "$$ub0=b0−p0$$\n",
    "\n",
    "At the beginning of month 1, the credit card company will charge you interest on your unpaid balance. So if your annual interest rate is r, then at the beginning of month 1, your new balance is your previous unpaid balance ub0, **plus** the interest on this unpaid balance for the month. In algebra, this new balance would be\n",
    "\n",
    "$$b1=ub0 + \\frac {r}{12.0} \\cdot ub0$$\n",
    "\n",
    "In month 1, we will make another payment, p1. That payment has to cover some of the interest costs, so it does not completely go towards paying off the original charge. The balance at the beginning of month 2, b2, can be calculated by first calculating the unpaid balance after paying p1, then by adding the interest accrued:\n",
    "\n",
    "$$ub1=b1−p1$$\n",
    "\n",
    "$$b2=ub1 + \\frac {r}{12.0} \\cdot ub1$$\n",
    "\n",
    "If you choose just to pay off the minimum monthly payment each month, you will see that the compound interest will dramatically reduce your ability to lower your debt.\n",
    "\n",
    "Let's look at an example. If you've got a \\$5,000 balance on a credit card with 18% annual interest rate, and the minimum monthly payment is 2% of the current balance, we would have the following repayment schedule if you only pay the minimum payment each month:\n",
    "\n",
    "Month |Balance |Minimum Payment| Unpaid Balance |Interest\n",
    "--- |--- |--- |--- |--- |--- |--- |--- |--- |\n",
    "0| 5000.00 | 100 (= 5000 \\* 0.02)| 4900 (= 5000 - 100) |73.50 (= 0.18/12.0 \\* 4900)\n",
    "1| 4973.50 (= 4900 + 73.50)| 99.47 (= 4973.50 \\* 0.02)| 4874.03 (= 4973.50 - 99.47)| 73.11 (= 0.18/12.0 \\* 4874.03)\n",
    "2| 4947.14 (= 4874.03 + 73.11)| 98.94 (= 4947.14 \\* 0.02)| 4848.20 (= 4947.14 - 98.94)| 72.72 (= 0.18/12.0 \\* 4848.20)\n",
    "\n",
    "You can see that a lot of your payment is going to cover interest, and if you work this through month 12, you will see that after a year, you will have paid \\$1165.63 and yet you will still owe \\$4691.11 on what was originally a \\$5000.00 debt. Pretty depressing!"
   ]
  },
  {
   "cell_type": "markdown",
   "metadata": {},
   "source": [
    "PROBLEM 1: PAYING THE MINIMUM\n",
    "-----------------------------\n",
    "\n",
    " \n",
    "\n",
    "(10 points possible)\n",
    "\n",
    "Write a program to calculate the credit card balance after one year if a person only pays the minimum monthly payment required by the credit card company each month.\n",
    "\n",
    "The following variables contain values as described below:\n",
    "\n",
    "1.  `balance` - the outstanding balance on the credit card\n",
    "\n",
    "2.  `annualInterestRate` - annual interest rate as a decimal\n",
    "\n",
    "3.  `monthlyPaymentRate` - minimum monthly payment rate as a decimal\n",
    "\n",
    "For each month, calculate statements on the monthly payment and remaining balance, and print to screen something of the format:\n",
    "\n",
    "``` \n",
    "Month: 1\n",
    "Minimum monthly payment: 96.0\n",
    "Remaining balance: 4784.0\n",
    "```\n",
    "\n",
    "Be sure to print out no more than two decimal digits of accuracy - so print\n",
    "\n",
    "``` \n",
    "Remaining balance: 813.41\n",
    "```\n",
    "\n",
    "instead of\n",
    "\n",
    "``` \n",
    "Remaining balance: 813.4141998135 \n",
    "```\n",
    "\n",
    "Finally, print out the total amount paid that year and the remaining balance at the end of the year in the format:\n",
    "\n",
    "```\n",
    "Total paid: 96.0\n",
    "Remaining balance: 4784.0\n",
    "```\n",
    "\n",
    "A summary of the required math is found below:\n",
    "\n",
    "> **Monthly interest rate**= (Annual interest rate) / 12.0\n",
    "\n",
    "> **Minimum monthly payment** = (Minimum monthly payment rate) x (Previous balance)\n",
    "\n",
    "> **Monthly unpaid balance** = (Previous balance) - (Minimum monthly payment)\n",
    "\n",
    "> **Updated balance each month** = (Monthly unpaid balance) + (Monthly interest rate x Monthly unpaid balance)\n",
    "\n",
    "Note that the grading script looks for the order in which each value is printed out. We provide sample test cases below; we suggest you develop your code on your own machine, and make sure your code passes the sample test cases, before you paste it into the box below.\n",
    "\n",
    "**Test Cases to Test Your Code With. Be sure to test these on your own machine - and that you get the same output! - before running your code on this webpage!**\n",
    "\n",
    "[Click to See Problem 1 Test Cases](https://courses.edx.org/courses/course-v1:MITx+6.00.1x_7+3T2015/courseware/Week_2/Problem_Set_2/#)\n",
    "\n",
    "The code you paste into the following box **should not** specify the values for the variables `balance`,`annualInterestRate`, or `monthlyPaymentRate` - our test code will define those values before testing your submission."
   ]
  },
  {
   "cell_type": "code",
   "execution_count": 7,
   "metadata": {
    "collapsed": false
   },
   "outputs": [
    {
     "name": "stdout",
     "output_type": "stream",
     "text": [
      "Month: 1\n",
      "Minimum monthly payment: 193.68\n",
      "Remaining balance: 4725.79\n",
      "Month: 2\n",
      "Minimum monthly payment: 189.03\n",
      "Remaining balance: 4612.37\n",
      "Month: 3\n",
      "Minimum monthly payment: 184.49\n",
      "Remaining balance: 4501.68\n",
      "Month: 4\n",
      "Minimum monthly payment: 180.07\n",
      "Remaining balance: 4393.64\n",
      "Month: 5\n",
      "Minimum monthly payment: 175.75\n",
      "Remaining balance: 4288.19\n",
      "Month: 6\n",
      "Minimum monthly payment: 171.53\n",
      "Remaining balance: 4185.27\n",
      "Month: 7\n",
      "Minimum monthly payment: 167.41\n",
      "Remaining balance: 4084.83\n",
      "Month: 8\n",
      "Minimum monthly payment: 163.39\n",
      "Remaining balance: 3986.79\n",
      "Month: 9\n",
      "Minimum monthly payment: 159.47\n",
      "Remaining balance: 3891.11\n",
      "Month: 10\n",
      "Minimum monthly payment: 155.64\n",
      "Remaining balance: 3797.72\n",
      "Month: 11\n",
      "Minimum monthly payment: 151.91\n",
      "Remaining balance: 3706.57\n",
      "Month: 12\n",
      "Minimum monthly payment: 148.26\n",
      "Remaining balance: 3617.62\n",
      "Total paid: 2040.64\n",
      "Remaining balance: 3617.62\n"
     ]
    }
   ],
   "source": [
    "balance = 5000\n",
    "annualInterestRate = 0.12\n",
    "monthlyPaymentRate = 0.02\n",
    "# the remaining balance after 1 year, if only pay the minimum per month\n",
    "def remainingBalance(balance, annualInterestRate, monthlyPaymentRate):\n",
    "    total = 0.\n",
    "    for i in range(12):\n",
    "        if i==0:\n",
    "            b = balance\n",
    "        else:\n",
    "            b = ub + ub*annualInterestRate/12.\n",
    "        p = b*monthlyPaymentRate\n",
    "        total += p\n",
    "        ub = b - p\n",
    "        remained = ub + ub*annualInterestRate/12.\n",
    "        print \"Month: \"+str(i+1)\n",
    "        print \"Minimum monthly payment: {:.2f}\".format(p)\n",
    "        print \"Remaining balance: {:.2f}\".format(remained)\n",
    "    print \"Total paid: {:.2f}\".format(total)\n",
    "    print \"Remaining balance: {:.2f}\".format(remained)\n",
    "#remainingBalance(balance, annualInterestRate, monthlyPaymentRate)\n",
    "#remainingBalance(4213, 0.2, 0.04)\n",
    "remainingBalance(4842, 0.2, 0.04)"
   ]
  },
  {
   "cell_type": "markdown",
   "metadata": {},
   "source": [
    "PROBLEM 2: PAYING DEBT OFF IN A YEAR  (15 points possible)\n",
    "---------------------\n",
    "Now write a program that calculates the minimum fixed monthly payment needed in order pay off a credit card balance within 12 months. By a fixed monthly payment, we mean a single number which does not change each month, but instead is a constant amount that will be paid each month.\n",
    "\n",
    "In this problem, we will not be dealing with a minimum monthly payment rate.\n",
    "\n",
    "The following variables contain values as described below:\n",
    "\n",
    "1. `balance` - the outstanding balance on the credit card\n",
    "2. `annualInterestRate` - annual interest rate as a decimal\n",
    "\n",
    "The program should print out one line: the lowest monthly payment that will pay off all debt in under 1 year, for example:\n",
    "\n",
    "```\n",
    "Lowest Payment: 180 \n",
    "```"
   ]
  },
  {
   "cell_type": "code",
   "execution_count": 10,
   "metadata": {
    "collapsed": false
   },
   "outputs": [
    {
     "name": "stdout",
     "output_type": "stream",
     "text": [
      "Guess 1 270, remain 570.305227921\n",
      "Guess 2 280, remain 438.670576977\n",
      "Guess 3 290, remain 307.035926034\n",
      "Guess 4 300, remain 175.401275091\n",
      "Guess 5 310, remain 43.766624148\n",
      "Lowest Payment: 310\n"
     ]
    }
   ],
   "source": [
    "def minMonth(balance, annualInterestRate):\n",
    "    #low = balance/12.\n",
    "    #high = balance*(1+annualInterestRate/12.)**12/12.\n",
    "    #guess = (low+high)/2. \n",
    "    #epsilon = 0.01\n",
    "    guess = int((round(balance/12/10, 0)-1)*10)\n",
    "    debtOff = False\n",
    "    count = 0;\n",
    "    while not debtOff:\n",
    "        for i in range(12):\n",
    "            if i==0:\n",
    "                b = balance\n",
    "            else:\n",
    "                b = ub + ub*annualInterestRate/12.\n",
    "            p = guess\n",
    "            ub = b - p\n",
    "        if ub <= 0:\n",
    "            debtOff = True\n",
    "        else:\n",
    "            count += 1\n",
    "            guess += 10\n",
    "            # print \"Guess {} {}, remain {}\".format(count, guess, ub)\n",
    "    print \"Lowest Payment: {}\".format(guess)\n",
    "minMonth(3329, 0.2)"
   ]
  },
  {
   "cell_type": "code",
   "execution_count": 8,
   "metadata": {
    "collapsed": false
   },
   "outputs": [
    {
     "data": {
      "text/plain": [
       "-101"
      ]
     },
     "execution_count": 8,
     "metadata": {},
     "output_type": "execute_result"
    }
   ],
   "source": [
    "## ~ in python is bitwise inverse of the number obj !, different with lua, logical inverse \n",
    "~100"
   ]
  },
  {
   "cell_type": "code",
   "execution_count": 9,
   "metadata": {
    "collapsed": false
   },
   "outputs": [
    {
     "data": {
      "text/plain": [
       "False"
      ]
     },
     "execution_count": 9,
     "metadata": {},
     "output_type": "execute_result"
    }
   ],
   "source": [
    "not 100"
   ]
  },
  {
   "cell_type": "markdown",
   "metadata": {},
   "source": [
    "PROBLEM 3: USING BISECTION SEARCH TO MAKE THE PROGRAM FASTER\n",
    "-------------------"
   ]
  },
  {
   "cell_type": "code",
   "execution_count": 12,
   "metadata": {
    "collapsed": false
   },
   "outputs": [
    {
     "ename": "UnboundLocalError",
     "evalue": "local variable 'ub' referenced before assignment",
     "output_type": "error",
     "traceback": [
      "\u001b[1;31m---------------------------------------------------------------------------\u001b[0m",
      "\u001b[1;31mUnboundLocalError\u001b[0m                         Traceback (most recent call last)",
      "\u001b[1;32m<ipython-input-12-7e6ebf3d00a8>\u001b[0m in \u001b[0;36m<module>\u001b[1;34m()\u001b[0m\n\u001b[0;32m     26\u001b[0m \u001b[1;33m\u001b[0m\u001b[0m\n\u001b[0;32m     27\u001b[0m     \u001b[1;32mprint\u001b[0m \u001b[1;34m\"Lowest Payment: {}\"\u001b[0m\u001b[1;33m.\u001b[0m\u001b[0mformat\u001b[0m\u001b[1;33m(\u001b[0m\u001b[0mguess\u001b[0m\u001b[1;33m)\u001b[0m\u001b[1;33m\u001b[0m\u001b[0m\n\u001b[1;32m---> 28\u001b[1;33m \u001b[0mminMonthBisection\u001b[0m\u001b[1;33m(\u001b[0m\u001b[1;36m3329\u001b[0m\u001b[1;33m,\u001b[0m \u001b[1;36m0.2\u001b[0m\u001b[1;33m)\u001b[0m\u001b[1;33m\u001b[0m\u001b[0m\n\u001b[0m",
      "\u001b[1;32m<ipython-input-12-7e6ebf3d00a8>\u001b[0m in \u001b[0;36mminMonthBisection\u001b[1;34m(balance, annualInterestRate)\u001b[0m\n\u001b[0;32m      9\u001b[0m         \u001b[0mcount\u001b[0m \u001b[1;33m+=\u001b[0m \u001b[1;36m1\u001b[0m\u001b[1;33m\u001b[0m\u001b[0m\n\u001b[0;32m     10\u001b[0m         \u001b[0mguess\u001b[0m \u001b[1;33m=\u001b[0m \u001b[1;33m(\u001b[0m\u001b[0mlow\u001b[0m\u001b[1;33m+\u001b[0m\u001b[0mhigh\u001b[0m\u001b[1;33m)\u001b[0m\u001b[1;33m/\u001b[0m\u001b[1;36m2.\u001b[0m\u001b[1;33m\u001b[0m\u001b[0m\n\u001b[1;32m---> 11\u001b[1;33m         \u001b[1;32mprint\u001b[0m \u001b[1;34m\"Guess {} {}, remain {}\"\u001b[0m\u001b[1;33m.\u001b[0m\u001b[0mformat\u001b[0m\u001b[1;33m(\u001b[0m\u001b[0mcount\u001b[0m\u001b[1;33m,\u001b[0m \u001b[0mguess\u001b[0m\u001b[1;33m,\u001b[0m \u001b[0mub\u001b[0m\u001b[1;33m)\u001b[0m\u001b[1;33m\u001b[0m\u001b[0m\n\u001b[0m\u001b[0;32m     12\u001b[0m         \u001b[1;32mfor\u001b[0m \u001b[0mi\u001b[0m \u001b[1;32min\u001b[0m \u001b[0mrange\u001b[0m\u001b[1;33m(\u001b[0m\u001b[1;36m12\u001b[0m\u001b[1;33m)\u001b[0m\u001b[1;33m:\u001b[0m\u001b[1;33m\u001b[0m\u001b[0m\n\u001b[0;32m     13\u001b[0m             \u001b[1;32mif\u001b[0m \u001b[0mi\u001b[0m\u001b[1;33m==\u001b[0m\u001b[1;36m0\u001b[0m\u001b[1;33m:\u001b[0m\u001b[1;33m\u001b[0m\u001b[0m\n",
      "\u001b[1;31mUnboundLocalError\u001b[0m: local variable 'ub' referenced before assignment"
     ]
    }
   ],
   "source": [
    "def minMonthBisection(balance, annualInterestRate):\n",
    "    low = balance/12.\n",
    "    high = balance*(1+annualInterestRate/12.)**12/12.\n",
    "    epsilon = 0.01\n",
    "    debtOff = False\n",
    "    count = 0;\n",
    "    \n",
    "    while not debtOff:\n",
    "        count += 1\n",
    "        guess = (low+high)/2. \n",
    "        for i in range(12):\n",
    "            if i==0:\n",
    "                b = balance\n",
    "            else:\n",
    "                b = ub + ub*annualInterestRate/12.\n",
    "            p = guess\n",
    "            ub = b - p\n",
    "        print \"Guess {} {}, remain {}\".format(count, guess, ub)\n",
    "        if abs(ub) <= epsilon:\n",
    "            debtOff = True\n",
    "            break;\n",
    "        elif ub > 0:\n",
    "            low = guess\n",
    "        else:\n",
    "            hight = guess\n",
    "        \n",
    "    print \"Lowest Payment: {}\".format(guess)\n",
    "minMonthBisection(3329, 0.2)"
   ]
  },
  {
   "cell_type": "code",
   "execution_count": null,
   "metadata": {
    "collapsed": true
   },
   "outputs": [],
   "source": []
  }
 ],
 "metadata": {
  "kernelspec": {
   "display_name": "Python 2",
   "language": "python",
   "name": "python2"
  },
  "language_info": {
   "codemirror_mode": {
    "name": "ipython",
    "version": 2
   },
   "file_extension": ".py",
   "mimetype": "text/x-python",
   "name": "python",
   "nbconvert_exporter": "python",
   "pygments_lexer": "ipython2",
   "version": "2.7.10"
  }
 },
 "nbformat": 4,
 "nbformat_minor": 0
}
