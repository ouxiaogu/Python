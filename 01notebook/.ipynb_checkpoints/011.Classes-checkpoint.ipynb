{
 "cells": [
  {
   "cell_type": "markdown",
   "metadata": {},
   "source": [
    "### 1. class \n",
    "\n",
    "Consider the following code.What does the code print out? If you aren't sure, create a Python file and run it."
   ]
  },
  {
   "cell_type": "code",
   "execution_count": null,
   "metadata": {
    "collapsed": true
   },
   "outputs": [],
   "source": [
    "class Clock(object):\n",
    "    def __init__(self, time):\n",
    "\tself.time = time\n",
    "    def print_time(self):\n",
    "\tprint self.time\n",
    "\n",
    "boston_clock = Clock('5:30')\n",
    "paris_clock = boston_clock\n",
    "paris_clock.time = '10:30'\n",
    "boston_clock.print_time()"
   ]
  },
  {
   "cell_type": "markdown",
   "metadata": {},
   "source": [
    "1. `boston_clock` and `paris_clock` are the same object.\n",
    "2. Through the above example, we can see **class name is also a reference in python, just like the list name**."
   ]
  },
  {
   "cell_type": "code",
   "execution_count": null,
   "metadata": {
    "collapsed": true
   },
   "outputs": [],
   "source": [
    "## L11 PROBLEM 3\n",
    "## error writtings\n",
    "class Weird(object):\n",
    "    def __init__(self, x, y): \n",
    "        self.y = y\n",
    "        self.x = x\n",
    "    def getX(self):\n",
    "        return x \n",
    "    def getY(self):\n",
    "        return y\n",
    "## correct\n",
    "class Wild(object):\n",
    "    def __init__(self, x, y): \n",
    "        self.y = y\n",
    "        self.x = x\n",
    "    def getX(self):\n",
    "        return self.x \n",
    "    def getY(self):\n",
    "        return self.y"
   ]
  },
  {
   "cell_type": "code",
   "execution_count": 3,
   "metadata": {
    "collapsed": false
   },
   "outputs": [
    {
     "name": "stdout",
     "output_type": "stream",
     "text": [
      "True\n"
     ]
    }
   ],
   "source": [
    "## L11 PROBLEM 4\n",
    "class Coordinate(object):\n",
    "    def __init__(self,x,y):\n",
    "        self.x = x\n",
    "        self.y = y\n",
    "\n",
    "    def getX(self):\n",
    "        # Getter method for a Coordinate object's x coordinate.\n",
    "        # Getter methods are better practice than just accessing an attribute directly\n",
    "        return self.x\n",
    "\n",
    "    def getY(self):\n",
    "        # Getter method for a Coordinate object's y coordinate\n",
    "        return self.y\n",
    "\n",
    "    def __str__(self):\n",
    "        return '<' + str(self.getX()) + ',' + str(self.getY()) + '>'\n",
    "    \n",
    "    def __eq__(self, other):\n",
    "        if self.x == other.x and self.y == other.y:\n",
    "            return True\n",
    "        else:\n",
    "            return False\n",
    "    ## http://stackoverflow.com/questions/452300/python-object-repr-self-should-be-an-expression\n",
    "    def __repr__(self):\n",
    "        return \"Coordinate(%d, %d)\" % (self.x, self.y)\n",
    "    \n",
    "        \n",
    "A = Coordinate(4,5)\n",
    "B = eval(A.__repr__())\n",
    "print A.__eq__(B)\n"
   ]
  },
  {
   "cell_type": "code",
   "execution_count": 10,
   "metadata": {
    "collapsed": false
   },
   "outputs": [
    {
     "name": "stdout",
     "output_type": "stream",
     "text": [
      "set([1, 2])\n",
      "2\n",
      "2\n"
     ]
    }
   ],
   "source": [
    "## L11 PROBLEM 5\n",
    "class intSet(object):\n",
    "    \"\"\"An intSet is a set of integers\n",
    "    The value is represented by a list of ints, self.vals.\n",
    "    Each int in the set occurs in self.vals exactly once.\"\"\"\n",
    "\n",
    "    def __init__(self):\n",
    "        \"\"\"Create an empty set of integers\"\"\"\n",
    "        self.vals = []\n",
    "\n",
    "    def insert(self, e):\n",
    "        \"\"\"Assumes e is an integer and inserts e into self\"\"\" \n",
    "        if not e in self.vals:\n",
    "            self.vals.append(e)\n",
    "\n",
    "    def member(self, e):\n",
    "        \"\"\"Assumes e is an integer\n",
    "           Returns True if e is in self, and False otherwise\"\"\"\n",
    "        return e in self.vals\n",
    "\n",
    "    def remove(self, e):\n",
    "        \"\"\"Assumes e is an integer and removes e from self\n",
    "           Raises ValueError if e is not in self\"\"\"\n",
    "        try:\n",
    "            self.vals.remove(e)\n",
    "        except:\n",
    "            raise ValueError(str(e) + ' not found')\n",
    "\n",
    "    def __str__(self):\n",
    "        \"\"\"Returns a string representation of self\"\"\"\n",
    "        self.vals.sort()\n",
    "        return '{' + ','.join([str(e) for e in self.vals]) + '}'\n",
    "\n",
    "    def __intersect__(self, other):\n",
    "        commonSet = intSet()\n",
    "        for a in self.vals:\n",
    "            if a in other.vals:\n",
    "                commonSet.vals.append(a)\n",
    "        return commonSet\n",
    "    \n",
    "    def len(self):\n",
    "        count = 0\n",
    "        for a in self.vals:\n",
    "            count += 1\n",
    "        return count\n",
    "class intSet(object):\n",
    "    \"\"\"An intSet is a set of integers\n",
    "    The value is represented by a list of ints, self.vals.\n",
    "    Each int in the set occurs in self.vals exactly once.\"\"\"\n",
    "\n",
    "    def __init__(self):\n",
    "        \"\"\"Create an empty set of integers\"\"\"\n",
    "        self.vals = []\n",
    "\n",
    "    def insert(self, e):\n",
    "        \"\"\"Assumes e is an integer and inserts e into self\"\"\" \n",
    "        if not e in self.vals:\n",
    "            self.vals.append(e)\n",
    "\n",
    "    def member(self, e):\n",
    "        \"\"\"Assumes e is an integer\n",
    "           Returns True if e is in self, and False otherwise\"\"\"\n",
    "        return e in self.vals\n",
    "\n",
    "    def remove(self, e):\n",
    "        \"\"\"Assumes e is an integer and removes e from self\n",
    "           Raises ValueError if e is not in self\"\"\"\n",
    "        try:\n",
    "            self.vals.remove(e)\n",
    "        except:\n",
    "            raise ValueError(str(e) + ' not found')\n",
    "\n",
    "    def __str__(self):\n",
    "        \"\"\"Returns a string representation of self\"\"\"\n",
    "        self.vals.sort()\n",
    "        return '{' + ','.join([str(e) for e in self.vals]) + '}'\n",
    "\n",
    "    def intersect(self, other):\n",
    "        commonSet = intSet()\n",
    "        for a in self.vals:\n",
    "            if a in other.vals:\n",
    "                commonSet.vals.append(a)\n",
    "        return commonSet\n",
    "    \n",
    "    def __len__(self):\n",
    "        count = 0\n",
    "        for a in self.vals:\n",
    "            count += 1\n",
    "        return count\n",
    "\n",
    "aSet = intSet()\n",
    "bSet = intSet()\n",
    "for i in range(3):\n",
    "    aSet.insert(i)\n",
    "    bSet.insert(i+1)\n",
    "cSet = aSet.intersect(bSet)\n",
    "print eval(cSet.__str__())\n",
    "print cSet.__len__()\n",
    "print len(cSet)\n",
    "                \n"
   ]
  },
  {
   "cell_type": "markdown",
   "metadata": {},
   "source": [
    "The meaning of `__XX__` in python:"
   ]
  },
  {
   "cell_type": "code",
   "execution_count": null,
   "metadata": {
    "collapsed": true
   },
   "outputs": [],
   "source": [
    ">>> queue = Queue()\n",
    ">>> queue.insert(5)\n",
    ">>> queue.insert(6)\n",
    ">>> queue.remove()\n",
    "5\n",
    ">>> queue.insert(7)\n",
    ">>> queue.remove()\n",
    "6\n",
    ">>> queue.remove()\n",
    "7\n",
    ">>> queue.remove()\n",
    "Traceback (most recent call last):\n",
    "  File \"<stdin>\", line 26, in <module>\n",
    "  File \"queue.py\", line 15, in remove\n",
    "    raise ValueError()\n",
    "ValueError"
   ]
  },
  {
   "cell_type": "code",
   "execution_count": 15,
   "metadata": {
    "collapsed": false
   },
   "outputs": [
    {
     "ename": "ValueError",
     "evalue": "",
     "output_type": "error",
     "traceback": [
      "\u001b[1;31m---------------------------------------------------------------------------\u001b[0m",
      "\u001b[1;31mValueError\u001b[0m                                Traceback (most recent call last)",
      "\u001b[1;32m<ipython-input-15-5eefc1ef81ee>\u001b[0m in \u001b[0;36m<module>\u001b[1;34m()\u001b[0m\n\u001b[0;32m     19\u001b[0m \u001b[0mqueue\u001b[0m\u001b[1;33m.\u001b[0m\u001b[0mremove\u001b[0m\u001b[1;33m(\u001b[0m\u001b[1;33m)\u001b[0m\u001b[1;33m\u001b[0m\u001b[0m\n\u001b[0;32m     20\u001b[0m \u001b[0mqueue\u001b[0m\u001b[1;33m.\u001b[0m\u001b[0mremove\u001b[0m\u001b[1;33m(\u001b[0m\u001b[1;33m)\u001b[0m\u001b[1;33m\u001b[0m\u001b[0m\n\u001b[1;32m---> 21\u001b[1;33m \u001b[0mqueue\u001b[0m\u001b[1;33m.\u001b[0m\u001b[0mremove\u001b[0m\u001b[1;33m(\u001b[0m\u001b[1;33m)\u001b[0m\u001b[1;33m\u001b[0m\u001b[0m\n\u001b[0m\u001b[0;32m     22\u001b[0m \u001b[1;33m\u001b[0m\u001b[0m\n\u001b[0;32m     23\u001b[0m \u001b[1;33m\u001b[0m\u001b[0m\n",
      "\u001b[1;32m<ipython-input-15-5eefc1ef81ee>\u001b[0m in \u001b[0;36mremove\u001b[1;34m(self)\u001b[0m\n\u001b[0;32m     11\u001b[0m             \u001b[1;32mdel\u001b[0m \u001b[0mself\u001b[0m\u001b[1;33m.\u001b[0m\u001b[0mvals\u001b[0m\u001b[1;33m[\u001b[0m\u001b[1;36m0\u001b[0m\u001b[1;33m]\u001b[0m\u001b[1;33m\u001b[0m\u001b[0m\n\u001b[0;32m     12\u001b[0m         \u001b[1;32mexcept\u001b[0m \u001b[0mIndexError\u001b[0m\u001b[1;33m,\u001b[0m \u001b[0me\u001b[0m\u001b[1;33m:\u001b[0m\u001b[1;33m\u001b[0m\u001b[0m\n\u001b[1;32m---> 13\u001b[1;33m             \u001b[1;32mraise\u001b[0m \u001b[0mValueError\u001b[0m\u001b[1;33m(\u001b[0m\u001b[1;33m)\u001b[0m\u001b[1;33m\u001b[0m\u001b[0m\n\u001b[0m\u001b[0;32m     14\u001b[0m \u001b[1;33m\u001b[0m\u001b[0m\n\u001b[0;32m     15\u001b[0m \u001b[1;33m\u001b[0m\u001b[0m\n",
      "\u001b[1;31mValueError\u001b[0m: "
     ]
    }
   ],
   "source": [
    "# L11 Problem 6\n",
    "class Queue(object):\n",
    "    def __init__(self):\n",
    "        self.vals = []\n",
    "    \n",
    "    def insert(self, x):\n",
    "        self.vals.append(x)\n",
    "    \n",
    "    def remove(self):\n",
    "        if len(self.vals) == 0:\n",
    "            raise ValueError()\n",
    "        else:\n",
    "            ##print self.vals[0]\n",
    "            a = self.vals[0]\n",
    "            del self.vals[0]\n",
    "            return a\n",
    "        \n",
    "queue = Queue()\n",
    "queue.insert(5)\n",
    "queue.insert(6)\n",
    "queue.remove()\n",
    "queue.remove()\n",
    "queue.remove()\n",
    "        \n",
    "    "
   ]
  },
  {
   "cell_type": "code",
   "execution_count": 16,
   "metadata": {
    "collapsed": false
   },
   "outputs": [
    {
     "name": "stdout",
     "output_type": "stream",
     "text": [
      "Accio\n",
      "Summoning Charm Accio\n",
      "No description\n",
      "Confundus Charm Confundo\n",
      "Causes the victim to become confused and befuddled.\n"
     ]
    }
   ],
   "source": [
    "# L12 Problem 1\n",
    "class Spell(object):\n",
    "    def __init__(self, incantation, name):\n",
    "        self.name = name\n",
    "        self.incantation = incantation\n",
    "\n",
    "    def __str__(self):\n",
    "        return self.name + ' ' + self.incantation + '\\n' + self.getDescription()\n",
    "              \n",
    "    def getDescription(self):\n",
    "        return 'No description'\n",
    "    \n",
    "    def execute(self):\n",
    "        print self.incantation    \n",
    "\n",
    "\n",
    "class Accio(Spell):\n",
    "    def __init__(self):\n",
    "        Spell.__init__(self, 'Accio', 'Summoning Charm')\n",
    "\n",
    "class Confundo(Spell):\n",
    "    def __init__(self):\n",
    "        Spell.__init__(self, 'Confundo', 'Confundus Charm')\n",
    "\n",
    "    def getDescription(self):\n",
    "        return 'Causes the victim to become confused and befuddled.'\n",
    "\n",
    "def studySpell(spell):\n",
    "    print spell\n",
    "\n",
    "spell = Accio()\n",
    "spell.execute()\n",
    "studySpell(spell)\n",
    "studySpell(Confundo())"
   ]
  },
  {
   "cell_type": "markdown",
   "metadata": {},
   "source": [
    "When resolving a reference to an attribute of an object that's an instance of class D, Python first searches the object's instance variables then uses a simple left-to-right, depth first search through the class hierarchy. In this case that would mean searching the class C, followed the class B and its superclasses (ie, class A, and then any superclasses it may have, et cetera)."
   ]
  },
  {
   "cell_type": "code",
   "execution_count": null,
   "metadata": {
    "collapsed": true
   },
   "outputs": [],
   "source": [
    "# L12 Problem 2\n",
    "class A(object):\n",
    "    def __init__(self):\n",
    "        self.a = 1\n",
    "    def x(self):\n",
    "        print \"A.x\"\n",
    "    def y(self):\n",
    "        print \"A.y\"\n",
    "    def z(self):\n",
    "        print \"A.z\"\n",
    "\n",
    "class B(A):\n",
    "    def __init__(self):\n",
    "        A.__init__(self)\n",
    "        self.a = 2\n",
    "        self.b = 3\n",
    "    def y(self):\n",
    "        print \"B.y\"\n",
    "    def z(self):\n",
    "        print \"B.z\"\n",
    "\n",
    "class C(object):\n",
    "    def __init__(self):\n",
    "        self.a = 4\n",
    "        self.c = 5\n",
    "    def y(self):\n",
    "        print \"C.y\"\n",
    "    def z(self):\n",
    "        print \"C.z\"\n",
    "\n",
    "class D(C, B):\n",
    "    def __init__(self):\n",
    "        C.__init__(self)\n",
    "        B.__init__(self)\n",
    "        self.d = 6\n",
    "    def z(self):\n",
    "        print \"D.z\"\n",
    "obj = D()\n",
    "print obj.a\n",
    "print obj.b\n",
    "print obj.c\n",
    "print obj.d\n",
    "obj.x()\n",
    "obj.y()\n",
    "obj.z()"
   ]
  },
  {
   "cell_type": "markdown",
   "metadata": {},
   "source": [
    "1. [Discussion for the value of obj.a](https://courses.edx.org/courses/course-v1:MITx+6.00.1x_7+3T2015/discussion/forum/c8b06c554bcb929515a7452a3ba3dfe32b923d36/threads/561cdf22c76277a06c000359)\n",
    "\n",
    "\n",
    "If you have this sequence:\n",
    "    self.a = 4\n",
    "    self.a = 1\n",
    "    self.a = 2\n",
    "What is the final value of self.a? That is what I meant by redundant assignments.\n",
    "You are assigning the value 4 to self.a, then you overwrite it with the value 1, and then you overwrite it again with the value 2. This means that the final value of self.a is 2."
   ]
  },
  {
   "cell_type": "code",
   "execution_count": 17,
   "metadata": {
    "collapsed": false
   },
   "outputs": [
    {
     "data": {
      "text/plain": [
       "1"
      ]
     },
     "execution_count": 17,
     "metadata": {},
     "output_type": "execute_result"
    }
   ],
   "source": [
    "3/2"
   ]
  },
  {
   "cell_type": "code",
   "execution_count": 21,
   "metadata": {
    "collapsed": false
   },
   "outputs": [
    {
     "data": {
      "text/plain": [
       "3"
      ]
     },
     "execution_count": 21,
     "metadata": {},
     "output_type": "execute_result"
    }
   ],
   "source": [
    "import random\n",
    "random.randrange(0,5)"
   ]
  },
  {
   "cell_type": "code",
   "execution_count": 27,
   "metadata": {
    "collapsed": false
   },
   "outputs": [
    {
     "name": "stdout",
     "output_type": "stream",
     "text": [
      "eegnrsw\n",
      "7\n",
      "aampszz\n",
      "7\n",
      "ampsz\n"
     ]
    }
   ],
   "source": [
    "import random\n",
    "\n",
    "class Hand(object):\n",
    "    def __init__(self, n):\n",
    "        '''\n",
    "        Initialize a Hand.\n",
    "\n",
    "        n: integer, the size of the hand.\n",
    "        '''\n",
    "        assert type(n) == int\n",
    "        self.HAND_SIZE = n\n",
    "        self.VOWELS = 'aeiou'\n",
    "        self.CONSONANTS = 'bcdfghjklmnpqrstvwxyz'\n",
    "\n",
    "        # Deal a new hand\n",
    "        self.dealNewHand()\n",
    "\n",
    "    def dealNewHand(self):\n",
    "        '''\n",
    "        Deals a new hand, and sets the hand attribute to the new hand.\n",
    "        '''\n",
    "        # Set self.hand to a new, empty dictionary\n",
    "        self.hand = {}\n",
    "\n",
    "        # Build the hand\n",
    "        numVowels = self.HAND_SIZE / 3\n",
    "\n",
    "        for i in range(numVowels):\n",
    "            x = self.VOWELS[random.randrange(0,len(self.VOWELS))]\n",
    "            self.hand[x] = self.hand.get(x, 0) + 1\n",
    "\n",
    "        for i in range(numVowels, self.HAND_SIZE):\n",
    "            x = self.CONSONANTS[random.randrange(0,len(self.CONSONANTS))]\n",
    "            self.hand[x] = self.hand.get(x, 0) + 1\n",
    "\n",
    "    def setDummyHand(self, handString):\n",
    "        '''\n",
    "        Allows you to set a dummy hand. Useful for testing your implementation.\n",
    "\n",
    "        handString: A string of letters you wish to be in the hand. Length of this\n",
    "        string must be equal to self.HAND_SIZE.\n",
    "\n",
    "        This method converts sets the hand attribute to a dictionary\n",
    "        containing the letters of handString.\n",
    "        '''\n",
    "        assert len(handString) == self.HAND_SIZE, \"Length of handString ({0}) must equal length of HAND_SIZE ({1})\".format(len(handString), self.HAND_SIZE)\n",
    "        self.hand = {}\n",
    "        for char in handString:\n",
    "            self.hand[char] = self.hand.get(char, 0) + 1\n",
    "\n",
    "\n",
    "    def calculateLen(self):\n",
    "        '''\n",
    "        Calculate the length of the hand.\n",
    "        '''\n",
    "        ans = 0\n",
    "        for k in self.hand:\n",
    "            ans += self.hand[k]\n",
    "        return ans\n",
    "\n",
    "    def __str__(self):\n",
    "        '''\n",
    "        Display a string representation of the hand.\n",
    "        '''\n",
    "        output = ''\n",
    "        hand_keys = self.hand.keys()\n",
    "        hand_keys.sort()\n",
    "        for letter in hand_keys:\n",
    "            for j in range(self.hand[letter]):\n",
    "                output += letter\n",
    "        return output\n",
    "\n",
    "    # def __str__(self):\n",
    "    #     '''\n",
    "    #     Display a string representation of the hand.\n",
    "    #     '''\n",
    "    #     output = ''\n",
    "    #     for letter in sorted(self.hand.keys()):\n",
    "    #         output += letter * self.hand[letter]\n",
    "    #     return output\n",
    "\n",
    "    def update(self, word):\n",
    "        \"\"\"\n",
    "        Does not assume that self.hand has all the letters in word.\n",
    "\n",
    "        Updates the hand: if self.hand does have all the letters to make\n",
    "        the word, modifies self.hand by using up the letters in the given word.\n",
    "\n",
    "        Returns True if the word was able to be made with the letter in\n",
    "        the hand; False otherwise.\n",
    "\n",
    "        word: string\n",
    "        returns: Boolean (if the word was or was not made)\n",
    "        \"\"\"\n",
    "        # Your code here\n",
    "        letters = self.hand.keys()\n",
    "        inHand = True\n",
    "        for a in word:\n",
    "            if a not in letters:\n",
    "                inHand = False\n",
    "        if inHand == True :\n",
    "            for a in word:\n",
    "                self.hand[a] = self.hand.get(a, 0)-1\n",
    "        return inHand\n",
    "        raise NotImplementedError()\n",
    "\n",
    "myHand = Hand(7)\n",
    "print myHand\n",
    "print myHand.calculateLen()\n",
    "\n",
    "myHand.setDummyHand('aazzmsp')\n",
    "print myHand\n",
    "print myHand.calculateLen()\n",
    "\n",
    "myHand.update('za')\n",
    "print myHand\n"
   ]
  },
  {
   "cell_type": "markdown",
   "metadata": {},
   "source": [
    "https://docs.python.org/2/library/stdtypes.html#dict\n",
    "\n",
    "1. hand \n",
    "2. hand.get(key, 0)\n",
    "\n",
    "\n",
    "    {'a': 1, 'b': 3, 'c': 0}\n",
    "    {'a': 1, 'b': 3}\n",
    "\n",
    "An internal attribute is any variable that the object stores: in this case, hand is a variable stored inside every Hand object.\n",
    "Because the hand variables are different in the two cases, the two Hand objects will have different internal attributes, even if they have the same structure (in this case both contain a dictionary)."
   ]
  },
  {
   "cell_type": "code",
   "execution_count": 5,
   "metadata": {
    "collapsed": false
   },
   "outputs": [],
   "source": [
    "def genFib():\n",
    "    fibn_1 = 1 #fib(n-1)\n",
    "    fibn_2 = 0 #fib(n-2)\n",
    "    while True:\n",
    "    # fib(n) = fib(n-1) + fib(n-2)\n",
    "        next = fibn_1 + fibn_2\n",
    "        yield next\n",
    "        fibn_2 = fibn_1\n",
    "        fibn_1 = next\n",
    "fib = genFib()\n",
    "def fib2():\n",
    "    last, cur = 0, 1\n",
    "    while True: \n",
    "        yield cur\n",
    "        last, cur = cur, last + cur"
   ]
  },
  {
   "cell_type": "code",
   "execution_count": 6,
   "metadata": {
    "collapsed": false
   },
   "outputs": [
    {
     "name": "stdout",
     "output_type": "stream",
     "text": [
      "1\n",
      "2\n",
      "3\n",
      "5\n",
      "8\n",
      "13\n",
      "21\n",
      "34\n",
      "55\n"
     ]
    }
   ],
   "source": [
    "N = 1\n",
    "while N<10:\n",
    "    N += 1 \n",
    "    print fib.next()"
   ]
  },
  {
   "cell_type": "code",
   "execution_count": null,
   "metadata": {
    "collapsed": false
   },
   "outputs": [],
   "source": [
    "def isPrime(m):\n",
    "    for n in range(2, m/2+1):\n",
    "        if m%n == 0:\n",
    "            return False\n",
    "    return True \n",
    "def genPrime():\n",
    "    pre = 2\n",
    "    while True:\n",
    "        cur = pre\n",
    "        yield cur\n",
    "        while True:\n",
    "            pre = cur+1\n",
    "            if isPrime(pre):\n",
    "                break\n",
    "prime = genPrime()\n",
    "N = 1\n",
    "while N<10:\n",
    "    N += 1 \n",
    "    print prime.next()"
   ]
  },
  {
   "cell_type": "code",
   "execution_count": null,
   "metadata": {
    "collapsed": true
   },
   "outputs": [],
   "source": []
  }
 ],
 "metadata": {
  "kernelspec": {
   "display_name": "Python 2",
   "language": "python",
   "name": "python2"
  },
  "language_info": {
   "codemirror_mode": {
    "name": "ipython",
    "version": 2
   },
   "file_extension": ".py",
   "mimetype": "text/x-python",
   "name": "python",
   "nbconvert_exporter": "python",
   "pygments_lexer": "ipython2",
   "version": "2.7.10"
  }
 },
 "nbformat": 4,
 "nbformat_minor": 0
}
