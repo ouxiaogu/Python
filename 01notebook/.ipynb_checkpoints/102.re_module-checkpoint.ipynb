{
 "cells": [
  {
   "cell_type": "code",
   "execution_count": 1,
   "metadata": {
    "collapsed": true
   },
   "outputs": [],
   "source": [
    "subject = '''\n",
    "ID: 1\n",
    "Name: X\n",
    "FamilyN: Y\n",
    "Age: 20\n",
    "\n",
    "ID: 2\n",
    "Name: H\n",
    "FamilyN: F\n",
    "Age: 23\n",
    "\n",
    "ID: 3\n",
    "Name: S\n",
    "FamilyN: Y\n",
    "Age: 13\n",
    "\n",
    "ID: 4\n",
    "Name: M\n",
    "FamilyN: Z\n",
    "Age: 25'''"
   ]
  },
  {
   "cell_type": "code",
   "execution_count": 3,
   "metadata": {
    "collapsed": false
   },
   "outputs": [
    {
     "name": "stdout",
     "output_type": "stream",
     "text": [
      "[('X', 'Y', '20'), ('H', 'F', '23'), ('S', 'Y', '13'), ('M', 'Z', '25')]\n"
     ]
    }
   ],
   "source": [
    "import re\n",
    "result = re.findall(\n",
    "    r\"\"\"(?mx)           # multiline, verbose regex\n",
    "    ^ID:.*\\s*           # Match ID: and anything else on that line \n",
    "    Name:\\s*(.*)\\s*     # Match name, capture all characters on this line\n",
    "    FamilyN:\\s*(.*)\\s*  # etc. for family name\n",
    "    Age:\\s*(.*)$        # and age\"\"\", \n",
    "    subject)\n",
    "print result"
   ]
  },
  {
   "cell_type": "markdown",
   "metadata": {},
   "source": [
    "1. [extract numbers from mixed log file](http://stackoverflow.com/questions/32480483/extract-critical-numbers-from-a-mixed-log-file)\n",
    "\n",
    "\n",
    "I have a log file contained many slices like this:\n",
    "\n",
    "    Align set A and merge into set B ...\n",
    "        setA, 4 images , image size 146 X 131\n",
    "        setA, image 1, shape center shift (7, -9) compared to image center\n",
    "        setA, image 2, shape center shift (8, -10) compared to image center\n",
    "        setA, image 3, shape center shift (6, -9) compared to image center\n",
    "        setA, image 4, shape center shift (6, -8) compared to image center\n",
    "        final set B, image size 143 X 129\n",
    "    Write set B ...\n",
    "\n",
    "Now, I want to extract the numbers in this slice into a table:\n",
    "\n",
    "| width_A | height_A | shift_x | shift_y | width_B | height_B|\n",
    "--- | --- | --- | ----| ---\n",
    "A1 | 146 | 131 | 7 | -9 | 143 | 129\n",
    "A2 | 146 | 131 | 8 | -10 | 143 | 129\n",
    "A3 | 146 | 131 | 6 | -9 | 143 | 129\n",
    "A4 | 146 | 131 | 6 | -8 | 143 | 129\n",
    "\n",
    "| width_A | height_A | shift_x1 | shift_y1 | shift_x2 | shift_y2 | shift_x3 | shift_y3 | shift_x4 | shift_y4 | width_B | height_B|\n",
    "--- | --- | --- | ----| --- | --- | --- | ----| ---| --- | --- | ----|\n",
    "\n",
    "\n",
    "If dividing the procedure into two parts, then:\n",
    "\n",
    "1. text processing, read the text into a dictionary `data`, e.g., `data['A1']['shift_x'] = 7`. \n",
    "2. use pandas convert the dictionary into dataframe: `df = pd.DataFrame(data)`\n",
    "\n",
    "\n",
    "But I am not familiar with python text processing:\n",
    "\n",
    " - Different from [Python: How to loop through blocks of lines](http://stackoverflow.com/questions/3914454/python-how-to-loop-through-blocks-of-lines), my log text are not so well organised; \n",
    " - regular expression may be a choice, but I can never remember the tricks to classify all kinds of symbols\n",
    " \n",
    "Does anyone have a good solution for this? Python is preferred. Thanks in advance."
   ]
  },
  {
   "cell_type": "code",
   "execution_count": 10,
   "metadata": {
    "collapsed": false
   },
   "outputs": [
    {
     "name": "stdout",
     "output_type": "stream",
     "text": [
      "\n",
      "gauge 1, BWall_01BW90N01920_01720_01320_00440_00960_00860_01320_00440_1_1, processing...\n",
      "gauge_no\n",
      "Merge set A into set B ...\n",
      "    setA, 4 images , image size 321 X 291\n",
      "height_A\n",
      "width_A\n",
      "    setA, image 1, shape center shift (15, -17) compared to image center\n",
      "image_no\n",
      "shift_x\n",
      "shift_y\n",
      "    setA, image 2, shape center shift (1, -17) compared to image center\n",
      "image_no\n",
      "shift_x\n",
      "shift_y\n",
      "    setA, image 3, shape center shift (13, -17) compared to image center\n",
      "image_no\n",
      "shift_x\n",
      "shift_y\n",
      "    setA, image 4, shape center shift (14, -17) compared to image center\n",
      "image_no\n",
      "shift_x\n",
      "shift_y\n",
      "    final set B, image size 319 X 263\n",
      "height_B\n",
      "width_B\n",
      "Write gauge 1, set B ...\n",
      "\n",
      "{'gauge1': {'shift_x3': 13, 'shift_y1': -17, 'shift_y2': -17, 'shift_y3': -17, 'shift_y4': -17, 'height_A': 321, 'height_B': 319, 'shift_x2': 1, 'shift_x4': 14, 'width_B': 263, 'shift_x1': 15, 'width_A': 291}}\n",
      "        height_A  height_B  shift_x1  shift_x2  shift_x3  shift_x4  shift_y1  \\\n",
      "gauge1       321       319        15         1        13        14       -17   \n",
      "\n",
      "        shift_y2  shift_y3  shift_y4  width_A  width_B  width_diff  \\\n",
      "gauge1       -17       -17       -17      291      263          28   \n",
      "\n",
      "        height_diff  \n",
      "gauge1            2  \n"
     ]
    }
   ],
   "source": [
    "text = '''\n",
    "gauge 1, BWall_01BW90N01920_01720_01320_00440_00960_00860_01320_00440_1_1, processing...\n",
    "Merge set A into set B ...\n",
    "    setA, 4 images , image size 321 X 291\n",
    "    setA, image 1, shape center shift (15, -17) compared to image center\n",
    "    setA, image 2, shape center shift (1, -17) compared to image center\n",
    "    setA, image 3, shape center shift (13, -17) compared to image center\n",
    "    setA, image 4, shape center shift (14, -17) compared to image center\n",
    "    final set B, image size 319 X 263\n",
    "Write gauge 1, set B ...\n",
    "'''\n",
    "\n",
    "# real example 2\n",
    "import re\n",
    "import os\n",
    "import pandas as pd\n",
    "\n",
    "# store attribute as a turple, construct a dictionary, turple_attribute: pattern\n",
    "regexp = {\n",
    "    ('gauge_no', ): re.compile('gauge (\\d{1,}), BWall_.*' ),\n",
    "    ('height_A', 'width_A'): re.compile('\\s+setA, \\d{1,} images , image size (\\d{1,}) X (\\d{1,}).*'),\n",
    "    ('image_no', 'shift_x', 'shift_y'): re.compile('\\s+setA, image (\\d{1,}), shape center shift \\((-?\\d{1,}), (-?\\d{1,})\\) compared to image center.*'),\n",
    "    ('height_B', 'width_B'): re.compile('\\s+final set B, image size (\\d{1,}) X (\\d{1,})')} # ('gauge_no', ): re.compile(r'Write gauge (\\d{1,}), set B.*')\n",
    "    \n",
    "#print(log_file)\n",
    "dict_summary = {}\n",
    "f = text.split('\\n')\n",
    "for line in f:   \n",
    "    print line\n",
    "    for keys, pattern in regexp.iteritems():\n",
    "        m = pattern.match(line)\n",
    "        if m:          \n",
    "            # traverse attributes\n",
    "            for groupn, attr in enumerate(keys):  \n",
    "                # print attr \n",
    "                if attr == 'gauge_no':\n",
    "                    gauge_no = 'gauge' + str(m.group(groupn+1))\n",
    "                    dict_summary[gauge_no] = {}\n",
    "                elif attr == 'image_no':\n",
    "                    image_no = m.group(groupn+1)\n",
    "                elif (attr == 'shift_x') or (attr == 'shift_y'):\n",
    "                    key = attr + str(image_no)\n",
    "                    dict_summary[gauge_no][key] = int(m.group(groupn+1))\n",
    "                else: # 'height_A', 'width_A', 'height_B', 'width_B'\n",
    "                    dict_summary[gauge_no][attr] = int(m.group(groupn+1))\n",
    "print dict_summary\n",
    "df = pd.DataFrame(dict_summary)\n",
    "df = df.transpose()\n",
    "df['width_diff'] = df.apply(lambda x: x['width_A'] - x['width_B'], axis = 1)\n",
    "df['height_diff'] = df.apply(lambda x: x['height_A'] - x['height_B'], axis = 1)\n",
    "#df.to_csv(os.path.join(workpath, text_path, text_name+'_summary.csv'), sep = ',', na_rep='NaN')\n",
    "print df.head(1)"
   ]
  },
  {
   "cell_type": "code",
   "execution_count": null,
   "metadata": {
    "collapsed": true
   },
   "outputs": [],
   "source": []
  }
 ],
 "metadata": {
  "kernelspec": {
   "display_name": "Python 2",
   "language": "python",
   "name": "python2"
  },
  "language_info": {
   "codemirror_mode": {
    "name": "ipython",
    "version": 2
   },
   "file_extension": ".py",
   "mimetype": "text/x-python",
   "name": "python",
   "nbconvert_exporter": "python",
   "pygments_lexer": "ipython2",
   "version": "2.7.10"
  }
 },
 "nbformat": 4,
 "nbformat_minor": 0
}
