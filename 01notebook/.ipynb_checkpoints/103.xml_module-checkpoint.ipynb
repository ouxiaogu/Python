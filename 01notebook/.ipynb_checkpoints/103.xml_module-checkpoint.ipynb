{
 "cells": [
  {
   "cell_type": "code",
   "execution_count": 10,
   "metadata": {
    "collapsed": false
   },
   "outputs": [
    {
     "name": "stdout",
     "output_type": "stream",
     "text": [
      "root {}\n",
      "lsf {}\n",
      "Platform is lsf\n",
      "8\n"
     ]
    }
   ],
   "source": [
    "import xml.etree.ElementTree as ET\n",
    "tree = ET.parse('crms_submit_config.xml')\n",
    "root = tree.getroot()\n",
    "print root.tag, root.attrib\n",
    "for child in root:\n",
    "    print child.tag, child.attrib\n",
    "try:\n",
    "    platform = root[0]\n",
    "    print \"Platform is {}\".format(platform.tag)\n",
    "except:\n",
    "    print \"*****************************************************************\"\n",
    "    print \"\"\n",
    "    print \"Can't parse platform information in the crms file, please check !!\"\n",
    "    print \"\"\n",
    "    print \"*****************************************************************\"\n",
    "    exit(0)\n",
    "for stage in platform.findall('job'):\n",
    "    numSlots = stage.find('slots')\n",
    "    newNumSlots = 8\n",
    "    numSlots.text = str(newNumSlots)\n",
    "    numSlots.set('updated', 'yes')\n",
    "    print numSlots.text\n",
    "tree.write('new_crms_submit_config.xml')"
   ]
  },
  {
   "cell_type": "code",
   "execution_count": null,
   "metadata": {
    "collapsed": true
   },
   "outputs": [],
   "source": []
  }
 ],
 "metadata": {
  "kernelspec": {
   "display_name": "Python 2",
   "language": "python",
   "name": "python2"
  },
  "language_info": {
   "codemirror_mode": {
    "name": "ipython",
    "version": 2
   },
   "file_extension": ".py",
   "mimetype": "text/x-python",
   "name": "python",
   "nbconvert_exporter": "python",
   "pygments_lexer": "ipython2",
   "version": "2.7.11"
  }
 },
 "nbformat": 4,
 "nbformat_minor": 0
}
