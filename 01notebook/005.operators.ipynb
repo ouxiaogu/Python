{
 "cells": [
  {
   "cell_type": "markdown",
   "metadata": {},
   "source": [
    "### 1. [Mapping Operators to Functions](https://docs.python.org/2/library/operator.html#mapping-operators-to-functions)\n",
    "\n",
    "This table shows how abstract operations correspond to operator symbols in the Python syntax and the functions in the `operator` module.\n",
    "\n",
    "| Operation             | Syntax            | Function                                 |\n",
    "|-----------------------|-------------------|------------------------------------------|\n",
    "| Addition              | a + b             | add(a, b)                                |\n",
    "| Concatenation         | seq1 + seq2       | concat(seq1, seq2)                       |\n",
    "| Containment Test      | obj in seq        | contains(seq, obj)                       |\n",
    "| Division              | a / b             | div(a, b) (without __future__.division)  |\n",
    "| Division              | a / b             | truediv(a, b) (with __future__.division) |\n",
    "| Division              | a // b            | floordiv(a, b)                           |\n",
    "| Bitwise And           | a & b             | and_(a, b)                               |\n",
    "| Bitwise Exclusive Or  | a ^ b             | xor(a, b)                                |\n",
    "| Bitwise Inversion     | ~ a               | invert(a)                                |\n",
    "| Bitwise Or            | a | b             | or_(a, b)                                |\n",
    "| Exponentiation        | a ** b            | pow(a, b)                                |\n",
    "| Identity              | a is b            | is_(a, b)                                |\n",
    "| Identity              | a is not b        | is_not(a, b)                             |\n",
    "| Indexed Assignment    | obj[k] = v        | setitem(obj, k, v)                       |\n",
    "| Indexed Deletion      | del obj[k]        | delitem(obj, k)                          |\n",
    "| Indexing              | obj[k]            | getitem(obj, k)                          |\n",
    "| Left Shift            | a << b            | lshift(a, b)                             |\n",
    "| Modulo                | a % b             | mod(a, b)                                |\n",
    "| Multiplication        | a * b             | mul(a, b)                                |\n",
    "| Negation (Arithmetic) | - a               | neg(a)                                   |\n",
    "| Negation (Logical)    | not a             | not_(a)                                  |\n",
    "| Positive              | + a               | pos(a)                                   |\n",
    "| Right Shift           | a >> b            | rshift(a, b)                             |\n",
    "| Sequence Repetition   | seq * i           | repeat(seq, i)                           |\n",
    "| Slice Assignment      | seq[i:j] = values | setitem(seq, slice(i, j), values)        |\n",
    "| Slice Deletion        | del seq[i:j]      | delitem(seq, slice(i, j))                |\n",
    "| Slicing               | seq[i:j]          | getitem(seq, slice(i, j))                |\n",
    "| String Formatting     | s % obj           | mod(s, obj)                              |\n",
    "| Subtraction           | a - b             | sub(a, b)                                |\n",
    "| Truth Test            | obj               | truth(obj)                               |\n",
    "| Ordering              | a < b             | lt(a, b)                                 |\n",
    "| Ordering              | a <= b            | le(a, b)                                 |\n",
    "| Equality              | a == b            | eq(a, b)                                 |\n",
    "| Difference            | a != b            | ne(a, b)                                 |\n",
    "| Ordering              | a >= b            | ge(a, b)                                 |\n",
    "| Ordering              | a > b             | gt(a, b)                                 |"
   ]
  },
  {
   "cell_type": "code",
   "execution_count": null,
   "metadata": {
    "collapsed": true
   },
   "outputs": [],
   "source": []
  }
 ],
 "metadata": {
  "kernelspec": {
   "display_name": "Python 2",
   "language": "python",
   "name": "python2"
  },
  "language_info": {
   "codemirror_mode": {
    "name": "ipython",
    "version": 2
   },
   "file_extension": ".py",
   "mimetype": "text/x-python",
   "name": "python",
   "nbconvert_exporter": "python",
   "pygments_lexer": "ipython2",
   "version": "2.7.10"
  }
 },
 "nbformat": 4,
 "nbformat_minor": 0
}
