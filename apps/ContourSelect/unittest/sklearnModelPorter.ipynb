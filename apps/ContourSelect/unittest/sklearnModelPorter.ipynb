{
 "cells": [
  {
   "cell_type": "code",
   "execution_count": null,
   "metadata": {
    "collapsed": true
   },
   "outputs": [],
   "source": [
    "from __future__ import print_function\n",
    "import glob\n",
    "import os\n",
    "import pickle\n",
    "\n",
    "import sys, os\n",
    "sys.path.insert(0, os.getcwd()+\"/../../../libs/common\")\n",
    "from FileUtil import gpfs2WinPath\n",
    "\n",
    "CWD = r'/gpfs/WW/BD/MXP/SHARED/SEM_IMAGE/IMEC/Case02_calaveras_v3/3Tmp/CT_KPI_test/Calaveras_v3_regular_CT_KPI_003_slope_modified_revert_all_patterns/h/cache/dummydb/result/MXP/job1/'\n",
    "calpaths = ['ContourSelectModelCalibration430result1']\n",
    "for calpath in calpaths:\n",
    "    pathex = os.path.join(CWD, calpath, '*.pickle')\n",
    "    pathex = gpfs2WinPath(pathex)\n",
    "    pkl_filename = glob.glob(pathex)[0]\n",
    "    with open(pkl_filename, 'rb') as fin:  \n",
    "        ret = pickle.load(fin)\n",
    "    modeltype, model, Xminmax, cm_cal, cm_ver = ret"
   ]
  },
  {
   "cell_type": "code",
   "execution_count": null,
   "metadata": {
    "collapsed": true
   },
   "outputs": [],
   "source": [
    "from sklearn_porter import Porter\n",
    "\n",
    "porter = Porter(model, language='c')\n",
    "output = porter.export(embed_data=True)\n",
    "\n",
    "print(output)"
   ]
  }
 ],
 "metadata": {
  "kernelspec": {
   "display_name": "Python 3",
   "language": "python",
   "name": "python3"
  },
  "language_info": {
   "codemirror_mode": {
    "name": "ipython",
    "version": 3
   },
   "file_extension": ".py",
   "mimetype": "text/x-python",
   "name": "python",
   "nbconvert_exporter": "python",
   "pygments_lexer": "ipython3",
   "version": "3.6.3"
  }
 },
 "nbformat": 4,
 "nbformat_minor": 2
}
