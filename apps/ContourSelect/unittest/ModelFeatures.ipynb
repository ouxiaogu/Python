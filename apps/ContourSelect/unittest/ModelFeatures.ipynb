{
 "cells": [
  {
   "cell_type": "markdown",
   "metadata": {},
   "source": [
    "# Import modules"
   ]
  },
  {
   "cell_type": "code",
   "execution_count": 13,
   "metadata": {
    "collapsed": true
   },
   "outputs": [],
   "source": [
    "import pandas as pd\n",
    "import matplotlib.pyplot as plt\n",
    "import numpy as np\n",
    "import os, os.path\n",
    "import seaborn as sns\n",
    "import sys\n",
    "sys.path.insert(0, os.getcwd()+\"/../../../libs/common\")\n",
    "from FileUtil import gpfs2WinPath"
   ]
  },
  {
   "cell_type": "markdown",
   "metadata": {},
   "source": [
    "# Import the caldata in gpfs, & feature scaling"
   ]
  },
  {
   "cell_type": "code",
   "execution_count": 57,
   "metadata": {
    "collapsed": false
   },
   "outputs": [],
   "source": [
    "#caldatafile = r'/gpfs/WW/BD/MXP/SHARED/SEM_IMAGE/IMEC/Case02_calaveras_v3/3Tmp/CT_KPI_test/Calaveras_v3_regular_CT_KPI_003_slope_modified_revert_all_patterns/h/cache/dummydb/result/MXP/job1/ContourSelectModelCalibration452result1/caldata.txt'\n",
    "caldatafile = r'/gpfs/WW/BD/MXP/SHARED/SEM_IMAGE/IMEC/Case02_calaveras_v3/3Tmp/ContourSelection/020_AEI_contour_selection_training/h/cache/dummydb/result/MXP/job1/ContourSelectModelCalibration430result1/caldata.txt'\n",
    "caldatafile = gpfs2WinPath(caldatafile)\n",
    "\n",
    "df = pd.read_csv(caldatafile, sep='\\s+')\n",
    "\n",
    "tgtColName = 'UserLabel'\n",
    "neighborColNames = ['NeighborOrientation', 'NeighborParalism']#, 'NeighborParalism', 'NeighborContinuity',\n",
    "allColNames = ['NeighborContinuity', 'NeighborOrientation', 'NeighborParalism', 'slope', 'intensity', 'ridge_intensity', 'contrast', 'EigenRatio']\n",
    "srcColNames = ['slope', 'intensity', 'ridge_intensity', 'NeighborOrientation', 'NeighborParalism']\n",
    "# srcColNames = df.columns.values\n",
    "tgtColName = 'UserLabel'\n",
    "outColName = 'ClfLabel'"
   ]
  },
  {
   "cell_type": "code",
   "execution_count": 58,
   "metadata": {
    "collapsed": false
   },
   "outputs": [
    {
     "name": "stdout",
     "output_type": "stream",
     "text": [
      "     NeighborContinuity  NeighborOrientation  NeighborParalism     slope  \\\n",
      "min            0.722482             0.766492          0.560799 -0.013827   \n",
      "max            1.642146             1.000000          1.000000  0.035596   \n",
      "\n",
      "     intensity  ridge_intensity  contrast  EigenRatio  \n",
      "min   0.199917         0.002565  0.000000   -0.999942  \n",
      "max   0.969997         0.047745  0.223779    0.171573  \n"
     ]
    }
   ],
   "source": [
    "wiScaling = True\n",
    "scaling = lambda X_Arr: np.array([(X_Arr[i] - Xmin[i])/(Xmax[i] - Xmin[i]) for i in range(len(allColNames)) ])\n",
    "if wiScaling:\n",
    "    X_cal = df.loc[df.usage=='CAL', allColNames].values\n",
    "    Xmin = X_cal.min(axis=0)\n",
    "    Xmax = X_cal.max(axis=0)\n",
    "    Xminmax = pd.DataFrame(data= np.array([Xmin, Xmax]), columns=allColNames, index=['min', 'max'])\n",
    "    print(Xminmax)\n",
    "    df.loc[:, allColNames] = df.loc[:, allColNames].apply(scaling, axis=1)\n",
    "\n",
    "X_cal = df.loc[df.usage=='CAL', allColNames]\n",
    "y_cal = df.loc[df.usage=='CAL', tgtColName]\n",
    "X_ver = df.loc[df.usage=='VER', allColNames]\n",
    "y_ver = df.loc[df.usage=='VER', tgtColName]"
   ]
  },
  {
   "cell_type": "code",
   "execution_count": null,
   "metadata": {
    "collapsed": false
   },
   "outputs": [],
   "source": [
    "df.loc[:, tgtColName].value_counts()"
   ]
  },
  {
   "cell_type": "code",
   "execution_count": 15,
   "metadata": {
    "collapsed": false
   },
   "outputs": [
    {
     "data": {
      "text/plain": [
       "1    27221\n",
       "0     6321\n",
       "Name: UserLabel, dtype: int64"
      ]
     },
     "execution_count": 15,
     "metadata": {},
     "output_type": "execute_result"
    }
   ],
   "source": [
    "y_cal.value_counts()"
   ]
  },
  {
   "cell_type": "code",
   "execution_count": 10,
   "metadata": {
    "collapsed": false
   },
   "outputs": [
    {
     "data": {
      "text/html": [
       "<div>\n",
       "<table border=\"1\" class=\"dataframe\">\n",
       "  <thead>\n",
       "    <tr style=\"text-align: right;\">\n",
       "      <th></th>\n",
       "      <th>NeighborContinuity</th>\n",
       "      <th>NeighborOrientation</th>\n",
       "      <th>NeighborParalism</th>\n",
       "      <th>slope</th>\n",
       "      <th>intensity</th>\n",
       "      <th>ridge_intensity</th>\n",
       "      <th>contrast</th>\n",
       "      <th>EigenRatio</th>\n",
       "    </tr>\n",
       "  </thead>\n",
       "  <tbody>\n",
       "    <tr>\n",
       "      <th>count</th>\n",
       "      <td>33542.000000</td>\n",
       "      <td>33542.000000</td>\n",
       "      <td>33542.000000</td>\n",
       "      <td>33542.000000</td>\n",
       "      <td>33542.000000</td>\n",
       "      <td>33542.000000</td>\n",
       "      <td>33542.000000</td>\n",
       "      <td>33542.000000</td>\n",
       "    </tr>\n",
       "    <tr>\n",
       "      <th>mean</th>\n",
       "      <td>0.387994</td>\n",
       "      <td>0.988373</td>\n",
       "      <td>0.995262</td>\n",
       "      <td>0.303452</td>\n",
       "      <td>0.528526</td>\n",
       "      <td>0.389276</td>\n",
       "      <td>0.233010</td>\n",
       "      <td>0.737328</td>\n",
       "    </tr>\n",
       "    <tr>\n",
       "      <th>std</th>\n",
       "      <td>0.156404</td>\n",
       "      <td>0.028994</td>\n",
       "      <td>0.020471</td>\n",
       "      <td>0.020705</td>\n",
       "      <td>0.166873</td>\n",
       "      <td>0.141172</td>\n",
       "      <td>0.127040</td>\n",
       "      <td>0.244171</td>\n",
       "    </tr>\n",
       "    <tr>\n",
       "      <th>min</th>\n",
       "      <td>0.000000</td>\n",
       "      <td>0.000000</td>\n",
       "      <td>0.000000</td>\n",
       "      <td>0.000000</td>\n",
       "      <td>0.000000</td>\n",
       "      <td>0.000000</td>\n",
       "      <td>0.000000</td>\n",
       "      <td>0.000000</td>\n",
       "    </tr>\n",
       "    <tr>\n",
       "      <th>25%</th>\n",
       "      <td>0.289212</td>\n",
       "      <td>0.988118</td>\n",
       "      <td>0.996603</td>\n",
       "      <td>0.291335</td>\n",
       "      <td>0.449009</td>\n",
       "      <td>0.290756</td>\n",
       "      <td>0.138931</td>\n",
       "      <td>0.649267</td>\n",
       "    </tr>\n",
       "    <tr>\n",
       "      <th>50%</th>\n",
       "      <td>0.306697</td>\n",
       "      <td>0.995475</td>\n",
       "      <td>0.998885</td>\n",
       "      <td>0.303444</td>\n",
       "      <td>0.553353</td>\n",
       "      <td>0.385919</td>\n",
       "      <td>0.215535</td>\n",
       "      <td>0.817687</td>\n",
       "    </tr>\n",
       "    <tr>\n",
       "      <th>75%</th>\n",
       "      <td>0.464822</td>\n",
       "      <td>0.998533</td>\n",
       "      <td>0.999665</td>\n",
       "      <td>0.316025</td>\n",
       "      <td>0.633751</td>\n",
       "      <td>0.481554</td>\n",
       "      <td>0.309789</td>\n",
       "      <td>0.911365</td>\n",
       "    </tr>\n",
       "    <tr>\n",
       "      <th>max</th>\n",
       "      <td>1.000000</td>\n",
       "      <td>1.000000</td>\n",
       "      <td>1.000000</td>\n",
       "      <td>1.000000</td>\n",
       "      <td>1.000000</td>\n",
       "      <td>1.000000</td>\n",
       "      <td>1.000000</td>\n",
       "      <td>1.000000</td>\n",
       "    </tr>\n",
       "  </tbody>\n",
       "</table>\n",
       "</div>"
      ],
      "text/plain": [
       "       NeighborContinuity  NeighborOrientation  NeighborParalism  \\\n",
       "count        33542.000000         33542.000000      33542.000000   \n",
       "mean             0.387994             0.988373          0.995262   \n",
       "std              0.156404             0.028994          0.020471   \n",
       "min              0.000000             0.000000          0.000000   \n",
       "25%              0.289212             0.988118          0.996603   \n",
       "50%              0.306697             0.995475          0.998885   \n",
       "75%              0.464822             0.998533          0.999665   \n",
       "max              1.000000             1.000000          1.000000   \n",
       "\n",
       "              slope     intensity  ridge_intensity      contrast    EigenRatio  \n",
       "count  33542.000000  33542.000000     33542.000000  33542.000000  33542.000000  \n",
       "mean       0.303452      0.528526         0.389276      0.233010      0.737328  \n",
       "std        0.020705      0.166873         0.141172      0.127040      0.244171  \n",
       "min        0.000000      0.000000         0.000000      0.000000      0.000000  \n",
       "25%        0.291335      0.449009         0.290756      0.138931      0.649267  \n",
       "50%        0.303444      0.553353         0.385919      0.215535      0.817687  \n",
       "75%        0.316025      0.633751         0.481554      0.309789      0.911365  \n",
       "max        1.000000      1.000000         1.000000      1.000000      1.000000  "
      ]
     },
     "execution_count": 10,
     "metadata": {},
     "output_type": "execute_result"
    }
   ],
   "source": [
    "X_cal.loc[:, allColNames].describe()"
   ]
  },
  {
   "cell_type": "code",
   "execution_count": 11,
   "metadata": {
    "collapsed": false
   },
   "outputs": [
    {
     "data": {
      "text/html": [
       "<div>\n",
       "<table border=\"1\" class=\"dataframe\">\n",
       "  <thead>\n",
       "    <tr style=\"text-align: right;\">\n",
       "      <th></th>\n",
       "      <th>NeighborContinuity</th>\n",
       "      <th>NeighborOrientation</th>\n",
       "      <th>NeighborParalism</th>\n",
       "      <th>slope</th>\n",
       "      <th>intensity</th>\n",
       "      <th>ridge_intensity</th>\n",
       "      <th>contrast</th>\n",
       "      <th>EigenRatio</th>\n",
       "    </tr>\n",
       "  </thead>\n",
       "  <tbody>\n",
       "    <tr>\n",
       "      <th>count</th>\n",
       "      <td>37525.000000</td>\n",
       "      <td>37525.000000</td>\n",
       "      <td>37525.000000</td>\n",
       "      <td>37525.000000</td>\n",
       "      <td>37525.000000</td>\n",
       "      <td>37525.000000</td>\n",
       "      <td>37525.000000</td>\n",
       "      <td>37525.000000</td>\n",
       "    </tr>\n",
       "    <tr>\n",
       "      <th>mean</th>\n",
       "      <td>0.393308</td>\n",
       "      <td>0.988195</td>\n",
       "      <td>0.995115</td>\n",
       "      <td>0.303479</td>\n",
       "      <td>0.524291</td>\n",
       "      <td>0.383471</td>\n",
       "      <td>0.230306</td>\n",
       "      <td>0.735731</td>\n",
       "    </tr>\n",
       "    <tr>\n",
       "      <th>std</th>\n",
       "      <td>0.160404</td>\n",
       "      <td>0.029189</td>\n",
       "      <td>0.020580</td>\n",
       "      <td>0.020337</td>\n",
       "      <td>0.169350</td>\n",
       "      <td>0.140480</td>\n",
       "      <td>0.126013</td>\n",
       "      <td>0.244781</td>\n",
       "    </tr>\n",
       "    <tr>\n",
       "      <th>min</th>\n",
       "      <td>-0.011476</td>\n",
       "      <td>0.000000</td>\n",
       "      <td>0.000000</td>\n",
       "      <td>0.000000</td>\n",
       "      <td>-0.003850</td>\n",
       "      <td>-0.003994</td>\n",
       "      <td>0.000000</td>\n",
       "      <td>0.000000</td>\n",
       "    </tr>\n",
       "    <tr>\n",
       "      <th>25%</th>\n",
       "      <td>0.289242</td>\n",
       "      <td>0.987932</td>\n",
       "      <td>0.996508</td>\n",
       "      <td>0.291625</td>\n",
       "      <td>0.445913</td>\n",
       "      <td>0.285821</td>\n",
       "      <td>0.136448</td>\n",
       "      <td>0.646508</td>\n",
       "    </tr>\n",
       "    <tr>\n",
       "      <th>50%</th>\n",
       "      <td>0.307305</td>\n",
       "      <td>0.995425</td>\n",
       "      <td>0.998861</td>\n",
       "      <td>0.303337</td>\n",
       "      <td>0.546780</td>\n",
       "      <td>0.380778</td>\n",
       "      <td>0.212922</td>\n",
       "      <td>0.815857</td>\n",
       "    </tr>\n",
       "    <tr>\n",
       "      <th>75%</th>\n",
       "      <td>0.484089</td>\n",
       "      <td>0.998526</td>\n",
       "      <td>0.999659</td>\n",
       "      <td>0.315830</td>\n",
       "      <td>0.629527</td>\n",
       "      <td>0.475247</td>\n",
       "      <td>0.306049</td>\n",
       "      <td>0.911118</td>\n",
       "    </tr>\n",
       "    <tr>\n",
       "      <th>max</th>\n",
       "      <td>1.000000</td>\n",
       "      <td>1.000000</td>\n",
       "      <td>1.000000</td>\n",
       "      <td>1.000000</td>\n",
       "      <td>1.000000</td>\n",
       "      <td>1.000000</td>\n",
       "      <td>1.000000</td>\n",
       "      <td>1.000000</td>\n",
       "    </tr>\n",
       "  </tbody>\n",
       "</table>\n",
       "</div>"
      ],
      "text/plain": [
       "       NeighborContinuity  NeighborOrientation  NeighborParalism  \\\n",
       "count        37525.000000         37525.000000      37525.000000   \n",
       "mean             0.393308             0.988195          0.995115   \n",
       "std              0.160404             0.029189          0.020580   \n",
       "min             -0.011476             0.000000          0.000000   \n",
       "25%              0.289242             0.987932          0.996508   \n",
       "50%              0.307305             0.995425          0.998861   \n",
       "75%              0.484089             0.998526          0.999659   \n",
       "max              1.000000             1.000000          1.000000   \n",
       "\n",
       "              slope     intensity  ridge_intensity      contrast    EigenRatio  \n",
       "count  37525.000000  37525.000000     37525.000000  37525.000000  37525.000000  \n",
       "mean       0.303479      0.524291         0.383471      0.230306      0.735731  \n",
       "std        0.020337      0.169350         0.140480      0.126013      0.244781  \n",
       "min        0.000000     -0.003850        -0.003994      0.000000      0.000000  \n",
       "25%        0.291625      0.445913         0.285821      0.136448      0.646508  \n",
       "50%        0.303337      0.546780         0.380778      0.212922      0.815857  \n",
       "75%        0.315830      0.629527         0.475247      0.306049      0.911118  \n",
       "max        1.000000      1.000000         1.000000      1.000000      1.000000  "
      ]
     },
     "execution_count": 11,
     "metadata": {},
     "output_type": "execute_result"
    }
   ],
   "source": [
    "df.loc[:, allColNames].describe()"
   ]
  },
  {
   "cell_type": "code",
   "execution_count": null,
   "metadata": {
    "collapsed": false
   },
   "outputs": [],
   "source": [
    "df.loc[:, srcColNames].head(2)"
   ]
  },
  {
   "cell_type": "code",
   "execution_count": null,
   "metadata": {
    "collapsed": true
   },
   "outputs": [],
   "source": [
    "df.loc[:, srcColNames].describe()"
   ]
  },
  {
   "cell_type": "markdown",
   "metadata": {},
   "source": [
    "# feature selection"
   ]
  },
  {
   "cell_type": "code",
   "execution_count": null,
   "metadata": {
    "collapsed": true
   },
   "outputs": [],
   "source": [
    "%matplotlib auto\n",
    "\n",
    "# hist plot \n",
    "\n",
    "df2 = pd.melt(df, id_vars=tgtColName, value_vars=neighborColNames, value_name='value')\n",
    "bins=np.linspace(df2.value.min(), df2.value.max(), 100)\n",
    "g = sns.FacetGrid(df2, col=\"variable\", hue=tgtColName, palette=\"Set1\", col_wrap=3)\n",
    "g.map(plt.hist, 'value', bins=bins, ec=\"k\")\n",
    "plt.yscale('log')\n",
    "g.axes[-1].legend()\n",
    "\n",
    "# scatter plot \n",
    "#sns.pointplot('NeighborOrientation', 'NeighborParalism', hue=tgtColName, data=df)\n",
    "\n",
    "plt.show()"
   ]
  },
  {
   "cell_type": "code",
   "execution_count": 14,
   "metadata": {
    "collapsed": false
   },
   "outputs": [
    {
     "name": "stdout",
     "output_type": "stream",
     "text": [
      "Using matplotlib backend: Qt4Agg\n"
     ]
    }
   ],
   "source": [
    "%matplotlib auto\n",
    "def sephist(df, col):\n",
    "    TP = df[df[tgtColName] == 0][col]\n",
    "    TN = df[df[tgtColName] == 1][col]\n",
    "    return TP, TN\n",
    "df_cal = X_cal.copy(deep=True)\n",
    "df_cal.loc[:, tgtColName] = y_cal\n",
    "for num, alpha in enumerate(allColNames):\n",
    "    plt.subplot(2, 4, num+1)\n",
    "\n",
    "    TP, TN = sephist(df_cal, alpha)\n",
    "    plt.hist((TP, TN), bins=25, alpha=0.5, label=map(''.join, zip(2*[tgtColName], 2*['=='], ['0', '1'])), color=['b', 'g'])\n",
    "    #plt.hist(TP, bins=50, alpha=0.5, label=tgtColName+'==0', color='b')\n",
    "    #plt.hist(TN, bins=50, alpha=0.5, label=tgtColName+'==1', color='g')\n",
    "    plt.legend(loc='upper right')\n",
    "    plt.title(alpha)\n",
    "    plt.yscale('log')\n",
    "#plt.tight_layout(pad=0.4, w_pad=0.5, h_pad=1.0)"
   ]
  },
  {
   "cell_type": "code",
   "execution_count": null,
   "metadata": {
    "collapsed": true
   },
   "outputs": [],
   "source": [
    "df.loc[:, tgtColName].value_counts()"
   ]
  },
  {
   "cell_type": "code",
   "execution_count": null,
   "metadata": {
    "collapsed": true
   },
   "outputs": [],
   "source": [
    "df.loc[df[tgtColName]==0, srcColNames].describe()"
   ]
  },
  {
   "cell_type": "code",
   "execution_count": null,
   "metadata": {
    "collapsed": true
   },
   "outputs": [],
   "source": [
    "df.loc[df[tgtColName]==1, srcColNames].describe()"
   ]
  },
  {
   "cell_type": "markdown",
   "metadata": {},
   "source": [
    "# Model Calibration, and model selection"
   ]
  },
  {
   "cell_type": "code",
   "execution_count": null,
   "metadata": {
    "collapsed": false
   },
   "outputs": [],
   "source": [
    "def computeConfusionMatrixBinary(y_true, y_pred):\n",
    "    ''' compute the confusion matrix in below format\n",
    "        [TP      FN]\n",
    "        [FP      TN]\n",
    "    '''\n",
    "    cm = np.zeros((2,2), dtype=int)\n",
    "    for i, y0 in enemurate(y_true):\n",
    "        if y0 == y_pred[0] == 0 :\n",
    "            cm[0, 0] += 1   # TP\n",
    "        elif y0 == 0 and y_pred[0] == 1 :\n",
    "            cm[0, 1] += 1   # FN\n",
    "        elif y0 == 1 and y_pred[0] == 0 :\n",
    "            cm[1, 0] += 1   # FP\n",
    "        elif y0 == 1 and y_pred[0] == 1 :\n",
    "            cm[1, 1] += 1   # TN\n",
    "    return cm"
   ]
  },
  {
   "cell_type": "code",
   "execution_count": 60,
   "metadata": {
    "collapsed": true
   },
   "outputs": [],
   "source": [
    "srcColNames = [ 'intensity', 'ridge_intensity', 'slope', 'contrast', 'NeighborParalism']"
   ]
  },
  {
   "cell_type": "markdown",
   "metadata": {},
   "source": [
    "## SVM"
   ]
  },
  {
   "cell_type": "code",
   "execution_count": 46,
   "metadata": {
    "collapsed": false
   },
   "outputs": [
    {
     "name": "stdout",
     "output_type": "stream",
     "text": [
      "                             0\n",
      "intensity            23.293968\n",
      "ridge_intensity      -1.860256\n",
      "slope                14.791464\n",
      "NeighborOrientation  -0.306555\n",
      "NeighborParalism      0.161123\n",
      "intercept           -12.502340\n"
     ]
    }
   ],
   "source": [
    "modeltype = 'svm'\n",
    "from sklearn import svm\n",
    "clf = svm.SVC(kernel='linear') # , class_weight='balanced' {0: 10, 1: 1}\n",
    "#allColNames = ['slope', 'intensity', 'ridge_intensity', 'contrast', 'EigenRatio', 'NeighborOrientation', 'NeighborParalism']\n",
    "model = clf.fit(X_cal[srcColNames], y_cal)\n",
    "modelform = pd.DataFrame(data=clf.coef_.flatten(), index=srcColNames)\n",
    "modelform.loc['intercept', 0] = clf.intercept_\n",
    "print(modelform)"
   ]
  },
  {
   "cell_type": "markdown",
   "metadata": {},
   "source": [
    "## Decision Tree"
   ]
  },
  {
   "cell_type": "code",
   "execution_count": 61,
   "metadata": {
    "collapsed": false
   },
   "outputs": [
    {
     "name": "stdout",
     "output_type": "stream",
     "text": [
      "                         0\n",
      "intensity         0.967004\n",
      "ridge_intensity   0.006414\n",
      "slope             0.024118\n",
      "contrast          0.001637\n",
      "NeighborParalism  0.000827\n",
      "{'presort': False, 'splitter': 'best', 'max_leaf_nodes': None, 'min_samples_leaf': 1, 'min_samples_split': 3, 'min_weight_fraction_leaf': 0.0, 'criterion': 'gini', 'random_state': 0, 'max_features': None, 'max_depth': 6, 'class_weight': None}\n"
     ]
    }
   ],
   "source": [
    "modeltype='tree'\n",
    "from sklearn import tree\n",
    "clf = tree.DecisionTreeClassifier(random_state=0, max_depth=len(srcColNames)+1, min_samples_split=3)#class_weight='balanced'\n",
    "model = clf.fit(X_cal[srcColNames], y_cal)\n",
    "feature_importance = pd.DataFrame(data=model.feature_importances_.flatten(), index=srcColNames)\n",
    "print(feature_importance)\n",
    "\n",
    "#print(model.decision_path(X_cal))\n",
    "print(model.get_params())"
   ]
  },
  {
   "cell_type": "code",
   "execution_count": 55,
   "metadata": {
    "collapsed": false
   },
   "outputs": [
    {
     "ename": "ImportError",
     "evalue": "No module named graphviz",
     "output_type": "error",
     "traceback": [
      "\u001b[1;31m---------------------------------------------------------------------------\u001b[0m",
      "\u001b[1;31mImportError\u001b[0m                               Traceback (most recent call last)",
      "\u001b[1;32m<ipython-input-55-10663aec44b0>\u001b[0m in \u001b[0;36m<module>\u001b[1;34m()\u001b[0m\n\u001b[0;32m      1\u001b[0m \u001b[1;31m# visualization for decision tree model\u001b[0m\u001b[1;33m\u001b[0m\u001b[1;33m\u001b[0m\u001b[0m\n\u001b[1;32m----> 2\u001b[1;33m \u001b[1;32mimport\u001b[0m \u001b[0mgraphviz\u001b[0m\u001b[1;33m\u001b[0m\u001b[0m\n\u001b[0m\u001b[0;32m      3\u001b[0m dot_data = tree.export_graphviz(model, out_file=None, \n\u001b[0;32m      4\u001b[0m                          \u001b[0mfeature_names\u001b[0m\u001b[1;33m=\u001b[0m\u001b[0msrcColNames\u001b[0m\u001b[1;33m,\u001b[0m\u001b[1;33m\u001b[0m\u001b[0m\n\u001b[0;32m      5\u001b[0m                          \u001b[0mclass_names\u001b[0m\u001b[1;33m=\u001b[0m\u001b[0mtgtColName\u001b[0m\u001b[1;33m,\u001b[0m\u001b[1;33m\u001b[0m\u001b[0m\n",
      "\u001b[1;31mImportError\u001b[0m: No module named graphviz"
     ]
    }
   ],
   "source": [
    "# visualization for decision tree model\n",
    "import graphviz \n",
    "dot_data = tree.export_graphviz(model, out_file=None, \n",
    "                         feature_names=srcColNames,  \n",
    "                         class_names=tgtColName,  \n",
    "                         filled=True, rounded=True,  \n",
    "                         special_characters=True) \n",
    "graph = graphviz.Source(dot_data)  \n",
    "graph"
   ]
  },
  {
   "cell_type": "code",
   "execution_count": 62,
   "metadata": {
    "collapsed": false
   },
   "outputs": [
    {
     "name": "stdout",
     "output_type": "stream",
     "text": [
      "#include <stdlib.h>\n",
      "#include <stdio.h>\n",
      "#include <math.h>\n",
      "\n",
      "int predict(float features[5]) {\n",
      "\n",
      "    int classes[2];\n",
      "        \n",
      "    if (features[0] <= 0.385035157204) {\n",
      "        if (features[0] <= 0.374575078487) {\n",
      "            if (features[2] <= 0.323027670383) {\n",
      "                if (features[0] <= 0.350465655327) {\n",
      "                    if (features[2] <= 0.31005769968) {\n",
      "                        classes[0] = 5590; \n",
      "                        classes[1] = 0; \n",
      "                    } else {\n",
      "                        if (features[2] <= 0.310163080692) {\n",
      "                            classes[0] = 0; \n",
      "                            classes[1] = 1; \n",
      "                        } else {\n",
      "                            classes[0] = 58; \n",
      "                            classes[1] = 0; \n",
      "                        }\n",
      "                    }\n",
      "                } else {\n",
      "                    if (features[2] <= 0.302373826504) {\n",
      "                        if (features[1] <= 0.15952372551) {\n",
      "                            classes[0] = 1; \n",
      "                            classes[1] = 2; \n",
      "                        } else {\n",
      "                            classes[0] = 379; \n",
      "                            classes[1] = 5; \n",
      "                        }\n",
      "                    } else {\n",
      "                        if (features[1] <= 0.365494370461) {\n",
      "                            classes[0] = 6; \n",
      "                            classes[1] = 16; \n",
      "                        } else {\n",
      "                            classes[0] = 3; \n",
      "                            classes[1] = 0; \n",
      "                        }\n",
      "                    }\n",
      "                }\n",
      "            } else {\n",
      "                if (features[0] <= 0.332325994968) {\n",
      "                    classes[0] = 3; \n",
      "                    classes[1] = 0; \n",
      "                } else {\n",
      "                    if (features[3] <= 0.330413430929) {\n",
      "                        classes[0] = 0; \n",
      "                        classes[1] = 9; \n",
      "                    } else {\n",
      "                        classes[0] = 1; \n",
      "                        classes[1] = 0; \n",
      "                    }\n",
      "                }\n",
      "            }\n",
      "        } else {\n",
      "            if (features[2] <= 0.296626478434) {\n",
      "                if (features[4] <= 0.982703924179) {\n",
      "                    classes[0] = 0; \n",
      "                    classes[1] = 2; \n",
      "                } else {\n",
      "                    if (features[2] <= 0.289597451687) {\n",
      "                        classes[0] = 85; \n",
      "                        classes[1] = 0; \n",
      "                    } else {\n",
      "                        if (features[2] <= 0.290503770113) {\n",
      "                            classes[0] = 0; \n",
      "                            classes[1] = 1; \n",
      "                        } else {\n",
      "                            classes[0] = 15; \n",
      "                            classes[1] = 1; \n",
      "                        }\n",
      "                    }\n",
      "                }\n",
      "            } else {\n",
      "                if (features[3] <= 0.385128855705) {\n",
      "                    if (features[0] <= 0.374825209379) {\n",
      "                        if (features[4] <= 0.999873876572) {\n",
      "                            classes[0] = 2; \n",
      "                            classes[1] = 0; \n",
      "                        } else {\n",
      "                            classes[0] = 0; \n",
      "                            classes[1] = 1; \n",
      "                        }\n",
      "                    } else {\n",
      "                        if (features[0] <= 0.38475716114) {\n",
      "                            classes[0] = 2; \n",
      "                            classes[1] = 46; \n",
      "                        } else {\n",
      "                            classes[0] = 1; \n",
      "                            classes[1] = 0; \n",
      "                        }\n",
      "                    }\n",
      "                } else {\n",
      "                    classes[0] = 7; \n",
      "                    classes[1] = 0; \n",
      "                }\n",
      "            }\n",
      "        }\n",
      "    } else {\n",
      "        if (features[0] <= 0.408606171608) {\n",
      "            if (features[2] <= 0.290679395199) {\n",
      "                if (features[1] <= 0.235381826758) {\n",
      "                    classes[0] = 0; \n",
      "                    classes[1] = 27; \n",
      "                } else {\n",
      "                    if (features[2] <= 0.262484431267) {\n",
      "                        if (features[3] <= 0.172657966614) {\n",
      "                            classes[0] = 2; \n",
      "                            classes[1] = 0; \n",
      "                        } else {\n",
      "                            classes[0] = 1; \n",
      "                            classes[1] = 8; \n",
      "                        }\n",
      "                    } else {\n",
      "                        if (features[2] <= 0.284261345863) {\n",
      "                            classes[0] = 106; \n",
      "                            classes[1] = 1; \n",
      "                        } else {\n",
      "                            classes[0] = 14; \n",
      "                            classes[1] = 5; \n",
      "                        }\n",
      "                    }\n",
      "                }\n",
      "            } else {\n",
      "                if (features[2] <= 0.352234899998) {\n",
      "                    if (features[3] <= 0.357776075602) {\n",
      "                        if (features[2] <= 0.298841297626) {\n",
      "                            classes[0] = 3; \n",
      "                            classes[1] = 53; \n",
      "                        } else {\n",
      "                            classes[0] = 0; \n",
      "                            classes[1] = 260; \n",
      "                        }\n",
      "                    } else {\n",
      "                        if (features[3] <= 0.359698951244) {\n",
      "                            classes[0] = 1; \n",
      "                            classes[1] = 0; \n",
      "                        } else {\n",
      "                            classes[0] = 2; \n",
      "                            classes[1] = 18; \n",
      "                        }\n",
      "                    }\n",
      "                } else {\n",
      "                    classes[0] = 1; \n",
      "                    classes[1] = 0; \n",
      "                }\n",
      "            }\n",
      "        } else {\n",
      "            if (features[0] <= 0.428229808807) {\n",
      "                if (features[2] <= 0.281512588263) {\n",
      "                    if (features[1] <= 0.330040276051) {\n",
      "                        classes[0] = 0; \n",
      "                        classes[1] = 13; \n",
      "                    } else {\n",
      "                        classes[0] = 27; \n",
      "                        classes[1] = 0; \n",
      "                    }\n",
      "                } else {\n",
      "                    if (features[2] <= 0.28660851717) {\n",
      "                        if (features[1] <= 0.362408041954) {\n",
      "                            classes[0] = 1; \n",
      "                            classes[1] = 16; \n",
      "                        } else {\n",
      "                            classes[0] = 4; \n",
      "                            classes[1] = 1; \n",
      "                        }\n",
      "                    } else {\n",
      "                        if (features[2] <= 0.357339262962) {\n",
      "                            classes[0] = 0; \n",
      "                            classes[1] = 581; \n",
      "                        } else {\n",
      "                            classes[0] = 1; \n",
      "                            classes[1] = 0; \n",
      "                        }\n",
      "                    }\n",
      "                }\n",
      "            } else {\n",
      "                if (features[0] <= 0.431252300739) {\n",
      "                    if (features[0] <= 0.431168794632) {\n",
      "                        if (features[1] <= 0.552788555622) {\n",
      "                            classes[0] = 0; \n",
      "                            classes[1] = 128; \n",
      "                        } else {\n",
      "                            classes[0] = 1; \n",
      "                            classes[1] = 0; \n",
      "                        }\n",
      "                    } else {\n",
      "                        if (features[4] <= 0.996213316917) {\n",
      "                            classes[0] = 0; \n",
      "                            classes[1] = 1; \n",
      "                        } else {\n",
      "                            classes[0] = 2; \n",
      "                            classes[1] = 0; \n",
      "                        }\n",
      "                    }\n",
      "                } else {\n",
      "                    if (features[4] <= 0.843202233315) {\n",
      "                        if (features[4] <= 0.837617993355) {\n",
      "                            classes[0] = 0; \n",
      "                            classes[1] = 37; \n",
      "                        } else {\n",
      "                            classes[0] = 1; \n",
      "                            classes[1] = 0; \n",
      "                        }\n",
      "                    } else {\n",
      "                        if (features[2] <= 0.255064666271) {\n",
      "                            classes[0] = 1; \n",
      "                            classes[1] = 354; \n",
      "                        } else {\n",
      "                            classes[0] = 0; \n",
      "                            classes[1] = 25634; \n",
      "                        }\n",
      "                    }\n",
      "                }\n",
      "            }\n",
      "        }\n",
      "    }\n",
      "\n",
      "    int index = 0;\n",
      "    for (int i = 0; i < 2; i++) {\n",
      "        index = classes[i] > classes[index] ? i : index;\n",
      "    }\n",
      "    return index;\n",
      "}\n",
      "\n",
      "int main(int argc, const char * argv[]) {\n",
      "\n",
      "    /* Features: */\n",
      "    double features[argc-1];\n",
      "    int i;\n",
      "    for (i = 1; i < argc; i++) {\n",
      "        features[i-1] = atof(argv[i]);\n",
      "    }\n",
      "\n",
      "    /* Prediction: */\n",
      "    printf(\"%d\", predict(features));\n",
      "    return 0;\n",
      "\n",
      "}\n"
     ]
    }
   ],
   "source": [
    "# port decision tree model into c code\n",
    "from sklearn_porter import Porter\n",
    "\n",
    "porter = Porter(model, language='c')\n",
    "output = porter.export(embed_data=True)\n",
    "print(output)\n",
    "\n",
    "\n",
    "# Save model:\n",
    "with open('ContourSelBuiltInTreeModel.cc', 'w') as f:\n",
    "    f.write(output)"
   ]
  },
  {
   "cell_type": "code",
   "execution_count": null,
   "metadata": {
    "collapsed": true
   },
   "outputs": [],
   "source": [
    "# build a classifier\n",
    "from time import time\n",
    "from scipy.stats import randint as sp_randint\n",
    "\n",
    "from sklearn.model_selection import GridSearchCV\n",
    "from sklearn.model_selection import RandomizedSearchCV\n",
    "from sklearn import tree\n",
    "\n",
    "clf = tree.DecisionTreeClassifier(random_state=0, max_depth=len(srcColNames)+1, min_samples_split=3) # \n",
    "\n",
    "X, y = df.loc[:, srcColNames].values, df.loc[:, tgtColName].values\n",
    "\n",
    "\n",
    "# Utility function to report best scores\n",
    "def report(results, n_top=3):\n",
    "    for i in range(1, n_top + 1):\n",
    "        candidates = np.flatnonzero(results['rank_test_score'] == i)\n",
    "        for candidate in candidates:\n",
    "            print(\"Model with rank: {0}\".format(i))\n",
    "            print(\"Mean validation score: {0:.3f} (std: {1:.3f})\".format(\n",
    "                  results['mean_test_score'][candidate],\n",
    "                  results['std_test_score'][candidate]))\n",
    "            print(\"Parameters: {0}\".format(results['params'][candidate]))\n",
    "            print(\"\")\n",
    "\n",
    "\n",
    "# specify parameters and distributions to sample from\n",
    "param_dist = {\"max_depth\": [len(srcColNames), len(srcColNames)+1, None],\n",
    "              \"max_features\": sp_randint(3, len(srcColNames)-1),\n",
    "              \"min_samples_split\": sp_randint(2, 8),\n",
    "              \"criterion\": [\"gini\", \"entropy\"]}\n",
    "\n",
    "# run randomized search\n",
    "n_iter_search = 20\n",
    "random_search = RandomizedSearchCV(clf, param_distributions=param_dist,\n",
    "                                   n_iter=n_iter_search, cv=5)\n",
    "\n",
    "start = time()\n",
    "random_search.fit(X, y)\n",
    "print(\"RandomizedSearchCV took %.2f seconds for %d candidates\"\n",
    "      \" parameter settings.\" % ((time() - start), n_iter_search))\n",
    "report(random_search.cv_results_)\n",
    "\n",
    "# use a full grid over all parameters\n",
    "param_grid = {\"max_depth\": [len(srcColNames), None],\n",
    "              \"max_features\": [3, len(srcColNames)-1],\n",
    "              \"min_samples_split\": [2, 3, 8],\n",
    "              \"criterion\": [\"gini\", \"entropy\"]}\n",
    "\n",
    "# run grid search\n",
    "grid_search = GridSearchCV(clf, param_grid=param_grid, cv=5)\n",
    "start = time()\n",
    "grid_search.fit(X, y)\n",
    "\n",
    "print(\"GridSearchCV took %.2f seconds for %d candidate parameter settings.\"\n",
    "      % (time() - start, len(grid_search.cv_results_['params'])))\n",
    "report(grid_search.cv_results_)"
   ]
  },
  {
   "cell_type": "markdown",
   "metadata": {},
   "source": [
    "## Random Forest"
   ]
  },
  {
   "cell_type": "code",
   "execution_count": null,
   "metadata": {
    "collapsed": true
   },
   "outputs": [],
   "source": [
    "modeltype='forest'\n",
    "from sklearn.ensemble import RandomForestClassifier\n",
    "clf = RandomForestClassifier(n_estimators=10, random_state=0)\n",
    "model = clf.fit(X_cal, y_cal)\n",
    "feature_importance = pd.DataFrame(data=model.feature_importances_.flatten(), index=srcColNames)\n",
    "print(feature_importance)"
   ]
  },
  {
   "cell_type": "markdown",
   "metadata": {},
   "source": [
    "## Model performace"
   ]
  },
  {
   "cell_type": "code",
   "execution_count": 51,
   "metadata": {
    "collapsed": false
   },
   "outputs": [
    {
     "name": "stdout",
     "output_type": "stream",
     "text": [
      "tree model on CAL set, \n",
      "FN(missing) rate = 0.447%, \n",
      "FP(false alarm) rate = 0.224%\n",
      "tree model confusion matrix on CAL set:\n",
      "[[ 6171   150]\n",
      " [   75 27146]]\n",
      "[[ 18.398   0.447]\n",
      " [  0.224  80.931]]\n",
      "tree model on VER set, \n",
      "FN(missing) rate = 0.025%, \n",
      "FP(false alarm) rate = 2.937%\n",
      "tree model confusion matrix on VER set:\n",
      "[[ 654    1]\n",
      " [ 117 3211]]\n",
      "[[  1.64200000e+01   2.50000000e-02]\n",
      " [  2.93700000e+00   8.06180000e+01]]\n"
     ]
    }
   ],
   "source": [
    "from sklearn.metrics import confusion_matrix\n",
    "calcRMS = lambda y_pred, y: np.sqrt(np.mean(np.power(y_pred - y, 2)))\n",
    "def printModelPerformance(modeltype, cm, usage='CAL', from_sklearn=False, use_total=True):\n",
    "    if not use_total:\n",
    "        if from_sklearn: # if cm from sklearn.metrics import confusion_matrix\n",
    "            #               Truth\n",
    "            # Predict:  [TP      FP] \n",
    "            #           [FN      TN]\n",
    "            cm_norm = cm.astype('float') / cm.sum(axis=0).reshape((1, 2))\n",
    "        else: # if cm by using ContourSelBaseModel.computeConfusionMatrix\n",
    "            #               Predict\n",
    "            # Truth:    [TP      FN] \n",
    "            #           [FP      TN]\n",
    "            cm_norm = cm.astype('float') / cm.sum(axis=1).reshape((2, 1))\n",
    "    else:\n",
    "        cm_norm = cm.astype('float') / cm.sum()\n",
    "    print(\"{} model on {} set, \\nFN(missing) rate = {:.3f}%, \\nFP(false alarm) rate = {:.3f}%\".format(modeltype, usage, cm_norm[0, 1]*100, cm_norm[1, 0]*100))\n",
    "    print(\"{} model confusion matrix on {} set:\\n{}\\n{}\".format(modeltype, usage, cm, np.round(100*cm_norm, 3)))\n",
    "    \n",
    "def predict(X, y, usage='CAL'):\n",
    "    y_pred = model.predict(X)\n",
    "    cm = confusion_matrix(y, y_pred)\n",
    "    return cm\n",
    "printModelPerformance(modeltype, predict(X_cal[srcColNames], y_cal), usage='CAL')\n",
    "printModelPerformance(modeltype, predict(X_ver[srcColNames], y_ver), usage='VER')"
   ]
  },
  {
   "cell_type": "code",
   "execution_count": null,
   "metadata": {
    "collapsed": true
   },
   "outputs": [],
   "source": [
    "%matplotlib auto\n",
    "import sys\n",
    "import os.path\n",
    "sys.path.insert(0, os.getcwd()+\"/../../../libs/tacx\")\n",
    "print(os.getcwd()+\"/../../../libs/tacx\")\n",
    "from SEMContour import *\n",
    "sys.path.insert(0, os.getcwd()+\"/../../../libs/common\")\n",
    "from FileUtil import gpfs2WinPath\n",
    "\n",
    "import glob\n",
    "\n",
    "CWD = ''.join(['/gpfs/WW/BD/MXP/SHARED/SEM_IMAGE/IMEC/Case02_calaveras_v3/3Tmp/CT_KPI_test/Calaveras_v3_regular_CT_KPI_003_slope_modified_revert_all_patterns/'\n",
    "      'h/cache/dummydb/result/MXP/job1/ContourSelectModelCalibration430result1'])\n",
    "\n",
    "''' # comment block 1 starts\n",
    "#################\n",
    "# type 1, review model apply image by random permutation\n",
    "#################\n",
    "pathfilter = '*_image_contour.txt'\n",
    "pathex = gpfs2WinPath(os.path.join(CWD, pathfilter))\n",
    "contourfiles = glob.glob(pathex)\n",
    "np.random.RandomState(128)\n",
    "contourindice = np.random.permutation(np.arange(len(contourfiles)))\n",
    "for ii in range(0*8, 1*8):\n",
    "    fig = plt.figure()\n",
    "    for jj, idx in enumerate(contourindice[ii*8:(ii+1)*8]):\n",
    "        contourfile = contourfiles[idx]\n",
    "        patternid = os.path.basename(contourfile).strip('_image_contour.txt')\n",
    "        ################# end of type 1\n",
    "''' # comment block 1 ends\n",
    "        \n",
    "#################\n",
    "# type 2, review model apply image by giving list\n",
    "#################\n",
    "patternids = [461, 1001]\n",
    "\n",
    "for ii in range(int(np.ceil(len(patternids)/8.))):\n",
    "    fig = plt.figure()\n",
    "    for jj, idx in enumerate(range(ii*8, (ii+1)*8)):\n",
    "        patternid = str(patternids[idx])\n",
    "        contourfile = gpfs2WinPath(os.path.join(CWD, patternid+'_image_contour.txt'))\n",
    "        ################# end of type 2        \n",
    "        \n",
    "        if not os.path.exists(contourfile):\n",
    "            print(patternid+' not exist')\n",
    "            continue\n",
    "\n",
    "        # get contour data\n",
    "        contour = SEMContour()\n",
    "        if not contour.parseFile(contourfile):\n",
    "            continue\n",
    "        df = contour.toDf()\n",
    "\n",
    "        X_test = df.loc[:, srcColNames].values\n",
    "        X_test = np.array([(X_test[:,i] - Xmin[i])/(Xmax[i] - Xmin[i]) for i in range(len(srcColNames)) ]).T\n",
    "        df.loc[:, 'ClfLabel'] = model.predict(X_test)\n",
    "        # SEM Contour Selection resulst plot: by classifer Positive 0, & Negative 1\n",
    "        def plotContourDiscriminator(contour, im=None, wndname=''):\n",
    "            # plot image and classified contour point\n",
    "            \n",
    "            ax = fig.add_subplot(2,4,jj+1)\n",
    "\n",
    "            imw, imh = contour.getshape()\n",
    "            ax.set_aspect('equal')\n",
    "            xini, yini, xend, yend = contour.getBBox()\n",
    "            ax.set_xlim([xini, xend])\n",
    "            ax.set_ylim([yini, yend])\n",
    "            ax.set_title(wndname)\n",
    "\n",
    "            df = contour.toDf()\n",
    "            Positive = df.ClfLabel==0\n",
    "            Negative = df.ClfLabel==1\n",
    "\n",
    "            # calculate confusion matrix\n",
    "            cm = np.array([len(df.loc[flt, :]) for flt in [Positive, Negative]])\n",
    "            cm_norm = cm.astype('float') / cm.sum(axis=1).reshape((2,1))\n",
    "\n",
    "            if im is not None:\n",
    "                ax.imshow(im)\n",
    "            ax.plot(df.loc[Positive ,'offsetx'], df.loc[Positive, 'offsety'], #'b.', markersize=1, \n",
    "                    linestyle='None', marker= 'o', markeredgecolor='r', markersize=2, markeredgewidth=1, markerfacecolor='none', \n",
    "                    label='remove: {}({:.3f}%)'.format(cm[0], cm_norm[0]*100 )) #Discriminator Positive, ClfLabel=0\n",
    "            ax.plot(df.loc[Negative ,'offsetx'], df.loc[Negative, 'offsety'], #'r*', markersize=2,\n",
    "                    linestyle='None', marker= '.', markeredgecolor='b', markersize=2, markeredgewidth=1, markerfacecolor='none', \n",
    "                    label='Keep: {}({:.3f}%)'.format(cm[1], cm_norm[1]*100 )) #Discriminator Negative, ClfLabel=1:\n",
    "\n",
    "            #ax = plt.gca() # gca() function returns the current Axes instance\n",
    "            #ax.set_ylim(ax.get_ylim()[::-1]) # reverse Y\n",
    "            plt.gca().invert_yaxis()\n",
    "            plt.legend(loc=1)\n",
    "            plt.show()\n",
    "        plotContourDiscriminator(contour.fromDf(df), wndname='Pattern '+ patternid)"
   ]
  },
  {
   "cell_type": "code",
   "execution_count": null,
   "metadata": {
    "collapsed": true
   },
   "outputs": [],
   "source": [
    "from __future__ import print_function\n",
    "\n",
    "from sklearn import datasets\n",
    "from sklearn.model_selection import train_test_split\n",
    "from sklearn.model_selection import GridSearchCV\n",
    "from sklearn.metrics import classification_report\n",
    "from sklearn.svm import SVC\n",
    "\n",
    "print(__doc__)\n",
    "\n",
    "# Loading the Digits dataset\n",
    "digits = datasets.load_digits()\n",
    "\n",
    "# To apply an classifier on this data, we need to flatten the image, to\n",
    "# turn the data in a (samples, feature) matrix:\n",
    "n_samples = len(digits.images)\n",
    "X = digits.images.reshape((n_samples, -1))\n",
    "y = digits.target\n",
    "\n",
    "# Split the dataset in two equal parts\n",
    "X_train, X_test, y_train, y_test = train_test_split(\n",
    "    X, y, test_size=0.5, random_state=0)\n",
    "\n",
    "# Set the parameters by cross-validation\n",
    "tuned_parameters = [{'kernel': ['rbf'], 'gamma': [1e-3, 1e-4],\n",
    "                     'C': [1, 10, 100, 1000]},\n",
    "                    {'kernel': ['linear'], 'C': [1, 10, 100, 1000]}]\n",
    "\n",
    "scores = ['precision', 'recall']\n",
    "\n",
    "for score in scores:\n",
    "    print(\"# Tuning hyper-parameters for %s\" % score)\n",
    "    print()\n",
    "\n",
    "    clf = GridSearchCV(SVC(), tuned_parameters, cv=5,\n",
    "                       scoring='%s_macro' % score)\n",
    "    clf.fit(X_train, y_train)\n",
    "\n",
    "    print(\"Best parameters set found on development set:\")\n",
    "    print()\n",
    "    print(clf.best_params_)\n",
    "    print()\n",
    "    print(\"Grid scores on development set:\")\n",
    "    print()\n",
    "    means = clf.cv_results_['mean_test_score']\n",
    "    stds = clf.cv_results_['std_test_score']\n",
    "    for mean, std, params in zip(means, stds, clf.cv_results_['params']):\n",
    "        print(\"%0.3f (+/-%0.03f) for %r\"\n",
    "              % (mean, std * 2, params))\n",
    "    print()\n",
    "\n",
    "    print(\"Detailed classification report:\")\n",
    "    print()\n",
    "    print(\"The model is trained on the full development set.\")\n",
    "    print(\"The scores are computed on the full evaluation set.\")\n",
    "    print()\n",
    "    y_true, y_pred = y_test, clf.predict(X_test)\n",
    "    print(classification_report(y_true, y_pred))\n",
    "    print()\n",
    "\n",
    "# Note the problem is too easy: the hyperparameter plateau is too flat and the\n",
    "# output model is the same for precision and recall with ties in quality."
   ]
  },
  {
   "cell_type": "code",
   "execution_count": null,
   "metadata": {
    "collapsed": true
   },
   "outputs": [],
   "source": []
  }
 ],
 "metadata": {
  "kernelspec": {
   "display_name": "Python 2",
   "language": "python",
   "name": "python2"
  },
  "language_info": {
   "codemirror_mode": {
    "name": "ipython",
    "version": 2
   },
   "file_extension": ".py",
   "mimetype": "text/x-python",
   "name": "python",
   "nbconvert_exporter": "python",
   "pygments_lexer": "ipython2",
   "version": "2.7.12"
  }
 },
 "nbformat": 4,
 "nbformat_minor": 2
}
