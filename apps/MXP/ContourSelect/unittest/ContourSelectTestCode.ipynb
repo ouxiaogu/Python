{
 "cells": [
  {
   "cell_type": "code",
   "execution_count": null,
   "metadata": {
    "collapsed": true
   },
   "outputs": [],
   "source": [
    "# eigen vector direction: Ig profile plot\n",
    "leftArr = [0.567468, 0.544720, 0.514374, 0.482713, 0.453921, 0.429822, 0.410495, 0.395181, 0.383001, 0.373297, 0.365664, 0.359890, 0.355877, 0.353493, 0.352375, 0.351882, 0.351298, 0.350130, 0.348290, 0.346071, 0.343927, 0.342212, 0.340987, 0.340029, 0.339040, 0.337902, 0.336737, 0.335696, 0.334715, 0.333543, 0.331913, 0.329689, 0.326884, 0.323622, 0.320140, 0.316806, 0.314152, 0.312876, 0.313835, 0.318016, 0.326492, 0.340317, 0.360304, 0.386573, 0.417828, 0.450646]\n",
    "leftArr = leftArr[-1::-1]\n",
    "Ig = 0.575737 \n",
    "rightArr = [0.564595, 0.533566, 0.487334, 0.434199, 0.382961, 0.340042, 0.308248, 0.287320, 0.275337, 0.269955, 0.269012, 0.270665, 0.273422, 0.276220, 0.278512, 0.280247, 0.281684, 0.283127, 0.284718, 0.286387, 0.287908, 0.289012, 0.289534, 0.289573, 0.289473, 0.289590, 0.289999, 0.290436, 0.290524, 0.290072, 0.289171, 0.288098, 0.287167, 0.286580, 0.286317, 0.286130, 0.285696, 0.284855, 0.283788, 0.282952, 0.282858, 0.283905, 0.286517, 0.291533, 0.300620, 0.316334, 0.341522, 0.377962, 0.424629]\n",
    "Arr = leftArr + [Ig] + rightArr\n",
    "fig = plt.figure()\n",
    "ax = fig.add_subplot(111)\n",
    "ax.plot(np.arange(0, len(leftArr)), leftArr, label='leftArr')\n",
    "ax.plot([len(leftArr)], [Ig], 'r.', label='ridge Ig')\n",
    "ax.plot(np.arange(len(leftArr)+1, len(leftArr)+len(rightArr)+1), rightArr, 'g-', label='rightArr')\n",
    "plt.legend()\n",
    "plt.show()"
   ]
  },
  {
   "cell_type": "code",
   "execution_count": null,
   "metadata": {
    "collapsed": true
   },
   "outputs": [],
   "source": [
    "leftArr = [0.567468, 0.544720, 0.514374, 0.482713, 0.453921, 0.429822, 0.410495, 0.395181, 0.383001, 0.373297, 0.365664, 0.359890, 0.355877, 0.353493, 0.352375, 0.351882, 0.351298, 0.350130, 0.348290, 0.346071, 0.343927, 0.342212, 0.340987, 0.340029, 0.339040, 0.337902, 0.336737, 0.335696, 0.334715, 0.333543, 0.331913, 0.329689, 0.326884, 0.323622, 0.320140, 0.316806, 0.314152, 0.312876, 0.313835, 0.318016, 0.326492, 0.340317, 0.360304, 0.386573, 0.417828, 0.450646]\n",
    "leftArr = leftArr[-1::-1]\n",
    "leftArr"
   ]
  },
  {
   "cell_type": "code",
   "execution_count": null,
   "metadata": {
    "collapsed": true
   },
   "outputs": [],
   "source": [
    "# split rule to number\n",
    "nsamples = 6\n",
    "divide_rule = \"8:2:9\"\n",
    "divide_rule = list(map(float, divide_rule.split(\":\")))\n",
    "print(divide_rule)\n",
    "totSlices = sum(divide_rule)\n",
    "divides = [max(0, int(d/totSlices*nsamples)) for d in divide_rule]\n",
    "print(divides)\n",
    "while sum(divides) < nsamples:\n",
    "    gap = nsamples - sum(divides)\n",
    "    curGap = gap\n",
    "    for i, d in enumerate(divide_rule):\n",
    "        if sum(divides) >= nsamples:\n",
    "            break\n",
    "        increment = min(curGap, int(gap * d/totSlices + 0.5))\n",
    "        divides[i] += increment\n",
    "        curGap -= increment\n",
    "print(divides)\n",
    "assert(all(np.array(divides)>=0))\n",
    "divides = np.cumsum(divides)\n",
    "assert(divides[-1]==nsamples)\n",
    "print(divides)"
   ]
  }
 ],
 "metadata": {
  "kernelspec": {
   "display_name": "Python 3",
   "language": "python",
   "name": "python3"
  },
  "language_info": {
   "codemirror_mode": {
    "name": "ipython",
    "version": 3
   },
   "file_extension": ".py",
   "mimetype": "text/x-python",
   "name": "python",
   "nbconvert_exporter": "python",
   "pygments_lexer": "ipython3",
   "version": "3.6.3"
  }
 },
 "nbformat": 4,
 "nbformat_minor": 2
}
