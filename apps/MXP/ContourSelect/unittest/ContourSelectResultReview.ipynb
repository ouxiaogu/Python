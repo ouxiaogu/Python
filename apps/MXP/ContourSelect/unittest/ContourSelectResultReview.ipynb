{
 "cells": [
  {
   "cell_type": "code",
   "execution_count": 19,
   "metadata": {},
   "outputs": [
    {
     "name": "stderr",
     "output_type": "stream",
     "text": [
      "MxpStage DEBUG   : ocf tag: result\n",
      "MxpStage DEBUG   : No summary tag in input xml： C:\\Localdata\\D\\Note\\Python\\apps\\MXP\\ContourSelect\\samplejob\\h\\cache\\dummydb\\result\\MXP\\job1\\contourselcal430out.xml\n"
     ]
    },
    {
     "name": "stdout",
     "output_type": "stream",
     "text": [
      "Using matplotlib backend: Qt5Agg\n",
      "C:\\Localdata\\D\\Note\\Python\\apps\\MXP\\ContourSelect\\unittest\n",
      "C:\\Localdata\\D\\Note\\Python\\apps\\MXP\\ContourSelect\\unittest/../../../../libs/tacx\n",
      "Warning, can't find 'gpfs' in input file: C:\\Localdata\\D\\Note\\Python\\apps\\MXP\\ContourSelect\\samplejob\\h\\cache\\dummydb\\result\\MXP\\job1\n",
      "bbox in origin image: [189, 189, 835, 835]\n"
     ]
    }
   ],
   "source": [
    "%matplotlib auto\n",
    "# %matplotlib auto\n",
    "import numpy as np\n",
    "import pandas as pd\n",
    "import matplotlib\n",
    "import matplotlib.pyplot as plt\n",
    "import cv2\n",
    "\n",
    "import sys\n",
    "import os.path\n",
    "print(os.getcwd())\n",
    "sys.path.insert(0, os.getcwd()+\"/../../../../libs/tacx\")\n",
    "print(os.getcwd()+\"/../../../../libs/tacx\")\n",
    "from SEMContour import *\n",
    "from MxpStage import MxpStageXmlParser\n",
    "sys.path.insert(0, os.getcwd()+\"/../../../../libs/imutil\")\n",
    "from ImGUI import imread_gray\n",
    "sys.path.insert(0, os.getcwd()+\"/../../../../libs/common\")\n",
    "from PlotConfig import *\n",
    "from FileUtil import gpfs2WinPath\n",
    "\n",
    "CWD = r'C:\\Localdata\\D\\Note\\Python\\apps\\MXP\\ContourSelect\\samplejob\\h\\cache\\dummydb\\result\\MXP\\job1'\n",
    "CWD = gpfs2WinPath(CWD)\n",
    "\n",
    "inxml = os.path.join(CWD, r'contourselcal430out.xml')\n",
    "\n",
    "def loadPatternData(imgfile='', contourfile=''):\n",
    "    bSucceedReadCt, bSucceedReadIm = False, False\n",
    "\n",
    "    # read contour\n",
    "    contour = SEMContour()\n",
    "    bSucceedReadCt = contour.parseFile(contourfile)\n",
    "    if not bSucceedReadCt:\n",
    "        raise OSError(\"Error, contourfile('{}') cannot be parsed\".format(contourfile))\n",
    "        \n",
    "    im = None\n",
    "    try:  # read image\n",
    "        im, _ = imread_gray(imgfile)\n",
    "        im = (im/65535).astype(np.float32)\n",
    "        im = cv2.cvtColor(im, cv2.COLOR_GRAY2BGR)\n",
    "    except:\n",
    "        # raise\n",
    "        pass\n",
    "    return im, contour\n",
    "\n",
    "def getContourClassifierData(inxml):\n",
    "    ocf_parser = MxpStageXmlParser(inxml) #, 'outxml'\n",
    "    # icf = icf_parser.icf\n",
    "    df_ocf = ocf_parser.occfs2df()\n",
    "    patternid = 461\n",
    "    df_occf = df_ocf.loc[df_ocf.name==patternid, :]\n",
    "    sr_occf = pd.Series(df_occf.values.flatten(), index=df_occf.columns)\n",
    "    contourfile = sr_occf.loc['contour/path']\n",
    "    contourfile = CWD + '/' + contourfile\n",
    "    imgfile = sr_occf.loc['image/path']\n",
    "    imgfile = CWD + '/' + imgfile\n",
    "    im, contour = loadPatternData(imgfile, contourfile)\n",
    "    return im, contour\n",
    "    # TODO, add bbox plot\n",
    "    # df.filter(regex='bbox/outlier', axis=1)\n",
    "im, contour = getContourClassifierData(inxml)"
   ]
  },
  {
   "cell_type": "code",
   "execution_count": 64,
   "metadata": {
    "collapsed": true
   },
   "outputs": [],
   "source": [
    "\n",
    "def plotContourClassifier(im, contour, wndname=''):\n",
    "    # plot image and classified contour point\n",
    "    fig = plt.figure()\n",
    "    ax = fig.add_subplot(111)\n",
    "    \n",
    "    imw, imh = contour.getshape()\n",
    "    ax.set_aspect('equal')\n",
    "    ax.set_xlim([0, imw])\n",
    "    ax.set_ylim([0, imh])\n",
    "    ax.set_title(wndname)\n",
    "\n",
    "    df = contour.toDf()\n",
    "    UserGood = df.UserLabel == 1\n",
    "    FP = (df.UserLabel==1) & (df.clf_label==0)\n",
    "    FN = (df.UserLabel==0) & (df.clf_label==1)\n",
    "    ax.imshow(im)\n",
    "    ax.plot(df.loc[UserGood ,'offsetx'], df.loc[UserGood, 'offsety'], 'b.', markersize=1, label='User Label as good')\n",
    "    ax.plot(df.loc[~UserGood ,'offsetx'], df.loc[~UserGood, 'offsety'], 'r.', markersize=2, label='User Label as bad'),\n",
    "    ax.plot(df.loc[FP ,'offsetx'], df.loc[FP, 'offsety'], alpha=0.5,\n",
    "            linestyle='None', marker= 'o', markersize=4, markeredgewidth=1, markerfacecolor='none', \n",
    "            label='FP, UserLable=1 & ClfLabel=0: {}'.format(len(df.loc[FP,:])))\n",
    "    ax.plot(df.loc[FN ,'offsetx'], df.loc[FN, 'offsety'], alpha=0.5,\n",
    "            linestyle='None', marker= 'o', markersize=4, markeredgewidth=1, markerfacecolor='none', \n",
    "            label='FN, UserLable=0 & ClfLabel=1: {}'.format(len(df.loc[FN,:])))\n",
    "    #ax = plt.gca() # gca() function returns the current Axes instance\n",
    "    #ax.set_ylim(ax.get_ylim()[::-1]) # reverse Y\n",
    "    plt.gca().invert_yaxis()\n",
    "    plt.legend()\n",
    "    plt.show()"
   ]
  },
  {
   "cell_type": "code",
   "execution_count": 65,
   "metadata": {},
   "outputs": [],
   "source": [
    "plotContourClassifier(im, contour, 'Pattern 461')"
   ]
  },
  {
   "cell_type": "code",
   "execution_count": 66,
   "metadata": {
    "collapsed": true
   },
   "outputs": [],
   "source": [
    "def plotAllContourClfData(inxml):\n",
    "    ocf_parser = MxpStageXmlParser(inxml) #, 'outxml'\n",
    "    # icf = icf_parser.icf\n",
    "    df_ocf = ocf_parser.occfs2df()\n",
    "    for _, row in df_ocf.iterrows():\n",
    "        patternid = row.loc['name']\n",
    "        usage = row.loc['usage']\n",
    "        print(\"{} {}\".format(patternid, usage))\n",
    "        \n",
    "        contourfile = row.loc['contour/path']\n",
    "        contourfile = CWD + '/' + contourfile\n",
    "        imgfile = row.loc['image/path']\n",
    "        imgfile = CWD + '/' + imgfile\n",
    "        im, contour = loadPatternData(imgfile, contourfile)\n",
    "        plotContourClassifier(im, contour, \"Pattern \"+str(patternid))"
   ]
  },
  {
   "cell_type": "code",
   "execution_count": 67,
   "metadata": {},
   "outputs": [
    {
     "name": "stderr",
     "output_type": "stream",
     "text": [
      "MxpStage DEBUG   : ocf tag: result\n",
      "MxpStage DEBUG   : No summary tag in input xml： C:\\Localdata\\D\\Note\\Python\\apps\\MXP\\ContourSelect\\samplejob\\h\\cache\\dummydb\\result\\MXP\\job1\\contourselcal430out.xml\n"
     ]
    },
    {
     "name": "stdout",
     "output_type": "stream",
     "text": [
      "1 training\n",
      "bbox in origin image: [110, 110, 914, 914]\n",
      "2 training\n",
      "bbox in origin image: [149, 149, 875, 875]\n",
      "444 training\n",
      "bbox in origin image: [166, 166, 858, 858]\n",
      "461 validation\n",
      "bbox in origin image: [189, 189, 835, 835]\n",
      "1001 validation\n",
      "bbox in origin image: [132, 132, 892, 892]\n",
      "3658 test\n",
      "bbox in origin image: [129, 129, 895, 895]\n"
     ]
    }
   ],
   "source": [
    "plotAllContourClfData(inxml)"
   ]
  },
  {
   "cell_type": "code",
   "execution_count": null,
   "metadata": {
    "collapsed": true
   },
   "outputs": [],
   "source": []
  }
 ],
 "metadata": {
  "kernelspec": {
   "display_name": "Python 3",
   "language": "python",
   "name": "python3"
  },
  "language_info": {
   "codemirror_mode": {
    "name": "ipython",
    "version": 3
   },
   "file_extension": ".py",
   "mimetype": "text/x-python",
   "name": "python",
   "nbconvert_exporter": "python",
   "pygments_lexer": "ipython3",
   "version": "3.6.3"
  }
 },
 "nbformat": 4,
 "nbformat_minor": 2
}
