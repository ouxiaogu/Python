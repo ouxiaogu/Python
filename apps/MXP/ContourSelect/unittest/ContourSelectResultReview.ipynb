{
 "cells": [
  {
   "cell_type": "code",
   "execution_count": 1,
   "metadata": {},
   "outputs": [
    {
     "name": "stdout",
     "output_type": "stream",
     "text": [
      "Using matplotlib backend: Qt5Agg\n",
      "C:\\Localdata\\D\\Note\\Python\\apps\\MXP\\ContourSelect\\unittest\n",
      "C:\\Localdata\\D\\Note\\Python\\apps\\MXP\\ContourSelect\\unittest/../../../../libs/tacx\n"
     ]
    },
    {
     "name": "stderr",
     "output_type": "stream",
     "text": [
      "MxpStage DEBUG   : ocf tag: result\n",
      "MxpStage DEBUG   : No summary tag in input xml： C:\\Localdata\\D\\Note\\Python\\apps\\MXP\\ContourSelect\\samplejob\\h\\cache\\dummydb\\result\\MXP\\job1\\contourselcal430out.xml\n"
     ]
    },
    {
     "name": "stdout",
     "output_type": "stream",
     "text": [
      "Warning, can't find 'gpfs' in input file: C:\\Localdata\\D\\Note\\Python\\apps\\MXP\\ContourSelect\\samplejob\\h\\cache\\dummydb\\result\\MXP\\job1\n",
      "bbox in origin image: [189, 189, 835, 835]\n"
     ]
    }
   ],
   "source": [
    "%matplotlib auto\n",
    "# %matplotlib auto\n",
    "import numpy as np\n",
    "import pandas as pd\n",
    "import matplotlib\n",
    "import matplotlib.pyplot as plt\n",
    "import cv2\n",
    "\n",
    "import sys\n",
    "import os.path\n",
    "print(os.getcwd())\n",
    "sys.path.insert(0, os.getcwd()+\"/../../../../libs/tacx\")\n",
    "print(os.getcwd()+\"/../../../../libs/tacx\")\n",
    "from SEMContour import *\n",
    "from MxpStage import MxpStageXmlParser\n",
    "sys.path.insert(0, os.getcwd()+\"/../../../../libs/imutil\")\n",
    "from ImGUI import imread_gray\n",
    "sys.path.insert(0, os.getcwd()+\"/../../../../libs/common\")\n",
    "from PlotConfig import *\n",
    "from FileUtil import gpfs2WinPath\n",
    "\n",
    "CWD = r'C:\\Localdata\\D\\Note\\Python\\apps\\MXP\\ContourSelect\\samplejob\\h\\cache\\dummydb\\result\\MXP\\job1'\n",
    "CWD = gpfs2WinPath(CWD)\n",
    "\n",
    "inxml = os.path.join(CWD, r'contourselcal430out.xml')\n",
    "\n",
    "def loadPatternData(imgfile='', contourfile=''):\n",
    "    bSucceedReadCt, bSucceedReadIm = False, False\n",
    "\n",
    "    # read contour\n",
    "    contour = SEMContour()\n",
    "    bSucceedReadCt = contour.parseFile(contourfile)\n",
    "    if not bSucceedReadCt:\n",
    "        raise OSError(\"Error, contourfile('{}') cannot be parsed\".format(contourfile))\n",
    "        \n",
    "    im = None\n",
    "    try:  # read image\n",
    "        im, _ = imread_gray(imgfile)\n",
    "        im = (im/65535).astype(np.float32)\n",
    "        im = cv2.cvtColor(im, cv2.COLOR_GRAY2BGR)\n",
    "    except:\n",
    "        # raise\n",
    "        pass\n",
    "    return im, contour\n",
    "\n",
    "def getContourClassifierData(inxml):\n",
    "    ocf_parser = MxpStageXmlParser(inxml) #, 'outxml'\n",
    "    # icf = icf_parser.icf\n",
    "    df_ocf = ocf_parser.occfs2df()\n",
    "    patternid = 461\n",
    "    df_occf = df_ocf.loc[df_ocf.name==patternid, :]\n",
    "    sr_occf = pd.Series(df_occf.values.flatten(), index=df_occf.columns)\n",
    "    contourfile = sr_occf.loc['contour/path']\n",
    "    contourfile = CWD + '/' + contourfile\n",
    "    imgfile = sr_occf.loc['image/path']\n",
    "    imgfile = CWD + '/' + imgfile\n",
    "    im, contour = loadPatternData(imgfile, contourfile)\n",
    "    return im, contour\n",
    "    # TODO, add bbox plot\n",
    "    # df.filter(regex='bbox/outlier', axis=1)\n",
    "im, contour = getContourClassifierData(inxml)"
   ]
  },
  {
   "cell_type": "code",
   "execution_count": 32,
   "metadata": {
    "collapsed": true
   },
   "outputs": [],
   "source": [
    "# plot the SEM image, contour and angle\n",
    "def plot_image_contour_angle(im, contour, patternid='', arrow_length=1):\n",
    "    df = contour.toDf()\n",
    "    fig = plt.figure()\n",
    "    ax = fig.add_subplot(111)\n",
    "    ax.set_aspect('equal')\n",
    "    #imw, imh = contour.getshape()\n",
    "    #ax.set_xlim([0, imw])\n",
    "    #ax.set_ylim([0, imh])\n",
    "    xini, yini, xend, yend = contour.getBBox()\n",
    "    ax.set_xlim([xini, xend])\n",
    "    ax.set_ylim([yini, yend])\n",
    "    ax.set_title(\"Pattern \"+patternid+ \" image Contour\")\n",
    "    \n",
    "    # plot image\n",
    "    ax.imshow(im)\n",
    "    \n",
    "    # plot contour\n",
    "    ax.plot(df.loc[:, 'offsetx'], df.loc[:, 'offsety'], 'b.')\n",
    "    ax.plot(250.480209, 715.985352, 'r.')\n",
    "    \n",
    "    # plot angle\n",
    "    for _, row in df.iterrows():\n",
    "        x, y = row.loc['offsetx'], row.loc['offsety']\n",
    "        angle = row.loc['angle']\n",
    "        dx, dy = arrow_length*np.cos(angle), arrow_length*np.sin(angle)\n",
    "        ax.arrow(x, y, dx, dy, width=0.1, fc='y', ec='y') # ,shape='right', overhang=0\n",
    "        \n",
    "    plt.gca().invert_yaxis()\n",
    "    plt.show()\n",
    "plot_image_contour_angle(im, contour, '461')"
   ]
  },
  {
   "cell_type": "code",
   "execution_count": 24,
   "metadata": {
    "collapsed": true
   },
   "outputs": [],
   "source": [
    "# plot contour classifier image, contour by classifers\n",
    "def plotContourClassifier(im, contour, wndname=''):\n",
    "    # plot image and classified contour point\n",
    "    fig = plt.figure()\n",
    "    ax = fig.add_subplot(111)\n",
    "    \n",
    "    imw, imh = contour.getshape()\n",
    "    ax.set_aspect('equal')\n",
    "    ax.set_xlim([0, imw])\n",
    "    ax.set_ylim([0, imh])\n",
    "    ax.set_title(wndname)\n",
    "\n",
    "    df = contour.toDf()\n",
    "    UserGood = df.UserLabel == 1\n",
    "    FP = (df.UserLabel==1) & (df.clf_label==0)\n",
    "    FN = (df.UserLabel==0) & (df.clf_label==1)\n",
    "    ax.imshow(im)\n",
    "    ax.plot(df.loc[UserGood ,'offsetx'], df.loc[UserGood, 'offsety'], 'b.', markersize=1, label='User Label as good')\n",
    "    ax.plot(df.loc[~UserGood ,'offsetx'], df.loc[~UserGood, 'offsety'], 'r.', markersize=2, label='User Label as bad'),\n",
    "    ax.plot(df.loc[FP ,'offsetx'], df.loc[FP, 'offsety'], alpha=0.5,\n",
    "            linestyle='None', marker= 'o', markersize=4, markeredgewidth=1, markerfacecolor='none', \n",
    "            label='FP, UserLable=1 & ClfLabel=0: {}'.format(len(df.loc[FP,:])))\n",
    "    ax.plot(df.loc[FN ,'offsetx'], df.loc[FN, 'offsety'], alpha=0.5,\n",
    "            linestyle='None', marker= 'o', markersize=4, markeredgewidth=1, markerfacecolor='none', \n",
    "            label='FN, UserLable=0 & ClfLabel=1: {}'.format(len(df.loc[FN,:])))\n",
    "    #ax = plt.gca() # gca() function returns the current Axes instance\n",
    "    #ax.set_ylim(ax.get_ylim()[::-1]) # reverse Y\n",
    "    plt.gca().invert_yaxis()\n",
    "    plt.legend()\n",
    "    plt.show()"
   ]
  },
  {
   "cell_type": "code",
   "execution_count": 29,
   "metadata": {},
   "outputs": [],
   "source": [
    "leftArr = [0.567468, 0.544720, 0.514374, 0.482713, 0.453921, 0.429822, 0.410495, 0.395181, 0.383001, 0.373297, 0.365664, 0.359890, 0.355877, 0.353493, 0.352375, 0.351882, 0.351298, 0.350130, 0.348290, 0.346071, 0.343927, 0.342212, 0.340987, 0.340029, 0.339040, 0.337902, 0.336737, 0.335696, 0.334715, 0.333543, 0.331913, 0.329689, 0.326884, 0.323622, 0.320140, 0.316806, 0.314152, 0.312876, 0.313835, 0.318016, 0.326492, 0.340317, 0.360304, 0.386573, 0.417828, 0.450646]\n",
    "leftArr = leftArr[-1::-1]\n",
    "Ig = 0.575737 \n",
    "rightArr = [0.564595, 0.533566, 0.487334, 0.434199, 0.382961, 0.340042, 0.308248, 0.287320, 0.275337, 0.269955, 0.269012, 0.270665, 0.273422, 0.276220, 0.278512, 0.280247, 0.281684, 0.283127, 0.284718, 0.286387, 0.287908, 0.289012, 0.289534, 0.289573, 0.289473, 0.289590, 0.289999, 0.290436, 0.290524, 0.290072, 0.289171, 0.288098, 0.287167, 0.286580, 0.286317, 0.286130, 0.285696, 0.284855, 0.283788, 0.282952, 0.282858, 0.283905, 0.286517, 0.291533, 0.300620, 0.316334, 0.341522, 0.377962, 0.424629]\n",
    "Arr = leftArr + [Ig] + rightArr\n",
    "fig = plt.figure()\n",
    "ax = fig.add_subplot(111)\n",
    "ax.plot(np.arange(0, len(leftArr)), leftArr, label='leftArr')\n",
    "ax.plot([len(leftArr)], [Ig], 'r.', label='ridge Ig')\n",
    "ax.plot(np.arange(len(leftArr)+1, len(leftArr)+len(rightArr)+1), rightArr, 'g-', label='rightArr')\n",
    "plt.legend()\n",
    "plt.show()"
   ]
  },
  {
   "cell_type": "code",
   "execution_count": 16,
   "metadata": {},
   "outputs": [
    {
     "data": {
      "text/plain": [
       "[0.450646,\n",
       " 0.417828,\n",
       " 0.386573,\n",
       " 0.360304,\n",
       " 0.340317,\n",
       " 0.326492,\n",
       " 0.318016,\n",
       " 0.313835,\n",
       " 0.312876,\n",
       " 0.314152,\n",
       " 0.316806,\n",
       " 0.32014,\n",
       " 0.323622,\n",
       " 0.326884,\n",
       " 0.329689,\n",
       " 0.331913,\n",
       " 0.333543,\n",
       " 0.334715,\n",
       " 0.335696,\n",
       " 0.336737,\n",
       " 0.337902,\n",
       " 0.33904,\n",
       " 0.340029,\n",
       " 0.340987,\n",
       " 0.342212,\n",
       " 0.343927,\n",
       " 0.346071,\n",
       " 0.34829,\n",
       " 0.35013,\n",
       " 0.351298,\n",
       " 0.351882,\n",
       " 0.352375,\n",
       " 0.353493,\n",
       " 0.355877,\n",
       " 0.35989,\n",
       " 0.365664,\n",
       " 0.373297,\n",
       " 0.383001,\n",
       " 0.395181,\n",
       " 0.410495,\n",
       " 0.429822,\n",
       " 0.453921,\n",
       " 0.482713,\n",
       " 0.514374,\n",
       " 0.54472,\n",
       " 0.567468]"
      ]
     },
     "execution_count": 16,
     "metadata": {},
     "output_type": "execute_result"
    }
   ],
   "source": [
    "leftArr = [0.567468, 0.544720, 0.514374, 0.482713, 0.453921, 0.429822, 0.410495, 0.395181, 0.383001, 0.373297, 0.365664, 0.359890, 0.355877, 0.353493, 0.352375, 0.351882, 0.351298, 0.350130, 0.348290, 0.346071, 0.343927, 0.342212, 0.340987, 0.340029, 0.339040, 0.337902, 0.336737, 0.335696, 0.334715, 0.333543, 0.331913, 0.329689, 0.326884, 0.323622, 0.320140, 0.316806, 0.314152, 0.312876, 0.313835, 0.318016, 0.326492, 0.340317, 0.360304, 0.386573, 0.417828, 0.450646]\n",
    "leftArr = leftArr[-1::-1]\n",
    "leftArr"
   ]
  },
  {
   "cell_type": "code",
   "execution_count": null,
   "metadata": {
    "collapsed": true
   },
   "outputs": [],
   "source": [
    "plotContourClassifier(im, contour, 'Pattern 461')"
   ]
  },
  {
   "cell_type": "code",
   "execution_count": null,
   "metadata": {
    "collapsed": true
   },
   "outputs": [],
   "source": [
    "def plotAllContourClfData(inxml):\n",
    "    ocf_parser = MxpStageXmlParser(inxml) #, 'outxml'\n",
    "    # icf = icf_parser.icf\n",
    "    df_ocf = ocf_parser.occfs2df()\n",
    "    for _, row in df_ocf.iterrows():\n",
    "        patternid = row.loc['name']\n",
    "        usage = row.loc['usage']\n",
    "        print(\"{} {}\".format(patternid, usage))\n",
    "        \n",
    "        contourfile = row.loc['contour/path']\n",
    "        contourfile = CWD + '/' + contourfile\n",
    "        imgfile = row.loc['image/path']\n",
    "        imgfile = CWD + '/' + imgfile\n",
    "        im, contour = loadPatternData(imgfile, contourfile)\n",
    "        plotContourClassifier(im, contour, \"Pattern \"+str(patternid))"
   ]
  },
  {
   "cell_type": "code",
   "execution_count": null,
   "metadata": {
    "collapsed": true
   },
   "outputs": [],
   "source": [
    "plotAllContourClfData(inxml)"
   ]
  },
  {
   "cell_type": "code",
   "execution_count": null,
   "metadata": {
    "collapsed": true
   },
   "outputs": [],
   "source": []
  }
 ],
 "metadata": {
  "kernelspec": {
   "display_name": "Python 3",
   "language": "python",
   "name": "python3"
  },
  "language_info": {
   "codemirror_mode": {
    "name": "ipython",
    "version": 3
   },
   "file_extension": ".py",
   "mimetype": "text/x-python",
   "name": "python",
   "nbconvert_exporter": "python",
   "pygments_lexer": "ipython3",
   "version": "3.6.3"
  }
 },
 "nbformat": 4,
 "nbformat_minor": 2
}
