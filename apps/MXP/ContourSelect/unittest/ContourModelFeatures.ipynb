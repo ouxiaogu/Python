{
 "cells": [
  {
   "cell_type": "code",
   "execution_count": 48,
   "metadata": {
    "collapsed": true
   },
   "outputs": [],
   "source": [
    "import pandas as pd\n",
    "import seaborn as sns\n",
    "import matplotlib.pyplot as plt\n",
    "import numpy as np\n",
    "import os, os.path\n",
    "import sys\n",
    "sys.path.insert(0, os.getcwd()+\"/../../../../libs/common\")\n",
    "from FileUtil import gpfs2WinPath\n",
    "\n",
    "caldatafile = r'/gpfs/WW/BD/MXP/SHARED/SEM_IMAGE/IMEC/Case02_calaveras_v3/3Tmp/CT_KPI_test/Calaveras_v3_regular_CT_KPI_003_slope_modified_revert_all_patterns/h/cache/dummydb/result/MXP/job1/ContourSelectModelCalibration430result1/caldata.txt'\n",
    "caldatafile = gpfs2WinPath(caldatafile)\n",
    "\n",
    "df = pd.read_csv(caldatafile, sep='\\s+')\n",
    "\n",
    "tgtColName = 'UserLabel'\n",
    "neighborColNames = ['NeighborOrientation', 'NeighborParalism']#, 'NeighborParalism', 'NeighborContinuity',\n",
    "allColNames = ['slope', 'intensity', 'ridge_intensity', 'contrast', 'EigenRatio', 'NeighborOrientation', 'NeighborParalism']\n",
    "srcColNames = ['slope', 'intensity', 'ridge_intensity', 'NeighborOrientation', 'NeighborParalism']\n",
    "tgtColName = 'UserLabel'"
   ]
  },
  {
   "cell_type": "code",
   "execution_count": 49,
   "metadata": {},
   "outputs": [
    {
     "data": {
      "text/html": [
       "<div>\n",
       "<style>\n",
       "    .dataframe thead tr:only-child th {\n",
       "        text-align: right;\n",
       "    }\n",
       "\n",
       "    .dataframe thead th {\n",
       "        text-align: left;\n",
       "    }\n",
       "\n",
       "    .dataframe tbody tr th {\n",
       "        vertical-align: top;\n",
       "    }\n",
       "</style>\n",
       "<table border=\"1\" class=\"dataframe\">\n",
       "  <thead>\n",
       "    <tr style=\"text-align: right;\">\n",
       "      <th></th>\n",
       "      <th>slope</th>\n",
       "      <th>intensity</th>\n",
       "      <th>ridge_intensity</th>\n",
       "      <th>NeighborOrientation</th>\n",
       "      <th>NeighborParalism</th>\n",
       "    </tr>\n",
       "  </thead>\n",
       "  <tbody>\n",
       "    <tr>\n",
       "      <th>count</th>\n",
       "      <td>3029.000000</td>\n",
       "      <td>3029.000000</td>\n",
       "      <td>3029.000000</td>\n",
       "      <td>3029.000000</td>\n",
       "      <td>3029.000000</td>\n",
       "    </tr>\n",
       "    <tr>\n",
       "      <th>mean</th>\n",
       "      <td>0.000437</td>\n",
       "      <td>0.493400</td>\n",
       "      <td>0.013128</td>\n",
       "      <td>0.998819</td>\n",
       "      <td>0.995971</td>\n",
       "    </tr>\n",
       "    <tr>\n",
       "      <th>std</th>\n",
       "      <td>0.000368</td>\n",
       "      <td>0.062304</td>\n",
       "      <td>0.005867</td>\n",
       "      <td>0.003739</td>\n",
       "      <td>0.020979</td>\n",
       "    </tr>\n",
       "    <tr>\n",
       "      <th>min</th>\n",
       "      <td>-0.001939</td>\n",
       "      <td>0.345614</td>\n",
       "      <td>0.000814</td>\n",
       "      <td>0.934455</td>\n",
       "      <td>0.681708</td>\n",
       "    </tr>\n",
       "    <tr>\n",
       "      <th>25%</th>\n",
       "      <td>0.000217</td>\n",
       "      <td>0.449102</td>\n",
       "      <td>0.009347</td>\n",
       "      <td>0.999153</td>\n",
       "      <td>0.999654</td>\n",
       "    </tr>\n",
       "    <tr>\n",
       "      <th>50%</th>\n",
       "      <td>0.000452</td>\n",
       "      <td>0.489985</td>\n",
       "      <td>0.013922</td>\n",
       "      <td>0.999843</td>\n",
       "      <td>0.999954</td>\n",
       "    </tr>\n",
       "    <tr>\n",
       "      <th>75%</th>\n",
       "      <td>0.000680</td>\n",
       "      <td>0.547742</td>\n",
       "      <td>0.017723</td>\n",
       "      <td>0.999974</td>\n",
       "      <td>0.999993</td>\n",
       "    </tr>\n",
       "    <tr>\n",
       "      <th>max</th>\n",
       "      <td>0.001602</td>\n",
       "      <td>0.608271</td>\n",
       "      <td>0.026195</td>\n",
       "      <td>1.000000</td>\n",
       "      <td>1.000000</td>\n",
       "    </tr>\n",
       "  </tbody>\n",
       "</table>\n",
       "</div>"
      ],
      "text/plain": [
       "             slope    intensity  ridge_intensity  NeighborOrientation  \\\n",
       "count  3029.000000  3029.000000      3029.000000          3029.000000   \n",
       "mean      0.000437     0.493400         0.013128             0.998819   \n",
       "std       0.000368     0.062304         0.005867             0.003739   \n",
       "min      -0.001939     0.345614         0.000814             0.934455   \n",
       "25%       0.000217     0.449102         0.009347             0.999153   \n",
       "50%       0.000452     0.489985         0.013922             0.999843   \n",
       "75%       0.000680     0.547742         0.017723             0.999974   \n",
       "max       0.001602     0.608271         0.026195             1.000000   \n",
       "\n",
       "       NeighborParalism  \n",
       "count       3029.000000  \n",
       "mean           0.995971  \n",
       "std            0.020979  \n",
       "min            0.681708  \n",
       "25%            0.999654  \n",
       "50%            0.999954  \n",
       "75%            0.999993  \n",
       "max            1.000000  "
      ]
     },
     "execution_count": 49,
     "metadata": {},
     "output_type": "execute_result"
    }
   ],
   "source": [
    "df.loc[:, srcColNames].describe()"
   ]
  },
  {
   "cell_type": "code",
   "execution_count": 37,
   "metadata": {
    "collapsed": true
   },
   "outputs": [],
   "source": [
    "df = df.transform(lambda x: (x - x.min()) / (x.max() - x.min()))\n",
    "srcColNames = ['slope', 'intensity', 'ridge_intensity'] #, 'NeighborOrientation', 'NeighborParalism']\n",
    "X = df.loc[:, srcColNames].values\n",
    "y = df.loc[:, tgtColName].values"
   ]
  },
  {
   "cell_type": "code",
   "execution_count": 2,
   "metadata": {},
   "outputs": [
    {
     "name": "stdout",
     "output_type": "stream",
     "text": [
      "Using matplotlib backend: Qt5Agg\n"
     ]
    }
   ],
   "source": [
    "%matplotlib auto\n",
    "\n",
    "# hist plot \n",
    "\n",
    "df2 = pd.melt(df, id_vars=tgtColName, value_vars=neighborColNames, value_name='value')\n",
    "bins=np.linspace(df2.value.min(), df2.value.max(), 100)\n",
    "g = sns.FacetGrid(df2, col=\"variable\", hue=tgtColName, palette=\"Set1\", col_wrap=3)\n",
    "g.map(plt.hist, 'value', bins=bins, ec=\"k\")\n",
    "plt.yscale('log')\n",
    "g.axes[-1].legend()\n",
    "\n",
    "# scatter plot \n",
    "#sns.pointplot('NeighborOrientation', 'NeighborParalism', hue=tgtColName, data=df)\n",
    "\n",
    "plt.show()"
   ]
  },
  {
   "cell_type": "code",
   "execution_count": 22,
   "metadata": {},
   "outputs": [
    {
     "name": "stdout",
     "output_type": "stream",
     "text": [
      "Using matplotlib backend: Qt5Agg\n"
     ]
    },
    {
     "name": "stderr",
     "output_type": "stream",
     "text": [
      "C:\\Users\\peyang\\AppData\\Local\\Continuum\\anaconda3\\lib\\site-packages\\numpy\\core\\fromnumeric.py:57: FutureWarning: reshape is deprecated and will raise in a subsequent release. Please use .values.reshape(...) instead\n",
      "  return getattr(obj, method)(*args, **kwds)\n"
     ]
    }
   ],
   "source": [
    "%matplotlib auto\n",
    "def sephist(col):\n",
    "    TP = df[df[tgtColName] == 0][col]\n",
    "    TN = df[df[tgtColName] == 1][col]\n",
    "    return TP, TN\n",
    "labels = ['intensity', 'slope', 'ridge_intensity', 'contrast', 'EigenRatio']\n",
    "df.loc[:, 'EigenRatio'] = df.loc[:, 'EigenRatio'].abs()\n",
    "for num, alpha in enumerate(neighborColNames+labels):\n",
    "    plt.subplot(2, 4, num+1)\n",
    "\n",
    "    TP, TN = sephist(alpha)\n",
    "    plt.hist((TP, TN), bins=25, alpha=0.5, label=map(''.join, zip(2*[tgtColName], 2*['=='], ['0', '1'])), color=['b', 'g'])\n",
    "    #plt.hist(TP, bins=50, alpha=0.5, label=tgtColName+'==0', color='b')\n",
    "    #plt.hist(TN, bins=50, alpha=0.5, label=tgtColName+'==1', color='g')\n",
    "    plt.legend(loc='upper right')\n",
    "    plt.title(alpha)\n",
    "    plt.yscale('log')\n",
    "#plt.tight_layout(pad=0.4, w_pad=0.5, h_pad=1.0)\n",
    "plt.show()"
   ]
  },
  {
   "cell_type": "code",
   "execution_count": 3,
   "metadata": {},
   "outputs": [
    {
     "data": {
      "text/plain": [
       "1.0    2596\n",
       "0.0     433\n",
       "Name: UserLabel, dtype: int64"
      ]
     },
     "execution_count": 3,
     "metadata": {},
     "output_type": "execute_result"
    }
   ],
   "source": [
    "df.loc[:, tgtColName].value_counts()"
   ]
  },
  {
   "cell_type": "code",
   "execution_count": 23,
   "metadata": {},
   "outputs": [
    {
     "data": {
      "text/html": [
       "<div>\n",
       "<style>\n",
       "    .dataframe thead tr:only-child th {\n",
       "        text-align: right;\n",
       "    }\n",
       "\n",
       "    .dataframe thead th {\n",
       "        text-align: left;\n",
       "    }\n",
       "\n",
       "    .dataframe tbody tr th {\n",
       "        vertical-align: top;\n",
       "    }\n",
       "</style>\n",
       "<table border=\"1\" class=\"dataframe\">\n",
       "  <thead>\n",
       "    <tr style=\"text-align: right;\">\n",
       "      <th></th>\n",
       "      <th>ridge_intensity</th>\n",
       "      <th>NeighborOrientation</th>\n",
       "      <th>NeighborParalism</th>\n",
       "    </tr>\n",
       "  </thead>\n",
       "  <tbody>\n",
       "    <tr>\n",
       "      <th>count</th>\n",
       "      <td>433.000000</td>\n",
       "      <td>433.000000</td>\n",
       "      <td>433.000000</td>\n",
       "    </tr>\n",
       "    <tr>\n",
       "      <th>mean</th>\n",
       "      <td>0.076183</td>\n",
       "      <td>0.929222</td>\n",
       "      <td>0.917139</td>\n",
       "    </tr>\n",
       "    <tr>\n",
       "      <th>std</th>\n",
       "      <td>0.051688</td>\n",
       "      <td>0.132003</td>\n",
       "      <td>0.156791</td>\n",
       "    </tr>\n",
       "    <tr>\n",
       "      <th>min</th>\n",
       "      <td>0.000000</td>\n",
       "      <td>0.000000</td>\n",
       "      <td>0.000000</td>\n",
       "    </tr>\n",
       "    <tr>\n",
       "      <th>25%</th>\n",
       "      <td>0.039227</td>\n",
       "      <td>0.925712</td>\n",
       "      <td>0.922903</td>\n",
       "    </tr>\n",
       "    <tr>\n",
       "      <th>50%</th>\n",
       "      <td>0.062372</td>\n",
       "      <td>0.977588</td>\n",
       "      <td>0.984828</td>\n",
       "    </tr>\n",
       "    <tr>\n",
       "      <th>75%</th>\n",
       "      <td>0.100145</td>\n",
       "      <td>0.995445</td>\n",
       "      <td>0.998136</td>\n",
       "    </tr>\n",
       "    <tr>\n",
       "      <th>max</th>\n",
       "      <td>0.276776</td>\n",
       "      <td>1.000000</td>\n",
       "      <td>1.000000</td>\n",
       "    </tr>\n",
       "  </tbody>\n",
       "</table>\n",
       "</div>"
      ],
      "text/plain": [
       "       ridge_intensity  NeighborOrientation  NeighborParalism\n",
       "count       433.000000           433.000000        433.000000\n",
       "mean          0.076183             0.929222          0.917139\n",
       "std           0.051688             0.132003          0.156791\n",
       "min           0.000000             0.000000          0.000000\n",
       "25%           0.039227             0.925712          0.922903\n",
       "50%           0.062372             0.977588          0.984828\n",
       "75%           0.100145             0.995445          0.998136\n",
       "max           0.276776             1.000000          1.000000"
      ]
     },
     "execution_count": 23,
     "metadata": {},
     "output_type": "execute_result"
    }
   ],
   "source": [
    "df.loc[df[tgtColName]==0, srcColNames].describe()"
   ]
  },
  {
   "cell_type": "code",
   "execution_count": 24,
   "metadata": {},
   "outputs": [
    {
     "data": {
      "text/html": [
       "<div>\n",
       "<style>\n",
       "    .dataframe thead tr:only-child th {\n",
       "        text-align: right;\n",
       "    }\n",
       "\n",
       "    .dataframe thead th {\n",
       "        text-align: left;\n",
       "    }\n",
       "\n",
       "    .dataframe tbody tr th {\n",
       "        vertical-align: top;\n",
       "    }\n",
       "</style>\n",
       "<table border=\"1\" class=\"dataframe\">\n",
       "  <thead>\n",
       "    <tr style=\"text-align: right;\">\n",
       "      <th></th>\n",
       "      <th>ridge_intensity</th>\n",
       "      <th>NeighborOrientation</th>\n",
       "      <th>NeighborParalism</th>\n",
       "    </tr>\n",
       "  </thead>\n",
       "  <tbody>\n",
       "    <tr>\n",
       "      <th>count</th>\n",
       "      <td>2596.000000</td>\n",
       "      <td>2596.000000</td>\n",
       "      <td>2596.000000</td>\n",
       "    </tr>\n",
       "    <tr>\n",
       "      <th>mean</th>\n",
       "      <td>0.553373</td>\n",
       "      <td>0.990775</td>\n",
       "      <td>0.999052</td>\n",
       "    </tr>\n",
       "    <tr>\n",
       "      <th>std</th>\n",
       "      <td>0.171287</td>\n",
       "      <td>0.018840</td>\n",
       "      <td>0.004123</td>\n",
       "    </tr>\n",
       "    <tr>\n",
       "      <th>min</th>\n",
       "      <td>0.100585</td>\n",
       "      <td>0.780979</td>\n",
       "      <td>0.892646</td>\n",
       "    </tr>\n",
       "    <tr>\n",
       "      <th>25%</th>\n",
       "      <td>0.426679</td>\n",
       "      <td>0.991966</td>\n",
       "      <td>0.999509</td>\n",
       "    </tr>\n",
       "    <tr>\n",
       "      <th>50%</th>\n",
       "      <td>0.581611</td>\n",
       "      <td>0.998230</td>\n",
       "      <td>0.999904</td>\n",
       "    </tr>\n",
       "    <tr>\n",
       "      <th>75%</th>\n",
       "      <td>0.683189</td>\n",
       "      <td>0.999676</td>\n",
       "      <td>0.999982</td>\n",
       "    </tr>\n",
       "    <tr>\n",
       "      <th>max</th>\n",
       "      <td>1.000000</td>\n",
       "      <td>1.000000</td>\n",
       "      <td>1.000000</td>\n",
       "    </tr>\n",
       "  </tbody>\n",
       "</table>\n",
       "</div>"
      ],
      "text/plain": [
       "       ridge_intensity  NeighborOrientation  NeighborParalism\n",
       "count      2596.000000          2596.000000       2596.000000\n",
       "mean          0.553373             0.990775          0.999052\n",
       "std           0.171287             0.018840          0.004123\n",
       "min           0.100585             0.780979          0.892646\n",
       "25%           0.426679             0.991966          0.999509\n",
       "50%           0.581611             0.998230          0.999904\n",
       "75%           0.683189             0.999676          0.999982\n",
       "max           1.000000             1.000000          1.000000"
      ]
     },
     "execution_count": 24,
     "metadata": {},
     "output_type": "execute_result"
    }
   ],
   "source": [
    "df.loc[df[tgtColName]==1, srcColNames].describe()"
   ]
  },
  {
   "cell_type": "code",
   "execution_count": 38,
   "metadata": {},
   "outputs": [
    {
     "name": "stdout",
     "output_type": "stream",
     "text": [
      "                         0\n",
      "slope             2.194072\n",
      "intensity        -0.544468\n",
      "ridge_intensity  11.224382\n",
      "intercept        -3.765906\n",
      "SVC model rms on calibration set: 0.1614967953936444\n",
      "SVC model confusion matrix on calibration set:\n",
      "[[ 427    6]\n",
      " [  73 2523]]\n",
      "[[ 0.98614319  0.01385681]\n",
      " [ 0.02812018  0.97187982]]\n"
     ]
    }
   ],
   "source": [
    "from sklearn import svm\n",
    "clf = svm.SVC(kernel='linear', class_weight='balanced') # {0: 10, 1: 1}\n",
    "model = clf.fit(X, y)\n",
    "\n",
    "modelform = pd.DataFrame(data=clf.coef_.flatten(), index=srcColNames)\n",
    "modelform.loc['intercept', 0] = clf.intercept_\n",
    "print(modelform)\n",
    "\n"
   ]
  },
  {
   "cell_type": "code",
   "execution_count": 50,
   "metadata": {},
   "outputs": [],
   "source": [
    "from sklearn import tree\n",
    "clf = tree.DecisionTreeClassifier()\n",
    "model = clf.fit(X, y)"
   ]
  },
  {
   "cell_type": "code",
   "execution_count": 51,
   "metadata": {},
   "outputs": [
    {
     "name": "stdout",
     "output_type": "stream",
     "text": [
      "DT model rms on calibration set: 0.0\n",
      "DT model confusion matrix on calibration set:\n",
      "[[ 433    0]\n",
      " [   0 2596]]\n",
      "[[ 1.  0.]\n",
      " [ 0.  1.]]\n"
     ]
    }
   ],
   "source": [
    "from sklearn.metrics import confusion_matrix\n",
    "calcRMS = lambda y_pred, y: np.sqrt(np.mean(np.power(y_pred - y, 2)))\n",
    "y_cal_pred = model.predict(X)\n",
    "rms = calcRMS(y_cal_pred, y)\n",
    "cm = confusion_matrix(y, y_cal_pred)\n",
    "cm_norm = cm.astype('float') / cm.sum(axis=1)[:, np.newaxis]\n",
    "print(\"DT model rms on calibration set: {}\".format(rms))\n",
    "print(\"DT model confusion matrix on calibration set:\\n{}\\n{}\".format(cm, cm_norm))"
   ]
  },
  {
   "cell_type": "code",
   "execution_count": 59,
   "metadata": {},
   "outputs": [
    {
     "name": "stdout",
     "output_type": "stream",
     "text": [
      "C:\\Localdata\\D\\Note\\Python\\apps\\MXP\\ContourSelect\\unittest/../../../../libs/tacx\n"
     ]
    },
    {
     "ename": "FileNotFoundError",
     "evalue": "[Errno 2] No such file or directory: '\\\\\\\\devshare-brion.asml.com\\\\cnfs-WW\\\\BD\\\\MXP\\\\SHARED\\\\SEM_IMAGE\\\\IMEC\\\\Case02_calaveras_v3\\\\3Tmp\\\\CT_KPI_test\\\\Calaveras_v3_regular_CT_KPI_003_slope_modified_revert_all_patterns\\\\h\\\\cache\\\\dummydb\\\\result\\\\MXP\\\\job1\\\\ContourSelectModelCalibration430result1\\\\461_image_contour.txt'",
     "output_type": "error",
     "traceback": [
      "\u001b[1;31m---------------------------------------------------------------------------\u001b[0m",
      "\u001b[1;31mFileNotFoundError\u001b[0m                         Traceback (most recent call last)",
      "\u001b[1;32m<ipython-input-59-bc67483ce283>\u001b[0m in \u001b[0;36m<module>\u001b[1;34m()\u001b[0m\n\u001b[0;32m     23\u001b[0m         \u001b[0mself\u001b[0m\u001b[1;33m.\u001b[0m\u001b[0mdf\u001b[0m \u001b[1;33m=\u001b[0m \u001b[0mcontour\u001b[0m\u001b[1;33m.\u001b[0m\u001b[0mtoDf\u001b[0m\u001b[1;33m(\u001b[0m\u001b[1;33m)\u001b[0m\u001b[1;33m\u001b[0m\u001b[0m\n\u001b[0;32m     24\u001b[0m \u001b[1;31m# get contour data\u001b[0m\u001b[1;33m\u001b[0m\u001b[1;33m\u001b[0m\u001b[0m\n\u001b[1;32m---> 25\u001b[1;33m \u001b[0mca\u001b[0m \u001b[1;33m=\u001b[0m \u001b[0mContourAnalyzer\u001b[0m\u001b[1;33m(\u001b[0m\u001b[0mcontourfile\u001b[0m\u001b[1;33m)\u001b[0m\u001b[1;33m\u001b[0m\u001b[0m\n\u001b[0m\u001b[0;32m     26\u001b[0m \u001b[0mdf\u001b[0m \u001b[1;33m=\u001b[0m \u001b[0mca\u001b[0m\u001b[1;33m.\u001b[0m\u001b[0mdf\u001b[0m\u001b[1;33m\u001b[0m\u001b[0m\n",
      "\u001b[1;32m<ipython-input-59-bc67483ce283>\u001b[0m in \u001b[0;36m__init__\u001b[1;34m(self, contourfile)\u001b[0m\n\u001b[0;32m     13\u001b[0m     \u001b[1;34m\"\"\"docstring for ContourData\"\"\"\u001b[0m\u001b[1;33m\u001b[0m\u001b[0m\n\u001b[0;32m     14\u001b[0m     \u001b[1;32mdef\u001b[0m \u001b[0m__init__\u001b[0m\u001b[1;33m(\u001b[0m\u001b[0mself\u001b[0m\u001b[1;33m,\u001b[0m \u001b[0mcontourfile\u001b[0m\u001b[1;33m)\u001b[0m\u001b[1;33m:\u001b[0m\u001b[1;33m\u001b[0m\u001b[0m\n\u001b[1;32m---> 15\u001b[1;33m         \u001b[0mself\u001b[0m\u001b[1;33m.\u001b[0m\u001b[0m__build\u001b[0m\u001b[1;33m(\u001b[0m\u001b[0mcontourfile\u001b[0m\u001b[1;33m)\u001b[0m\u001b[1;33m\u001b[0m\u001b[0m\n\u001b[0m\u001b[0;32m     16\u001b[0m \u001b[1;33m\u001b[0m\u001b[0m\n\u001b[0;32m     17\u001b[0m     \u001b[1;32mdef\u001b[0m \u001b[0m__build\u001b[0m\u001b[1;33m(\u001b[0m\u001b[0mself\u001b[0m\u001b[1;33m,\u001b[0m \u001b[0mcontourfile\u001b[0m\u001b[1;33m)\u001b[0m\u001b[1;33m:\u001b[0m\u001b[1;33m\u001b[0m\u001b[0m\n",
      "\u001b[1;32m<ipython-input-59-bc67483ce283>\u001b[0m in \u001b[0;36m__build\u001b[1;34m(self, contourfile)\u001b[0m\n\u001b[0;32m     17\u001b[0m     \u001b[1;32mdef\u001b[0m \u001b[0m__build\u001b[0m\u001b[1;33m(\u001b[0m\u001b[0mself\u001b[0m\u001b[1;33m,\u001b[0m \u001b[0mcontourfile\u001b[0m\u001b[1;33m)\u001b[0m\u001b[1;33m:\u001b[0m\u001b[1;33m\u001b[0m\u001b[0m\n\u001b[0;32m     18\u001b[0m         \u001b[0mcontour\u001b[0m \u001b[1;33m=\u001b[0m \u001b[0mSEMContour\u001b[0m\u001b[1;33m(\u001b[0m\u001b[1;33m)\u001b[0m\u001b[1;33m\u001b[0m\u001b[0m\n\u001b[1;32m---> 19\u001b[1;33m         \u001b[0mcontour\u001b[0m\u001b[1;33m.\u001b[0m\u001b[0mparseFile\u001b[0m\u001b[1;33m(\u001b[0m\u001b[0mcontourfile\u001b[0m\u001b[1;33m)\u001b[0m\u001b[1;33m\u001b[0m\u001b[0m\n\u001b[0m\u001b[0;32m     20\u001b[0m         \u001b[1;32mif\u001b[0m \u001b[1;32mnot\u001b[0m \u001b[0mcontour\u001b[0m\u001b[1;33m:\u001b[0m\u001b[1;33m\u001b[0m\u001b[0m\n\u001b[0;32m     21\u001b[0m             \u001b[0msys\u001b[0m\u001b[1;33m.\u001b[0m\u001b[0mexit\u001b[0m\u001b[1;33m(\u001b[0m\u001b[1;34m\"ERROR: read in contour file %s fails\\n\"\u001b[0m \u001b[1;33m%\u001b[0m \u001b[0mcontourfile\u001b[0m\u001b[1;33m)\u001b[0m\u001b[1;33m\u001b[0m\u001b[0m\n",
      "\u001b[1;32mC:\\Localdata\\D\\Note\\Python\\apps\\MXP\\ContourSelect\\unittest/../../../../libs/tacx\\SEMContour.py\u001b[0m in \u001b[0;36mparseFile\u001b[1;34m(self, filename)\u001b[0m\n\u001b[0;32m    101\u001b[0m \u001b[1;33m\u001b[0m\u001b[0m\n\u001b[0;32m    102\u001b[0m     \u001b[1;32mdef\u001b[0m \u001b[0mparseFile\u001b[0m\u001b[1;33m(\u001b[0m\u001b[0mself\u001b[0m\u001b[1;33m,\u001b[0m \u001b[0mfilename\u001b[0m\u001b[1;33m)\u001b[0m\u001b[1;33m:\u001b[0m\u001b[1;33m\u001b[0m\u001b[0m\n\u001b[1;32m--> 103\u001b[1;33m         \u001b[0mself\u001b[0m\u001b[1;33m.\u001b[0m\u001b[0mfileHandle\u001b[0m \u001b[1;33m=\u001b[0m \u001b[0mopen\u001b[0m\u001b[1;33m(\u001b[0m\u001b[0mfilename\u001b[0m\u001b[1;33m,\u001b[0m \u001b[1;34m'r'\u001b[0m\u001b[1;33m)\u001b[0m\u001b[1;33m\u001b[0m\u001b[0m\n\u001b[0m\u001b[0;32m    104\u001b[0m         \u001b[1;31m# Read first line: field size\u001b[0m\u001b[1;33m\u001b[0m\u001b[1;33m\u001b[0m\u001b[0m\n\u001b[0;32m    105\u001b[0m         \u001b[0mlines\u001b[0m \u001b[1;33m=\u001b[0m \u001b[0mself\u001b[0m\u001b[1;33m.\u001b[0m\u001b[0mreadlines\u001b[0m\u001b[1;33m(\u001b[0m\u001b[1;36m1\u001b[0m\u001b[1;33m,\u001b[0m \u001b[1;34m'\\s+'\u001b[0m\u001b[1;33m)\u001b[0m\u001b[1;33m\u001b[0m\u001b[0m\n",
      "\u001b[1;31mFileNotFoundError\u001b[0m: [Errno 2] No such file or directory: '\\\\\\\\devshare-brion.asml.com\\\\cnfs-WW\\\\BD\\\\MXP\\\\SHARED\\\\SEM_IMAGE\\\\IMEC\\\\Case02_calaveras_v3\\\\3Tmp\\\\CT_KPI_test\\\\Calaveras_v3_regular_CT_KPI_003_slope_modified_revert_all_patterns\\\\h\\\\cache\\\\dummydb\\\\result\\\\MXP\\\\job1\\\\ContourSelectModelCalibration430result1\\\\461_image_contour.txt'"
     ]
    }
   ],
   "source": [
    "import sys\n",
    "import os.path\n",
    "sys.path.insert(0, os.getcwd()+\"/../../../../libs/tacx\")\n",
    "print(os.getcwd()+\"/../../../../libs/tacx\")\n",
    "from SEMContour import *\n",
    "sys.path.insert(0, os.getcwd()+\"/../../../../libs/common\")\n",
    "from FileUtil import gpfs2WinPath\n",
    "\n",
    "contourfile = r'/gpfs/WW/BD/MXP/SHARED/SEM_IMAGE/IMEC/Case02_calaveras_v3/3Tmp/CT_KPI_test/Calaveras_v3_regular_CT_KPI_003_slope_modified_revert_all_patterns/h/cache/dummydb/result/MXP/job1/ContourSelectModelCalibration430result1/461_image_contour.txt'\n",
    "contourfile = gpfs2WinPath(contourfile)\n",
    "\n",
    "class ContourAnalyzer(object):\n",
    "    \"\"\"docstring for ContourData\"\"\"\n",
    "    def __init__(self, contourfile):\n",
    "        self.__build(contourfile)\n",
    "\n",
    "    def __build(self, contourfile):\n",
    "        contour = SEMContour()\n",
    "        contour.parseFile(contourfile)\n",
    "        if not contour:\n",
    "            sys.exit(\"ERROR: read in contour file %s fails\\n\" % contourfile)\n",
    "        self.contour = contour\n",
    "        self.df = contour.toDf()\n",
    "# get contour data\n",
    "ca = ContourAnalyzer(contourfile)\n",
    "df = ca.df"
   ]
  },
  {
   "cell_type": "code",
   "execution_count": null,
   "metadata": {
    "collapsed": true
   },
   "outputs": [],
   "source": []
  }
 ],
 "metadata": {
  "kernelspec": {
   "display_name": "Python 3",
   "language": "python",
   "name": "python3"
  },
  "language_info": {
   "codemirror_mode": {
    "name": "ipython",
    "version": 3
   },
   "file_extension": ".py",
   "mimetype": "text/x-python",
   "name": "python",
   "nbconvert_exporter": "python",
   "pygments_lexer": "ipython3",
   "version": "3.6.3"
  }
 },
 "nbformat": 4,
 "nbformat_minor": 2
}
