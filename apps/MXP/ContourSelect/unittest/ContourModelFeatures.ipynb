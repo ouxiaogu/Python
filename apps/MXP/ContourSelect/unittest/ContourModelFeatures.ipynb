{
 "cells": [
  {
   "cell_type": "code",
   "execution_count": 1,
   "metadata": {
    "collapsed": true
   },
   "outputs": [],
   "source": [
    "import pandas as pd\n",
    "import seaborn as sns\n",
    "import matplotlib.pyplot as plt\n",
    "import numpy as np\n",
    "import os, os.path\n",
    "import sys\n",
    "sys.path.insert(0, os.getcwd()+\"/../../../../libs/common\")\n",
    "from FileUtil import gpfs2WinPath\n",
    "\n",
    "caldatafile = r'/gpfs/WW/BD/MXP/SHARED/SEM_IMAGE/IMEC/Case02_calaveras_v3/3Tmp/CT_KPI_test/Calaveras_v3_regular_CT_KPI_003_slope_modified_revert_all_patterns/h/cache/dummydb/result/MXP/job1/ContourSelectModelCalibration430result1\\caldata.txt'\n",
    "caldatafile = gpfs2WinPath(caldatafile)\n",
    "\n",
    "df = pd.read_csv(caldatafile, sep='\\s+')\n",
    "\n",
    "tgtColName = 'UserLabel'\n",
    "neighborColNames = ['NeighborOrientation', 'NeighborParalism']#, 'NeighborParalism', 'NeighborContinuity',"
   ]
  },
  {
   "cell_type": "code",
   "execution_count": 2,
   "metadata": {},
   "outputs": [
    {
     "name": "stdout",
     "output_type": "stream",
     "text": [
      "Using matplotlib backend: Qt5Agg\n"
     ]
    }
   ],
   "source": [
    "%matplotlib auto\n",
    "\n",
    "# hist plot \n",
    "\n",
    "df2 = pd.melt(df, id_vars=tgtColName, value_vars=neighborColNames, value_name='value')\n",
    "bins=np.linspace(df2.value.min(), df2.value.max(), 100)\n",
    "g = sns.FacetGrid(df2, col=\"variable\", hue=tgtColName, palette=\"Set1\", col_wrap=3)\n",
    "g.map(plt.hist, 'value', bins=bins, ec=\"k\")\n",
    "plt.yscale('log')\n",
    "g.axes[-1].legend()\n",
    "\n",
    "# scatter plot \n",
    "#sns.pointplot('NeighborOrientation', 'NeighborParalism', hue=tgtColName, data=df)\n",
    "\n",
    "plt.show()"
   ]
  },
  {
   "cell_type": "code",
   "execution_count": 4,
   "metadata": {},
   "outputs": [
    {
     "name": "stdout",
     "output_type": "stream",
     "text": [
      "Using matplotlib backend: Qt5Agg\n"
     ]
    },
    {
     "name": "stderr",
     "output_type": "stream",
     "text": [
      "C:\\Users\\peyang\\AppData\\Local\\Continuum\\anaconda3\\lib\\site-packages\\numpy\\core\\fromnumeric.py:57: FutureWarning: reshape is deprecated and will raise in a subsequent release. Please use .values.reshape(...) instead\n",
      "  return getattr(obj, method)(*args, **kwds)\n"
     ]
    }
   ],
   "source": [
    "%matplotlib auto\n",
    "def sephist(col):\n",
    "    TP = df[df[tgtColName] == 0][col]\n",
    "    TN = df[df[tgtColName] == 1][col]\n",
    "    return TP, TN\n",
    "labels = ['intensity', 'slope', 'ridge_intensity', 'contrast', 'EigenRatio']\n",
    "for num, alpha in enumerate(neighborColNames+labels):\n",
    "    plt.subplot(2, 4, num+1)\n",
    "\n",
    "    TP, TN = sephist(alpha)\n",
    "    plt.hist((TP, TN), bins=25, alpha=0.5, label=map(''.join, zip(2*[tgtColName], 2*['=='], ['0', '1'])), color=['b', 'g'])\n",
    "    #plt.hist(TP, bins=50, alpha=0.5, label=tgtColName+'==0', color='b')\n",
    "    #plt.hist(TN, bins=50, alpha=0.5, label=tgtColName+'==1', color='g')\n",
    "    plt.legend(loc='upper right')\n",
    "    plt.title(alpha)\n",
    "    plt.yscale('log')\n",
    "plt.tight_layout(pad=0.4, w_pad=0.5, h_pad=1.0)"
   ]
  },
  {
   "cell_type": "code",
   "execution_count": 4,
   "metadata": {},
   "outputs": [
    {
     "data": {
      "text/plain": [
       "count    3029.000000\n",
       "mean        0.995971\n",
       "std         0.020979\n",
       "min         0.681708\n",
       "25%         0.999654\n",
       "50%         0.999954\n",
       "75%         0.999993\n",
       "max         1.000000\n",
       "Name: NeighborParalism, dtype: float64"
      ]
     },
     "execution_count": 4,
     "metadata": {},
     "output_type": "execute_result"
    }
   ],
   "source": [
    "df['NeighborParalism'].describe()"
   ]
  },
  {
   "cell_type": "code",
   "execution_count": 5,
   "metadata": {},
   "outputs": [
    {
     "data": {
      "text/html": [
       "<div>\n",
       "<style>\n",
       "    .dataframe thead tr:only-child th {\n",
       "        text-align: right;\n",
       "    }\n",
       "\n",
       "    .dataframe thead th {\n",
       "        text-align: left;\n",
       "    }\n",
       "\n",
       "    .dataframe tbody tr th {\n",
       "        vertical-align: top;\n",
       "    }\n",
       "</style>\n",
       "<table border=\"1\" class=\"dataframe\">\n",
       "  <thead>\n",
       "    <tr style=\"text-align: right;\">\n",
       "      <th></th>\n",
       "      <th>NeighborOrientation</th>\n",
       "      <th>NeighborParalism</th>\n",
       "    </tr>\n",
       "  </thead>\n",
       "  <tbody>\n",
       "    <tr>\n",
       "      <th>count</th>\n",
       "      <td>2596.000000</td>\n",
       "      <td>2596.000000</td>\n",
       "    </tr>\n",
       "    <tr>\n",
       "      <th>mean</th>\n",
       "      <td>0.999395</td>\n",
       "      <td>0.999698</td>\n",
       "    </tr>\n",
       "    <tr>\n",
       "      <th>std</th>\n",
       "      <td>0.001235</td>\n",
       "      <td>0.001312</td>\n",
       "    </tr>\n",
       "    <tr>\n",
       "      <th>min</th>\n",
       "      <td>0.985644</td>\n",
       "      <td>0.965830</td>\n",
       "    </tr>\n",
       "    <tr>\n",
       "      <th>25%</th>\n",
       "      <td>0.999473</td>\n",
       "      <td>0.999844</td>\n",
       "    </tr>\n",
       "    <tr>\n",
       "      <th>50%</th>\n",
       "      <td>0.999884</td>\n",
       "      <td>0.999969</td>\n",
       "    </tr>\n",
       "    <tr>\n",
       "      <th>75%</th>\n",
       "      <td>0.999979</td>\n",
       "      <td>0.999994</td>\n",
       "    </tr>\n",
       "    <tr>\n",
       "      <th>max</th>\n",
       "      <td>1.000000</td>\n",
       "      <td>1.000000</td>\n",
       "    </tr>\n",
       "  </tbody>\n",
       "</table>\n",
       "</div>"
      ],
      "text/plain": [
       "       NeighborOrientation  NeighborParalism\n",
       "count          2596.000000       2596.000000\n",
       "mean              0.999395          0.999698\n",
       "std               0.001235          0.001312\n",
       "min               0.985644          0.965830\n",
       "25%               0.999473          0.999844\n",
       "50%               0.999884          0.999969\n",
       "75%               0.999979          0.999994\n",
       "max               1.000000          1.000000"
      ]
     },
     "execution_count": 5,
     "metadata": {},
     "output_type": "execute_result"
    }
   ],
   "source": [
    "df.loc[df[tgtColName]==1, neighborColNames].describe()"
   ]
  },
  {
   "cell_type": "code",
   "execution_count": 6,
   "metadata": {},
   "outputs": [
    {
     "data": {
      "text/html": [
       "<div>\n",
       "<style>\n",
       "    .dataframe thead tr:only-child th {\n",
       "        text-align: right;\n",
       "    }\n",
       "\n",
       "    .dataframe thead th {\n",
       "        text-align: left;\n",
       "    }\n",
       "\n",
       "    .dataframe tbody tr th {\n",
       "        vertical-align: top;\n",
       "    }\n",
       "</style>\n",
       "<table border=\"1\" class=\"dataframe\">\n",
       "  <thead>\n",
       "    <tr style=\"text-align: right;\">\n",
       "      <th></th>\n",
       "      <th>NeighborOrientation</th>\n",
       "      <th>NeighborParalism</th>\n",
       "    </tr>\n",
       "  </thead>\n",
       "  <tbody>\n",
       "    <tr>\n",
       "      <th>count</th>\n",
       "      <td>433.000000</td>\n",
       "      <td>433.000000</td>\n",
       "    </tr>\n",
       "    <tr>\n",
       "      <th>mean</th>\n",
       "      <td>0.995361</td>\n",
       "      <td>0.973626</td>\n",
       "    </tr>\n",
       "    <tr>\n",
       "      <th>std</th>\n",
       "      <td>0.008652</td>\n",
       "      <td>0.049905</td>\n",
       "    </tr>\n",
       "    <tr>\n",
       "      <th>min</th>\n",
       "      <td>0.934455</td>\n",
       "      <td>0.681708</td>\n",
       "    </tr>\n",
       "    <tr>\n",
       "      <th>25%</th>\n",
       "      <td>0.995131</td>\n",
       "      <td>0.975461</td>\n",
       "    </tr>\n",
       "    <tr>\n",
       "      <th>50%</th>\n",
       "      <td>0.998531</td>\n",
       "      <td>0.995171</td>\n",
       "    </tr>\n",
       "    <tr>\n",
       "      <th>75%</th>\n",
       "      <td>0.999701</td>\n",
       "      <td>0.999407</td>\n",
       "    </tr>\n",
       "    <tr>\n",
       "      <th>max</th>\n",
       "      <td>1.000000</td>\n",
       "      <td>1.000000</td>\n",
       "    </tr>\n",
       "  </tbody>\n",
       "</table>\n",
       "</div>"
      ],
      "text/plain": [
       "       NeighborOrientation  NeighborParalism\n",
       "count           433.000000        433.000000\n",
       "mean              0.995361          0.973626\n",
       "std               0.008652          0.049905\n",
       "min               0.934455          0.681708\n",
       "25%               0.995131          0.975461\n",
       "50%               0.998531          0.995171\n",
       "75%               0.999701          0.999407\n",
       "max               1.000000          1.000000"
      ]
     },
     "execution_count": 6,
     "metadata": {},
     "output_type": "execute_result"
    }
   ],
   "source": [
    "df.loc[df[tgtColName]==0, neighborColNames].describe()"
   ]
  },
  {
   "cell_type": "code",
   "execution_count": null,
   "metadata": {},
   "outputs": [],
   "source": []
  },
  {
   "cell_type": "code",
   "execution_count": null,
   "metadata": {
    "collapsed": true
   },
   "outputs": [],
   "source": []
  }
 ],
 "metadata": {
  "kernelspec": {
   "display_name": "Python 3",
   "language": "python",
   "name": "python3"
  },
  "language_info": {
   "codemirror_mode": {
    "name": "ipython",
    "version": 3
   },
   "file_extension": ".py",
   "mimetype": "text/x-python",
   "name": "python",
   "nbconvert_exporter": "python",
   "pygments_lexer": "ipython3",
   "version": "3.6.3"
  }
 },
 "nbformat": 4,
 "nbformat_minor": 2
}
