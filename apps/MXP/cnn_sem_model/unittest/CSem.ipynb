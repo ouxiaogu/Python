{
 "cells": [
  {
   "cell_type": "code",
   "execution_count": null,
   "metadata": {
    "collapsed": true
   },
   "outputs": [],
   "source": [
    "# tests\n",
    "# \\1. test pandas index"
   ]
  },
  {
   "cell_type": "code",
   "execution_count": 3,
   "metadata": {
    "collapsed": false
   },
   "outputs": [
    {
     "name": "stdout",
     "output_type": "stream",
     "text": [
      "[0, 1, 2]\n",
      "0     True\n",
      "1    False\n",
      "2     True\n",
      "Name: a, dtype: bool\n",
      "[0 2]\n",
      "[ 0.86663704  0.79059935]\n",
      "          a         b         c\n",
      "0  0.866637  0.263145  0.131408\n",
      "1  0.041593  0.238924  0.645475\n",
      "2  0.790599  0.601442  0.334299\n"
     ]
    }
   ],
   "source": [
    "import numpy as np\n",
    "import pandas as pd\n",
    "\n",
    "np.random.seed(128) \n",
    "vals = np.random.random((3,3))\n",
    "df = pd.DataFrame(vals, columns=['a', 'b', 'c'])\n",
    "print(df.index.tolist())\n",
    "flt = df.a > 0.5\n",
    "print(flt)\n",
    "print(flt.nonzero()[0])\n",
    "print(df.ix[:, 'a'].as_matrix()[flt.nonzero()[0]])\n",
    "print(df.head())"
   ]
  },
  {
   "cell_type": "code",
   "execution_count": null,
   "metadata": {
    "collapsed": true
   },
   "outputs": [],
   "source": []
  }
 ],
 "metadata": {
  "kernelspec": {
   "display_name": "Python 2",
   "language": "python",
   "name": "python2"
  },
  "language_info": {
   "codemirror_mode": {
    "name": "ipython",
    "version": 2
   },
   "file_extension": ".py",
   "mimetype": "text/x-python",
   "name": "python",
   "nbconvert_exporter": "python",
   "pygments_lexer": "ipython2",
   "version": "2.7.12"
  }
 },
 "nbformat": 4,
 "nbformat_minor": 0
}
